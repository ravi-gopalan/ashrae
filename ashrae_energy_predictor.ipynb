{
  "nbformat": 4,
  "nbformat_minor": 0,
  "metadata": {
    "colab": {
      "name": "ashrae_energy_predictor.ipynb",
      "provenance": [],
      "collapsed_sections": [],
      "toc_visible": true,
      "machine_shape": "hm",
      "include_colab_link": true
    },
    "kernelspec": {
      "name": "python3",
      "display_name": "Python 3"
    },
    "accelerator": "GPU"
  },
  "cells": [
    {
      "cell_type": "markdown",
      "metadata": {
        "id": "view-in-github",
        "colab_type": "text"
      },
      "source": [
        "<a href=\"https://colab.research.google.com/github/ravi-gopalan/ashrae/blob/master/ashrae_energy_predictor.ipynb\" target=\"_parent\"><img src=\"https://colab.research.google.com/assets/colab-badge.svg\" alt=\"Open In Colab\"/></a>"
      ]
    },
    {
      "cell_type": "markdown",
      "metadata": {
        "id": "6HzQdqjTLws0",
        "colab_type": "text"
      },
      "source": [
        "# Initial"
      ]
    },
    {
      "cell_type": "code",
      "metadata": {
        "id": "lkCdRRkYbpoJ",
        "colab_type": "code",
        "outputId": "5b8e5c0f-3ab3-456b-fbdd-4f5307693cfd",
        "colab": {
          "base_uri": "https://localhost:8080/",
          "height": 141
        }
      },
      "source": [
        "from google.colab import drive\n",
        "drive.mount('/gdrive')\n",
        "%cd /gdrive"
      ],
      "execution_count": 1,
      "outputs": [
        {
          "output_type": "stream",
          "text": [
            "Go to this URL in a browser: https://accounts.google.com/o/oauth2/auth?client_id=947318989803-6bn6qk8qdgf4n4g3pfee6491hc0brc4i.apps.googleusercontent.com&redirect_uri=urn%3aietf%3awg%3aoauth%3a2.0%3aoob&response_type=code&scope=email%20https%3a%2f%2fwww.googleapis.com%2fauth%2fdocs.test%20https%3a%2f%2fwww.googleapis.com%2fauth%2fdrive%20https%3a%2f%2fwww.googleapis.com%2fauth%2fdrive.photos.readonly%20https%3a%2f%2fwww.googleapis.com%2fauth%2fpeopleapi.readonly\n",
            "\n",
            "Enter your authorization code:\n",
            "··········\n",
            "Mounted at /gdrive\n",
            "/gdrive\n"
          ],
          "name": "stdout"
        }
      ]
    },
    {
      "cell_type": "code",
      "metadata": {
        "id": "FvFEbOEub_BP",
        "colab_type": "code",
        "outputId": "d7cfc561-d500-4405-dccd-a7019b87f6fd",
        "colab": {
          "base_uri": "https://localhost:8080/",
          "height": 34
        }
      },
      "source": [
        "cd /root"
      ],
      "execution_count": 2,
      "outputs": [
        {
          "output_type": "stream",
          "text": [
            "/root\n"
          ],
          "name": "stdout"
        }
      ]
    },
    {
      "cell_type": "code",
      "metadata": {
        "id": "hj_vWH-yb_0a",
        "colab_type": "code",
        "colab": {}
      },
      "source": [
        "!mkdir .kaggle "
      ],
      "execution_count": 0,
      "outputs": []
    },
    {
      "cell_type": "code",
      "metadata": {
        "id": "5jNoDK9OcByN",
        "colab_type": "code",
        "colab": {}
      },
      "source": [
        "!cp '/gdrive/My Drive/Colab_stuff/kaggle.json' '/root/.kaggle/kaggle.json' \n",
        "!chmod 600 /root/.kaggle/kaggle.json"
      ],
      "execution_count": 0,
      "outputs": []
    },
    {
      "cell_type": "code",
      "metadata": {
        "id": "hLa2bJuFcEE1",
        "colab_type": "code",
        "outputId": "c20ed7bb-b02e-450d-9135-52b379134c5c",
        "colab": {
          "base_uri": "https://localhost:8080/",
          "height": 34
        }
      },
      "source": [
        "cd /content/"
      ],
      "execution_count": 5,
      "outputs": [
        {
          "output_type": "stream",
          "text": [
            "/content\n"
          ],
          "name": "stdout"
        }
      ]
    },
    {
      "cell_type": "code",
      "metadata": {
        "id": "HxHIual-cGHi",
        "colab_type": "code",
        "colab": {}
      },
      "source": [
        "!mkdir ashrae_energy_prediction"
      ],
      "execution_count": 0,
      "outputs": []
    },
    {
      "cell_type": "code",
      "metadata": {
        "id": "bE5Z-46EcIHA",
        "colab_type": "code",
        "outputId": "1d1146f4-4c11-4522-e768-4afba64b46f3",
        "colab": {
          "base_uri": "https://localhost:8080/",
          "height": 34
        }
      },
      "source": [
        "cd ashrae_energy_prediction/"
      ],
      "execution_count": 7,
      "outputs": [
        {
          "output_type": "stream",
          "text": [
            "/content/ashrae_energy_prediction\n"
          ],
          "name": "stdout"
        }
      ]
    },
    {
      "cell_type": "code",
      "metadata": {
        "id": "B6_U94jWcKkE",
        "colab_type": "code",
        "outputId": "f1a1474f-9faf-48da-f77a-aee6878dcc7a",
        "colab": {
          "base_uri": "https://localhost:8080/",
          "height": 347
        }
      },
      "source": [
        "!kaggle competitions download -c ashrae-energy-prediction"
      ],
      "execution_count": 8,
      "outputs": [
        {
          "output_type": "stream",
          "text": [
            "Warning: Looks like you're using an outdated API Version, please consider updating (server 1.5.6 / client 1.5.4)\n",
            "Downloading test.csv.zip to /content/ashrae_energy_prediction\n",
            " 82% 137M/167M [00:01<00:00, 63.7MB/s]\n",
            "100% 167M/167M [00:01<00:00, 119MB/s] \n",
            "Downloading weather_train.csv.zip to /content/ashrae_energy_prediction\n",
            "  0% 0.00/1.27M [00:00<?, ?B/s]\n",
            "100% 1.27M/1.27M [00:00<00:00, 184MB/s]\n",
            "Downloading sample_submission.csv.zip to /content/ashrae_energy_prediction\n",
            " 96% 85.0M/88.4M [00:00<00:00, 85.1MB/s]\n",
            "100% 88.4M/88.4M [00:00<00:00, 114MB/s] \n",
            "Downloading weather_test.csv.zip to /content/ashrae_energy_prediction\n",
            "  0% 0.00/2.53M [00:00<?, ?B/s]\n",
            "100% 2.53M/2.53M [00:00<00:00, 172MB/s]\n",
            "Downloading building_metadata.csv to /content/ashrae_energy_prediction\n",
            "  0% 0.00/44.5k [00:00<?, ?B/s]\n",
            "100% 44.5k/44.5k [00:00<00:00, 39.9MB/s]\n",
            "Downloading train.csv.zip to /content/ashrae_energy_prediction\n",
            " 88% 105M/120M [00:01<00:00, 80.2MB/s] \n",
            "100% 120M/120M [00:01<00:00, 99.1MB/s]\n"
          ],
          "name": "stdout"
        }
      ]
    },
    {
      "cell_type": "code",
      "metadata": {
        "id": "uPs4m1tWcN_L",
        "colab_type": "code",
        "outputId": "5f646463-bc40-4951-da39-b7f666f95f0f",
        "colab": {
          "base_uri": "https://localhost:8080/",
          "height": 191
        }
      },
      "source": [
        "!unzip train.csv.zip\n",
        "!unzip test.csv.zip\n",
        "!unzip weather_train.csv.zip\n",
        "!unzip weather_test.csv.zip\n",
        "!unzip sample_submission.csv.zip"
      ],
      "execution_count": 9,
      "outputs": [
        {
          "output_type": "stream",
          "text": [
            "Archive:  train.csv.zip\n",
            "  inflating: train.csv               \n",
            "Archive:  test.csv.zip\n",
            "  inflating: test.csv                \n",
            "Archive:  weather_train.csv.zip\n",
            "  inflating: weather_train.csv       \n",
            "Archive:  weather_test.csv.zip\n",
            "  inflating: weather_test.csv        \n",
            "Archive:  sample_submission.csv.zip\n",
            "  inflating: sample_submission.csv   \n"
          ],
          "name": "stdout"
        }
      ]
    },
    {
      "cell_type": "code",
      "metadata": {
        "id": "VGDjFCuhcRgI",
        "colab_type": "code",
        "outputId": "d6b6ded8-61f9-4c5a-9ff8-a9e3da7ea23b",
        "colab": {
          "base_uri": "https://localhost:8080/",
          "height": 86
        }
      },
      "source": [
        "!ls"
      ],
      "execution_count": 10,
      "outputs": [
        {
          "output_type": "stream",
          "text": [
            "building_metadata.csv\t   test.csv.zip      weather_test.csv.zip\n",
            "sample_submission.csv\t   train.csv\t     weather_train.csv\n",
            "sample_submission.csv.zip  train.csv.zip     weather_train.csv.zip\n",
            "test.csv\t\t   weather_test.csv\n"
          ],
          "name": "stdout"
        }
      ]
    },
    {
      "cell_type": "markdown",
      "metadata": {
        "id": "6F_hIL8ML2TI",
        "colab_type": "text"
      },
      "source": [
        "# Library Imports"
      ]
    },
    {
      "cell_type": "code",
      "metadata": {
        "id": "xSYjGc2ZcT36",
        "colab_type": "code",
        "colab": {}
      },
      "source": [
        "import pandas as pd\n",
        "import matplotlib.pyplot as plt\n",
        "import seaborn as sns\n",
        "import numpy as np\n",
        "from sklearn.linear_model import LinearRegression\n",
        "import gc\n",
        "import sys\n",
        "\n",
        "import lightgbm as lgb\n",
        "\n",
        "from IPython.core.interactiveshell import InteractiveShell\n",
        "InteractiveShell.ast_node_interactivity = \"all\""
      ],
      "execution_count": 0,
      "outputs": []
    },
    {
      "cell_type": "markdown",
      "metadata": {
        "id": "UVsureIBL5uG",
        "colab_type": "text"
      },
      "source": [
        "# Helper functions"
      ]
    },
    {
      "cell_type": "code",
      "metadata": {
        "id": "Gq3NPD38cYQA",
        "colab_type": "code",
        "colab": {}
      },
      "source": [
        "## Function to reduce the DF size\n",
        "def reduce_mem_usage(df, verbose=True):\n",
        "    numerics = ['int16', 'int32', 'int64', 'float16', 'float32', 'float64']\n",
        "    start_mem = df.memory_usage().sum() / 1024**2    \n",
        "    for col in df.columns:\n",
        "        col_type = df[col].dtypes\n",
        "        if col_type in numerics:\n",
        "            c_min = df[col].min()\n",
        "            c_max = df[col].max()\n",
        "            if str(col_type)[:3] == 'int':\n",
        "                if c_min > np.iinfo(np.int8).min and c_max < np.iinfo(np.int8).max:\n",
        "                    df[col] = df[col].astype(np.int8)\n",
        "                elif c_min > np.iinfo(np.int16).min and c_max < np.iinfo(np.int16).max:\n",
        "                    df[col] = df[col].astype(np.int16)\n",
        "                elif c_min > np.iinfo(np.int32).min and c_max < np.iinfo(np.int32).max:\n",
        "                    df[col] = df[col].astype(np.int32)\n",
        "                elif c_min > np.iinfo(np.int64).min and c_max < np.iinfo(np.int64).max:\n",
        "                    df[col] = df[col].astype(np.int64)  \n",
        "            else:\n",
        "                if c_min > np.finfo(np.float16).min and c_max < np.finfo(np.float16).max:\n",
        "                    df[col] = df[col].astype(np.float16)\n",
        "                elif c_min > np.finfo(np.float32).min and c_max < np.finfo(np.float32).max:\n",
        "                    df[col] = df[col].astype(np.float32)\n",
        "                else:\n",
        "                    df[col] = df[col].astype(np.float64)    \n",
        "    end_mem = df.memory_usage().sum() / 1024**2\n",
        "    if verbose: print('Mem. usage decreased to {:5.2f} Mb ({:.1f}% reduction)'.format(end_mem, 100 * (start_mem - end_mem) / start_mem))\n",
        "    return df"
      ],
      "execution_count": 0,
      "outputs": []
    },
    {
      "cell_type": "markdown",
      "metadata": {
        "id": "8-FA2AZEL9wD",
        "colab_type": "text"
      },
      "source": [
        "# Building MetaData EDA"
      ]
    },
    {
      "cell_type": "code",
      "metadata": {
        "id": "28r0MOLvca3-",
        "colab_type": "code",
        "outputId": "5d0fb6d2-b239-4262-8d01-13b41ddf115f",
        "colab": {
          "base_uri": "https://localhost:8080/",
          "height": 778
        }
      },
      "source": [
        "primary_use_map = {'Education':0, \\\n",
        "                   'Lodging/residential':1, \\\n",
        "                   'Office':2,\\\n",
        "                   'Entertainment/public assembly':3,\\\n",
        "                   'Other':4,\\\n",
        "                   'Retail':5,\\\n",
        "                   'Parking':6,\\\n",
        "                   'Public services':7,\\\n",
        "                   'Warehouse/storage':8,\\\n",
        "                   'Food sales and service':9,\\\n",
        "                   'Religious worship':10,\\\n",
        "                   'Healthcare':11,\\\n",
        "                   'Utility':12,\\\n",
        "                   'Technology/science':13,\\\n",
        "                   'Manufacturing/industrial':14,\\\n",
        "                   'Services':15\\\n",
        "                   }\n",
        "\n",
        "df_building_metadata = pd.read_csv('building_metadata.csv')\n",
        "df_building_metadata.info()\n",
        "df_building_metadata.head()\n",
        "\n",
        "df_building_metadata['use_category'] = df_building_metadata['primary_use'].map(primary_use_map)\n",
        "df_building_metadata.drop(columns=['primary_use'],inplace=True)\n",
        "df_building_metadata = reduce_mem_usage(df_building_metadata)\n",
        "df_building_metadata.info()\n",
        "df_building_metadata.head()"
      ],
      "execution_count": 13,
      "outputs": [
        {
          "output_type": "stream",
          "text": [
            "<class 'pandas.core.frame.DataFrame'>\n",
            "RangeIndex: 1449 entries, 0 to 1448\n",
            "Data columns (total 6 columns):\n",
            "site_id        1449 non-null int64\n",
            "building_id    1449 non-null int64\n",
            "primary_use    1449 non-null object\n",
            "square_feet    1449 non-null int64\n",
            "year_built     675 non-null float64\n",
            "floor_count    355 non-null float64\n",
            "dtypes: float64(2), int64(3), object(1)\n",
            "memory usage: 68.0+ KB\n"
          ],
          "name": "stdout"
        },
        {
          "output_type": "execute_result",
          "data": {
            "text/html": [
              "<div>\n",
              "<style scoped>\n",
              "    .dataframe tbody tr th:only-of-type {\n",
              "        vertical-align: middle;\n",
              "    }\n",
              "\n",
              "    .dataframe tbody tr th {\n",
              "        vertical-align: top;\n",
              "    }\n",
              "\n",
              "    .dataframe thead th {\n",
              "        text-align: right;\n",
              "    }\n",
              "</style>\n",
              "<table border=\"1\" class=\"dataframe\">\n",
              "  <thead>\n",
              "    <tr style=\"text-align: right;\">\n",
              "      <th></th>\n",
              "      <th>site_id</th>\n",
              "      <th>building_id</th>\n",
              "      <th>primary_use</th>\n",
              "      <th>square_feet</th>\n",
              "      <th>year_built</th>\n",
              "      <th>floor_count</th>\n",
              "    </tr>\n",
              "  </thead>\n",
              "  <tbody>\n",
              "    <tr>\n",
              "      <th>0</th>\n",
              "      <td>0</td>\n",
              "      <td>0</td>\n",
              "      <td>Education</td>\n",
              "      <td>7432</td>\n",
              "      <td>2008.0</td>\n",
              "      <td>NaN</td>\n",
              "    </tr>\n",
              "    <tr>\n",
              "      <th>1</th>\n",
              "      <td>0</td>\n",
              "      <td>1</td>\n",
              "      <td>Education</td>\n",
              "      <td>2720</td>\n",
              "      <td>2004.0</td>\n",
              "      <td>NaN</td>\n",
              "    </tr>\n",
              "    <tr>\n",
              "      <th>2</th>\n",
              "      <td>0</td>\n",
              "      <td>2</td>\n",
              "      <td>Education</td>\n",
              "      <td>5376</td>\n",
              "      <td>1991.0</td>\n",
              "      <td>NaN</td>\n",
              "    </tr>\n",
              "    <tr>\n",
              "      <th>3</th>\n",
              "      <td>0</td>\n",
              "      <td>3</td>\n",
              "      <td>Education</td>\n",
              "      <td>23685</td>\n",
              "      <td>2002.0</td>\n",
              "      <td>NaN</td>\n",
              "    </tr>\n",
              "    <tr>\n",
              "      <th>4</th>\n",
              "      <td>0</td>\n",
              "      <td>4</td>\n",
              "      <td>Education</td>\n",
              "      <td>116607</td>\n",
              "      <td>1975.0</td>\n",
              "      <td>NaN</td>\n",
              "    </tr>\n",
              "  </tbody>\n",
              "</table>\n",
              "</div>"
            ],
            "text/plain": [
              "   site_id  building_id primary_use  square_feet  year_built  floor_count\n",
              "0        0            0   Education         7432      2008.0          NaN\n",
              "1        0            1   Education         2720      2004.0          NaN\n",
              "2        0            2   Education         5376      1991.0          NaN\n",
              "3        0            3   Education        23685      2002.0          NaN\n",
              "4        0            4   Education       116607      1975.0          NaN"
            ]
          },
          "metadata": {
            "tags": []
          },
          "execution_count": 13
        },
        {
          "output_type": "stream",
          "text": [
            "Mem. usage decreased to  0.02 Mb (74.9% reduction)\n",
            "<class 'pandas.core.frame.DataFrame'>\n",
            "RangeIndex: 1449 entries, 0 to 1448\n",
            "Data columns (total 6 columns):\n",
            "site_id         1449 non-null int8\n",
            "building_id     1449 non-null int16\n",
            "square_feet     1449 non-null int32\n",
            "year_built      675 non-null float16\n",
            "floor_count     355 non-null float16\n",
            "use_category    1449 non-null int8\n",
            "dtypes: float16(2), int16(1), int32(1), int8(2)\n",
            "memory usage: 17.1 KB\n"
          ],
          "name": "stdout"
        },
        {
          "output_type": "execute_result",
          "data": {
            "text/html": [
              "<div>\n",
              "<style scoped>\n",
              "    .dataframe tbody tr th:only-of-type {\n",
              "        vertical-align: middle;\n",
              "    }\n",
              "\n",
              "    .dataframe tbody tr th {\n",
              "        vertical-align: top;\n",
              "    }\n",
              "\n",
              "    .dataframe thead th {\n",
              "        text-align: right;\n",
              "    }\n",
              "</style>\n",
              "<table border=\"1\" class=\"dataframe\">\n",
              "  <thead>\n",
              "    <tr style=\"text-align: right;\">\n",
              "      <th></th>\n",
              "      <th>site_id</th>\n",
              "      <th>building_id</th>\n",
              "      <th>square_feet</th>\n",
              "      <th>year_built</th>\n",
              "      <th>floor_count</th>\n",
              "      <th>use_category</th>\n",
              "    </tr>\n",
              "  </thead>\n",
              "  <tbody>\n",
              "    <tr>\n",
              "      <th>0</th>\n",
              "      <td>0</td>\n",
              "      <td>0</td>\n",
              "      <td>7432</td>\n",
              "      <td>2008.0</td>\n",
              "      <td>NaN</td>\n",
              "      <td>0</td>\n",
              "    </tr>\n",
              "    <tr>\n",
              "      <th>1</th>\n",
              "      <td>0</td>\n",
              "      <td>1</td>\n",
              "      <td>2720</td>\n",
              "      <td>2004.0</td>\n",
              "      <td>NaN</td>\n",
              "      <td>0</td>\n",
              "    </tr>\n",
              "    <tr>\n",
              "      <th>2</th>\n",
              "      <td>0</td>\n",
              "      <td>2</td>\n",
              "      <td>5376</td>\n",
              "      <td>1991.0</td>\n",
              "      <td>NaN</td>\n",
              "      <td>0</td>\n",
              "    </tr>\n",
              "    <tr>\n",
              "      <th>3</th>\n",
              "      <td>0</td>\n",
              "      <td>3</td>\n",
              "      <td>23685</td>\n",
              "      <td>2002.0</td>\n",
              "      <td>NaN</td>\n",
              "      <td>0</td>\n",
              "    </tr>\n",
              "    <tr>\n",
              "      <th>4</th>\n",
              "      <td>0</td>\n",
              "      <td>4</td>\n",
              "      <td>116607</td>\n",
              "      <td>1975.0</td>\n",
              "      <td>NaN</td>\n",
              "      <td>0</td>\n",
              "    </tr>\n",
              "  </tbody>\n",
              "</table>\n",
              "</div>"
            ],
            "text/plain": [
              "   site_id  building_id  square_feet  year_built  floor_count  use_category\n",
              "0        0            0         7432      2008.0          NaN             0\n",
              "1        0            1         2720      2004.0          NaN             0\n",
              "2        0            2         5376      1991.0          NaN             0\n",
              "3        0            3        23685      2002.0          NaN             0\n",
              "4        0            4       116607      1975.0          NaN             0"
            ]
          },
          "metadata": {
            "tags": []
          },
          "execution_count": 13
        }
      ]
    },
    {
      "cell_type": "code",
      "metadata": {
        "id": "etvQU018cehN",
        "colab_type": "code",
        "outputId": "c6c60088-5885-47be-e83a-efd3d759e395",
        "colab": {
          "base_uri": "https://localhost:8080/",
          "height": 156
        }
      },
      "source": [
        "print('Missing Values in %:\\n{}'.format(100*df_building_metadata.isna().sum()/df_building_metadata.shape[0]))"
      ],
      "execution_count": 14,
      "outputs": [
        {
          "output_type": "stream",
          "text": [
            "Missing Values in %:\n",
            "site_id          0.000000\n",
            "building_id      0.000000\n",
            "square_feet      0.000000\n",
            "year_built      53.416149\n",
            "floor_count     75.500345\n",
            "use_category     0.000000\n",
            "dtype: float64\n"
          ],
          "name": "stdout"
        }
      ]
    },
    {
      "cell_type": "code",
      "metadata": {
        "id": "vyREhzoY7O8t",
        "colab_type": "code",
        "colab": {}
      },
      "source": [
        "df_building_metadata.drop(columns=['year_built','floor_count'],inplace=True)"
      ],
      "execution_count": 0,
      "outputs": []
    },
    {
      "cell_type": "code",
      "metadata": {
        "id": "jeGf403SeP1Y",
        "colab_type": "code",
        "outputId": "9bf32aae-c234-46a0-a2fd-e4d15e9f8878",
        "colab": {
          "base_uri": "https://localhost:8080/",
          "height": 173
        }
      },
      "source": [
        "df_building_metadata.info()"
      ],
      "execution_count": 16,
      "outputs": [
        {
          "output_type": "stream",
          "text": [
            "<class 'pandas.core.frame.DataFrame'>\n",
            "RangeIndex: 1449 entries, 0 to 1448\n",
            "Data columns (total 4 columns):\n",
            "site_id         1449 non-null int8\n",
            "building_id     1449 non-null int16\n",
            "square_feet     1449 non-null int32\n",
            "use_category    1449 non-null int8\n",
            "dtypes: int16(1), int32(1), int8(2)\n",
            "memory usage: 11.4 KB\n"
          ],
          "name": "stdout"
        }
      ]
    },
    {
      "cell_type": "code",
      "metadata": {
        "id": "W3WdIc3Ce0tB",
        "colab_type": "code",
        "colab": {}
      },
      "source": [
        "dateparse = lambda x: pd.datetime.strptime(x, '%Y-%m-%d %H:%M:%S')"
      ],
      "execution_count": 0,
      "outputs": []
    },
    {
      "cell_type": "markdown",
      "metadata": {
        "id": "vVyaS4bWLSLU",
        "colab_type": "text"
      },
      "source": [
        "# Weather Train EDA"
      ]
    },
    {
      "cell_type": "code",
      "metadata": {
        "id": "hsuplIBwfDX0",
        "colab_type": "code",
        "outputId": "c629975f-42ac-4391-9138-fab19af1c3bb",
        "colab": {
          "base_uri": "https://localhost:8080/",
          "height": 1000
        }
      },
      "source": [
        "df_weather_train = pd.read_csv('weather_train.csv',parse_dates = ['timestamp'], date_parser = dateparse)\n",
        "df_weather_train.info()\n",
        "df_weather_train.head()\n",
        "df_weather_train.tail()\n",
        "df_weather_train = reduce_mem_usage(df_weather_train)\n",
        "df_weather_train.info()\n",
        "df_weather_train['day'] = df_weather_train['timestamp'].dt.day\n",
        "df_weather_train['week'] = df_weather_train['timestamp'].dt.week\n",
        "df_weather_train['month'] = df_weather_train['timestamp'].dt.month\n",
        "df_weather_train['hour'] = df_weather_train['timestamp'].dt.hour\n",
        "df_weather_train.info()\n",
        "df_weather_train = reduce_mem_usage(df_weather_train)\n",
        "df_weather_train.info()\n",
        "df_weather_train.head()"
      ],
      "execution_count": 18,
      "outputs": [
        {
          "output_type": "stream",
          "text": [
            "<class 'pandas.core.frame.DataFrame'>\n",
            "RangeIndex: 139773 entries, 0 to 139772\n",
            "Data columns (total 9 columns):\n",
            "site_id               139773 non-null int64\n",
            "timestamp             139773 non-null datetime64[ns]\n",
            "air_temperature       139718 non-null float64\n",
            "cloud_coverage        70600 non-null float64\n",
            "dew_temperature       139660 non-null float64\n",
            "precip_depth_1_hr     89484 non-null float64\n",
            "sea_level_pressure    129155 non-null float64\n",
            "wind_direction        133505 non-null float64\n",
            "wind_speed            139469 non-null float64\n",
            "dtypes: datetime64[ns](1), float64(7), int64(1)\n",
            "memory usage: 9.6 MB\n"
          ],
          "name": "stdout"
        },
        {
          "output_type": "execute_result",
          "data": {
            "text/html": [
              "<div>\n",
              "<style scoped>\n",
              "    .dataframe tbody tr th:only-of-type {\n",
              "        vertical-align: middle;\n",
              "    }\n",
              "\n",
              "    .dataframe tbody tr th {\n",
              "        vertical-align: top;\n",
              "    }\n",
              "\n",
              "    .dataframe thead th {\n",
              "        text-align: right;\n",
              "    }\n",
              "</style>\n",
              "<table border=\"1\" class=\"dataframe\">\n",
              "  <thead>\n",
              "    <tr style=\"text-align: right;\">\n",
              "      <th></th>\n",
              "      <th>site_id</th>\n",
              "      <th>timestamp</th>\n",
              "      <th>air_temperature</th>\n",
              "      <th>cloud_coverage</th>\n",
              "      <th>dew_temperature</th>\n",
              "      <th>precip_depth_1_hr</th>\n",
              "      <th>sea_level_pressure</th>\n",
              "      <th>wind_direction</th>\n",
              "      <th>wind_speed</th>\n",
              "    </tr>\n",
              "  </thead>\n",
              "  <tbody>\n",
              "    <tr>\n",
              "      <th>0</th>\n",
              "      <td>0</td>\n",
              "      <td>2016-01-01 00:00:00</td>\n",
              "      <td>25.0</td>\n",
              "      <td>6.0</td>\n",
              "      <td>20.0</td>\n",
              "      <td>NaN</td>\n",
              "      <td>1019.7</td>\n",
              "      <td>0.0</td>\n",
              "      <td>0.0</td>\n",
              "    </tr>\n",
              "    <tr>\n",
              "      <th>1</th>\n",
              "      <td>0</td>\n",
              "      <td>2016-01-01 01:00:00</td>\n",
              "      <td>24.4</td>\n",
              "      <td>NaN</td>\n",
              "      <td>21.1</td>\n",
              "      <td>-1.0</td>\n",
              "      <td>1020.2</td>\n",
              "      <td>70.0</td>\n",
              "      <td>1.5</td>\n",
              "    </tr>\n",
              "    <tr>\n",
              "      <th>2</th>\n",
              "      <td>0</td>\n",
              "      <td>2016-01-01 02:00:00</td>\n",
              "      <td>22.8</td>\n",
              "      <td>2.0</td>\n",
              "      <td>21.1</td>\n",
              "      <td>0.0</td>\n",
              "      <td>1020.2</td>\n",
              "      <td>0.0</td>\n",
              "      <td>0.0</td>\n",
              "    </tr>\n",
              "    <tr>\n",
              "      <th>3</th>\n",
              "      <td>0</td>\n",
              "      <td>2016-01-01 03:00:00</td>\n",
              "      <td>21.1</td>\n",
              "      <td>2.0</td>\n",
              "      <td>20.6</td>\n",
              "      <td>0.0</td>\n",
              "      <td>1020.1</td>\n",
              "      <td>0.0</td>\n",
              "      <td>0.0</td>\n",
              "    </tr>\n",
              "    <tr>\n",
              "      <th>4</th>\n",
              "      <td>0</td>\n",
              "      <td>2016-01-01 04:00:00</td>\n",
              "      <td>20.0</td>\n",
              "      <td>2.0</td>\n",
              "      <td>20.0</td>\n",
              "      <td>-1.0</td>\n",
              "      <td>1020.0</td>\n",
              "      <td>250.0</td>\n",
              "      <td>2.6</td>\n",
              "    </tr>\n",
              "  </tbody>\n",
              "</table>\n",
              "</div>"
            ],
            "text/plain": [
              "   site_id           timestamp  ...  wind_direction  wind_speed\n",
              "0        0 2016-01-01 00:00:00  ...             0.0         0.0\n",
              "1        0 2016-01-01 01:00:00  ...            70.0         1.5\n",
              "2        0 2016-01-01 02:00:00  ...             0.0         0.0\n",
              "3        0 2016-01-01 03:00:00  ...             0.0         0.0\n",
              "4        0 2016-01-01 04:00:00  ...           250.0         2.6\n",
              "\n",
              "[5 rows x 9 columns]"
            ]
          },
          "metadata": {
            "tags": []
          },
          "execution_count": 18
        },
        {
          "output_type": "execute_result",
          "data": {
            "text/html": [
              "<div>\n",
              "<style scoped>\n",
              "    .dataframe tbody tr th:only-of-type {\n",
              "        vertical-align: middle;\n",
              "    }\n",
              "\n",
              "    .dataframe tbody tr th {\n",
              "        vertical-align: top;\n",
              "    }\n",
              "\n",
              "    .dataframe thead th {\n",
              "        text-align: right;\n",
              "    }\n",
              "</style>\n",
              "<table border=\"1\" class=\"dataframe\">\n",
              "  <thead>\n",
              "    <tr style=\"text-align: right;\">\n",
              "      <th></th>\n",
              "      <th>site_id</th>\n",
              "      <th>timestamp</th>\n",
              "      <th>air_temperature</th>\n",
              "      <th>cloud_coverage</th>\n",
              "      <th>dew_temperature</th>\n",
              "      <th>precip_depth_1_hr</th>\n",
              "      <th>sea_level_pressure</th>\n",
              "      <th>wind_direction</th>\n",
              "      <th>wind_speed</th>\n",
              "    </tr>\n",
              "  </thead>\n",
              "  <tbody>\n",
              "    <tr>\n",
              "      <th>139768</th>\n",
              "      <td>15</td>\n",
              "      <td>2016-12-31 19:00:00</td>\n",
              "      <td>3.0</td>\n",
              "      <td>NaN</td>\n",
              "      <td>-8.0</td>\n",
              "      <td>NaN</td>\n",
              "      <td>NaN</td>\n",
              "      <td>180.0</td>\n",
              "      <td>5.7</td>\n",
              "    </tr>\n",
              "    <tr>\n",
              "      <th>139769</th>\n",
              "      <td>15</td>\n",
              "      <td>2016-12-31 20:00:00</td>\n",
              "      <td>2.8</td>\n",
              "      <td>2.0</td>\n",
              "      <td>-8.9</td>\n",
              "      <td>NaN</td>\n",
              "      <td>1007.4</td>\n",
              "      <td>180.0</td>\n",
              "      <td>7.7</td>\n",
              "    </tr>\n",
              "    <tr>\n",
              "      <th>139770</th>\n",
              "      <td>15</td>\n",
              "      <td>2016-12-31 21:00:00</td>\n",
              "      <td>2.8</td>\n",
              "      <td>NaN</td>\n",
              "      <td>-7.2</td>\n",
              "      <td>NaN</td>\n",
              "      <td>1007.5</td>\n",
              "      <td>180.0</td>\n",
              "      <td>5.1</td>\n",
              "    </tr>\n",
              "    <tr>\n",
              "      <th>139771</th>\n",
              "      <td>15</td>\n",
              "      <td>2016-12-31 22:00:00</td>\n",
              "      <td>2.2</td>\n",
              "      <td>NaN</td>\n",
              "      <td>-6.7</td>\n",
              "      <td>NaN</td>\n",
              "      <td>1008.0</td>\n",
              "      <td>170.0</td>\n",
              "      <td>4.6</td>\n",
              "    </tr>\n",
              "    <tr>\n",
              "      <th>139772</th>\n",
              "      <td>15</td>\n",
              "      <td>2016-12-31 23:00:00</td>\n",
              "      <td>1.7</td>\n",
              "      <td>NaN</td>\n",
              "      <td>-5.6</td>\n",
              "      <td>-1.0</td>\n",
              "      <td>1008.5</td>\n",
              "      <td>180.0</td>\n",
              "      <td>8.8</td>\n",
              "    </tr>\n",
              "  </tbody>\n",
              "</table>\n",
              "</div>"
            ],
            "text/plain": [
              "        site_id           timestamp  ...  wind_direction  wind_speed\n",
              "139768       15 2016-12-31 19:00:00  ...           180.0         5.7\n",
              "139769       15 2016-12-31 20:00:00  ...           180.0         7.7\n",
              "139770       15 2016-12-31 21:00:00  ...           180.0         5.1\n",
              "139771       15 2016-12-31 22:00:00  ...           170.0         4.6\n",
              "139772       15 2016-12-31 23:00:00  ...           180.0         8.8\n",
              "\n",
              "[5 rows x 9 columns]"
            ]
          },
          "metadata": {
            "tags": []
          },
          "execution_count": 18
        },
        {
          "output_type": "stream",
          "text": [
            "Mem. usage decreased to  3.07 Mb (68.1% reduction)\n",
            "<class 'pandas.core.frame.DataFrame'>\n",
            "RangeIndex: 139773 entries, 0 to 139772\n",
            "Data columns (total 9 columns):\n",
            "site_id               139773 non-null int8\n",
            "timestamp             139773 non-null datetime64[ns]\n",
            "air_temperature       139718 non-null float16\n",
            "cloud_coverage        70600 non-null float16\n",
            "dew_temperature       139660 non-null float16\n",
            "precip_depth_1_hr     89484 non-null float16\n",
            "sea_level_pressure    129155 non-null float16\n",
            "wind_direction        133505 non-null float16\n",
            "wind_speed            139469 non-null float16\n",
            "dtypes: datetime64[ns](1), float16(7), int8(1)\n",
            "memory usage: 3.1 MB\n",
            "<class 'pandas.core.frame.DataFrame'>\n",
            "RangeIndex: 139773 entries, 0 to 139772\n",
            "Data columns (total 13 columns):\n",
            "site_id               139773 non-null int8\n",
            "timestamp             139773 non-null datetime64[ns]\n",
            "air_temperature       139718 non-null float16\n",
            "cloud_coverage        70600 non-null float16\n",
            "dew_temperature       139660 non-null float16\n",
            "precip_depth_1_hr     89484 non-null float16\n",
            "sea_level_pressure    129155 non-null float16\n",
            "wind_direction        133505 non-null float16\n",
            "wind_speed            139469 non-null float16\n",
            "day                   139773 non-null int64\n",
            "week                  139773 non-null int64\n",
            "month                 139773 non-null int64\n",
            "hour                  139773 non-null int64\n",
            "dtypes: datetime64[ns](1), float16(7), int64(4), int8(1)\n",
            "memory usage: 7.3 MB\n",
            "Mem. usage decreased to  3.60 Mb (50.9% reduction)\n",
            "<class 'pandas.core.frame.DataFrame'>\n",
            "RangeIndex: 139773 entries, 0 to 139772\n",
            "Data columns (total 13 columns):\n",
            "site_id               139773 non-null int8\n",
            "timestamp             139773 non-null datetime64[ns]\n",
            "air_temperature       139718 non-null float16\n",
            "cloud_coverage        70600 non-null float16\n",
            "dew_temperature       139660 non-null float16\n",
            "precip_depth_1_hr     89484 non-null float16\n",
            "sea_level_pressure    129155 non-null float16\n",
            "wind_direction        133505 non-null float16\n",
            "wind_speed            139469 non-null float16\n",
            "day                   139773 non-null int8\n",
            "week                  139773 non-null int8\n",
            "month                 139773 non-null int8\n",
            "hour                  139773 non-null int8\n",
            "dtypes: datetime64[ns](1), float16(7), int8(5)\n",
            "memory usage: 3.6 MB\n"
          ],
          "name": "stdout"
        },
        {
          "output_type": "execute_result",
          "data": {
            "text/html": [
              "<div>\n",
              "<style scoped>\n",
              "    .dataframe tbody tr th:only-of-type {\n",
              "        vertical-align: middle;\n",
              "    }\n",
              "\n",
              "    .dataframe tbody tr th {\n",
              "        vertical-align: top;\n",
              "    }\n",
              "\n",
              "    .dataframe thead th {\n",
              "        text-align: right;\n",
              "    }\n",
              "</style>\n",
              "<table border=\"1\" class=\"dataframe\">\n",
              "  <thead>\n",
              "    <tr style=\"text-align: right;\">\n",
              "      <th></th>\n",
              "      <th>site_id</th>\n",
              "      <th>timestamp</th>\n",
              "      <th>air_temperature</th>\n",
              "      <th>cloud_coverage</th>\n",
              "      <th>dew_temperature</th>\n",
              "      <th>precip_depth_1_hr</th>\n",
              "      <th>sea_level_pressure</th>\n",
              "      <th>wind_direction</th>\n",
              "      <th>wind_speed</th>\n",
              "      <th>day</th>\n",
              "      <th>week</th>\n",
              "      <th>month</th>\n",
              "      <th>hour</th>\n",
              "    </tr>\n",
              "  </thead>\n",
              "  <tbody>\n",
              "    <tr>\n",
              "      <th>0</th>\n",
              "      <td>0</td>\n",
              "      <td>2016-01-01 00:00:00</td>\n",
              "      <td>25.000000</td>\n",
              "      <td>6.0</td>\n",
              "      <td>20.00000</td>\n",
              "      <td>NaN</td>\n",
              "      <td>1019.5</td>\n",
              "      <td>0.0</td>\n",
              "      <td>0.000000</td>\n",
              "      <td>1</td>\n",
              "      <td>53</td>\n",
              "      <td>1</td>\n",
              "      <td>0</td>\n",
              "    </tr>\n",
              "    <tr>\n",
              "      <th>1</th>\n",
              "      <td>0</td>\n",
              "      <td>2016-01-01 01:00:00</td>\n",
              "      <td>24.406250</td>\n",
              "      <td>NaN</td>\n",
              "      <td>21.09375</td>\n",
              "      <td>-1.0</td>\n",
              "      <td>1020.0</td>\n",
              "      <td>70.0</td>\n",
              "      <td>1.500000</td>\n",
              "      <td>1</td>\n",
              "      <td>53</td>\n",
              "      <td>1</td>\n",
              "      <td>1</td>\n",
              "    </tr>\n",
              "    <tr>\n",
              "      <th>2</th>\n",
              "      <td>0</td>\n",
              "      <td>2016-01-01 02:00:00</td>\n",
              "      <td>22.796875</td>\n",
              "      <td>2.0</td>\n",
              "      <td>21.09375</td>\n",
              "      <td>0.0</td>\n",
              "      <td>1020.0</td>\n",
              "      <td>0.0</td>\n",
              "      <td>0.000000</td>\n",
              "      <td>1</td>\n",
              "      <td>53</td>\n",
              "      <td>1</td>\n",
              "      <td>2</td>\n",
              "    </tr>\n",
              "    <tr>\n",
              "      <th>3</th>\n",
              "      <td>0</td>\n",
              "      <td>2016-01-01 03:00:00</td>\n",
              "      <td>21.093750</td>\n",
              "      <td>2.0</td>\n",
              "      <td>20.59375</td>\n",
              "      <td>0.0</td>\n",
              "      <td>1020.0</td>\n",
              "      <td>0.0</td>\n",
              "      <td>0.000000</td>\n",
              "      <td>1</td>\n",
              "      <td>53</td>\n",
              "      <td>1</td>\n",
              "      <td>3</td>\n",
              "    </tr>\n",
              "    <tr>\n",
              "      <th>4</th>\n",
              "      <td>0</td>\n",
              "      <td>2016-01-01 04:00:00</td>\n",
              "      <td>20.000000</td>\n",
              "      <td>2.0</td>\n",
              "      <td>20.00000</td>\n",
              "      <td>-1.0</td>\n",
              "      <td>1020.0</td>\n",
              "      <td>250.0</td>\n",
              "      <td>2.599609</td>\n",
              "      <td>1</td>\n",
              "      <td>53</td>\n",
              "      <td>1</td>\n",
              "      <td>4</td>\n",
              "    </tr>\n",
              "  </tbody>\n",
              "</table>\n",
              "</div>"
            ],
            "text/plain": [
              "   site_id           timestamp  air_temperature  ...  week  month  hour\n",
              "0        0 2016-01-01 00:00:00        25.000000  ...    53      1     0\n",
              "1        0 2016-01-01 01:00:00        24.406250  ...    53      1     1\n",
              "2        0 2016-01-01 02:00:00        22.796875  ...    53      1     2\n",
              "3        0 2016-01-01 03:00:00        21.093750  ...    53      1     3\n",
              "4        0 2016-01-01 04:00:00        20.000000  ...    53      1     4\n",
              "\n",
              "[5 rows x 13 columns]"
            ]
          },
          "metadata": {
            "tags": []
          },
          "execution_count": 18
        }
      ]
    },
    {
      "cell_type": "code",
      "metadata": {
        "id": "wUnN_x26fGnB",
        "colab_type": "code",
        "outputId": "5426611c-b7e1-4667-89ad-fe0a64d153a8",
        "colab": {
          "base_uri": "https://localhost:8080/",
          "height": 278
        }
      },
      "source": [
        "print('Missing Values in %:\\n{}'.format(100*df_weather_train.isna().sum()/df_weather_train.shape[0]))"
      ],
      "execution_count": 19,
      "outputs": [
        {
          "output_type": "stream",
          "text": [
            "Missing Values in %:\n",
            "site_id                0.000000\n",
            "timestamp              0.000000\n",
            "air_temperature        0.039350\n",
            "cloud_coverage        49.489529\n",
            "dew_temperature        0.080845\n",
            "precip_depth_1_hr     35.979052\n",
            "sea_level_pressure     7.596603\n",
            "wind_direction         4.484414\n",
            "wind_speed             0.217496\n",
            "day                    0.000000\n",
            "week                   0.000000\n",
            "month                  0.000000\n",
            "hour                   0.000000\n",
            "dtype: float64\n"
          ],
          "name": "stdout"
        }
      ]
    },
    {
      "cell_type": "code",
      "metadata": {
        "id": "ZRzaIHXLgAFW",
        "colab_type": "code",
        "colab": {}
      },
      "source": [
        "weather_metrics = ['air_temperature', 'cloud_coverage','dew_temperature', 'precip_depth_1_hr', 'sea_level_pressure','wind_direction', 'wind_speed']"
      ],
      "execution_count": 0,
      "outputs": []
    },
    {
      "cell_type": "code",
      "metadata": {
        "id": "4aTB-sR_gDZT",
        "colab_type": "code",
        "colab": {}
      },
      "source": [
        "def fill_missing_column(df,filler_df,col):\n",
        "    null_df = df.loc[df[col].isnull()]\n",
        "    \n",
        "    if null_df.empty != True:\n",
        "        null_df[col] = null_df.apply(lambda x: filler_df.loc[x['site_id']][x['month']][x['hour']],axis=1)\n",
        "        df.loc[null_df.index,col] = null_df[col]\n",
        "    \n",
        "    return df\n"
      ],
      "execution_count": 0,
      "outputs": []
    },
    {
      "cell_type": "code",
      "metadata": {
        "id": "9KP3qryzgOnb",
        "colab_type": "code",
        "outputId": "6426eb71-eed1-4f4b-e0ca-41935055b337",
        "colab": {
          "base_uri": "https://localhost:8080/",
          "height": 382
        }
      },
      "source": [
        "for item in weather_metrics:\n",
        "  filler = df_weather_train.groupby(by = ['site_id','month','hour'])[item].agg(np.mean)\n",
        "\n",
        "  df_weather_train = fill_missing_column(df_weather_train,filler,item)\n",
        "print('Missing Values in %:\\n{}'.format(100*df_weather_train.isna().sum()/df_weather_train.shape[0]))"
      ],
      "execution_count": 22,
      "outputs": [
        {
          "output_type": "stream",
          "text": [
            "/usr/local/lib/python3.6/dist-packages/ipykernel_launcher.py:5: SettingWithCopyWarning: \n",
            "A value is trying to be set on a copy of a slice from a DataFrame.\n",
            "Try using .loc[row_indexer,col_indexer] = value instead\n",
            "\n",
            "See the caveats in the documentation: http://pandas.pydata.org/pandas-docs/stable/user_guide/indexing.html#returning-a-view-versus-a-copy\n",
            "  \"\"\"\n"
          ],
          "name": "stderr"
        },
        {
          "output_type": "stream",
          "text": [
            "Missing Values in %:\n",
            "site_id                0.000000\n",
            "timestamp              0.000000\n",
            "air_temperature        0.000000\n",
            "cloud_coverage        12.370057\n",
            "dew_temperature        0.000000\n",
            "precip_depth_1_hr     20.325099\n",
            "sea_level_pressure     6.263728\n",
            "wind_direction         0.000000\n",
            "wind_speed             0.000000\n",
            "day                    0.000000\n",
            "week                   0.000000\n",
            "month                  0.000000\n",
            "hour                   0.000000\n",
            "dtype: float64\n"
          ],
          "name": "stdout"
        }
      ]
    },
    {
      "cell_type": "code",
      "metadata": {
        "id": "JkSUmwiqhwK2",
        "colab_type": "code",
        "outputId": "254202df-0710-44f4-95f3-d9658f0fb1f4",
        "colab": {
          "base_uri": "https://localhost:8080/",
          "height": 330
        }
      },
      "source": [
        "df_weather_train.groupby(['site_id'])['air_temperature'].median()"
      ],
      "execution_count": 23,
      "outputs": [
        {
          "output_type": "execute_result",
          "data": {
            "text/plain": [
              "site_id\n",
              "0     23.906250\n",
              "1     11.296875\n",
              "2     25.593750\n",
              "3     15.601562\n",
              "4     15.000000\n",
              "5     11.000000\n",
              "6     16.093750\n",
              "7      7.699219\n",
              "8     23.906250\n",
              "9     22.203125\n",
              "10    11.703125\n",
              "11     7.699219\n",
              "12     9.796875\n",
              "13    11.101562\n",
              "14    13.296875\n",
              "15     9.398438\n",
              "Name: air_temperature, dtype: float16"
            ]
          },
          "metadata": {
            "tags": []
          },
          "execution_count": 23
        }
      ]
    },
    {
      "cell_type": "code",
      "metadata": {
        "id": "2K2hC84Ih4Xe",
        "colab_type": "code",
        "outputId": "18c60654-6d52-4492-b695-ae7ee10f667c",
        "colab": {
          "base_uri": "https://localhost:8080/",
          "height": 557
        }
      },
      "source": [
        "df_weather_train.groupby(['site_id'])['air_temperature','dew_temperature','sea_level_pressure','cloud_coverage','precip_depth_1_hr','wind_direction', 'wind_speed'].median()"
      ],
      "execution_count": 24,
      "outputs": [
        {
          "output_type": "execute_result",
          "data": {
            "text/html": [
              "<div>\n",
              "<style scoped>\n",
              "    .dataframe tbody tr th:only-of-type {\n",
              "        vertical-align: middle;\n",
              "    }\n",
              "\n",
              "    .dataframe tbody tr th {\n",
              "        vertical-align: top;\n",
              "    }\n",
              "\n",
              "    .dataframe thead th {\n",
              "        text-align: right;\n",
              "    }\n",
              "</style>\n",
              "<table border=\"1\" class=\"dataframe\">\n",
              "  <thead>\n",
              "    <tr style=\"text-align: right;\">\n",
              "      <th></th>\n",
              "      <th>air_temperature</th>\n",
              "      <th>dew_temperature</th>\n",
              "      <th>sea_level_pressure</th>\n",
              "      <th>cloud_coverage</th>\n",
              "      <th>precip_depth_1_hr</th>\n",
              "      <th>wind_direction</th>\n",
              "      <th>wind_speed</th>\n",
              "    </tr>\n",
              "    <tr>\n",
              "      <th>site_id</th>\n",
              "      <th></th>\n",
              "      <th></th>\n",
              "      <th></th>\n",
              "      <th></th>\n",
              "      <th></th>\n",
              "      <th></th>\n",
              "      <th></th>\n",
              "    </tr>\n",
              "  </thead>\n",
              "  <tbody>\n",
              "    <tr>\n",
              "      <th>0</th>\n",
              "      <td>23.906250</td>\n",
              "      <td>18.296875</td>\n",
              "      <td>1018.0</td>\n",
              "      <td>2.533203</td>\n",
              "      <td>0.0</td>\n",
              "      <td>140.00</td>\n",
              "      <td>3.099609</td>\n",
              "    </tr>\n",
              "    <tr>\n",
              "      <th>1</th>\n",
              "      <td>11.296875</td>\n",
              "      <td>7.800781</td>\n",
              "      <td>1017.5</td>\n",
              "      <td>0.000000</td>\n",
              "      <td>NaN</td>\n",
              "      <td>220.00</td>\n",
              "      <td>3.599609</td>\n",
              "    </tr>\n",
              "    <tr>\n",
              "      <th>2</th>\n",
              "      <td>25.593750</td>\n",
              "      <td>3.300781</td>\n",
              "      <td>1011.0</td>\n",
              "      <td>2.000000</td>\n",
              "      <td>0.0</td>\n",
              "      <td>130.00</td>\n",
              "      <td>2.599609</td>\n",
              "    </tr>\n",
              "    <tr>\n",
              "      <th>3</th>\n",
              "      <td>15.601562</td>\n",
              "      <td>9.398438</td>\n",
              "      <td>1018.0</td>\n",
              "      <td>2.769531</td>\n",
              "      <td>0.0</td>\n",
              "      <td>190.00</td>\n",
              "      <td>3.599609</td>\n",
              "    </tr>\n",
              "    <tr>\n",
              "      <th>4</th>\n",
              "      <td>15.000000</td>\n",
              "      <td>10.601562</td>\n",
              "      <td>1016.5</td>\n",
              "      <td>2.000000</td>\n",
              "      <td>0.0</td>\n",
              "      <td>260.00</td>\n",
              "      <td>3.599609</td>\n",
              "    </tr>\n",
              "    <tr>\n",
              "      <th>5</th>\n",
              "      <td>11.000000</td>\n",
              "      <td>8.000000</td>\n",
              "      <td>NaN</td>\n",
              "      <td>0.000000</td>\n",
              "      <td>NaN</td>\n",
              "      <td>240.00</td>\n",
              "      <td>4.601562</td>\n",
              "    </tr>\n",
              "    <tr>\n",
              "      <th>6</th>\n",
              "      <td>16.093750</td>\n",
              "      <td>8.898438</td>\n",
              "      <td>1017.5</td>\n",
              "      <td>0.000000</td>\n",
              "      <td>0.0</td>\n",
              "      <td>149.25</td>\n",
              "      <td>2.099609</td>\n",
              "    </tr>\n",
              "    <tr>\n",
              "      <th>7</th>\n",
              "      <td>7.699219</td>\n",
              "      <td>2.400391</td>\n",
              "      <td>1015.0</td>\n",
              "      <td>NaN</td>\n",
              "      <td>7.0</td>\n",
              "      <td>230.00</td>\n",
              "      <td>3.099609</td>\n",
              "    </tr>\n",
              "    <tr>\n",
              "      <th>8</th>\n",
              "      <td>23.906250</td>\n",
              "      <td>18.296875</td>\n",
              "      <td>1018.0</td>\n",
              "      <td>2.533203</td>\n",
              "      <td>0.0</td>\n",
              "      <td>140.00</td>\n",
              "      <td>3.099609</td>\n",
              "    </tr>\n",
              "    <tr>\n",
              "      <th>9</th>\n",
              "      <td>22.203125</td>\n",
              "      <td>17.203125</td>\n",
              "      <td>1015.5</td>\n",
              "      <td>0.000000</td>\n",
              "      <td>0.0</td>\n",
              "      <td>120.00</td>\n",
              "      <td>2.099609</td>\n",
              "    </tr>\n",
              "    <tr>\n",
              "      <th>10</th>\n",
              "      <td>11.703125</td>\n",
              "      <td>0.600098</td>\n",
              "      <td>1014.5</td>\n",
              "      <td>0.000000</td>\n",
              "      <td>0.0</td>\n",
              "      <td>170.00</td>\n",
              "      <td>3.099609</td>\n",
              "    </tr>\n",
              "    <tr>\n",
              "      <th>11</th>\n",
              "      <td>7.699219</td>\n",
              "      <td>2.400391</td>\n",
              "      <td>1015.0</td>\n",
              "      <td>NaN</td>\n",
              "      <td>7.0</td>\n",
              "      <td>230.00</td>\n",
              "      <td>3.099609</td>\n",
              "    </tr>\n",
              "    <tr>\n",
              "      <th>12</th>\n",
              "      <td>9.796875</td>\n",
              "      <td>6.699219</td>\n",
              "      <td>1016.0</td>\n",
              "      <td>7.000000</td>\n",
              "      <td>NaN</td>\n",
              "      <td>230.00</td>\n",
              "      <td>5.000000</td>\n",
              "    </tr>\n",
              "    <tr>\n",
              "      <th>13</th>\n",
              "      <td>11.101562</td>\n",
              "      <td>3.900391</td>\n",
              "      <td>1016.0</td>\n",
              "      <td>2.000000</td>\n",
              "      <td>0.0</td>\n",
              "      <td>180.00</td>\n",
              "      <td>4.101562</td>\n",
              "    </tr>\n",
              "    <tr>\n",
              "      <th>14</th>\n",
              "      <td>13.296875</td>\n",
              "      <td>6.101562</td>\n",
              "      <td>1016.5</td>\n",
              "      <td>0.000000</td>\n",
              "      <td>0.0</td>\n",
              "      <td>210.00</td>\n",
              "      <td>2.599609</td>\n",
              "    </tr>\n",
              "    <tr>\n",
              "      <th>15</th>\n",
              "      <td>9.398438</td>\n",
              "      <td>4.398438</td>\n",
              "      <td>1017.0</td>\n",
              "      <td>0.600098</td>\n",
              "      <td>1.0</td>\n",
              "      <td>180.00</td>\n",
              "      <td>3.099609</td>\n",
              "    </tr>\n",
              "  </tbody>\n",
              "</table>\n",
              "</div>"
            ],
            "text/plain": [
              "         air_temperature  dew_temperature  ...  wind_direction  wind_speed\n",
              "site_id                                    ...                            \n",
              "0              23.906250        18.296875  ...          140.00    3.099609\n",
              "1              11.296875         7.800781  ...          220.00    3.599609\n",
              "2              25.593750         3.300781  ...          130.00    2.599609\n",
              "3              15.601562         9.398438  ...          190.00    3.599609\n",
              "4              15.000000        10.601562  ...          260.00    3.599609\n",
              "5              11.000000         8.000000  ...          240.00    4.601562\n",
              "6              16.093750         8.898438  ...          149.25    2.099609\n",
              "7               7.699219         2.400391  ...          230.00    3.099609\n",
              "8              23.906250        18.296875  ...          140.00    3.099609\n",
              "9              22.203125        17.203125  ...          120.00    2.099609\n",
              "10             11.703125         0.600098  ...          170.00    3.099609\n",
              "11              7.699219         2.400391  ...          230.00    3.099609\n",
              "12              9.796875         6.699219  ...          230.00    5.000000\n",
              "13             11.101562         3.900391  ...          180.00    4.101562\n",
              "14             13.296875         6.101562  ...          210.00    2.599609\n",
              "15              9.398438         4.398438  ...          180.00    3.099609\n",
              "\n",
              "[16 rows x 7 columns]"
            ]
          },
          "metadata": {
            "tags": []
          },
          "execution_count": 24
        }
      ]
    },
    {
      "cell_type": "code",
      "metadata": {
        "id": "9j8vLr-EiL5y",
        "colab_type": "code",
        "outputId": "d5f1c952-635f-430d-dddc-8b4cf591c664",
        "colab": {
          "base_uri": "https://localhost:8080/",
          "height": 557
        }
      },
      "source": [
        "df_weather_train.groupby(['site_id'])['air_temperature','dew_temperature','sea_level_pressure','cloud_coverage','precip_depth_1_hr','wind_direction', 'wind_speed'].mean()"
      ],
      "execution_count": 25,
      "outputs": [
        {
          "output_type": "execute_result",
          "data": {
            "text/html": [
              "<div>\n",
              "<style scoped>\n",
              "    .dataframe tbody tr th:only-of-type {\n",
              "        vertical-align: middle;\n",
              "    }\n",
              "\n",
              "    .dataframe tbody tr th {\n",
              "        vertical-align: top;\n",
              "    }\n",
              "\n",
              "    .dataframe thead th {\n",
              "        text-align: right;\n",
              "    }\n",
              "</style>\n",
              "<table border=\"1\" class=\"dataframe\">\n",
              "  <thead>\n",
              "    <tr style=\"text-align: right;\">\n",
              "      <th></th>\n",
              "      <th>air_temperature</th>\n",
              "      <th>dew_temperature</th>\n",
              "      <th>sea_level_pressure</th>\n",
              "      <th>cloud_coverage</th>\n",
              "      <th>precip_depth_1_hr</th>\n",
              "      <th>wind_direction</th>\n",
              "      <th>wind_speed</th>\n",
              "    </tr>\n",
              "    <tr>\n",
              "      <th>site_id</th>\n",
              "      <th></th>\n",
              "      <th></th>\n",
              "      <th></th>\n",
              "      <th></th>\n",
              "      <th></th>\n",
              "      <th></th>\n",
              "      <th></th>\n",
              "    </tr>\n",
              "  </thead>\n",
              "  <tbody>\n",
              "    <tr>\n",
              "      <th>0</th>\n",
              "      <td>22.828125</td>\n",
              "      <td>16.812500</td>\n",
              "      <td>1018.0</td>\n",
              "      <td>2.808594</td>\n",
              "      <td>1.382812</td>\n",
              "      <td>156.500</td>\n",
              "      <td>3.375000</td>\n",
              "    </tr>\n",
              "    <tr>\n",
              "      <th>1</th>\n",
              "      <td>11.710938</td>\n",
              "      <td>7.648438</td>\n",
              "      <td>1016.0</td>\n",
              "      <td>0.064941</td>\n",
              "      <td>NaN</td>\n",
              "      <td>195.625</td>\n",
              "      <td>3.966797</td>\n",
              "    </tr>\n",
              "    <tr>\n",
              "      <th>2</th>\n",
              "      <td>24.937500</td>\n",
              "      <td>4.070312</td>\n",
              "      <td>1011.5</td>\n",
              "      <td>1.906250</td>\n",
              "      <td>0.159180</td>\n",
              "      <td>153.625</td>\n",
              "      <td>2.933594</td>\n",
              "    </tr>\n",
              "    <tr>\n",
              "      <th>3</th>\n",
              "      <td>15.523438</td>\n",
              "      <td>8.132812</td>\n",
              "      <td>1018.0</td>\n",
              "      <td>3.277344</td>\n",
              "      <td>0.691406</td>\n",
              "      <td>185.000</td>\n",
              "      <td>3.910156</td>\n",
              "    </tr>\n",
              "    <tr>\n",
              "      <th>4</th>\n",
              "      <td>15.234375</td>\n",
              "      <td>9.898438</td>\n",
              "      <td>1017.0</td>\n",
              "      <td>1.936523</td>\n",
              "      <td>0.218994</td>\n",
              "      <td>208.000</td>\n",
              "      <td>3.857422</td>\n",
              "    </tr>\n",
              "    <tr>\n",
              "      <th>5</th>\n",
              "      <td>10.867188</td>\n",
              "      <td>8.195312</td>\n",
              "      <td>NaN</td>\n",
              "      <td>0.297119</td>\n",
              "      <td>NaN</td>\n",
              "      <td>200.000</td>\n",
              "      <td>4.769531</td>\n",
              "    </tr>\n",
              "    <tr>\n",
              "      <th>6</th>\n",
              "      <td>15.132812</td>\n",
              "      <td>7.312500</td>\n",
              "      <td>1017.5</td>\n",
              "      <td>0.656738</td>\n",
              "      <td>0.797852</td>\n",
              "      <td>132.750</td>\n",
              "      <td>2.199219</td>\n",
              "    </tr>\n",
              "    <tr>\n",
              "      <th>7</th>\n",
              "      <td>7.890625</td>\n",
              "      <td>1.891602</td>\n",
              "      <td>1015.5</td>\n",
              "      <td>NaN</td>\n",
              "      <td>13.273438</td>\n",
              "      <td>208.875</td>\n",
              "      <td>3.445312</td>\n",
              "    </tr>\n",
              "    <tr>\n",
              "      <th>8</th>\n",
              "      <td>22.828125</td>\n",
              "      <td>16.812500</td>\n",
              "      <td>1018.0</td>\n",
              "      <td>2.808594</td>\n",
              "      <td>1.382812</td>\n",
              "      <td>156.500</td>\n",
              "      <td>3.375000</td>\n",
              "    </tr>\n",
              "    <tr>\n",
              "      <th>9</th>\n",
              "      <td>21.359375</td>\n",
              "      <td>14.609375</td>\n",
              "      <td>1016.5</td>\n",
              "      <td>0.610352</td>\n",
              "      <td>0.754883</td>\n",
              "      <td>118.000</td>\n",
              "      <td>2.087891</td>\n",
              "    </tr>\n",
              "    <tr>\n",
              "      <th>10</th>\n",
              "      <td>11.640625</td>\n",
              "      <td>0.089844</td>\n",
              "      <td>1015.5</td>\n",
              "      <td>0.442627</td>\n",
              "      <td>0.457520</td>\n",
              "      <td>181.375</td>\n",
              "      <td>3.164062</td>\n",
              "    </tr>\n",
              "    <tr>\n",
              "      <th>11</th>\n",
              "      <td>7.890625</td>\n",
              "      <td>1.891602</td>\n",
              "      <td>1015.5</td>\n",
              "      <td>NaN</td>\n",
              "      <td>13.273438</td>\n",
              "      <td>208.875</td>\n",
              "      <td>3.445312</td>\n",
              "    </tr>\n",
              "    <tr>\n",
              "      <th>12</th>\n",
              "      <td>9.843750</td>\n",
              "      <td>6.519531</td>\n",
              "      <td>1014.5</td>\n",
              "      <td>5.722656</td>\n",
              "      <td>NaN</td>\n",
              "      <td>202.750</td>\n",
              "      <td>5.511719</td>\n",
              "    </tr>\n",
              "    <tr>\n",
              "      <th>13</th>\n",
              "      <td>9.875000</td>\n",
              "      <td>3.400391</td>\n",
              "      <td>1016.0</td>\n",
              "      <td>2.365234</td>\n",
              "      <td>0.879883</td>\n",
              "      <td>188.125</td>\n",
              "      <td>4.199219</td>\n",
              "    </tr>\n",
              "    <tr>\n",
              "      <th>14</th>\n",
              "      <td>13.257812</td>\n",
              "      <td>5.777344</td>\n",
              "      <td>1016.5</td>\n",
              "      <td>0.556641</td>\n",
              "      <td>0.744141</td>\n",
              "      <td>187.875</td>\n",
              "      <td>3.078125</td>\n",
              "    </tr>\n",
              "    <tr>\n",
              "      <th>15</th>\n",
              "      <td>9.359375</td>\n",
              "      <td>4.144531</td>\n",
              "      <td>1017.0</td>\n",
              "      <td>1.079102</td>\n",
              "      <td>5.707031</td>\n",
              "      <td>187.500</td>\n",
              "      <td>3.644531</td>\n",
              "    </tr>\n",
              "  </tbody>\n",
              "</table>\n",
              "</div>"
            ],
            "text/plain": [
              "         air_temperature  dew_temperature  ...  wind_direction  wind_speed\n",
              "site_id                                    ...                            \n",
              "0              22.828125        16.812500  ...         156.500    3.375000\n",
              "1              11.710938         7.648438  ...         195.625    3.966797\n",
              "2              24.937500         4.070312  ...         153.625    2.933594\n",
              "3              15.523438         8.132812  ...         185.000    3.910156\n",
              "4              15.234375         9.898438  ...         208.000    3.857422\n",
              "5              10.867188         8.195312  ...         200.000    4.769531\n",
              "6              15.132812         7.312500  ...         132.750    2.199219\n",
              "7               7.890625         1.891602  ...         208.875    3.445312\n",
              "8              22.828125        16.812500  ...         156.500    3.375000\n",
              "9              21.359375        14.609375  ...         118.000    2.087891\n",
              "10             11.640625         0.089844  ...         181.375    3.164062\n",
              "11              7.890625         1.891602  ...         208.875    3.445312\n",
              "12              9.843750         6.519531  ...         202.750    5.511719\n",
              "13              9.875000         3.400391  ...         188.125    4.199219\n",
              "14             13.257812         5.777344  ...         187.875    3.078125\n",
              "15              9.359375         4.144531  ...         187.500    3.644531\n",
              "\n",
              "[16 rows x 7 columns]"
            ]
          },
          "metadata": {
            "tags": []
          },
          "execution_count": 25
        }
      ]
    },
    {
      "cell_type": "code",
      "metadata": {
        "id": "gslLZX5XmwWQ",
        "colab_type": "code",
        "outputId": "882b0839-9271-4268-ce0d-d2d0c8bf0227",
        "colab": {
          "base_uri": "https://localhost:8080/",
          "height": 747
        }
      },
      "source": [
        "%env"
      ],
      "execution_count": 26,
      "outputs": [
        {
          "output_type": "execute_result",
          "data": {
            "text/plain": [
              "{'CLICOLOR': '1',\n",
              " 'CLOUDSDK_CONFIG': '/content/.config',\n",
              " 'COLAB_GPU': '1',\n",
              " 'CUDA_PKG_VERSION': '10-0=10.0.130-1',\n",
              " 'CUDA_VERSION': '10.0.130',\n",
              " 'CUDNN_VERSION': '7.6.3.30',\n",
              " 'DATALAB_SETTINGS_OVERRIDES': '{\"kernelManagerProxyPort\":6000,\"kernelManagerProxyHost\":\"172.28.0.3\",\"jupyterArgs\":[\"--ip=\\\\\"172.28.0.2\\\\\"\"]}',\n",
              " 'DEBIAN_FRONTEND': 'noninteractive',\n",
              " 'ENV': '/root/.bashrc',\n",
              " 'GCS_READ_CACHE_BLOCK_SIZE_MB': '16',\n",
              " 'GIT_PAGER': 'cat',\n",
              " 'GLIBCPP_FORCE_NEW': '1',\n",
              " 'GLIBCXX_FORCE_NEW': '1',\n",
              " 'HOME': '/root',\n",
              " 'HOSTNAME': '67b0823fdba4',\n",
              " 'JPY_PARENT_PID': '19',\n",
              " 'KMP_DUPLICATE_LIB_OK': 'True',\n",
              " 'KMP_INIT_AT_FORK': 'FALSE',\n",
              " 'LANG': 'en_US.UTF-8',\n",
              " 'LAST_FORCED_REBUILD': '20191018',\n",
              " 'LD_LIBRARY_PATH': '/usr/lib64-nvidia',\n",
              " 'LD_PRELOAD': '/usr/lib/x86_64-linux-gnu/libtcmalloc.so.4',\n",
              " 'LIBRARY_PATH': '/usr/local/cuda/lib64/stubs',\n",
              " 'MPLBACKEND': 'module://ipykernel.pylab.backend_inline',\n",
              " 'NCCL_VERSION': '2.4.8',\n",
              " 'NO_GCE_CHECK': 'True',\n",
              " 'NVIDIA_DRIVER_CAPABILITIES': 'compute,utility',\n",
              " 'NVIDIA_REQUIRE_CUDA': 'cuda>=10.0 brand=tesla,driver>=384,driver<385 brand=tesla,driver>=410,driver<411',\n",
              " 'NVIDIA_VISIBLE_DEVICES': 'all',\n",
              " 'OLDPWD': '/',\n",
              " 'PAGER': 'cat',\n",
              " 'PATH': '/usr/local/nvidia/bin:/usr/local/cuda/bin:/usr/local/sbin:/usr/local/bin:/usr/sbin:/usr/bin:/sbin:/bin:/tools/node/bin:/tools/google-cloud-sdk/bin:/opt/bin',\n",
              " 'PWD': '/',\n",
              " 'PYTHONPATH': '/env/python',\n",
              " 'PYTHONWARNINGS': 'ignore:::pip._internal.cli.base_command',\n",
              " 'SHELL': '/bin/bash',\n",
              " 'SHLVL': '1',\n",
              " 'TBE_CREDS_ADDR': '172.28.0.1:8008',\n",
              " 'TERM': 'xterm-color',\n",
              " 'TF_FORCE_GPU_ALLOW_GROWTH': 'true',\n",
              " '_': '/tools/node/bin/node',\n",
              " '__EGL_VENDOR_LIBRARY_DIRS': '/usr/lib64-nvidia:/usr/share/glvnd/egl_vendor.d/'}"
            ]
          },
          "metadata": {
            "tags": []
          },
          "execution_count": 26
        }
      ]
    },
    {
      "cell_type": "code",
      "metadata": {
        "id": "Oa6NinyJo15J",
        "colab_type": "code",
        "outputId": "7f4efe10-d466-4168-8873-1dfd9746f717",
        "colab": {
          "base_uri": "https://localhost:8080/",
          "height": 312
        }
      },
      "source": [
        "# These are the usual ipython objects, including this one you are creating\n",
        "ipython_vars = ['In', 'Out', 'exit', 'quit', 'get_ipython', 'ipython_vars']\n",
        "\n",
        "# Get a sorted list of the objects and their sizes\n",
        "sorted([(x, sys.getsizeof(globals().get(x))) for x in dir() if not x.startswith('_') and x not in sys.modules and x not in ipython_vars], key=lambda x: x[1], reverse=True)"
      ],
      "execution_count": 27,
      "outputs": [
        {
          "output_type": "execute_result",
          "data": {
            "text/plain": [
              "[('df_weather_train', 3774023),\n",
              " ('filler', 24283),\n",
              " ('df_building_metadata', 11744),\n",
              " ('InteractiveShell', 1056),\n",
              " ('LinearRegression', 1056),\n",
              " ('primary_use_map', 648),\n",
              " ('dateparse', 136),\n",
              " ('fill_missing_column', 136),\n",
              " ('reduce_mem_usage', 136),\n",
              " ('weather_metrics', 120),\n",
              " ('drive', 80),\n",
              " ('lgb', 80),\n",
              " ('np', 80),\n",
              " ('pd', 80),\n",
              " ('plt', 80),\n",
              " ('sns', 80),\n",
              " ('item', 59)]"
            ]
          },
          "metadata": {
            "tags": []
          },
          "execution_count": 27
        }
      ]
    },
    {
      "cell_type": "markdown",
      "metadata": {
        "id": "POx01RNYvMw2",
        "colab_type": "text"
      },
      "source": [
        "https://www.kaggle.com/datadugong/locate-better-cities-by-weather-temp-fill-nans\n",
        "\n",
        "\tlocation\tcorr\n",
        "site_id\t\t\n",
        "0\torlando\t0.971346\n",
        "1\theathrow\t0.985568\n",
        "2\tPhoenix\t0.978950\n",
        "3\twashington\t0.990834\n",
        "4\tSan Francisco\t0.927506\n",
        "5\tbirmingham\t0.944360\n",
        "6\twashington\t0.976488\n",
        "7\tottowa\t0.990955\n",
        "8\torlando\t0.971346\n",
        "9\tsanantonio\t0.978205\n",
        "10\tsaltlake\t0.974286\n",
        "11\tottowa\t0.990955\n",
        "12\tdublin\t0.954968\n",
        "13\tMinneapolis\t0.994499\n",
        "14\tPhiladelphia\t0.993035\n",
        "15\trochester\t0.975049\n",
        "\n",
        "\n"
      ]
    },
    {
      "cell_type": "code",
      "metadata": {
        "id": "uRdMlrsTvUJU",
        "colab_type": "code",
        "outputId": "25906372-bbd6-419e-ab93-47131695078f",
        "colab": {
          "base_uri": "https://localhost:8080/",
          "height": 801
        }
      },
      "source": [
        "df_weather_train.cloud_coverage.fillna(value=0, inplace=True)\n",
        "df_weather_train.precip_depth_1_hr.fillna(value=0, inplace=True)\n",
        "df_weather_train.sea_level_pressure.fillna(value=1015, inplace=True)\n",
        "\n",
        "df_weather_train.isna().sum()\n",
        "df_weather_train.groupby(['site_id'])['air_temperature','dew_temperature','sea_level_pressure','cloud_coverage','precip_depth_1_hr','wind_direction', 'wind_speed'].mean()"
      ],
      "execution_count": 28,
      "outputs": [
        {
          "output_type": "execute_result",
          "data": {
            "text/plain": [
              "site_id               0\n",
              "timestamp             0\n",
              "air_temperature       0\n",
              "cloud_coverage        0\n",
              "dew_temperature       0\n",
              "precip_depth_1_hr     0\n",
              "sea_level_pressure    0\n",
              "wind_direction        0\n",
              "wind_speed            0\n",
              "day                   0\n",
              "week                  0\n",
              "month                 0\n",
              "hour                  0\n",
              "dtype: int64"
            ]
          },
          "metadata": {
            "tags": []
          },
          "execution_count": 28
        },
        {
          "output_type": "execute_result",
          "data": {
            "text/html": [
              "<div>\n",
              "<style scoped>\n",
              "    .dataframe tbody tr th:only-of-type {\n",
              "        vertical-align: middle;\n",
              "    }\n",
              "\n",
              "    .dataframe tbody tr th {\n",
              "        vertical-align: top;\n",
              "    }\n",
              "\n",
              "    .dataframe thead th {\n",
              "        text-align: right;\n",
              "    }\n",
              "</style>\n",
              "<table border=\"1\" class=\"dataframe\">\n",
              "  <thead>\n",
              "    <tr style=\"text-align: right;\">\n",
              "      <th></th>\n",
              "      <th>air_temperature</th>\n",
              "      <th>dew_temperature</th>\n",
              "      <th>sea_level_pressure</th>\n",
              "      <th>cloud_coverage</th>\n",
              "      <th>precip_depth_1_hr</th>\n",
              "      <th>wind_direction</th>\n",
              "      <th>wind_speed</th>\n",
              "    </tr>\n",
              "    <tr>\n",
              "      <th>site_id</th>\n",
              "      <th></th>\n",
              "      <th></th>\n",
              "      <th></th>\n",
              "      <th></th>\n",
              "      <th></th>\n",
              "      <th></th>\n",
              "      <th></th>\n",
              "    </tr>\n",
              "  </thead>\n",
              "  <tbody>\n",
              "    <tr>\n",
              "      <th>0</th>\n",
              "      <td>22.828125</td>\n",
              "      <td>16.812500</td>\n",
              "      <td>1018.0</td>\n",
              "      <td>2.808594</td>\n",
              "      <td>1.382812</td>\n",
              "      <td>156.500</td>\n",
              "      <td>3.375000</td>\n",
              "    </tr>\n",
              "    <tr>\n",
              "      <th>1</th>\n",
              "      <td>11.710938</td>\n",
              "      <td>7.648438</td>\n",
              "      <td>1016.0</td>\n",
              "      <td>0.064941</td>\n",
              "      <td>0.000000</td>\n",
              "      <td>195.625</td>\n",
              "      <td>3.966797</td>\n",
              "    </tr>\n",
              "    <tr>\n",
              "      <th>2</th>\n",
              "      <td>24.937500</td>\n",
              "      <td>4.070312</td>\n",
              "      <td>1011.5</td>\n",
              "      <td>1.906250</td>\n",
              "      <td>0.159180</td>\n",
              "      <td>153.625</td>\n",
              "      <td>2.933594</td>\n",
              "    </tr>\n",
              "    <tr>\n",
              "      <th>3</th>\n",
              "      <td>15.523438</td>\n",
              "      <td>8.132812</td>\n",
              "      <td>1018.0</td>\n",
              "      <td>3.277344</td>\n",
              "      <td>0.691406</td>\n",
              "      <td>185.000</td>\n",
              "      <td>3.910156</td>\n",
              "    </tr>\n",
              "    <tr>\n",
              "      <th>4</th>\n",
              "      <td>15.234375</td>\n",
              "      <td>9.898438</td>\n",
              "      <td>1017.0</td>\n",
              "      <td>1.922852</td>\n",
              "      <td>0.218994</td>\n",
              "      <td>208.000</td>\n",
              "      <td>3.857422</td>\n",
              "    </tr>\n",
              "    <tr>\n",
              "      <th>5</th>\n",
              "      <td>10.867188</td>\n",
              "      <td>8.195312</td>\n",
              "      <td>1015.0</td>\n",
              "      <td>0.297119</td>\n",
              "      <td>0.000000</td>\n",
              "      <td>200.000</td>\n",
              "      <td>4.769531</td>\n",
              "    </tr>\n",
              "    <tr>\n",
              "      <th>6</th>\n",
              "      <td>15.132812</td>\n",
              "      <td>7.312500</td>\n",
              "      <td>1017.5</td>\n",
              "      <td>0.656738</td>\n",
              "      <td>0.797852</td>\n",
              "      <td>132.750</td>\n",
              "      <td>2.199219</td>\n",
              "    </tr>\n",
              "    <tr>\n",
              "      <th>7</th>\n",
              "      <td>7.890625</td>\n",
              "      <td>1.891602</td>\n",
              "      <td>1015.5</td>\n",
              "      <td>0.000000</td>\n",
              "      <td>11.828125</td>\n",
              "      <td>208.875</td>\n",
              "      <td>3.445312</td>\n",
              "    </tr>\n",
              "    <tr>\n",
              "      <th>8</th>\n",
              "      <td>22.828125</td>\n",
              "      <td>16.812500</td>\n",
              "      <td>1018.0</td>\n",
              "      <td>2.808594</td>\n",
              "      <td>1.382812</td>\n",
              "      <td>156.500</td>\n",
              "      <td>3.375000</td>\n",
              "    </tr>\n",
              "    <tr>\n",
              "      <th>9</th>\n",
              "      <td>21.359375</td>\n",
              "      <td>14.609375</td>\n",
              "      <td>1016.5</td>\n",
              "      <td>0.610352</td>\n",
              "      <td>0.754883</td>\n",
              "      <td>118.000</td>\n",
              "      <td>2.087891</td>\n",
              "    </tr>\n",
              "    <tr>\n",
              "      <th>10</th>\n",
              "      <td>11.640625</td>\n",
              "      <td>0.089844</td>\n",
              "      <td>1015.5</td>\n",
              "      <td>0.442627</td>\n",
              "      <td>0.457520</td>\n",
              "      <td>181.375</td>\n",
              "      <td>3.164062</td>\n",
              "    </tr>\n",
              "    <tr>\n",
              "      <th>11</th>\n",
              "      <td>7.890625</td>\n",
              "      <td>1.891602</td>\n",
              "      <td>1015.5</td>\n",
              "      <td>0.000000</td>\n",
              "      <td>11.828125</td>\n",
              "      <td>208.875</td>\n",
              "      <td>3.445312</td>\n",
              "    </tr>\n",
              "    <tr>\n",
              "      <th>12</th>\n",
              "      <td>9.843750</td>\n",
              "      <td>6.519531</td>\n",
              "      <td>1014.5</td>\n",
              "      <td>5.722656</td>\n",
              "      <td>0.000000</td>\n",
              "      <td>202.750</td>\n",
              "      <td>5.511719</td>\n",
              "    </tr>\n",
              "    <tr>\n",
              "      <th>13</th>\n",
              "      <td>9.875000</td>\n",
              "      <td>3.400391</td>\n",
              "      <td>1016.0</td>\n",
              "      <td>2.365234</td>\n",
              "      <td>0.879883</td>\n",
              "      <td>188.125</td>\n",
              "      <td>4.199219</td>\n",
              "    </tr>\n",
              "    <tr>\n",
              "      <th>14</th>\n",
              "      <td>13.257812</td>\n",
              "      <td>5.777344</td>\n",
              "      <td>1016.5</td>\n",
              "      <td>0.556641</td>\n",
              "      <td>0.744141</td>\n",
              "      <td>187.875</td>\n",
              "      <td>3.078125</td>\n",
              "    </tr>\n",
              "    <tr>\n",
              "      <th>15</th>\n",
              "      <td>9.359375</td>\n",
              "      <td>4.144531</td>\n",
              "      <td>1017.0</td>\n",
              "      <td>1.079102</td>\n",
              "      <td>5.531250</td>\n",
              "      <td>187.500</td>\n",
              "      <td>3.644531</td>\n",
              "    </tr>\n",
              "  </tbody>\n",
              "</table>\n",
              "</div>"
            ],
            "text/plain": [
              "         air_temperature  dew_temperature  ...  wind_direction  wind_speed\n",
              "site_id                                    ...                            \n",
              "0              22.828125        16.812500  ...         156.500    3.375000\n",
              "1              11.710938         7.648438  ...         195.625    3.966797\n",
              "2              24.937500         4.070312  ...         153.625    2.933594\n",
              "3              15.523438         8.132812  ...         185.000    3.910156\n",
              "4              15.234375         9.898438  ...         208.000    3.857422\n",
              "5              10.867188         8.195312  ...         200.000    4.769531\n",
              "6              15.132812         7.312500  ...         132.750    2.199219\n",
              "7               7.890625         1.891602  ...         208.875    3.445312\n",
              "8              22.828125        16.812500  ...         156.500    3.375000\n",
              "9              21.359375        14.609375  ...         118.000    2.087891\n",
              "10             11.640625         0.089844  ...         181.375    3.164062\n",
              "11              7.890625         1.891602  ...         208.875    3.445312\n",
              "12              9.843750         6.519531  ...         202.750    5.511719\n",
              "13              9.875000         3.400391  ...         188.125    4.199219\n",
              "14             13.257812         5.777344  ...         187.875    3.078125\n",
              "15              9.359375         4.144531  ...         187.500    3.644531\n",
              "\n",
              "[16 rows x 7 columns]"
            ]
          },
          "metadata": {
            "tags": []
          },
          "execution_count": 28
        }
      ]
    },
    {
      "cell_type": "markdown",
      "metadata": {
        "id": "bxsYi1e2LXrv",
        "colab_type": "text"
      },
      "source": [
        "# Train Data Manip"
      ]
    },
    {
      "cell_type": "code",
      "metadata": {
        "id": "DeFCdxrB6YqJ",
        "colab_type": "code",
        "outputId": "ca6f59d9-82a2-4ea1-a672-655ca9239311",
        "colab": {
          "base_uri": "https://localhost:8080/",
          "height": 708
        }
      },
      "source": [
        "df_train = pd.read_csv('train.csv',parse_dates = ['timestamp'], date_parser = dateparse)\n",
        "df_train.info()\n",
        "df_train.head()\n",
        "df_train = reduce_mem_usage(df_train)\n",
        "df_train.info()\n",
        "df_train.head()"
      ],
      "execution_count": 29,
      "outputs": [
        {
          "output_type": "stream",
          "text": [
            "<class 'pandas.core.frame.DataFrame'>\n",
            "RangeIndex: 20216100 entries, 0 to 20216099\n",
            "Data columns (total 4 columns):\n",
            "building_id      int64\n",
            "meter            int64\n",
            "timestamp        datetime64[ns]\n",
            "meter_reading    float64\n",
            "dtypes: datetime64[ns](1), float64(1), int64(2)\n",
            "memory usage: 616.9 MB\n"
          ],
          "name": "stdout"
        },
        {
          "output_type": "execute_result",
          "data": {
            "text/html": [
              "<div>\n",
              "<style scoped>\n",
              "    .dataframe tbody tr th:only-of-type {\n",
              "        vertical-align: middle;\n",
              "    }\n",
              "\n",
              "    .dataframe tbody tr th {\n",
              "        vertical-align: top;\n",
              "    }\n",
              "\n",
              "    .dataframe thead th {\n",
              "        text-align: right;\n",
              "    }\n",
              "</style>\n",
              "<table border=\"1\" class=\"dataframe\">\n",
              "  <thead>\n",
              "    <tr style=\"text-align: right;\">\n",
              "      <th></th>\n",
              "      <th>building_id</th>\n",
              "      <th>meter</th>\n",
              "      <th>timestamp</th>\n",
              "      <th>meter_reading</th>\n",
              "    </tr>\n",
              "  </thead>\n",
              "  <tbody>\n",
              "    <tr>\n",
              "      <th>0</th>\n",
              "      <td>0</td>\n",
              "      <td>0</td>\n",
              "      <td>2016-01-01</td>\n",
              "      <td>0.0</td>\n",
              "    </tr>\n",
              "    <tr>\n",
              "      <th>1</th>\n",
              "      <td>1</td>\n",
              "      <td>0</td>\n",
              "      <td>2016-01-01</td>\n",
              "      <td>0.0</td>\n",
              "    </tr>\n",
              "    <tr>\n",
              "      <th>2</th>\n",
              "      <td>2</td>\n",
              "      <td>0</td>\n",
              "      <td>2016-01-01</td>\n",
              "      <td>0.0</td>\n",
              "    </tr>\n",
              "    <tr>\n",
              "      <th>3</th>\n",
              "      <td>3</td>\n",
              "      <td>0</td>\n",
              "      <td>2016-01-01</td>\n",
              "      <td>0.0</td>\n",
              "    </tr>\n",
              "    <tr>\n",
              "      <th>4</th>\n",
              "      <td>4</td>\n",
              "      <td>0</td>\n",
              "      <td>2016-01-01</td>\n",
              "      <td>0.0</td>\n",
              "    </tr>\n",
              "  </tbody>\n",
              "</table>\n",
              "</div>"
            ],
            "text/plain": [
              "   building_id  meter  timestamp  meter_reading\n",
              "0            0      0 2016-01-01            0.0\n",
              "1            1      0 2016-01-01            0.0\n",
              "2            2      0 2016-01-01            0.0\n",
              "3            3      0 2016-01-01            0.0\n",
              "4            4      0 2016-01-01            0.0"
            ]
          },
          "metadata": {
            "tags": []
          },
          "execution_count": 29
        },
        {
          "output_type": "stream",
          "text": [
            "Mem. usage decreased to 289.19 Mb (53.1% reduction)\n",
            "<class 'pandas.core.frame.DataFrame'>\n",
            "RangeIndex: 20216100 entries, 0 to 20216099\n",
            "Data columns (total 4 columns):\n",
            "building_id      int16\n",
            "meter            int8\n",
            "timestamp        datetime64[ns]\n",
            "meter_reading    float32\n",
            "dtypes: datetime64[ns](1), float32(1), int16(1), int8(1)\n",
            "memory usage: 289.2 MB\n"
          ],
          "name": "stdout"
        },
        {
          "output_type": "execute_result",
          "data": {
            "text/html": [
              "<div>\n",
              "<style scoped>\n",
              "    .dataframe tbody tr th:only-of-type {\n",
              "        vertical-align: middle;\n",
              "    }\n",
              "\n",
              "    .dataframe tbody tr th {\n",
              "        vertical-align: top;\n",
              "    }\n",
              "\n",
              "    .dataframe thead th {\n",
              "        text-align: right;\n",
              "    }\n",
              "</style>\n",
              "<table border=\"1\" class=\"dataframe\">\n",
              "  <thead>\n",
              "    <tr style=\"text-align: right;\">\n",
              "      <th></th>\n",
              "      <th>building_id</th>\n",
              "      <th>meter</th>\n",
              "      <th>timestamp</th>\n",
              "      <th>meter_reading</th>\n",
              "    </tr>\n",
              "  </thead>\n",
              "  <tbody>\n",
              "    <tr>\n",
              "      <th>0</th>\n",
              "      <td>0</td>\n",
              "      <td>0</td>\n",
              "      <td>2016-01-01</td>\n",
              "      <td>0.0</td>\n",
              "    </tr>\n",
              "    <tr>\n",
              "      <th>1</th>\n",
              "      <td>1</td>\n",
              "      <td>0</td>\n",
              "      <td>2016-01-01</td>\n",
              "      <td>0.0</td>\n",
              "    </tr>\n",
              "    <tr>\n",
              "      <th>2</th>\n",
              "      <td>2</td>\n",
              "      <td>0</td>\n",
              "      <td>2016-01-01</td>\n",
              "      <td>0.0</td>\n",
              "    </tr>\n",
              "    <tr>\n",
              "      <th>3</th>\n",
              "      <td>3</td>\n",
              "      <td>0</td>\n",
              "      <td>2016-01-01</td>\n",
              "      <td>0.0</td>\n",
              "    </tr>\n",
              "    <tr>\n",
              "      <th>4</th>\n",
              "      <td>4</td>\n",
              "      <td>0</td>\n",
              "      <td>2016-01-01</td>\n",
              "      <td>0.0</td>\n",
              "    </tr>\n",
              "  </tbody>\n",
              "</table>\n",
              "</div>"
            ],
            "text/plain": [
              "   building_id  meter  timestamp  meter_reading\n",
              "0            0      0 2016-01-01            0.0\n",
              "1            1      0 2016-01-01            0.0\n",
              "2            2      0 2016-01-01            0.0\n",
              "3            3      0 2016-01-01            0.0\n",
              "4            4      0 2016-01-01            0.0"
            ]
          },
          "metadata": {
            "tags": []
          },
          "execution_count": 29
        }
      ]
    },
    {
      "cell_type": "code",
      "metadata": {
        "id": "PxR7rniv5XcF",
        "colab_type": "code",
        "outputId": "b9228e12-8343-4a5c-e286-c0c990d23e9f",
        "colab": {
          "base_uri": "https://localhost:8080/",
          "height": 632
        }
      },
      "source": [
        "df_train = df_train.merge(df_building_metadata,on='building_id')\n",
        "df_train.info()\n",
        "df_train = reduce_mem_usage(df_train)\n",
        "df_train.info()\n",
        "df_train.head()"
      ],
      "execution_count": 30,
      "outputs": [
        {
          "output_type": "stream",
          "text": [
            "<class 'pandas.core.frame.DataFrame'>\n",
            "Int64Index: 20216100 entries, 0 to 20216099\n",
            "Data columns (total 7 columns):\n",
            "building_id      int16\n",
            "meter            int8\n",
            "timestamp        datetime64[ns]\n",
            "meter_reading    float32\n",
            "site_id          int8\n",
            "square_feet      int32\n",
            "use_category     int8\n",
            "dtypes: datetime64[ns](1), float32(1), int16(1), int32(1), int8(3)\n",
            "memory usage: 559.1 MB\n",
            "Mem. usage decreased to 559.11 Mb (0.0% reduction)\n",
            "<class 'pandas.core.frame.DataFrame'>\n",
            "Int64Index: 20216100 entries, 0 to 20216099\n",
            "Data columns (total 7 columns):\n",
            "building_id      int16\n",
            "meter            int8\n",
            "timestamp        datetime64[ns]\n",
            "meter_reading    float32\n",
            "site_id          int8\n",
            "square_feet      int32\n",
            "use_category     int8\n",
            "dtypes: datetime64[ns](1), float32(1), int16(1), int32(1), int8(3)\n",
            "memory usage: 559.1 MB\n"
          ],
          "name": "stdout"
        },
        {
          "output_type": "execute_result",
          "data": {
            "text/html": [
              "<div>\n",
              "<style scoped>\n",
              "    .dataframe tbody tr th:only-of-type {\n",
              "        vertical-align: middle;\n",
              "    }\n",
              "\n",
              "    .dataframe tbody tr th {\n",
              "        vertical-align: top;\n",
              "    }\n",
              "\n",
              "    .dataframe thead th {\n",
              "        text-align: right;\n",
              "    }\n",
              "</style>\n",
              "<table border=\"1\" class=\"dataframe\">\n",
              "  <thead>\n",
              "    <tr style=\"text-align: right;\">\n",
              "      <th></th>\n",
              "      <th>building_id</th>\n",
              "      <th>meter</th>\n",
              "      <th>timestamp</th>\n",
              "      <th>meter_reading</th>\n",
              "      <th>site_id</th>\n",
              "      <th>square_feet</th>\n",
              "      <th>use_category</th>\n",
              "    </tr>\n",
              "  </thead>\n",
              "  <tbody>\n",
              "    <tr>\n",
              "      <th>0</th>\n",
              "      <td>0</td>\n",
              "      <td>0</td>\n",
              "      <td>2016-01-01 00:00:00</td>\n",
              "      <td>0.0</td>\n",
              "      <td>0</td>\n",
              "      <td>7432</td>\n",
              "      <td>0</td>\n",
              "    </tr>\n",
              "    <tr>\n",
              "      <th>1</th>\n",
              "      <td>0</td>\n",
              "      <td>0</td>\n",
              "      <td>2016-01-01 01:00:00</td>\n",
              "      <td>0.0</td>\n",
              "      <td>0</td>\n",
              "      <td>7432</td>\n",
              "      <td>0</td>\n",
              "    </tr>\n",
              "    <tr>\n",
              "      <th>2</th>\n",
              "      <td>0</td>\n",
              "      <td>0</td>\n",
              "      <td>2016-01-01 02:00:00</td>\n",
              "      <td>0.0</td>\n",
              "      <td>0</td>\n",
              "      <td>7432</td>\n",
              "      <td>0</td>\n",
              "    </tr>\n",
              "    <tr>\n",
              "      <th>3</th>\n",
              "      <td>0</td>\n",
              "      <td>0</td>\n",
              "      <td>2016-01-01 03:00:00</td>\n",
              "      <td>0.0</td>\n",
              "      <td>0</td>\n",
              "      <td>7432</td>\n",
              "      <td>0</td>\n",
              "    </tr>\n",
              "    <tr>\n",
              "      <th>4</th>\n",
              "      <td>0</td>\n",
              "      <td>0</td>\n",
              "      <td>2016-01-01 04:00:00</td>\n",
              "      <td>0.0</td>\n",
              "      <td>0</td>\n",
              "      <td>7432</td>\n",
              "      <td>0</td>\n",
              "    </tr>\n",
              "  </tbody>\n",
              "</table>\n",
              "</div>"
            ],
            "text/plain": [
              "   building_id  meter           timestamp  ...  site_id  square_feet  use_category\n",
              "0            0      0 2016-01-01 00:00:00  ...        0         7432             0\n",
              "1            0      0 2016-01-01 01:00:00  ...        0         7432             0\n",
              "2            0      0 2016-01-01 02:00:00  ...        0         7432             0\n",
              "3            0      0 2016-01-01 03:00:00  ...        0         7432             0\n",
              "4            0      0 2016-01-01 04:00:00  ...        0         7432             0\n",
              "\n",
              "[5 rows x 7 columns]"
            ]
          },
          "metadata": {
            "tags": []
          },
          "execution_count": 30
        }
      ]
    },
    {
      "cell_type": "code",
      "metadata": {
        "id": "hLQ6uTl17jfm",
        "colab_type": "code",
        "outputId": "cdbd304a-a463-48ec-c8ab-7f31fac6cb75",
        "colab": {
          "base_uri": "https://localhost:8080/",
          "height": 1000
        }
      },
      "source": [
        "df_train = df_train.merge(df_weather_train,on=['site_id','timestamp'])\n",
        "df_train.info()\n",
        "df_train = reduce_mem_usage(df_train)\n",
        "df_train.info()\n",
        "df_train.head()"
      ],
      "execution_count": 31,
      "outputs": [
        {
          "output_type": "stream",
          "text": [
            "<class 'pandas.core.frame.DataFrame'>\n",
            "Int64Index: 20125605 entries, 0 to 20125604\n",
            "Data columns (total 18 columns):\n",
            "building_id           int16\n",
            "meter                 int8\n",
            "timestamp             datetime64[ns]\n",
            "meter_reading         float32\n",
            "site_id               int8\n",
            "square_feet           int32\n",
            "use_category          int8\n",
            "air_temperature       float16\n",
            "cloud_coverage        float16\n",
            "dew_temperature       float16\n",
            "precip_depth_1_hr     float16\n",
            "sea_level_pressure    float16\n",
            "wind_direction        float16\n",
            "wind_speed            float16\n",
            "day                   int8\n",
            "week                  int8\n",
            "month                 int8\n",
            "hour                  int8\n",
            "dtypes: datetime64[ns](1), float16(7), float32(1), int16(1), int32(1), int8(7)\n",
            "memory usage: 902.1 MB\n",
            "Mem. usage decreased to 902.08 Mb (0.0% reduction)\n",
            "<class 'pandas.core.frame.DataFrame'>\n",
            "Int64Index: 20125605 entries, 0 to 20125604\n",
            "Data columns (total 18 columns):\n",
            "building_id           int16\n",
            "meter                 int8\n",
            "timestamp             datetime64[ns]\n",
            "meter_reading         float32\n",
            "site_id               int8\n",
            "square_feet           int32\n",
            "use_category          int8\n",
            "air_temperature       float16\n",
            "cloud_coverage        float16\n",
            "dew_temperature       float16\n",
            "precip_depth_1_hr     float16\n",
            "sea_level_pressure    float16\n",
            "wind_direction        float16\n",
            "wind_speed            float16\n",
            "day                   int8\n",
            "week                  int8\n",
            "month                 int8\n",
            "hour                  int8\n",
            "dtypes: datetime64[ns](1), float16(7), float32(1), int16(1), int32(1), int8(7)\n",
            "memory usage: 902.1 MB\n"
          ],
          "name": "stdout"
        },
        {
          "output_type": "execute_result",
          "data": {
            "text/html": [
              "<div>\n",
              "<style scoped>\n",
              "    .dataframe tbody tr th:only-of-type {\n",
              "        vertical-align: middle;\n",
              "    }\n",
              "\n",
              "    .dataframe tbody tr th {\n",
              "        vertical-align: top;\n",
              "    }\n",
              "\n",
              "    .dataframe thead th {\n",
              "        text-align: right;\n",
              "    }\n",
              "</style>\n",
              "<table border=\"1\" class=\"dataframe\">\n",
              "  <thead>\n",
              "    <tr style=\"text-align: right;\">\n",
              "      <th></th>\n",
              "      <th>building_id</th>\n",
              "      <th>meter</th>\n",
              "      <th>timestamp</th>\n",
              "      <th>meter_reading</th>\n",
              "      <th>site_id</th>\n",
              "      <th>square_feet</th>\n",
              "      <th>use_category</th>\n",
              "      <th>air_temperature</th>\n",
              "      <th>cloud_coverage</th>\n",
              "      <th>dew_temperature</th>\n",
              "      <th>precip_depth_1_hr</th>\n",
              "      <th>sea_level_pressure</th>\n",
              "      <th>wind_direction</th>\n",
              "      <th>wind_speed</th>\n",
              "      <th>day</th>\n",
              "      <th>week</th>\n",
              "      <th>month</th>\n",
              "      <th>hour</th>\n",
              "    </tr>\n",
              "  </thead>\n",
              "  <tbody>\n",
              "    <tr>\n",
              "      <th>0</th>\n",
              "      <td>0</td>\n",
              "      <td>0</td>\n",
              "      <td>2016-01-01</td>\n",
              "      <td>0.0</td>\n",
              "      <td>0</td>\n",
              "      <td>7432</td>\n",
              "      <td>0</td>\n",
              "      <td>25.0</td>\n",
              "      <td>6.0</td>\n",
              "      <td>20.0</td>\n",
              "      <td>2.433594</td>\n",
              "      <td>1019.5</td>\n",
              "      <td>0.0</td>\n",
              "      <td>0.0</td>\n",
              "      <td>1</td>\n",
              "      <td>53</td>\n",
              "      <td>1</td>\n",
              "      <td>0</td>\n",
              "    </tr>\n",
              "    <tr>\n",
              "      <th>1</th>\n",
              "      <td>1</td>\n",
              "      <td>0</td>\n",
              "      <td>2016-01-01</td>\n",
              "      <td>0.0</td>\n",
              "      <td>0</td>\n",
              "      <td>2720</td>\n",
              "      <td>0</td>\n",
              "      <td>25.0</td>\n",
              "      <td>6.0</td>\n",
              "      <td>20.0</td>\n",
              "      <td>2.433594</td>\n",
              "      <td>1019.5</td>\n",
              "      <td>0.0</td>\n",
              "      <td>0.0</td>\n",
              "      <td>1</td>\n",
              "      <td>53</td>\n",
              "      <td>1</td>\n",
              "      <td>0</td>\n",
              "    </tr>\n",
              "    <tr>\n",
              "      <th>2</th>\n",
              "      <td>2</td>\n",
              "      <td>0</td>\n",
              "      <td>2016-01-01</td>\n",
              "      <td>0.0</td>\n",
              "      <td>0</td>\n",
              "      <td>5376</td>\n",
              "      <td>0</td>\n",
              "      <td>25.0</td>\n",
              "      <td>6.0</td>\n",
              "      <td>20.0</td>\n",
              "      <td>2.433594</td>\n",
              "      <td>1019.5</td>\n",
              "      <td>0.0</td>\n",
              "      <td>0.0</td>\n",
              "      <td>1</td>\n",
              "      <td>53</td>\n",
              "      <td>1</td>\n",
              "      <td>0</td>\n",
              "    </tr>\n",
              "    <tr>\n",
              "      <th>3</th>\n",
              "      <td>3</td>\n",
              "      <td>0</td>\n",
              "      <td>2016-01-01</td>\n",
              "      <td>0.0</td>\n",
              "      <td>0</td>\n",
              "      <td>23685</td>\n",
              "      <td>0</td>\n",
              "      <td>25.0</td>\n",
              "      <td>6.0</td>\n",
              "      <td>20.0</td>\n",
              "      <td>2.433594</td>\n",
              "      <td>1019.5</td>\n",
              "      <td>0.0</td>\n",
              "      <td>0.0</td>\n",
              "      <td>1</td>\n",
              "      <td>53</td>\n",
              "      <td>1</td>\n",
              "      <td>0</td>\n",
              "    </tr>\n",
              "    <tr>\n",
              "      <th>4</th>\n",
              "      <td>4</td>\n",
              "      <td>0</td>\n",
              "      <td>2016-01-01</td>\n",
              "      <td>0.0</td>\n",
              "      <td>0</td>\n",
              "      <td>116607</td>\n",
              "      <td>0</td>\n",
              "      <td>25.0</td>\n",
              "      <td>6.0</td>\n",
              "      <td>20.0</td>\n",
              "      <td>2.433594</td>\n",
              "      <td>1019.5</td>\n",
              "      <td>0.0</td>\n",
              "      <td>0.0</td>\n",
              "      <td>1</td>\n",
              "      <td>53</td>\n",
              "      <td>1</td>\n",
              "      <td>0</td>\n",
              "    </tr>\n",
              "  </tbody>\n",
              "</table>\n",
              "</div>"
            ],
            "text/plain": [
              "   building_id  meter  timestamp  meter_reading  ...  day  week  month  hour\n",
              "0            0      0 2016-01-01            0.0  ...    1    53      1     0\n",
              "1            1      0 2016-01-01            0.0  ...    1    53      1     0\n",
              "2            2      0 2016-01-01            0.0  ...    1    53      1     0\n",
              "3            3      0 2016-01-01            0.0  ...    1    53      1     0\n",
              "4            4      0 2016-01-01            0.0  ...    1    53      1     0\n",
              "\n",
              "[5 rows x 18 columns]"
            ]
          },
          "metadata": {
            "tags": []
          },
          "execution_count": 31
        }
      ]
    },
    {
      "cell_type": "code",
      "metadata": {
        "id": "u5zJCcW07qGN",
        "colab_type": "code",
        "outputId": "3a285bec-7abc-441f-8892-c8259bacc470",
        "colab": {
          "base_uri": "https://localhost:8080/",
          "height": 347
        }
      },
      "source": [
        "df_train.isna().sum()"
      ],
      "execution_count": 32,
      "outputs": [
        {
          "output_type": "execute_result",
          "data": {
            "text/plain": [
              "building_id           0\n",
              "meter                 0\n",
              "timestamp             0\n",
              "meter_reading         0\n",
              "site_id               0\n",
              "square_feet           0\n",
              "use_category          0\n",
              "air_temperature       0\n",
              "cloud_coverage        0\n",
              "dew_temperature       0\n",
              "precip_depth_1_hr     0\n",
              "sea_level_pressure    0\n",
              "wind_direction        0\n",
              "wind_speed            0\n",
              "day                   0\n",
              "week                  0\n",
              "month                 0\n",
              "hour                  0\n",
              "dtype: int64"
            ]
          },
          "metadata": {
            "tags": []
          },
          "execution_count": 32
        }
      ]
    },
    {
      "cell_type": "code",
      "metadata": {
        "id": "sZ9I_XSK72Se",
        "colab_type": "code",
        "outputId": "14a65387-2843-4ed2-d850-a8e1bb5ee482",
        "colab": {
          "base_uri": "https://localhost:8080/",
          "height": 399
        }
      },
      "source": [
        "df_train.drop(columns=['timestamp'],inplace=True)\n",
        "df_train.info()"
      ],
      "execution_count": 33,
      "outputs": [
        {
          "output_type": "stream",
          "text": [
            "<class 'pandas.core.frame.DataFrame'>\n",
            "Int64Index: 20125605 entries, 0 to 20125604\n",
            "Data columns (total 17 columns):\n",
            "building_id           int16\n",
            "meter                 int8\n",
            "meter_reading         float32\n",
            "site_id               int8\n",
            "square_feet           int32\n",
            "use_category          int8\n",
            "air_temperature       float16\n",
            "cloud_coverage        float16\n",
            "dew_temperature       float16\n",
            "precip_depth_1_hr     float16\n",
            "sea_level_pressure    float16\n",
            "wind_direction        float16\n",
            "wind_speed            float16\n",
            "day                   int8\n",
            "week                  int8\n",
            "month                 int8\n",
            "hour                  int8\n",
            "dtypes: float16(7), float32(1), int16(1), int32(1), int8(7)\n",
            "memory usage: 748.5 MB\n"
          ],
          "name": "stdout"
        }
      ]
    },
    {
      "cell_type": "code",
      "metadata": {
        "id": "6ITh3wNO8Au4",
        "colab_type": "code",
        "outputId": "13cedb60-2a9f-4094-a3b1-c0ecae1db354",
        "colab": {
          "base_uri": "https://localhost:8080/",
          "height": 1000
        }
      },
      "source": [
        "df_train['log_meter_reading'] = np.log1p(df_train['meter_reading'])\n",
        "df_train.drop(columns=['meter_reading'],inplace=True) \n",
        "\n",
        "df_train.info()\n",
        "df_train = reduce_mem_usage(df_train)\n",
        "df_train.info()\n",
        "df_train.head()"
      ],
      "execution_count": 34,
      "outputs": [
        {
          "output_type": "stream",
          "text": [
            "<class 'pandas.core.frame.DataFrame'>\n",
            "Int64Index: 20125605 entries, 0 to 20125604\n",
            "Data columns (total 17 columns):\n",
            "building_id           int16\n",
            "meter                 int8\n",
            "site_id               int8\n",
            "square_feet           int32\n",
            "use_category          int8\n",
            "air_temperature       float16\n",
            "cloud_coverage        float16\n",
            "dew_temperature       float16\n",
            "precip_depth_1_hr     float16\n",
            "sea_level_pressure    float16\n",
            "wind_direction        float16\n",
            "wind_speed            float16\n",
            "day                   int8\n",
            "week                  int8\n",
            "month                 int8\n",
            "hour                  int8\n",
            "log_meter_reading     float32\n",
            "dtypes: float16(7), float32(1), int16(1), int32(1), int8(7)\n",
            "memory usage: 748.5 MB\n",
            "Mem. usage decreased to 710.15 Mb (5.1% reduction)\n",
            "<class 'pandas.core.frame.DataFrame'>\n",
            "Int64Index: 20125605 entries, 0 to 20125604\n",
            "Data columns (total 17 columns):\n",
            "building_id           int16\n",
            "meter                 int8\n",
            "site_id               int8\n",
            "square_feet           int32\n",
            "use_category          int8\n",
            "air_temperature       float16\n",
            "cloud_coverage        float16\n",
            "dew_temperature       float16\n",
            "precip_depth_1_hr     float16\n",
            "sea_level_pressure    float16\n",
            "wind_direction        float16\n",
            "wind_speed            float16\n",
            "day                   int8\n",
            "week                  int8\n",
            "month                 int8\n",
            "hour                  int8\n",
            "log_meter_reading     float16\n",
            "dtypes: float16(8), int16(1), int32(1), int8(7)\n",
            "memory usage: 710.2 MB\n"
          ],
          "name": "stdout"
        },
        {
          "output_type": "execute_result",
          "data": {
            "text/html": [
              "<div>\n",
              "<style scoped>\n",
              "    .dataframe tbody tr th:only-of-type {\n",
              "        vertical-align: middle;\n",
              "    }\n",
              "\n",
              "    .dataframe tbody tr th {\n",
              "        vertical-align: top;\n",
              "    }\n",
              "\n",
              "    .dataframe thead th {\n",
              "        text-align: right;\n",
              "    }\n",
              "</style>\n",
              "<table border=\"1\" class=\"dataframe\">\n",
              "  <thead>\n",
              "    <tr style=\"text-align: right;\">\n",
              "      <th></th>\n",
              "      <th>building_id</th>\n",
              "      <th>meter</th>\n",
              "      <th>site_id</th>\n",
              "      <th>square_feet</th>\n",
              "      <th>use_category</th>\n",
              "      <th>air_temperature</th>\n",
              "      <th>cloud_coverage</th>\n",
              "      <th>dew_temperature</th>\n",
              "      <th>precip_depth_1_hr</th>\n",
              "      <th>sea_level_pressure</th>\n",
              "      <th>wind_direction</th>\n",
              "      <th>wind_speed</th>\n",
              "      <th>day</th>\n",
              "      <th>week</th>\n",
              "      <th>month</th>\n",
              "      <th>hour</th>\n",
              "      <th>log_meter_reading</th>\n",
              "    </tr>\n",
              "  </thead>\n",
              "  <tbody>\n",
              "    <tr>\n",
              "      <th>0</th>\n",
              "      <td>0</td>\n",
              "      <td>0</td>\n",
              "      <td>0</td>\n",
              "      <td>7432</td>\n",
              "      <td>0</td>\n",
              "      <td>25.0</td>\n",
              "      <td>6.0</td>\n",
              "      <td>20.0</td>\n",
              "      <td>2.433594</td>\n",
              "      <td>1019.5</td>\n",
              "      <td>0.0</td>\n",
              "      <td>0.0</td>\n",
              "      <td>1</td>\n",
              "      <td>53</td>\n",
              "      <td>1</td>\n",
              "      <td>0</td>\n",
              "      <td>0.0</td>\n",
              "    </tr>\n",
              "    <tr>\n",
              "      <th>1</th>\n",
              "      <td>1</td>\n",
              "      <td>0</td>\n",
              "      <td>0</td>\n",
              "      <td>2720</td>\n",
              "      <td>0</td>\n",
              "      <td>25.0</td>\n",
              "      <td>6.0</td>\n",
              "      <td>20.0</td>\n",
              "      <td>2.433594</td>\n",
              "      <td>1019.5</td>\n",
              "      <td>0.0</td>\n",
              "      <td>0.0</td>\n",
              "      <td>1</td>\n",
              "      <td>53</td>\n",
              "      <td>1</td>\n",
              "      <td>0</td>\n",
              "      <td>0.0</td>\n",
              "    </tr>\n",
              "    <tr>\n",
              "      <th>2</th>\n",
              "      <td>2</td>\n",
              "      <td>0</td>\n",
              "      <td>0</td>\n",
              "      <td>5376</td>\n",
              "      <td>0</td>\n",
              "      <td>25.0</td>\n",
              "      <td>6.0</td>\n",
              "      <td>20.0</td>\n",
              "      <td>2.433594</td>\n",
              "      <td>1019.5</td>\n",
              "      <td>0.0</td>\n",
              "      <td>0.0</td>\n",
              "      <td>1</td>\n",
              "      <td>53</td>\n",
              "      <td>1</td>\n",
              "      <td>0</td>\n",
              "      <td>0.0</td>\n",
              "    </tr>\n",
              "    <tr>\n",
              "      <th>3</th>\n",
              "      <td>3</td>\n",
              "      <td>0</td>\n",
              "      <td>0</td>\n",
              "      <td>23685</td>\n",
              "      <td>0</td>\n",
              "      <td>25.0</td>\n",
              "      <td>6.0</td>\n",
              "      <td>20.0</td>\n",
              "      <td>2.433594</td>\n",
              "      <td>1019.5</td>\n",
              "      <td>0.0</td>\n",
              "      <td>0.0</td>\n",
              "      <td>1</td>\n",
              "      <td>53</td>\n",
              "      <td>1</td>\n",
              "      <td>0</td>\n",
              "      <td>0.0</td>\n",
              "    </tr>\n",
              "    <tr>\n",
              "      <th>4</th>\n",
              "      <td>4</td>\n",
              "      <td>0</td>\n",
              "      <td>0</td>\n",
              "      <td>116607</td>\n",
              "      <td>0</td>\n",
              "      <td>25.0</td>\n",
              "      <td>6.0</td>\n",
              "      <td>20.0</td>\n",
              "      <td>2.433594</td>\n",
              "      <td>1019.5</td>\n",
              "      <td>0.0</td>\n",
              "      <td>0.0</td>\n",
              "      <td>1</td>\n",
              "      <td>53</td>\n",
              "      <td>1</td>\n",
              "      <td>0</td>\n",
              "      <td>0.0</td>\n",
              "    </tr>\n",
              "  </tbody>\n",
              "</table>\n",
              "</div>"
            ],
            "text/plain": [
              "   building_id  meter  site_id  ...  month  hour  log_meter_reading\n",
              "0            0      0        0  ...      1     0                0.0\n",
              "1            1      0        0  ...      1     0                0.0\n",
              "2            2      0        0  ...      1     0                0.0\n",
              "3            3      0        0  ...      1     0                0.0\n",
              "4            4      0        0  ...      1     0                0.0\n",
              "\n",
              "[5 rows x 17 columns]"
            ]
          },
          "metadata": {
            "tags": []
          },
          "execution_count": 34
        }
      ]
    },
    {
      "cell_type": "code",
      "metadata": {
        "id": "bHr8GHys9BmW",
        "colab_type": "code",
        "outputId": "f3f76c4a-5603-47fe-ecf4-0cbd3b25f6d4",
        "colab": {
          "base_uri": "https://localhost:8080/",
          "height": 330
        }
      },
      "source": [
        "# Get a sorted list of the objects and their sizes\n",
        "sorted([(x, sys.getsizeof(globals().get(x))) for x in dir() if not x.startswith('_') and x not in sys.modules and x not in ipython_vars], key=lambda x: x[1], reverse=True)"
      ],
      "execution_count": 35,
      "outputs": [
        {
          "output_type": "execute_result",
          "data": {
            "text/plain": [
              "[('df_train', 744647409),\n",
              " ('df_weather_train', 3774023),\n",
              " ('filler', 24283),\n",
              " ('df_building_metadata', 11744),\n",
              " ('InteractiveShell', 1056),\n",
              " ('LinearRegression', 1056),\n",
              " ('primary_use_map', 648),\n",
              " ('dateparse', 136),\n",
              " ('fill_missing_column', 136),\n",
              " ('reduce_mem_usage', 136),\n",
              " ('weather_metrics', 120),\n",
              " ('drive', 80),\n",
              " ('lgb', 80),\n",
              " ('np', 80),\n",
              " ('pd', 80),\n",
              " ('plt', 80),\n",
              " ('sns', 80),\n",
              " ('item', 59)]"
            ]
          },
          "metadata": {
            "tags": []
          },
          "execution_count": 35
        }
      ]
    },
    {
      "cell_type": "code",
      "metadata": {
        "id": "CNPmbMC-0DbU",
        "colab_type": "code",
        "outputId": "4a8d8828-4c82-4319-f75f-0367ed711942",
        "colab": {
          "base_uri": "https://localhost:8080/",
          "height": 34
        }
      },
      "source": [
        "!pip install tqdm"
      ],
      "execution_count": 36,
      "outputs": [
        {
          "output_type": "stream",
          "text": [
            "Requirement already satisfied: tqdm in /usr/local/lib/python3.6/dist-packages (4.28.1)\n"
          ],
          "name": "stdout"
        }
      ]
    },
    {
      "cell_type": "code",
      "metadata": {
        "id": "4UDTiA8zz-xq",
        "colab_type": "code",
        "colab": {}
      },
      "source": [
        "from sklearn.model_selection import KFold\n",
        "from sklearn.metrics import mean_squared_error\n",
        "from tqdm import tqdm"
      ],
      "execution_count": 0,
      "outputs": []
    },
    {
      "cell_type": "code",
      "metadata": {
        "id": "_JVmhOpky5F4",
        "colab_type": "code",
        "colab": {}
      },
      "source": [
        ""
      ],
      "execution_count": 0,
      "outputs": []
    },
    {
      "cell_type": "code",
      "metadata": {
        "id": "wAEwxmp102o8",
        "colab_type": "code",
        "colab": {}
      },
      "source": [
        ""
      ],
      "execution_count": 0,
      "outputs": []
    },
    {
      "cell_type": "code",
      "metadata": {
        "id": "pi7sC7bU1vUL",
        "colab_type": "code",
        "colab": {}
      },
      "source": [
        "all_features = [col for col in df_train.columns if col not in ['site_id', 'meter', 'log_meter_reading']]\n",
        "categorical_features = ['building_id', 'use_category', 'day', 'week', 'month', 'hour' ]"
      ],
      "execution_count": 0,
      "outputs": []
    },
    {
      "cell_type": "code",
      "metadata": {
        "id": "JHQj3zJv2L1U",
        "colab_type": "code",
        "colab": {}
      },
      "source": [
        "cv = 3\n",
        "seed = 42\n",
        "models = {'site_id': [], 'meter': [], 'model': []}\n",
        "cv_scores = {\"site_id\": [], \"meter\": [], \"cv_score\": []}"
      ],
      "execution_count": 0,
      "outputs": []
    },
    {
      "cell_type": "code",
      "metadata": {
        "id": "Tnc-xNYEFeLD",
        "colab_type": "code",
        "colab": {
          "base_uri": "https://localhost:8080/",
          "height": 1000
        },
        "outputId": "d4358cbf-85aa-46aa-9a3a-954b55dfb8fe"
      },
      "source": [
        "for site in tqdm(range(16), desc=\"site_id\"):\n",
        "\n",
        "  for meter_id in tqdm(range(4), desc=\"meter_id\"):\n",
        "    print(\"{} fold CV for site_id:{}, meter_id:{}\".format(cv, site, meter_id))\n",
        "    kf = KFold(n_splits=cv, random_state=seed)\n",
        "    \n",
        "    \n",
        "\n",
        "    X_train_site_meter = df_train.query('site_id==@site & meter==@meter_id').reset_index(drop=True)\n",
        "    y_train_site_meter = X_train_site_meter.log_meter_reading\n",
        "    y_pred_train_site_meter = np.zeros(X_train_site_meter.shape[0])\n",
        "\n",
        "    score = 0\n",
        "\n",
        "    if X_train_site_meter.shape[0] != 0:\n",
        "      for fold, (train_index, valid_index) in enumerate(kf.split(X_train_site_meter, y_train_site_meter)):\n",
        "              X_train, X_valid = X_train_site_meter.loc[train_index, all_features], X_train_site_meter.loc[valid_index, all_features]\n",
        "              y_train, y_valid = y_train_site_meter.iloc[train_index], y_train_site_meter.iloc[valid_index]\n",
        "\n",
        "              dtrain = lgb.Dataset(X_train, label=y_train, categorical_feature=categorical_features)\n",
        "              dvalid = lgb.Dataset(X_valid, label=y_valid, categorical_feature=categorical_features)\n",
        "\n",
        "              watchlist = [dtrain, dvalid]\n",
        "\n",
        "              params = {\"objective\": \"regression\",\n",
        "                        \"num_leaves\": 40,\n",
        "                        \"learning_rate\": 0.05,\n",
        "                        \"bagging_fraction\": 0.9,\n",
        "                        \"feature_fraction\": 0.85,\n",
        "                        \"metric\": \"rmse\"\n",
        "                        }\n",
        "\n",
        "              model_lgb = lgb.train(params, train_set=dtrain, num_boost_round=1000, valid_sets=watchlist, verbose_eval=200, early_stopping_rounds=200)\n",
        "              models['site_id'].append(site)\n",
        "              models['meter'].append(meter_id)\n",
        "              models['model'].append(model_lgb)\n",
        "\n",
        "              y_pred_valid = model_lgb.predict(X_valid, num_iteration=model_lgb.best_iteration)\n",
        "              y_pred_train_site_meter[valid_index] = y_pred_valid\n",
        "\n",
        "              rmse = np.sqrt(mean_squared_error(y_valid, y_pred_valid))\n",
        "              print(\"Site Id: {}, Meter: {}, Fold: {}, RMSE: {}\".format(site, meter_id, fold+1,rmse))\n",
        "              score += rmse / cv\n",
        "\n",
        "              gc.collect()\n",
        "\n",
        "      cv_scores[\"site_id\"].append(site)\n",
        "      cv_scores[\"meter\"].append(meter_id)\n",
        "      cv_scores[\"cv_score\"].append(score)\n",
        "          \n",
        "      print(\"\\nSite Id: {}, Meter: {}, CV RMSE: {} \\n\".format(site, meter_id, np.sqrt(mean_squared_error(y_train_site_meter, y_pred_train_site_meter))))     \n"
      ],
      "execution_count": 79,
      "outputs": [
        {
          "output_type": "stream",
          "text": [
            "\n",
            "\n",
            "\n",
            "\n",
            "\n",
            "\n",
            "\n",
            "site_id:   0%|          | 0/16 [00:00<?, ?it/s]\u001b[A\u001b[A\u001b[A\u001b[A\u001b[A\u001b[A\u001b[A\n",
            "\n",
            "\n",
            "\n",
            "\n",
            "\n",
            "\n",
            "\n",
            "meter_id:   0%|          | 0/4 [00:00<?, ?it/s]\u001b[A\u001b[A\u001b[A\u001b[A\u001b[A\u001b[A\u001b[A\u001b[A"
          ],
          "name": "stderr"
        },
        {
          "output_type": "stream",
          "text": [
            "3 fold CV for site_id:0, meter_id:0\n"
          ],
          "name": "stdout"
        },
        {
          "output_type": "stream",
          "text": [
            "/usr/local/lib/python3.6/dist-packages/lightgbm/basic.py:1205: UserWarning: Using categorical_feature in Dataset.\n",
            "  warnings.warn('Using categorical_feature in Dataset.')\n",
            "/usr/local/lib/python3.6/dist-packages/lightgbm/basic.py:762: UserWarning: categorical_feature in param dict is overridden.\n",
            "  warnings.warn('categorical_feature in param dict is overridden.')\n"
          ],
          "name": "stderr"
        },
        {
          "output_type": "stream",
          "text": [
            "Training until validation scores don't improve for 200 rounds.\n",
            "[200]\ttraining's rmse: 0.24397\tvalid_1's rmse: 4.14923\n",
            "Early stopping, best iteration is:\n",
            "[162]\ttraining's rmse: 0.254129\tvalid_1's rmse: 4.1452\n",
            "Site Id: 0, Meter: 0, Fold: 1, RMSE: 5.315967319286872\n"
          ],
          "name": "stdout"
        },
        {
          "output_type": "execute_result",
          "data": {
            "text/plain": [
              "267"
            ]
          },
          "metadata": {
            "tags": []
          },
          "execution_count": 79
        },
        {
          "output_type": "stream",
          "text": [
            "/usr/local/lib/python3.6/dist-packages/lightgbm/basic.py:1205: UserWarning: Using categorical_feature in Dataset.\n",
            "  warnings.warn('Using categorical_feature in Dataset.')\n",
            "/usr/local/lib/python3.6/dist-packages/lightgbm/basic.py:762: UserWarning: categorical_feature in param dict is overridden.\n",
            "  warnings.warn('categorical_feature in param dict is overridden.')\n"
          ],
          "name": "stderr"
        },
        {
          "output_type": "stream",
          "text": [
            "Training until validation scores don't improve for 200 rounds.\n",
            "[200]\ttraining's rmse: 0.26088\tvalid_1's rmse: 4.46024\n",
            "Early stopping, best iteration is:\n",
            "[1]\ttraining's rmse: 2.65334\tvalid_1's rmse: 2.91913\n",
            "Site Id: 0, Meter: 0, Fold: 2, RMSE: 2.919129869366689\n"
          ],
          "name": "stdout"
        },
        {
          "output_type": "execute_result",
          "data": {
            "text/plain": [
              "523"
            ]
          },
          "metadata": {
            "tags": []
          },
          "execution_count": 79
        },
        {
          "output_type": "stream",
          "text": [
            "/usr/local/lib/python3.6/dist-packages/lightgbm/basic.py:1205: UserWarning: Using categorical_feature in Dataset.\n",
            "  warnings.warn('Using categorical_feature in Dataset.')\n",
            "/usr/local/lib/python3.6/dist-packages/lightgbm/basic.py:762: UserWarning: categorical_feature in param dict is overridden.\n",
            "  warnings.warn('categorical_feature in param dict is overridden.')\n"
          ],
          "name": "stderr"
        },
        {
          "output_type": "stream",
          "text": [
            "Training until validation scores don't improve for 200 rounds.\n",
            "[200]\ttraining's rmse: 0.273341\tvalid_1's rmse: 3.69899\n",
            "Early stopping, best iteration is:\n",
            "[8]\ttraining's rmse: 1.84454\tvalid_1's rmse: 2.91154\n",
            "Site Id: 0, Meter: 0, Fold: 3, RMSE: 3.5709768511278983\n"
          ],
          "name": "stdout"
        },
        {
          "output_type": "execute_result",
          "data": {
            "text/plain": [
              "551"
            ]
          },
          "metadata": {
            "tags": []
          },
          "execution_count": 79
        },
        {
          "output_type": "stream",
          "text": [
            "\n",
            "\n",
            "\n",
            "\n",
            "\n",
            "\n",
            "\n",
            "\n",
            "meter_id:  25%|██▌       | 1/4 [00:23<01:11, 23.91s/it]\u001b[A\u001b[A\u001b[A\u001b[A\u001b[A\u001b[A\u001b[A\u001b[A"
          ],
          "name": "stderr"
        },
        {
          "output_type": "stream",
          "text": [
            "\n",
            "Site Id: 0, Meter: 0, CV RMSE: 4.063360817732293 \n",
            "\n",
            "3 fold CV for site_id:0, meter_id:1\n"
          ],
          "name": "stdout"
        },
        {
          "output_type": "stream",
          "text": [
            "/usr/local/lib/python3.6/dist-packages/lightgbm/basic.py:1205: UserWarning: Using categorical_feature in Dataset.\n",
            "  warnings.warn('Using categorical_feature in Dataset.')\n",
            "/usr/local/lib/python3.6/dist-packages/lightgbm/basic.py:762: UserWarning: categorical_feature in param dict is overridden.\n",
            "  warnings.warn('categorical_feature in param dict is overridden.')\n"
          ],
          "name": "stderr"
        },
        {
          "output_type": "stream",
          "text": [
            "Training until validation scores don't improve for 200 rounds.\n",
            "[200]\ttraining's rmse: 0.800351\tvalid_1's rmse: 1.8632\n",
            "[400]\ttraining's rmse: 0.701346\tvalid_1's rmse: 1.84672\n",
            "[600]\ttraining's rmse: 0.637215\tvalid_1's rmse: 1.83321\n",
            "[800]\ttraining's rmse: 0.594227\tvalid_1's rmse: 1.83047\n",
            "[1000]\ttraining's rmse: 0.560059\tvalid_1's rmse: 1.83227\n",
            "Did not meet early stopping. Best iteration is:\n",
            "[1000]\ttraining's rmse: 0.560059\tvalid_1's rmse: 1.83227\n",
            "Site Id: 0, Meter: 1, Fold: 1, RMSE: 1.994500182102885\n"
          ],
          "name": "stdout"
        },
        {
          "output_type": "execute_result",
          "data": {
            "text/plain": [
              "708"
            ]
          },
          "metadata": {
            "tags": []
          },
          "execution_count": 79
        },
        {
          "output_type": "stream",
          "text": [
            "/usr/local/lib/python3.6/dist-packages/lightgbm/basic.py:1205: UserWarning: Using categorical_feature in Dataset.\n",
            "  warnings.warn('Using categorical_feature in Dataset.')\n",
            "/usr/local/lib/python3.6/dist-packages/lightgbm/basic.py:762: UserWarning: categorical_feature in param dict is overridden.\n",
            "  warnings.warn('categorical_feature in param dict is overridden.')\n"
          ],
          "name": "stderr"
        },
        {
          "output_type": "stream",
          "text": [
            "Training until validation scores don't improve for 200 rounds.\n",
            "[200]\ttraining's rmse: 0.799576\tvalid_1's rmse: 1.73223\n",
            "Early stopping, best iteration is:\n",
            "[50]\ttraining's rmse: 1.0651\tvalid_1's rmse: 1.69456\n",
            "Site Id: 0, Meter: 1, Fold: 2, RMSE: 1.9313958717968709\n"
          ],
          "name": "stdout"
        },
        {
          "output_type": "execute_result",
          "data": {
            "text/plain": [
              "4"
            ]
          },
          "metadata": {
            "tags": []
          },
          "execution_count": 79
        },
        {
          "output_type": "stream",
          "text": [
            "/usr/local/lib/python3.6/dist-packages/lightgbm/basic.py:1205: UserWarning: Using categorical_feature in Dataset.\n",
            "  warnings.warn('Using categorical_feature in Dataset.')\n",
            "/usr/local/lib/python3.6/dist-packages/lightgbm/basic.py:762: UserWarning: categorical_feature in param dict is overridden.\n",
            "  warnings.warn('categorical_feature in param dict is overridden.')\n"
          ],
          "name": "stderr"
        },
        {
          "output_type": "stream",
          "text": [
            "Training until validation scores don't improve for 200 rounds.\n",
            "[200]\ttraining's rmse: 0.731705\tvalid_1's rmse: 1.92421\n",
            "[400]\ttraining's rmse: 0.648686\tvalid_1's rmse: 1.92267\n",
            "Early stopping, best iteration is:\n",
            "[248]\ttraining's rmse: 0.704211\tvalid_1's rmse: 1.92119\n",
            "Site Id: 0, Meter: 1, Fold: 3, RMSE: 2.4732622381679246\n"
          ],
          "name": "stdout"
        },
        {
          "output_type": "execute_result",
          "data": {
            "text/plain": [
              "6"
            ]
          },
          "metadata": {
            "tags": []
          },
          "execution_count": 79
        },
        {
          "output_type": "stream",
          "text": [
            "\n",
            "\n",
            "\n",
            "\n",
            "\n",
            "\n",
            "\n",
            "\n",
            "meter_id:  50%|█████     | 2/4 [00:34<00:40, 20.05s/it]\u001b[A\u001b[A\u001b[A\u001b[A\u001b[A\u001b[A\u001b[A\u001b[A\n",
            "\n",
            "\n",
            "\n",
            "\n",
            "\n",
            "\n",
            "\n",
            "meter_id:  75%|███████▌  | 3/4 [00:35<00:14, 14.07s/it]\u001b[A\u001b[A\u001b[A\u001b[A\u001b[A\u001b[A\u001b[A\u001b[A"
          ],
          "name": "stderr"
        },
        {
          "output_type": "stream",
          "text": [
            "\n",
            "Site Id: 0, Meter: 1, CV RMSE: 2.1467289728182832 \n",
            "\n",
            "3 fold CV for site_id:0, meter_id:2\n",
            "3 fold CV for site_id:0, meter_id:3\n"
          ],
          "name": "stdout"
        },
        {
          "output_type": "stream",
          "text": [
            "\n",
            "\n",
            "\n",
            "\n",
            "\n",
            "\n",
            "\n",
            "\n",
            "meter_id: 100%|██████████| 4/4 [00:35<00:00,  9.88s/it]\u001b[A\u001b[A\u001b[A\u001b[A\u001b[A\u001b[A\u001b[A\u001b[A\n",
            "\n",
            "\n",
            "\n",
            "\n",
            "\n",
            "\n",
            "\n",
            "\u001b[A\u001b[A\u001b[A\u001b[A\u001b[A\u001b[A\u001b[A\u001b[A\n",
            "\n",
            "\n",
            "\n",
            "\n",
            "\n",
            "\n",
            "site_id:   6%|▋         | 1/16 [00:35<08:47, 35.17s/it]\u001b[A\u001b[A\u001b[A\u001b[A\u001b[A\u001b[A\u001b[A\n",
            "\n",
            "\n",
            "\n",
            "\n",
            "\n",
            "\n",
            "\n",
            "meter_id:   0%|          | 0/4 [00:00<?, ?it/s]\u001b[A\u001b[A\u001b[A\u001b[A\u001b[A\u001b[A\u001b[A\u001b[A"
          ],
          "name": "stderr"
        },
        {
          "output_type": "stream",
          "text": [
            "3 fold CV for site_id:1, meter_id:0\n"
          ],
          "name": "stdout"
        },
        {
          "output_type": "stream",
          "text": [
            "/usr/local/lib/python3.6/dist-packages/lightgbm/basic.py:1205: UserWarning: Using categorical_feature in Dataset.\n",
            "  warnings.warn('Using categorical_feature in Dataset.')\n",
            "/usr/local/lib/python3.6/dist-packages/lightgbm/basic.py:762: UserWarning: categorical_feature in param dict is overridden.\n",
            "  warnings.warn('categorical_feature in param dict is overridden.')\n"
          ],
          "name": "stderr"
        },
        {
          "output_type": "stream",
          "text": [
            "Training until validation scores don't improve for 200 rounds.\n",
            "[200]\ttraining's rmse: 0.148678\tvalid_1's rmse: 0.761265\n",
            "Early stopping, best iteration is:\n",
            "[29]\ttraining's rmse: 0.436098\tvalid_1's rmse: 0.682699\n",
            "Site Id: 1, Meter: 0, Fold: 1, RMSE: 0.5932345895172643\n"
          ],
          "name": "stdout"
        },
        {
          "output_type": "execute_result",
          "data": {
            "text/plain": [
              "6"
            ]
          },
          "metadata": {
            "tags": []
          },
          "execution_count": 79
        },
        {
          "output_type": "stream",
          "text": [
            "/usr/local/lib/python3.6/dist-packages/lightgbm/basic.py:1205: UserWarning: Using categorical_feature in Dataset.\n",
            "  warnings.warn('Using categorical_feature in Dataset.')\n",
            "/usr/local/lib/python3.6/dist-packages/lightgbm/basic.py:762: UserWarning: categorical_feature in param dict is overridden.\n",
            "  warnings.warn('categorical_feature in param dict is overridden.')\n"
          ],
          "name": "stderr"
        },
        {
          "output_type": "stream",
          "text": [
            "Training until validation scores don't improve for 200 rounds.\n",
            "[200]\ttraining's rmse: 0.14092\tvalid_1's rmse: 0.624359\n",
            "Early stopping, best iteration is:\n",
            "[145]\ttraining's rmse: 0.161472\tvalid_1's rmse: 0.6228\n",
            "Site Id: 1, Meter: 0, Fold: 2, RMSE: 0.6580489286734466\n"
          ],
          "name": "stdout"
        },
        {
          "output_type": "execute_result",
          "data": {
            "text/plain": [
              "329"
            ]
          },
          "metadata": {
            "tags": []
          },
          "execution_count": 79
        },
        {
          "output_type": "stream",
          "text": [
            "/usr/local/lib/python3.6/dist-packages/lightgbm/basic.py:1205: UserWarning: Using categorical_feature in Dataset.\n",
            "  warnings.warn('Using categorical_feature in Dataset.')\n",
            "/usr/local/lib/python3.6/dist-packages/lightgbm/basic.py:762: UserWarning: categorical_feature in param dict is overridden.\n",
            "  warnings.warn('categorical_feature in param dict is overridden.')\n"
          ],
          "name": "stderr"
        },
        {
          "output_type": "stream",
          "text": [
            "Training until validation scores don't improve for 200 rounds.\n",
            "[200]\ttraining's rmse: 0.121551\tvalid_1's rmse: 0.761166\n",
            "Early stopping, best iteration is:\n",
            "[50]\ttraining's rmse: 0.228774\tvalid_1's rmse: 0.730742\n",
            "Site Id: 1, Meter: 0, Fold: 3, RMSE: 0.7801106810831128\n"
          ],
          "name": "stdout"
        },
        {
          "output_type": "execute_result",
          "data": {
            "text/plain": [
              "4"
            ]
          },
          "metadata": {
            "tags": []
          },
          "execution_count": 79
        },
        {
          "output_type": "stream",
          "text": [
            "\n",
            "\n",
            "\n",
            "\n",
            "\n",
            "\n",
            "\n",
            "\n",
            "meter_id:  25%|██▌       | 1/4 [00:14<00:42, 14.23s/it]\u001b[A\u001b[A\u001b[A\u001b[A\u001b[A\u001b[A\u001b[A\u001b[A\n",
            "\n",
            "\n",
            "\n",
            "\n",
            "\n",
            "\n",
            "\n",
            "meter_id:  50%|█████     | 2/4 [00:14<00:19,  9.99s/it]\u001b[A\u001b[A\u001b[A\u001b[A\u001b[A\u001b[A\u001b[A\u001b[A"
          ],
          "name": "stderr"
        },
        {
          "output_type": "stream",
          "text": [
            "\n",
            "Site Id: 1, Meter: 0, CV RMSE: 0.6815491153082659 \n",
            "\n",
            "3 fold CV for site_id:1, meter_id:1\n",
            "3 fold CV for site_id:1, meter_id:2\n"
          ],
          "name": "stdout"
        },
        {
          "output_type": "stream",
          "text": [
            "\n",
            "\n",
            "\n",
            "\n",
            "\n",
            "\n",
            "\n",
            "\n",
            "meter_id:  75%|███████▌  | 3/4 [00:14<00:07,  7.03s/it]\u001b[A\u001b[A\u001b[A\u001b[A\u001b[A\u001b[A\u001b[A\u001b[A/usr/local/lib/python3.6/dist-packages/lightgbm/basic.py:1205: UserWarning: Using categorical_feature in Dataset.\n",
            "  warnings.warn('Using categorical_feature in Dataset.')\n"
          ],
          "name": "stderr"
        },
        {
          "output_type": "stream",
          "text": [
            "3 fold CV for site_id:1, meter_id:3\n"
          ],
          "name": "stdout"
        },
        {
          "output_type": "stream",
          "text": [
            "/usr/local/lib/python3.6/dist-packages/lightgbm/basic.py:762: UserWarning: categorical_feature in param dict is overridden.\n",
            "  warnings.warn('categorical_feature in param dict is overridden.')\n"
          ],
          "name": "stderr"
        },
        {
          "output_type": "stream",
          "text": [
            "Training until validation scores don't improve for 200 rounds.\n",
            "[200]\ttraining's rmse: 1.0516\tvalid_1's rmse: 1.51818\n",
            "Early stopping, best iteration is:\n",
            "[153]\ttraining's rmse: 1.06991\tvalid_1's rmse: 1.51298\n",
            "Site Id: 1, Meter: 3, Fold: 1, RMSE: 2.7344727476103357\n"
          ],
          "name": "stdout"
        },
        {
          "output_type": "execute_result",
          "data": {
            "text/plain": [
              "467"
            ]
          },
          "metadata": {
            "tags": []
          },
          "execution_count": 79
        },
        {
          "output_type": "stream",
          "text": [
            "/usr/local/lib/python3.6/dist-packages/lightgbm/basic.py:1205: UserWarning: Using categorical_feature in Dataset.\n",
            "  warnings.warn('Using categorical_feature in Dataset.')\n",
            "/usr/local/lib/python3.6/dist-packages/lightgbm/basic.py:762: UserWarning: categorical_feature in param dict is overridden.\n",
            "  warnings.warn('categorical_feature in param dict is overridden.')\n"
          ],
          "name": "stderr"
        },
        {
          "output_type": "stream",
          "text": [
            "Training until validation scores don't improve for 200 rounds.\n",
            "[200]\ttraining's rmse: 0.995264\tvalid_1's rmse: 2.26462\n",
            "Early stopping, best iteration is:\n",
            "[51]\ttraining's rmse: 1.12802\tvalid_1's rmse: 2.25262\n",
            "Site Id: 1, Meter: 3, Fold: 2, RMSE: 2.388613566103335\n"
          ],
          "name": "stdout"
        },
        {
          "output_type": "execute_result",
          "data": {
            "text/plain": [
              "6"
            ]
          },
          "metadata": {
            "tags": []
          },
          "execution_count": 79
        },
        {
          "output_type": "stream",
          "text": [
            "Training until validation scores don't improve for 200 rounds.\n"
          ],
          "name": "stdout"
        },
        {
          "output_type": "stream",
          "text": [
            "/usr/local/lib/python3.6/dist-packages/lightgbm/basic.py:1205: UserWarning: Using categorical_feature in Dataset.\n",
            "  warnings.warn('Using categorical_feature in Dataset.')\n",
            "/usr/local/lib/python3.6/dist-packages/lightgbm/basic.py:762: UserWarning: categorical_feature in param dict is overridden.\n",
            "  warnings.warn('categorical_feature in param dict is overridden.')\n"
          ],
          "name": "stderr"
        },
        {
          "output_type": "stream",
          "text": [
            "[200]\ttraining's rmse: 1.07332\tvalid_1's rmse: 2.12477\n",
            "Early stopping, best iteration is:\n",
            "[46]\ttraining's rmse: 1.17363\tvalid_1's rmse: 2.11711\n",
            "Site Id: 1, Meter: 3, Fold: 3, RMSE: 2.111625354782483\n"
          ],
          "name": "stdout"
        },
        {
          "output_type": "execute_result",
          "data": {
            "text/plain": [
              "703"
            ]
          },
          "metadata": {
            "tags": []
          },
          "execution_count": 79
        },
        {
          "output_type": "stream",
          "text": [
            "\n",
            "\n",
            "\n",
            "\n",
            "\n",
            "\n",
            "\n",
            "\n",
            "meter_id: 100%|██████████| 4/4 [00:18<00:00,  6.13s/it]\u001b[A\u001b[A\u001b[A\u001b[A\u001b[A\u001b[A\u001b[A\u001b[A\n",
            "\n",
            "\n",
            "\n",
            "\n",
            "\n",
            "\n",
            "\n",
            "\u001b[A\u001b[A\u001b[A\u001b[A\u001b[A\u001b[A\u001b[A\u001b[A\n",
            "\n",
            "\n",
            "\n",
            "\n",
            "\n",
            "\n",
            "site_id:  12%|█▎        | 2/16 [00:53<07:02, 30.16s/it]\u001b[A\u001b[A\u001b[A\u001b[A\u001b[A\u001b[A\u001b[A\n",
            "\n",
            "\n",
            "\n",
            "\n",
            "\n",
            "\n",
            "\n",
            "meter_id:   0%|          | 0/4 [00:00<?, ?it/s]\u001b[A\u001b[A\u001b[A\u001b[A\u001b[A\u001b[A\u001b[A\u001b[A"
          ],
          "name": "stderr"
        },
        {
          "output_type": "stream",
          "text": [
            "\n",
            "Site Id: 1, Meter: 3, CV RMSE: 2.4249933068331524 \n",
            "\n",
            "3 fold CV for site_id:2, meter_id:0\n"
          ],
          "name": "stdout"
        },
        {
          "output_type": "stream",
          "text": [
            "/usr/local/lib/python3.6/dist-packages/lightgbm/basic.py:1205: UserWarning: Using categorical_feature in Dataset.\n",
            "  warnings.warn('Using categorical_feature in Dataset.')\n",
            "/usr/local/lib/python3.6/dist-packages/lightgbm/basic.py:762: UserWarning: categorical_feature in param dict is overridden.\n",
            "  warnings.warn('categorical_feature in param dict is overridden.')\n"
          ],
          "name": "stderr"
        },
        {
          "output_type": "stream",
          "text": [
            "Training until validation scores don't improve for 200 rounds.\n",
            "[200]\ttraining's rmse: 0.251439\tvalid_1's rmse: 0.630649\n",
            "Early stopping, best iteration is:\n",
            "[57]\ttraining's rmse: 0.363114\tvalid_1's rmse: 0.59157\n",
            "Site Id: 2, Meter: 0, Fold: 1, RMSE: 0.5880931505344543\n"
          ],
          "name": "stdout"
        },
        {
          "output_type": "execute_result",
          "data": {
            "text/plain": [
              "43"
            ]
          },
          "metadata": {
            "tags": []
          },
          "execution_count": 79
        },
        {
          "output_type": "stream",
          "text": [
            "/usr/local/lib/python3.6/dist-packages/lightgbm/basic.py:1205: UserWarning: Using categorical_feature in Dataset.\n",
            "  warnings.warn('Using categorical_feature in Dataset.')\n",
            "/usr/local/lib/python3.6/dist-packages/lightgbm/basic.py:762: UserWarning: categorical_feature in param dict is overridden.\n",
            "  warnings.warn('categorical_feature in param dict is overridden.')\n"
          ],
          "name": "stderr"
        },
        {
          "output_type": "stream",
          "text": [
            "Training until validation scores don't improve for 200 rounds.\n",
            "[200]\ttraining's rmse: 0.247624\tvalid_1's rmse: 0.516823\n",
            "[400]\ttraining's rmse: 0.213816\tvalid_1's rmse: 0.512749\n",
            "[600]\ttraining's rmse: 0.197223\tvalid_1's rmse: 0.509748\n",
            "[800]\ttraining's rmse: 0.186333\tvalid_1's rmse: 0.508509\n",
            "Early stopping, best iteration is:\n",
            "[730]\ttraining's rmse: 0.189865\tvalid_1's rmse: 0.50828\n",
            "Site Id: 2, Meter: 0, Fold: 2, RMSE: 0.5112291076426758\n"
          ],
          "name": "stdout"
        },
        {
          "output_type": "execute_result",
          "data": {
            "text/plain": [
              "368"
            ]
          },
          "metadata": {
            "tags": []
          },
          "execution_count": 79
        },
        {
          "output_type": "stream",
          "text": [
            "/usr/local/lib/python3.6/dist-packages/lightgbm/basic.py:1205: UserWarning: Using categorical_feature in Dataset.\n",
            "  warnings.warn('Using categorical_feature in Dataset.')\n",
            "/usr/local/lib/python3.6/dist-packages/lightgbm/basic.py:762: UserWarning: categorical_feature in param dict is overridden.\n",
            "  warnings.warn('categorical_feature in param dict is overridden.')\n"
          ],
          "name": "stderr"
        },
        {
          "output_type": "stream",
          "text": [
            "Training until validation scores don't improve for 200 rounds.\n",
            "[200]\ttraining's rmse: 0.238385\tvalid_1's rmse: 0.633456\n",
            "Early stopping, best iteration is:\n",
            "[68]\ttraining's rmse: 0.321932\tvalid_1's rmse: 0.623672\n",
            "Site Id: 2, Meter: 0, Fold: 3, RMSE: 0.5991957575759602\n"
          ],
          "name": "stdout"
        },
        {
          "output_type": "execute_result",
          "data": {
            "text/plain": [
              "21"
            ]
          },
          "metadata": {
            "tags": []
          },
          "execution_count": 79
        },
        {
          "output_type": "stream",
          "text": [
            "\n",
            "\n",
            "\n",
            "\n",
            "\n",
            "\n",
            "\n",
            "\n",
            "meter_id:  25%|██▌       | 1/4 [01:00<03:01, 60.46s/it]\u001b[A\u001b[A\u001b[A\u001b[A\u001b[A\u001b[A\u001b[A\u001b[A"
          ],
          "name": "stderr"
        },
        {
          "output_type": "stream",
          "text": [
            "\n",
            "Site Id: 2, Meter: 0, CV RMSE: 0.5675222081757174 \n",
            "\n",
            "3 fold CV for site_id:2, meter_id:1\n"
          ],
          "name": "stdout"
        },
        {
          "output_type": "stream",
          "text": [
            "/usr/local/lib/python3.6/dist-packages/lightgbm/basic.py:1205: UserWarning: Using categorical_feature in Dataset.\n",
            "  warnings.warn('Using categorical_feature in Dataset.')\n",
            "/usr/local/lib/python3.6/dist-packages/lightgbm/basic.py:762: UserWarning: categorical_feature in param dict is overridden.\n",
            "  warnings.warn('categorical_feature in param dict is overridden.')\n"
          ],
          "name": "stderr"
        },
        {
          "output_type": "stream",
          "text": [
            "Training until validation scores don't improve for 200 rounds.\n",
            "[200]\ttraining's rmse: 0.708466\tvalid_1's rmse: 1.42867\n",
            "[400]\ttraining's rmse: 0.622976\tvalid_1's rmse: 1.42691\n",
            "[600]\ttraining's rmse: 0.571864\tvalid_1's rmse: 1.42837\n",
            "Early stopping, best iteration is:\n",
            "[460]\ttraining's rmse: 0.606734\tvalid_1's rmse: 1.42641\n",
            "Site Id: 2, Meter: 1, Fold: 1, RMSE: 1.4264076715327316\n"
          ],
          "name": "stdout"
        },
        {
          "output_type": "execute_result",
          "data": {
            "text/plain": [
              "112"
            ]
          },
          "metadata": {
            "tags": []
          },
          "execution_count": 79
        },
        {
          "output_type": "stream",
          "text": [
            "/usr/local/lib/python3.6/dist-packages/lightgbm/basic.py:1205: UserWarning: Using categorical_feature in Dataset.\n",
            "  warnings.warn('Using categorical_feature in Dataset.')\n",
            "/usr/local/lib/python3.6/dist-packages/lightgbm/basic.py:762: UserWarning: categorical_feature in param dict is overridden.\n",
            "  warnings.warn('categorical_feature in param dict is overridden.')\n"
          ],
          "name": "stderr"
        },
        {
          "output_type": "stream",
          "text": [
            "Training until validation scores don't improve for 200 rounds.\n",
            "[200]\ttraining's rmse: 0.737311\tvalid_1's rmse: 1.44963\n",
            "[400]\ttraining's rmse: 0.645869\tvalid_1's rmse: 1.41267\n",
            "[600]\ttraining's rmse: 0.598045\tvalid_1's rmse: 1.4164\n",
            "Early stopping, best iteration is:\n",
            "[485]\ttraining's rmse: 0.622423\tvalid_1's rmse: 1.40963\n",
            "Site Id: 2, Meter: 1, Fold: 2, RMSE: 1.3440029872202526\n"
          ],
          "name": "stdout"
        },
        {
          "output_type": "execute_result",
          "data": {
            "text/plain": [
              "158"
            ]
          },
          "metadata": {
            "tags": []
          },
          "execution_count": 79
        },
        {
          "output_type": "stream",
          "text": [
            "/usr/local/lib/python3.6/dist-packages/lightgbm/basic.py:1205: UserWarning: Using categorical_feature in Dataset.\n",
            "  warnings.warn('Using categorical_feature in Dataset.')\n",
            "/usr/local/lib/python3.6/dist-packages/lightgbm/basic.py:762: UserWarning: categorical_feature in param dict is overridden.\n",
            "  warnings.warn('categorical_feature in param dict is overridden.')\n"
          ],
          "name": "stderr"
        },
        {
          "output_type": "stream",
          "text": [
            "Training until validation scores don't improve for 200 rounds.\n",
            "[200]\ttraining's rmse: 0.685684\tvalid_1's rmse: 1.50971\n",
            "Early stopping, best iteration is:\n",
            "[39]\ttraining's rmse: 0.972166\tvalid_1's rmse: 1.48797\n",
            "Site Id: 2, Meter: 1, Fold: 3, RMSE: 1.4711747444964813\n"
          ],
          "name": "stdout"
        },
        {
          "output_type": "execute_result",
          "data": {
            "text/plain": [
              "675"
            ]
          },
          "metadata": {
            "tags": []
          },
          "execution_count": 79
        },
        {
          "output_type": "stream",
          "text": [
            "\n",
            "\n",
            "\n",
            "\n",
            "\n",
            "\n",
            "\n",
            "\n",
            "meter_id:  50%|█████     | 2/4 [01:44<01:51, 55.57s/it]\u001b[A\u001b[A\u001b[A\u001b[A\u001b[A\u001b[A\u001b[A\u001b[A\n",
            "\n",
            "\n",
            "\n",
            "\n",
            "\n",
            "\n",
            "\n",
            "meter_id:  75%|███████▌  | 3/4 [01:44<00:38, 38.93s/it]\u001b[A\u001b[A\u001b[A\u001b[A\u001b[A\u001b[A\u001b[A\u001b[A"
          ],
          "name": "stderr"
        },
        {
          "output_type": "stream",
          "text": [
            "\n",
            "Site Id: 2, Meter: 1, CV RMSE: 1.4148425123087816 \n",
            "\n",
            "3 fold CV for site_id:2, meter_id:2\n",
            "3 fold CV for site_id:2, meter_id:3\n"
          ],
          "name": "stdout"
        },
        {
          "output_type": "stream",
          "text": [
            "/usr/local/lib/python3.6/dist-packages/lightgbm/basic.py:1205: UserWarning: Using categorical_feature in Dataset.\n",
            "  warnings.warn('Using categorical_feature in Dataset.')\n",
            "/usr/local/lib/python3.6/dist-packages/lightgbm/basic.py:762: UserWarning: categorical_feature in param dict is overridden.\n",
            "  warnings.warn('categorical_feature in param dict is overridden.')\n"
          ],
          "name": "stderr"
        },
        {
          "output_type": "stream",
          "text": [
            "Training until validation scores don't improve for 200 rounds.\n",
            "[200]\ttraining's rmse: 0.51105\tvalid_1's rmse: 1.417\n",
            "[400]\ttraining's rmse: 0.459973\tvalid_1's rmse: 1.42099\n",
            "Early stopping, best iteration is:\n",
            "[209]\ttraining's rmse: 0.507808\tvalid_1's rmse: 1.41618\n",
            "Site Id: 2, Meter: 3, Fold: 1, RMSE: 1.6770990434278745\n"
          ],
          "name": "stdout"
        },
        {
          "output_type": "execute_result",
          "data": {
            "text/plain": [
              "663"
            ]
          },
          "metadata": {
            "tags": []
          },
          "execution_count": 79
        },
        {
          "output_type": "stream",
          "text": [
            "/usr/local/lib/python3.6/dist-packages/lightgbm/basic.py:1205: UserWarning: Using categorical_feature in Dataset.\n",
            "  warnings.warn('Using categorical_feature in Dataset.')\n",
            "/usr/local/lib/python3.6/dist-packages/lightgbm/basic.py:762: UserWarning: categorical_feature in param dict is overridden.\n",
            "  warnings.warn('categorical_feature in param dict is overridden.')\n"
          ],
          "name": "stderr"
        },
        {
          "output_type": "stream",
          "text": [
            "Training until validation scores don't improve for 200 rounds.\n",
            "[200]\ttraining's rmse: 0.599585\tvalid_1's rmse: 1.54007\n",
            "Early stopping, best iteration is:\n",
            "[17]\ttraining's rmse: 1.12825\tvalid_1's rmse: 1.45633\n",
            "Site Id: 2, Meter: 3, Fold: 2, RMSE: 1.1834581003873677\n"
          ],
          "name": "stdout"
        },
        {
          "output_type": "execute_result",
          "data": {
            "text/plain": [
              "587"
            ]
          },
          "metadata": {
            "tags": []
          },
          "execution_count": 79
        },
        {
          "output_type": "stream",
          "text": [
            "/usr/local/lib/python3.6/dist-packages/lightgbm/basic.py:1205: UserWarning: Using categorical_feature in Dataset.\n",
            "  warnings.warn('Using categorical_feature in Dataset.')\n",
            "/usr/local/lib/python3.6/dist-packages/lightgbm/basic.py:762: UserWarning: categorical_feature in param dict is overridden.\n",
            "  warnings.warn('categorical_feature in param dict is overridden.')\n"
          ],
          "name": "stderr"
        },
        {
          "output_type": "stream",
          "text": [
            "Training until validation scores don't improve for 200 rounds.\n",
            "[200]\ttraining's rmse: 0.516112\tvalid_1's rmse: 1.37945\n",
            "Early stopping, best iteration is:\n",
            "[30]\ttraining's rmse: 0.78606\tvalid_1's rmse: 1.36918\n",
            "Site Id: 2, Meter: 3, Fold: 3, RMSE: 1.2226539345744152\n"
          ],
          "name": "stdout"
        },
        {
          "output_type": "execute_result",
          "data": {
            "text/plain": [
              "639"
            ]
          },
          "metadata": {
            "tags": []
          },
          "execution_count": 79
        },
        {
          "output_type": "stream",
          "text": [
            "\n",
            "\n",
            "\n",
            "\n",
            "\n",
            "\n",
            "\n",
            "\n",
            "meter_id: 100%|██████████| 4/4 [01:59<00:00, 31.64s/it]\u001b[A\u001b[A\u001b[A\u001b[A\u001b[A\u001b[A\u001b[A\u001b[A\n",
            "\n",
            "\n",
            "\n",
            "\n",
            "\n",
            "\n",
            "\n",
            "\u001b[A\u001b[A\u001b[A\u001b[A\u001b[A\u001b[A\u001b[A\u001b[A\n",
            "\n",
            "\n",
            "\n",
            "\n",
            "\n",
            "\n",
            "site_id:  19%|█▉        | 3/16 [02:53<12:19, 56.92s/it]\u001b[A\u001b[A\u001b[A\u001b[A\u001b[A\u001b[A\u001b[A\n",
            "\n",
            "\n",
            "\n",
            "\n",
            "\n",
            "\n",
            "\n",
            "meter_id:   0%|          | 0/4 [00:00<?, ?it/s]\u001b[A\u001b[A\u001b[A\u001b[A\u001b[A\u001b[A\u001b[A\u001b[A"
          ],
          "name": "stderr"
        },
        {
          "output_type": "stream",
          "text": [
            "\n",
            "Site Id: 2, Meter: 3, CV RMSE: 1.379386649368547 \n",
            "\n",
            "3 fold CV for site_id:3, meter_id:0\n"
          ],
          "name": "stdout"
        },
        {
          "output_type": "stream",
          "text": [
            "/usr/local/lib/python3.6/dist-packages/lightgbm/basic.py:1205: UserWarning: Using categorical_feature in Dataset.\n",
            "  warnings.warn('Using categorical_feature in Dataset.')\n",
            "/usr/local/lib/python3.6/dist-packages/lightgbm/basic.py:762: UserWarning: categorical_feature in param dict is overridden.\n",
            "  warnings.warn('categorical_feature in param dict is overridden.')\n"
          ],
          "name": "stderr"
        },
        {
          "output_type": "stream",
          "text": [
            "Training until validation scores don't improve for 200 rounds.\n",
            "[200]\ttraining's rmse: 0.261626\tvalid_1's rmse: 0.47574\n",
            "[400]\ttraining's rmse: 0.224696\tvalid_1's rmse: 0.474353\n",
            "[600]\ttraining's rmse: 0.206665\tvalid_1's rmse: 0.473995\n",
            "Early stopping, best iteration is:\n",
            "[469]\ttraining's rmse: 0.21672\tvalid_1's rmse: 0.473147\n",
            "Site Id: 3, Meter: 0, Fold: 1, RMSE: 0.4731466486310106\n"
          ],
          "name": "stdout"
        },
        {
          "output_type": "execute_result",
          "data": {
            "text/plain": [
              "160"
            ]
          },
          "metadata": {
            "tags": []
          },
          "execution_count": 79
        },
        {
          "output_type": "stream",
          "text": [
            "/usr/local/lib/python3.6/dist-packages/lightgbm/basic.py:1205: UserWarning: Using categorical_feature in Dataset.\n",
            "  warnings.warn('Using categorical_feature in Dataset.')\n",
            "/usr/local/lib/python3.6/dist-packages/lightgbm/basic.py:762: UserWarning: categorical_feature in param dict is overridden.\n",
            "  warnings.warn('categorical_feature in param dict is overridden.')\n"
          ],
          "name": "stderr"
        },
        {
          "output_type": "stream",
          "text": [
            "Training until validation scores don't improve for 200 rounds.\n",
            "[200]\ttraining's rmse: 0.264676\tvalid_1's rmse: 0.503515\n",
            "Early stopping, best iteration is:\n",
            "[120]\ttraining's rmse: 0.299359\tvalid_1's rmse: 0.494611\n",
            "Site Id: 3, Meter: 0, Fold: 2, RMSE: 0.48163719247915526\n"
          ],
          "name": "stdout"
        },
        {
          "output_type": "execute_result",
          "data": {
            "text/plain": [
              "227"
            ]
          },
          "metadata": {
            "tags": []
          },
          "execution_count": 79
        },
        {
          "output_type": "stream",
          "text": [
            "/usr/local/lib/python3.6/dist-packages/lightgbm/basic.py:1205: UserWarning: Using categorical_feature in Dataset.\n",
            "  warnings.warn('Using categorical_feature in Dataset.')\n",
            "/usr/local/lib/python3.6/dist-packages/lightgbm/basic.py:762: UserWarning: categorical_feature in param dict is overridden.\n",
            "  warnings.warn('categorical_feature in param dict is overridden.')\n"
          ],
          "name": "stderr"
        },
        {
          "output_type": "stream",
          "text": [
            "Training until validation scores don't improve for 200 rounds.\n",
            "[200]\ttraining's rmse: 0.251956\tvalid_1's rmse: 0.488728\n",
            "[400]\ttraining's rmse: 0.216039\tvalid_1's rmse: 0.486734\n",
            "[600]\ttraining's rmse: 0.19934\tvalid_1's rmse: 0.484695\n",
            "Early stopping, best iteration is:\n",
            "[464]\ttraining's rmse: 0.210006\tvalid_1's rmse: 0.483758\n",
            "Site Id: 3, Meter: 0, Fold: 3, RMSE: 0.47364947750950565\n"
          ],
          "name": "stdout"
        },
        {
          "output_type": "execute_result",
          "data": {
            "text/plain": [
              "68"
            ]
          },
          "metadata": {
            "tags": []
          },
          "execution_count": 79
        },
        {
          "output_type": "stream",
          "text": [
            "\n",
            "\n",
            "\n",
            "\n",
            "\n",
            "\n",
            "\n",
            "\n",
            "meter_id:  25%|██▌       | 1/4 [02:15<06:46, 135.63s/it]\u001b[A\u001b[A\u001b[A\u001b[A\u001b[A\u001b[A\u001b[A\u001b[A"
          ],
          "name": "stderr"
        },
        {
          "output_type": "stream",
          "text": [
            "\n",
            "Site Id: 3, Meter: 0, CV RMSE: 0.4761603232148053 \n",
            "\n",
            "3 fold CV for site_id:3, meter_id:1\n"
          ],
          "name": "stdout"
        },
        {
          "output_type": "stream",
          "text": [
            "\n",
            "\n",
            "\n",
            "\n",
            "\n",
            "\n",
            "\n",
            "\n",
            "meter_id:  50%|█████     | 2/4 [02:15<03:09, 94.97s/it] \u001b[A\u001b[A\u001b[A\u001b[A\u001b[A\u001b[A\u001b[A\u001b[A"
          ],
          "name": "stderr"
        },
        {
          "output_type": "stream",
          "text": [
            "3 fold CV for site_id:3, meter_id:2\n"
          ],
          "name": "stdout"
        },
        {
          "output_type": "stream",
          "text": [
            "\n",
            "\n",
            "\n",
            "\n",
            "\n",
            "\n",
            "\n",
            "\n",
            "meter_id:  75%|███████▌  | 3/4 [02:15<01:06, 66.51s/it]\u001b[A\u001b[A\u001b[A\u001b[A\u001b[A\u001b[A\u001b[A\u001b[A"
          ],
          "name": "stderr"
        },
        {
          "output_type": "stream",
          "text": [
            "3 fold CV for site_id:3, meter_id:3\n"
          ],
          "name": "stdout"
        },
        {
          "output_type": "stream",
          "text": [
            "\n",
            "\n",
            "\n",
            "\n",
            "\n",
            "\n",
            "\n",
            "\n",
            "meter_id: 100%|██████████| 4/4 [02:15<00:00, 46.59s/it]\u001b[A\u001b[A\u001b[A\u001b[A\u001b[A\u001b[A\u001b[A\u001b[A\n",
            "\n",
            "\n",
            "\n",
            "\n",
            "\n",
            "\n",
            "\n",
            "\u001b[A\u001b[A\u001b[A\u001b[A\u001b[A\u001b[A\u001b[A\u001b[A\n",
            "\n",
            "\n",
            "\n",
            "\n",
            "\n",
            "\n",
            "site_id:  25%|██▌       | 4/16 [05:08<16:07, 80.63s/it]\u001b[A\u001b[A\u001b[A\u001b[A\u001b[A\u001b[A\u001b[A\n",
            "\n",
            "\n",
            "\n",
            "\n",
            "\n",
            "\n",
            "\n",
            "meter_id:   0%|          | 0/4 [00:00<?, ?it/s]\u001b[A\u001b[A\u001b[A\u001b[A\u001b[A\u001b[A\u001b[A\u001b[A"
          ],
          "name": "stderr"
        },
        {
          "output_type": "stream",
          "text": [
            "3 fold CV for site_id:4, meter_id:0\n"
          ],
          "name": "stdout"
        },
        {
          "output_type": "stream",
          "text": [
            "/usr/local/lib/python3.6/dist-packages/lightgbm/basic.py:1205: UserWarning: Using categorical_feature in Dataset.\n",
            "  warnings.warn('Using categorical_feature in Dataset.')\n",
            "/usr/local/lib/python3.6/dist-packages/lightgbm/basic.py:762: UserWarning: categorical_feature in param dict is overridden.\n",
            "  warnings.warn('categorical_feature in param dict is overridden.')\n"
          ],
          "name": "stderr"
        },
        {
          "output_type": "stream",
          "text": [
            "Training until validation scores don't improve for 200 rounds.\n",
            "[200]\ttraining's rmse: 0.169609\tvalid_1's rmse: 0.293249\n",
            "Early stopping, best iteration is:\n",
            "[77]\ttraining's rmse: 0.222717\tvalid_1's rmse: 0.280856\n",
            "Site Id: 4, Meter: 0, Fold: 1, RMSE: 0.27116767851144924\n"
          ],
          "name": "stdout"
        },
        {
          "output_type": "execute_result",
          "data": {
            "text/plain": [
              "179"
            ]
          },
          "metadata": {
            "tags": []
          },
          "execution_count": 79
        },
        {
          "output_type": "stream",
          "text": [
            "/usr/local/lib/python3.6/dist-packages/lightgbm/basic.py:1205: UserWarning: Using categorical_feature in Dataset.\n",
            "  warnings.warn('Using categorical_feature in Dataset.')\n",
            "/usr/local/lib/python3.6/dist-packages/lightgbm/basic.py:762: UserWarning: categorical_feature in param dict is overridden.\n",
            "  warnings.warn('categorical_feature in param dict is overridden.')\n"
          ],
          "name": "stderr"
        },
        {
          "output_type": "stream",
          "text": [
            "Training until validation scores don't improve for 200 rounds.\n",
            "[200]\ttraining's rmse: 0.167872\tvalid_1's rmse: 0.354571\n",
            "Early stopping, best iteration is:\n",
            "[69]\ttraining's rmse: 0.229403\tvalid_1's rmse: 0.337902\n",
            "Site Id: 4, Meter: 0, Fold: 2, RMSE: 0.28809333840838336\n"
          ],
          "name": "stdout"
        },
        {
          "output_type": "execute_result",
          "data": {
            "text/plain": [
              "17"
            ]
          },
          "metadata": {
            "tags": []
          },
          "execution_count": 79
        },
        {
          "output_type": "stream",
          "text": [
            "/usr/local/lib/python3.6/dist-packages/lightgbm/basic.py:1205: UserWarning: Using categorical_feature in Dataset.\n",
            "  warnings.warn('Using categorical_feature in Dataset.')\n",
            "/usr/local/lib/python3.6/dist-packages/lightgbm/basic.py:762: UserWarning: categorical_feature in param dict is overridden.\n",
            "  warnings.warn('categorical_feature in param dict is overridden.')\n"
          ],
          "name": "stderr"
        },
        {
          "output_type": "stream",
          "text": [
            "Training until validation scores don't improve for 200 rounds.\n",
            "[200]\ttraining's rmse: 0.168102\tvalid_1's rmse: 0.308321\n",
            "Early stopping, best iteration is:\n",
            "[147]\ttraining's rmse: 0.183879\tvalid_1's rmse: 0.3079\n",
            "Site Id: 4, Meter: 0, Fold: 3, RMSE: 0.31014254672795205\n"
          ],
          "name": "stdout"
        },
        {
          "output_type": "execute_result",
          "data": {
            "text/plain": [
              "335"
            ]
          },
          "metadata": {
            "tags": []
          },
          "execution_count": 79
        },
        {
          "output_type": "stream",
          "text": [
            "\n",
            "\n",
            "\n",
            "\n",
            "\n",
            "\n",
            "\n",
            "\n",
            "meter_id:  25%|██▌       | 1/4 [00:24<01:14, 24.80s/it]\u001b[A\u001b[A\u001b[A\u001b[A\u001b[A\u001b[A\u001b[A\u001b[A"
          ],
          "name": "stderr"
        },
        {
          "output_type": "stream",
          "text": [
            "\n",
            "Site Id: 4, Meter: 0, CV RMSE: 0.29024017686247133 \n",
            "\n",
            "3 fold CV for site_id:4, meter_id:1\n"
          ],
          "name": "stdout"
        },
        {
          "output_type": "stream",
          "text": [
            "\n",
            "\n",
            "\n",
            "\n",
            "\n",
            "\n",
            "\n",
            "\n",
            "meter_id:  50%|█████     | 2/4 [00:24<00:34, 17.39s/it]\u001b[A\u001b[A\u001b[A\u001b[A\u001b[A\u001b[A\u001b[A\u001b[A"
          ],
          "name": "stderr"
        },
        {
          "output_type": "stream",
          "text": [
            "3 fold CV for site_id:4, meter_id:2\n"
          ],
          "name": "stdout"
        },
        {
          "output_type": "stream",
          "text": [
            "\n",
            "\n",
            "\n",
            "\n",
            "\n",
            "\n",
            "\n",
            "\n",
            "meter_id:  75%|███████▌  | 3/4 [00:25<00:12, 12.20s/it]\u001b[A\u001b[A\u001b[A\u001b[A\u001b[A\u001b[A\u001b[A\u001b[A"
          ],
          "name": "stderr"
        },
        {
          "output_type": "stream",
          "text": [
            "3 fold CV for site_id:4, meter_id:3\n"
          ],
          "name": "stdout"
        },
        {
          "output_type": "stream",
          "text": [
            "\n",
            "\n",
            "\n",
            "\n",
            "\n",
            "\n",
            "\n",
            "\n",
            "meter_id: 100%|██████████| 4/4 [00:25<00:00,  8.57s/it]\u001b[A\u001b[A\u001b[A\u001b[A\u001b[A\u001b[A\u001b[A\u001b[A\n",
            "\n",
            "\n",
            "\n",
            "\n",
            "\n",
            "\n",
            "\n",
            "\u001b[A\u001b[A\u001b[A\u001b[A\u001b[A\u001b[A\u001b[A\u001b[A\n",
            "\n",
            "\n",
            "\n",
            "\n",
            "\n",
            "\n",
            "site_id:  31%|███▏      | 5/16 [05:34<11:43, 63.98s/it]\u001b[A\u001b[A\u001b[A\u001b[A\u001b[A\u001b[A\u001b[A\n",
            "\n",
            "\n",
            "\n",
            "\n",
            "\n",
            "\n",
            "\n",
            "meter_id:   0%|          | 0/4 [00:00<?, ?it/s]\u001b[A\u001b[A\u001b[A\u001b[A\u001b[A\u001b[A\u001b[A\u001b[A"
          ],
          "name": "stderr"
        },
        {
          "output_type": "stream",
          "text": [
            "3 fold CV for site_id:5, meter_id:0\n"
          ],
          "name": "stdout"
        },
        {
          "output_type": "stream",
          "text": [
            "/usr/local/lib/python3.6/dist-packages/lightgbm/basic.py:1205: UserWarning: Using categorical_feature in Dataset.\n",
            "  warnings.warn('Using categorical_feature in Dataset.')\n",
            "/usr/local/lib/python3.6/dist-packages/lightgbm/basic.py:762: UserWarning: categorical_feature in param dict is overridden.\n",
            "  warnings.warn('categorical_feature in param dict is overridden.')\n"
          ],
          "name": "stderr"
        },
        {
          "output_type": "stream",
          "text": [
            "Training until validation scores don't improve for 200 rounds.\n",
            "[200]\ttraining's rmse: 0.38813\tvalid_1's rmse: 0.867552\n",
            "Early stopping, best iteration is:\n",
            "[47]\ttraining's rmse: 0.566985\tvalid_1's rmse: 0.853908\n",
            "Site Id: 5, Meter: 0, Fold: 1, RMSE: 0.8558302175056965\n"
          ],
          "name": "stdout"
        },
        {
          "output_type": "execute_result",
          "data": {
            "text/plain": [
              "57"
            ]
          },
          "metadata": {
            "tags": []
          },
          "execution_count": 79
        },
        {
          "output_type": "stream",
          "text": [
            "/usr/local/lib/python3.6/dist-packages/lightgbm/basic.py:1205: UserWarning: Using categorical_feature in Dataset.\n",
            "  warnings.warn('Using categorical_feature in Dataset.')\n",
            "/usr/local/lib/python3.6/dist-packages/lightgbm/basic.py:762: UserWarning: categorical_feature in param dict is overridden.\n",
            "  warnings.warn('categorical_feature in param dict is overridden.')\n"
          ],
          "name": "stderr"
        },
        {
          "output_type": "stream",
          "text": [
            "Training until validation scores don't improve for 200 rounds.\n",
            "[200]\ttraining's rmse: 0.409475\tvalid_1's rmse: 0.699974\n",
            "[400]\ttraining's rmse: 0.345667\tvalid_1's rmse: 0.698845\n",
            "[600]\ttraining's rmse: 0.312978\tvalid_1's rmse: 0.700652\n",
            "Early stopping, best iteration is:\n",
            "[428]\ttraining's rmse: 0.339682\tvalid_1's rmse: 0.698211\n",
            "Site Id: 5, Meter: 0, Fold: 2, RMSE: 0.7496654818272483\n"
          ],
          "name": "stdout"
        },
        {
          "output_type": "execute_result",
          "data": {
            "text/plain": [
              "704"
            ]
          },
          "metadata": {
            "tags": []
          },
          "execution_count": 79
        },
        {
          "output_type": "stream",
          "text": [
            "/usr/local/lib/python3.6/dist-packages/lightgbm/basic.py:1205: UserWarning: Using categorical_feature in Dataset.\n",
            "  warnings.warn('Using categorical_feature in Dataset.')\n",
            "/usr/local/lib/python3.6/dist-packages/lightgbm/basic.py:762: UserWarning: categorical_feature in param dict is overridden.\n",
            "  warnings.warn('categorical_feature in param dict is overridden.')\n"
          ],
          "name": "stderr"
        },
        {
          "output_type": "stream",
          "text": [
            "Training until validation scores don't improve for 200 rounds.\n",
            "[200]\ttraining's rmse: 0.399495\tvalid_1's rmse: 0.929705\n",
            "Early stopping, best iteration is:\n",
            "[46]\ttraining's rmse: 0.586748\tvalid_1's rmse: 0.861986\n",
            "Site Id: 5, Meter: 0, Fold: 3, RMSE: 0.8046424798641486\n"
          ],
          "name": "stdout"
        },
        {
          "output_type": "execute_result",
          "data": {
            "text/plain": [
              "703"
            ]
          },
          "metadata": {
            "tags": []
          },
          "execution_count": 79
        },
        {
          "output_type": "stream",
          "text": [
            "\n",
            "\n",
            "\n",
            "\n",
            "\n",
            "\n",
            "\n",
            "\n",
            "meter_id:  25%|██▌       | 1/4 [00:29<01:27, 29.05s/it]\u001b[A\u001b[A\u001b[A\u001b[A\u001b[A\u001b[A\u001b[A\u001b[A\n",
            "\n",
            "\n",
            "\n",
            "\n",
            "\n",
            "\n",
            "\n",
            "meter_id:  50%|█████     | 2/4 [00:29<00:40, 20.37s/it]\u001b[A\u001b[A\u001b[A\u001b[A\u001b[A\u001b[A\u001b[A\u001b[A"
          ],
          "name": "stderr"
        },
        {
          "output_type": "stream",
          "text": [
            "\n",
            "Site Id: 5, Meter: 0, CV RMSE: 0.8045481580068563 \n",
            "\n",
            "3 fold CV for site_id:5, meter_id:1\n",
            "3 fold CV for site_id:5, meter_id:2\n"
          ],
          "name": "stdout"
        },
        {
          "output_type": "stream",
          "text": [
            "\n",
            "\n",
            "\n",
            "\n",
            "\n",
            "\n",
            "\n",
            "\n",
            "meter_id:  75%|███████▌  | 3/4 [00:29<00:14, 14.29s/it]\u001b[A\u001b[A\u001b[A\u001b[A\u001b[A\u001b[A\u001b[A\u001b[A"
          ],
          "name": "stderr"
        },
        {
          "output_type": "stream",
          "text": [
            "3 fold CV for site_id:5, meter_id:3\n"
          ],
          "name": "stdout"
        },
        {
          "output_type": "stream",
          "text": [
            "\n",
            "\n",
            "\n",
            "\n",
            "\n",
            "\n",
            "\n",
            "\n",
            "meter_id: 100%|██████████| 4/4 [00:29<00:00, 10.03s/it]\u001b[A\u001b[A\u001b[A\u001b[A\u001b[A\u001b[A\u001b[A\u001b[A\n",
            "\n",
            "\n",
            "\n",
            "\n",
            "\n",
            "\n",
            "\n",
            "\u001b[A\u001b[A\u001b[A\u001b[A\u001b[A\u001b[A\u001b[A\u001b[A\n",
            "\n",
            "\n",
            "\n",
            "\n",
            "\n",
            "\n",
            "site_id:  38%|███▊      | 6/16 [06:03<08:55, 53.60s/it]\u001b[A\u001b[A\u001b[A\u001b[A\u001b[A\u001b[A\u001b[A\n",
            "\n",
            "\n",
            "\n",
            "\n",
            "\n",
            "\n",
            "\n",
            "meter_id:   0%|          | 0/4 [00:00<?, ?it/s]\u001b[A\u001b[A\u001b[A\u001b[A\u001b[A\u001b[A\u001b[A\u001b[A"
          ],
          "name": "stderr"
        },
        {
          "output_type": "stream",
          "text": [
            "3 fold CV for site_id:6, meter_id:0\n"
          ],
          "name": "stdout"
        },
        {
          "output_type": "stream",
          "text": [
            "/usr/local/lib/python3.6/dist-packages/lightgbm/basic.py:1205: UserWarning: Using categorical_feature in Dataset.\n",
            "  warnings.warn('Using categorical_feature in Dataset.')\n",
            "/usr/local/lib/python3.6/dist-packages/lightgbm/basic.py:762: UserWarning: categorical_feature in param dict is overridden.\n",
            "  warnings.warn('categorical_feature in param dict is overridden.')\n"
          ],
          "name": "stderr"
        },
        {
          "output_type": "stream",
          "text": [
            "Training until validation scores don't improve for 200 rounds.\n",
            "[200]\ttraining's rmse: 0.124993\tvalid_1's rmse: 0.303981\n",
            "Early stopping, best iteration is:\n",
            "[58]\ttraining's rmse: 0.180157\tvalid_1's rmse: 0.288363\n",
            "Site Id: 6, Meter: 0, Fold: 1, RMSE: 0.2207237059731583\n"
          ],
          "name": "stdout"
        },
        {
          "output_type": "execute_result",
          "data": {
            "text/plain": [
              "109"
            ]
          },
          "metadata": {
            "tags": []
          },
          "execution_count": 79
        },
        {
          "output_type": "stream",
          "text": [
            "/usr/local/lib/python3.6/dist-packages/lightgbm/basic.py:1205: UserWarning: Using categorical_feature in Dataset.\n",
            "  warnings.warn('Using categorical_feature in Dataset.')\n",
            "/usr/local/lib/python3.6/dist-packages/lightgbm/basic.py:762: UserWarning: categorical_feature in param dict is overridden.\n",
            "  warnings.warn('categorical_feature in param dict is overridden.')\n"
          ],
          "name": "stderr"
        },
        {
          "output_type": "stream",
          "text": [
            "Training until validation scores don't improve for 200 rounds.\n",
            "[200]\ttraining's rmse: 0.115017\tvalid_1's rmse: 0.239349\n",
            "Early stopping, best iteration is:\n",
            "[120]\ttraining's rmse: 0.131615\tvalid_1's rmse: 0.237304\n",
            "Site Id: 6, Meter: 0, Fold: 2, RMSE: 0.23604703156491824\n"
          ],
          "name": "stdout"
        },
        {
          "output_type": "execute_result",
          "data": {
            "text/plain": [
              "217"
            ]
          },
          "metadata": {
            "tags": []
          },
          "execution_count": 79
        },
        {
          "output_type": "stream",
          "text": [
            "/usr/local/lib/python3.6/dist-packages/lightgbm/basic.py:1205: UserWarning: Using categorical_feature in Dataset.\n",
            "  warnings.warn('Using categorical_feature in Dataset.')\n",
            "/usr/local/lib/python3.6/dist-packages/lightgbm/basic.py:762: UserWarning: categorical_feature in param dict is overridden.\n",
            "  warnings.warn('categorical_feature in param dict is overridden.')\n"
          ],
          "name": "stderr"
        },
        {
          "output_type": "stream",
          "text": [
            "Training until validation scores don't improve for 200 rounds.\n",
            "[200]\ttraining's rmse: 0.120393\tvalid_1's rmse: 0.381045\n",
            "Early stopping, best iteration is:\n",
            "[39]\ttraining's rmse: 0.240244\tvalid_1's rmse: 0.319496\n",
            "Site Id: 6, Meter: 0, Fold: 3, RMSE: 0.33255274930233425\n"
          ],
          "name": "stdout"
        },
        {
          "output_type": "execute_result",
          "data": {
            "text/plain": [
              "675"
            ]
          },
          "metadata": {
            "tags": []
          },
          "execution_count": 79
        },
        {
          "output_type": "stream",
          "text": [
            "\n",
            "\n",
            "\n",
            "\n",
            "\n",
            "\n",
            "\n",
            "\n",
            "meter_id:  25%|██▌       | 1/4 [00:10<00:32, 10.78s/it]\u001b[A\u001b[A\u001b[A\u001b[A\u001b[A\u001b[A\u001b[A\u001b[A"
          ],
          "name": "stderr"
        },
        {
          "output_type": "stream",
          "text": [
            "\n",
            "Site Id: 6, Meter: 0, CV RMSE: 0.2677239051522798 \n",
            "\n",
            "3 fold CV for site_id:6, meter_id:1\n"
          ],
          "name": "stdout"
        },
        {
          "output_type": "stream",
          "text": [
            "/usr/local/lib/python3.6/dist-packages/lightgbm/basic.py:1205: UserWarning: Using categorical_feature in Dataset.\n",
            "  warnings.warn('Using categorical_feature in Dataset.')\n",
            "/usr/local/lib/python3.6/dist-packages/lightgbm/basic.py:762: UserWarning: categorical_feature in param dict is overridden.\n",
            "  warnings.warn('categorical_feature in param dict is overridden.')\n"
          ],
          "name": "stderr"
        },
        {
          "output_type": "stream",
          "text": [
            "Training until validation scores don't improve for 200 rounds.\n",
            "[200]\ttraining's rmse: 0.645577\tvalid_1's rmse: 1.65878\n",
            "[400]\ttraining's rmse: 0.557887\tvalid_1's rmse: 1.65667\n",
            "[600]\ttraining's rmse: 0.502918\tvalid_1's rmse: 1.65724\n",
            "[800]\ttraining's rmse: 0.464852\tvalid_1's rmse: 1.65508\n",
            "[1000]\ttraining's rmse: 0.438277\tvalid_1's rmse: 1.652\n",
            "Did not meet early stopping. Best iteration is:\n",
            "[1000]\ttraining's rmse: 0.438277\tvalid_1's rmse: 1.652\n",
            "Site Id: 6, Meter: 1, Fold: 1, RMSE: 2.498063987669364\n"
          ],
          "name": "stdout"
        },
        {
          "output_type": "execute_result",
          "data": {
            "text/plain": [
              "702"
            ]
          },
          "metadata": {
            "tags": []
          },
          "execution_count": 79
        },
        {
          "output_type": "stream",
          "text": [
            "/usr/local/lib/python3.6/dist-packages/lightgbm/basic.py:1205: UserWarning: Using categorical_feature in Dataset.\n",
            "  warnings.warn('Using categorical_feature in Dataset.')\n",
            "/usr/local/lib/python3.6/dist-packages/lightgbm/basic.py:762: UserWarning: categorical_feature in param dict is overridden.\n",
            "  warnings.warn('categorical_feature in param dict is overridden.')\n"
          ],
          "name": "stderr"
        },
        {
          "output_type": "stream",
          "text": [
            "Training until validation scores don't improve for 200 rounds.\n",
            "[200]\ttraining's rmse: 0.711383\tvalid_1's rmse: 2.85437\n",
            "Early stopping, best iteration is:\n",
            "[166]\ttraining's rmse: 0.732879\tvalid_1's rmse: 2.84919\n",
            "Site Id: 6, Meter: 1, Fold: 2, RMSE: 2.9835734269899485\n"
          ],
          "name": "stdout"
        },
        {
          "output_type": "execute_result",
          "data": {
            "text/plain": [
              "411"
            ]
          },
          "metadata": {
            "tags": []
          },
          "execution_count": 79
        },
        {
          "output_type": "stream",
          "text": [
            "/usr/local/lib/python3.6/dist-packages/lightgbm/basic.py:1205: UserWarning: Using categorical_feature in Dataset.\n",
            "  warnings.warn('Using categorical_feature in Dataset.')\n",
            "/usr/local/lib/python3.6/dist-packages/lightgbm/basic.py:762: UserWarning: categorical_feature in param dict is overridden.\n",
            "  warnings.warn('categorical_feature in param dict is overridden.')\n"
          ],
          "name": "stderr"
        },
        {
          "output_type": "stream",
          "text": [
            "Training until validation scores don't improve for 200 rounds.\n",
            "[200]\ttraining's rmse: 0.644866\tvalid_1's rmse: 2.25655\n",
            "Early stopping, best iteration is:\n",
            "[36]\ttraining's rmse: 0.991325\tvalid_1's rmse: 2.21692\n",
            "Site Id: 6, Meter: 1, Fold: 3, RMSE: 2.2103851989337833\n"
          ],
          "name": "stdout"
        },
        {
          "output_type": "execute_result",
          "data": {
            "text/plain": [
              "663"
            ]
          },
          "metadata": {
            "tags": []
          },
          "execution_count": 79
        },
        {
          "output_type": "stream",
          "text": [
            "\n",
            "\n",
            "\n",
            "\n",
            "\n",
            "\n",
            "\n",
            "\n",
            "meter_id:  50%|█████     | 2/4 [00:21<00:21, 10.80s/it]\u001b[A\u001b[A\u001b[A\u001b[A\u001b[A\u001b[A\u001b[A\u001b[A"
          ],
          "name": "stderr"
        },
        {
          "output_type": "stream",
          "text": [
            "\n",
            "Site Id: 6, Meter: 1, CV RMSE: 2.5837851309268896 \n",
            "\n",
            "3 fold CV for site_id:6, meter_id:2\n"
          ],
          "name": "stdout"
        },
        {
          "output_type": "stream",
          "text": [
            "/usr/local/lib/python3.6/dist-packages/lightgbm/basic.py:1205: UserWarning: Using categorical_feature in Dataset.\n",
            "  warnings.warn('Using categorical_feature in Dataset.')\n",
            "/usr/local/lib/python3.6/dist-packages/lightgbm/basic.py:762: UserWarning: categorical_feature in param dict is overridden.\n",
            "  warnings.warn('categorical_feature in param dict is overridden.')\n"
          ],
          "name": "stderr"
        },
        {
          "output_type": "stream",
          "text": [
            "Training until validation scores don't improve for 200 rounds.\n",
            "[200]\ttraining's rmse: 0.851913\tvalid_1's rmse: 2.04904\n",
            "Early stopping, best iteration is:\n",
            "[53]\ttraining's rmse: 1.02756\tvalid_1's rmse: 2.03823\n",
            "Site Id: 6, Meter: 2, Fold: 1, RMSE: 2.629166943221468\n"
          ],
          "name": "stdout"
        },
        {
          "output_type": "execute_result",
          "data": {
            "text/plain": [
              "17"
            ]
          },
          "metadata": {
            "tags": []
          },
          "execution_count": 79
        },
        {
          "output_type": "stream",
          "text": [
            "/usr/local/lib/python3.6/dist-packages/lightgbm/basic.py:1205: UserWarning: Using categorical_feature in Dataset.\n",
            "  warnings.warn('Using categorical_feature in Dataset.')\n",
            "/usr/local/lib/python3.6/dist-packages/lightgbm/basic.py:762: UserWarning: categorical_feature in param dict is overridden.\n",
            "  warnings.warn('categorical_feature in param dict is overridden.')\n"
          ],
          "name": "stderr"
        },
        {
          "output_type": "stream",
          "text": [
            "Training until validation scores don't improve for 200 rounds.\n",
            "[200]\ttraining's rmse: 0.895437\tvalid_1's rmse: 2.62666\n",
            "Early stopping, best iteration is:\n",
            "[36]\ttraining's rmse: 1.28723\tvalid_1's rmse: 2.47023\n",
            "Site Id: 6, Meter: 2, Fold: 2, RMSE: 1.9742758116122507\n"
          ],
          "name": "stdout"
        },
        {
          "output_type": "execute_result",
          "data": {
            "text/plain": [
              "655"
            ]
          },
          "metadata": {
            "tags": []
          },
          "execution_count": 79
        },
        {
          "output_type": "stream",
          "text": [
            "/usr/local/lib/python3.6/dist-packages/lightgbm/basic.py:1205: UserWarning: Using categorical_feature in Dataset.\n",
            "  warnings.warn('Using categorical_feature in Dataset.')\n",
            "/usr/local/lib/python3.6/dist-packages/lightgbm/basic.py:762: UserWarning: categorical_feature in param dict is overridden.\n",
            "  warnings.warn('categorical_feature in param dict is overridden.')\n"
          ],
          "name": "stderr"
        },
        {
          "output_type": "stream",
          "text": [
            "Training until validation scores don't improve for 200 rounds.\n",
            "[200]\ttraining's rmse: 0.834934\tvalid_1's rmse: 2.2416\n",
            "Early stopping, best iteration is:\n",
            "[32]\ttraining's rmse: 1.23911\tvalid_1's rmse: 2.09343\n",
            "Site Id: 6, Meter: 2, Fold: 3, RMSE: 1.9870548875711478\n"
          ],
          "name": "stdout"
        },
        {
          "output_type": "execute_result",
          "data": {
            "text/plain": [
              "647"
            ]
          },
          "metadata": {
            "tags": []
          },
          "execution_count": 79
        },
        {
          "output_type": "stream",
          "text": [
            "\n",
            "\n",
            "\n",
            "\n",
            "\n",
            "\n",
            "\n",
            "\n",
            "meter_id:  75%|███████▌  | 3/4 [00:27<00:09,  9.27s/it]\u001b[A\u001b[A\u001b[A\u001b[A\u001b[A\u001b[A\u001b[A\u001b[A\n",
            "\n",
            "\n",
            "\n",
            "\n",
            "\n",
            "\n",
            "\n",
            "meter_id: 100%|██████████| 4/4 [00:27<00:00,  6.52s/it]\u001b[A\u001b[A\u001b[A\u001b[A\u001b[A\u001b[A\u001b[A\u001b[A\n",
            "\n",
            "\n",
            "\n",
            "\n",
            "\n",
            "\n",
            "\n",
            "\u001b[A\u001b[A\u001b[A\u001b[A\u001b[A\u001b[A\u001b[A\u001b[A\n",
            "\n",
            "\n",
            "\n",
            "\n",
            "\n",
            "\n",
            "site_id:  44%|████▍     | 7/16 [06:30<06:51, 45.75s/it]\u001b[A\u001b[A\u001b[A\u001b[A\u001b[A\u001b[A\u001b[A\n",
            "\n",
            "\n",
            "\n",
            "\n",
            "\n",
            "\n",
            "\n",
            "meter_id:   0%|          | 0/4 [00:00<?, ?it/s]\u001b[A\u001b[A\u001b[A\u001b[A\u001b[A\u001b[A\u001b[A\u001b[A"
          ],
          "name": "stderr"
        },
        {
          "output_type": "stream",
          "text": [
            "\n",
            "Site Id: 6, Meter: 2, CV RMSE: 2.2180085943911685 \n",
            "\n",
            "3 fold CV for site_id:6, meter_id:3\n",
            "3 fold CV for site_id:7, meter_id:0\n"
          ],
          "name": "stdout"
        },
        {
          "output_type": "stream",
          "text": [
            "/usr/local/lib/python3.6/dist-packages/lightgbm/basic.py:1205: UserWarning: Using categorical_feature in Dataset.\n",
            "  warnings.warn('Using categorical_feature in Dataset.')\n",
            "/usr/local/lib/python3.6/dist-packages/lightgbm/basic.py:762: UserWarning: categorical_feature in param dict is overridden.\n",
            "  warnings.warn('categorical_feature in param dict is overridden.')\n"
          ],
          "name": "stderr"
        },
        {
          "output_type": "stream",
          "text": [
            "Training until validation scores don't improve for 200 rounds.\n",
            "[200]\ttraining's rmse: 0.209685\tvalid_1's rmse: 2.71239\n",
            "[400]\ttraining's rmse: 0.168872\tvalid_1's rmse: 2.65202\n",
            "[600]\ttraining's rmse: 0.146947\tvalid_1's rmse: 2.5974\n",
            "[800]\ttraining's rmse: 0.131768\tvalid_1's rmse: 2.56384\n",
            "[1000]\ttraining's rmse: 0.120586\tvalid_1's rmse: 2.55193\n",
            "Did not meet early stopping. Best iteration is:\n",
            "[1000]\ttraining's rmse: 0.120586\tvalid_1's rmse: 2.55193\n",
            "Site Id: 7, Meter: 0, Fold: 1, RMSE: 2.6569625032080766\n"
          ],
          "name": "stdout"
        },
        {
          "output_type": "execute_result",
          "data": {
            "text/plain": [
              "10"
            ]
          },
          "metadata": {
            "tags": []
          },
          "execution_count": 79
        },
        {
          "output_type": "stream",
          "text": [
            "Training until validation scores don't improve for 200 rounds.\n"
          ],
          "name": "stdout"
        },
        {
          "output_type": "stream",
          "text": [
            "/usr/local/lib/python3.6/dist-packages/lightgbm/basic.py:1205: UserWarning: Using categorical_feature in Dataset.\n",
            "  warnings.warn('Using categorical_feature in Dataset.')\n",
            "/usr/local/lib/python3.6/dist-packages/lightgbm/basic.py:762: UserWarning: categorical_feature in param dict is overridden.\n",
            "  warnings.warn('categorical_feature in param dict is overridden.')\n"
          ],
          "name": "stderr"
        },
        {
          "output_type": "stream",
          "text": [
            "[200]\ttraining's rmse: 0.102877\tvalid_1's rmse: 2.09971\n",
            "[400]\ttraining's rmse: 0.0827426\tvalid_1's rmse: 2.10193\n",
            "Early stopping, best iteration is:\n",
            "[202]\ttraining's rmse: 0.102563\tvalid_1's rmse: 2.09969\n",
            "Site Id: 7, Meter: 0, Fold: 2, RMSE: 1.358165247524595\n"
          ],
          "name": "stdout"
        },
        {
          "output_type": "execute_result",
          "data": {
            "text/plain": [
              "561"
            ]
          },
          "metadata": {
            "tags": []
          },
          "execution_count": 79
        },
        {
          "output_type": "stream",
          "text": [
            "/usr/local/lib/python3.6/dist-packages/lightgbm/basic.py:1205: UserWarning: Using categorical_feature in Dataset.\n",
            "  warnings.warn('Using categorical_feature in Dataset.')\n",
            "/usr/local/lib/python3.6/dist-packages/lightgbm/basic.py:762: UserWarning: categorical_feature in param dict is overridden.\n",
            "  warnings.warn('categorical_feature in param dict is overridden.')\n"
          ],
          "name": "stderr"
        },
        {
          "output_type": "stream",
          "text": [
            "Training until validation scores don't improve for 200 rounds.\n",
            "[200]\ttraining's rmse: 0.167199\tvalid_1's rmse: 3.44203\n",
            "Early stopping, best iteration is:\n",
            "[1]\ttraining's rmse: 2.61816\tvalid_1's rmse: 2.27995\n",
            "Site Id: 7, Meter: 0, Fold: 3, RMSE: 2.2799528898230155\n"
          ],
          "name": "stdout"
        },
        {
          "output_type": "execute_result",
          "data": {
            "text/plain": [
              "515"
            ]
          },
          "metadata": {
            "tags": []
          },
          "execution_count": 79
        },
        {
          "output_type": "stream",
          "text": [
            "\n",
            "\n",
            "\n",
            "\n",
            "\n",
            "\n",
            "\n",
            "\n",
            "meter_id:  25%|██▌       | 1/4 [00:07<00:21,  7.09s/it]\u001b[A\u001b[A\u001b[A\u001b[A\u001b[A\u001b[A\u001b[A\u001b[A"
          ],
          "name": "stderr"
        },
        {
          "output_type": "stream",
          "text": [
            "\n",
            "Site Id: 7, Meter: 0, CV RMSE: 2.168126428768129 \n",
            "\n",
            "3 fold CV for site_id:7, meter_id:1\n"
          ],
          "name": "stdout"
        },
        {
          "output_type": "stream",
          "text": [
            "/usr/local/lib/python3.6/dist-packages/lightgbm/basic.py:1205: UserWarning: Using categorical_feature in Dataset.\n",
            "  warnings.warn('Using categorical_feature in Dataset.')\n",
            "/usr/local/lib/python3.6/dist-packages/lightgbm/basic.py:762: UserWarning: categorical_feature in param dict is overridden.\n",
            "  warnings.warn('categorical_feature in param dict is overridden.')\n"
          ],
          "name": "stderr"
        },
        {
          "output_type": "stream",
          "text": [
            "Training until validation scores don't improve for 200 rounds.\n",
            "[200]\ttraining's rmse: 0.705146\tvalid_1's rmse: 0.817042\n",
            "[400]\ttraining's rmse: 0.595206\tvalid_1's rmse: 0.806106\n",
            "[600]\ttraining's rmse: 0.52607\tvalid_1's rmse: 0.800782\n",
            "[800]\ttraining's rmse: 0.480207\tvalid_1's rmse: 0.794982\n",
            "Early stopping, best iteration is:\n",
            "[695]\ttraining's rmse: 0.501992\tvalid_1's rmse: 0.793519\n",
            "Site Id: 7, Meter: 1, Fold: 1, RMSE: 2.1893970127308306\n"
          ],
          "name": "stdout"
        },
        {
          "output_type": "execute_result",
          "data": {
            "text/plain": [
              "286"
            ]
          },
          "metadata": {
            "tags": []
          },
          "execution_count": 79
        },
        {
          "output_type": "stream",
          "text": [
            "Training until validation scores don't improve for 200 rounds.\n"
          ],
          "name": "stdout"
        },
        {
          "output_type": "stream",
          "text": [
            "/usr/local/lib/python3.6/dist-packages/lightgbm/basic.py:1205: UserWarning: Using categorical_feature in Dataset.\n",
            "  warnings.warn('Using categorical_feature in Dataset.')\n",
            "/usr/local/lib/python3.6/dist-packages/lightgbm/basic.py:762: UserWarning: categorical_feature in param dict is overridden.\n",
            "  warnings.warn('categorical_feature in param dict is overridden.')\n"
          ],
          "name": "stderr"
        },
        {
          "output_type": "stream",
          "text": [
            "[200]\ttraining's rmse: 0.45932\tvalid_1's rmse: 4.08264\n",
            "Early stopping, best iteration is:\n",
            "[3]\ttraining's rmse: 2.58093\tvalid_1's rmse: 3.65956\n",
            "Site Id: 7, Meter: 1, Fold: 2, RMSE: 3.7872140218242447\n"
          ],
          "name": "stdout"
        },
        {
          "output_type": "execute_result",
          "data": {
            "text/plain": [
              "531"
            ]
          },
          "metadata": {
            "tags": []
          },
          "execution_count": 79
        },
        {
          "output_type": "stream",
          "text": [
            "/usr/local/lib/python3.6/dist-packages/lightgbm/basic.py:1205: UserWarning: Using categorical_feature in Dataset.\n",
            "  warnings.warn('Using categorical_feature in Dataset.')\n",
            "/usr/local/lib/python3.6/dist-packages/lightgbm/basic.py:762: UserWarning: categorical_feature in param dict is overridden.\n",
            "  warnings.warn('categorical_feature in param dict is overridden.')\n"
          ],
          "name": "stderr"
        },
        {
          "output_type": "stream",
          "text": [
            "Training until validation scores don't improve for 200 rounds.\n",
            "[200]\ttraining's rmse: 0.526763\tvalid_1's rmse: 2.24558\n",
            "Early stopping, best iteration is:\n",
            "[31]\ttraining's rmse: 1.04791\tvalid_1's rmse: 2.13305\n",
            "Site Id: 7, Meter: 1, Fold: 3, RMSE: 2.0488250798867003\n"
          ],
          "name": "stdout"
        },
        {
          "output_type": "execute_result",
          "data": {
            "text/plain": [
              "635"
            ]
          },
          "metadata": {
            "tags": []
          },
          "execution_count": 79
        },
        {
          "output_type": "stream",
          "text": [
            "\n",
            "\n",
            "\n",
            "\n",
            "\n",
            "\n",
            "\n",
            "\n",
            "meter_id:  50%|█████     | 2/4 [00:13<00:14,  7.02s/it]\u001b[A\u001b[A\u001b[A\u001b[A\u001b[A\u001b[A\u001b[A\u001b[A"
          ],
          "name": "stderr"
        },
        {
          "output_type": "stream",
          "text": [
            "\n",
            "Site Id: 7, Meter: 1, CV RMSE: 2.788919572835768 \n",
            "\n",
            "3 fold CV for site_id:7, meter_id:2\n"
          ],
          "name": "stdout"
        },
        {
          "output_type": "stream",
          "text": [
            "/usr/local/lib/python3.6/dist-packages/lightgbm/basic.py:1205: UserWarning: Using categorical_feature in Dataset.\n",
            "  warnings.warn('Using categorical_feature in Dataset.')\n",
            "/usr/local/lib/python3.6/dist-packages/lightgbm/basic.py:762: UserWarning: categorical_feature in param dict is overridden.\n",
            "  warnings.warn('categorical_feature in param dict is overridden.')\n"
          ],
          "name": "stderr"
        },
        {
          "output_type": "stream",
          "text": [
            "Training until validation scores don't improve for 200 rounds.\n",
            "[200]\ttraining's rmse: 0.661599\tvalid_1's rmse: 4.20727\n",
            "Early stopping, best iteration is:\n",
            "[1]\ttraining's rmse: 3.13254\tvalid_1's rmse: 3.83564\n",
            "Site Id: 7, Meter: 2, Fold: 1, RMSE: 3.8356434199812046\n"
          ],
          "name": "stdout"
        },
        {
          "output_type": "execute_result",
          "data": {
            "text/plain": [
              "571"
            ]
          },
          "metadata": {
            "tags": []
          },
          "execution_count": 79
        },
        {
          "output_type": "stream",
          "text": [
            "Training until validation scores don't improve for 200 rounds.\n"
          ],
          "name": "stdout"
        },
        {
          "output_type": "stream",
          "text": [
            "/usr/local/lib/python3.6/dist-packages/lightgbm/basic.py:1205: UserWarning: Using categorical_feature in Dataset.\n",
            "  warnings.warn('Using categorical_feature in Dataset.')\n",
            "/usr/local/lib/python3.6/dist-packages/lightgbm/basic.py:762: UserWarning: categorical_feature in param dict is overridden.\n",
            "  warnings.warn('categorical_feature in param dict is overridden.')\n"
          ],
          "name": "stderr"
        },
        {
          "output_type": "stream",
          "text": [
            "[200]\ttraining's rmse: 0.756349\tvalid_1's rmse: 2.77832\n",
            "Early stopping, best iteration is:\n",
            "[155]\ttraining's rmse: 0.789669\tvalid_1's rmse: 2.75005\n",
            "Site Id: 7, Meter: 2, Fold: 2, RMSE: 4.126602143515051\n"
          ],
          "name": "stdout"
        },
        {
          "output_type": "execute_result",
          "data": {
            "text/plain": [
              "373"
            ]
          },
          "metadata": {
            "tags": []
          },
          "execution_count": 79
        },
        {
          "output_type": "stream",
          "text": [
            "/usr/local/lib/python3.6/dist-packages/lightgbm/basic.py:1205: UserWarning: Using categorical_feature in Dataset.\n",
            "  warnings.warn('Using categorical_feature in Dataset.')\n",
            "/usr/local/lib/python3.6/dist-packages/lightgbm/basic.py:762: UserWarning: categorical_feature in param dict is overridden.\n",
            "  warnings.warn('categorical_feature in param dict is overridden.')\n"
          ],
          "name": "stderr"
        },
        {
          "output_type": "stream",
          "text": [
            "Training until validation scores don't improve for 200 rounds.\n",
            "[200]\ttraining's rmse: 0.650969\tvalid_1's rmse: 2.25884\n",
            "Early stopping, best iteration is:\n",
            "[57]\ttraining's rmse: 0.835013\tvalid_1's rmse: 2.25285\n",
            "Site Id: 7, Meter: 2, Fold: 3, RMSE: 2.4109255298368693\n"
          ],
          "name": "stdout"
        },
        {
          "output_type": "execute_result",
          "data": {
            "text/plain": [
              "6"
            ]
          },
          "metadata": {
            "tags": []
          },
          "execution_count": 79
        },
        {
          "output_type": "stream",
          "text": [
            "\n",
            "\n",
            "\n",
            "\n",
            "\n",
            "\n",
            "\n",
            "\n",
            "meter_id:  75%|███████▌  | 3/4 [00:17<00:06,  6.02s/it]\u001b[A\u001b[A\u001b[A\u001b[A\u001b[A\u001b[A\u001b[A\u001b[A"
          ],
          "name": "stderr"
        },
        {
          "output_type": "stream",
          "text": [
            "\n",
            "Site Id: 7, Meter: 2, CV RMSE: 3.538061228182401 \n",
            "\n",
            "3 fold CV for site_id:7, meter_id:3\n",
            "Training until validation scores don't improve for 200 rounds.\n"
          ],
          "name": "stdout"
        },
        {
          "output_type": "stream",
          "text": [
            "/usr/local/lib/python3.6/dist-packages/lightgbm/basic.py:1205: UserWarning: Using categorical_feature in Dataset.\n",
            "  warnings.warn('Using categorical_feature in Dataset.')\n",
            "/usr/local/lib/python3.6/dist-packages/lightgbm/basic.py:762: UserWarning: categorical_feature in param dict is overridden.\n",
            "  warnings.warn('categorical_feature in param dict is overridden.')\n"
          ],
          "name": "stderr"
        },
        {
          "output_type": "stream",
          "text": [
            "[200]\ttraining's rmse: 1.11456\tvalid_1's rmse: 3.8937\n",
            "[400]\ttraining's rmse: 0.962921\tvalid_1's rmse: 3.8612\n",
            "[600]\ttraining's rmse: 0.865476\tvalid_1's rmse: 3.84795\n",
            "[800]\ttraining's rmse: 0.777465\tvalid_1's rmse: 3.83523\n",
            "[1000]\ttraining's rmse: 0.710569\tvalid_1's rmse: 3.83029\n",
            "Did not meet early stopping. Best iteration is:\n",
            "[1000]\ttraining's rmse: 0.710569\tvalid_1's rmse: 3.83029\n",
            "Site Id: 7, Meter: 3, Fold: 1, RMSE: 3.8307461649477466\n"
          ],
          "name": "stdout"
        },
        {
          "output_type": "execute_result",
          "data": {
            "text/plain": [
              "710"
            ]
          },
          "metadata": {
            "tags": []
          },
          "execution_count": 79
        },
        {
          "output_type": "stream",
          "text": [
            "Training until validation scores don't improve for 200 rounds.\n"
          ],
          "name": "stdout"
        },
        {
          "output_type": "stream",
          "text": [
            "/usr/local/lib/python3.6/dist-packages/lightgbm/basic.py:1205: UserWarning: Using categorical_feature in Dataset.\n",
            "  warnings.warn('Using categorical_feature in Dataset.')\n",
            "/usr/local/lib/python3.6/dist-packages/lightgbm/basic.py:762: UserWarning: categorical_feature in param dict is overridden.\n",
            "  warnings.warn('categorical_feature in param dict is overridden.')\n"
          ],
          "name": "stderr"
        },
        {
          "output_type": "stream",
          "text": [
            "[200]\ttraining's rmse: 0.766587\tvalid_1's rmse: 2.43138\n",
            "Early stopping, best iteration is:\n",
            "[70]\ttraining's rmse: 0.975173\tvalid_1's rmse: 2.4019\n",
            "Site Id: 7, Meter: 3, Fold: 2, RMSE: 3.9007275060652664\n"
          ],
          "name": "stdout"
        },
        {
          "output_type": "execute_result",
          "data": {
            "text/plain": [
              "37"
            ]
          },
          "metadata": {
            "tags": []
          },
          "execution_count": 79
        },
        {
          "output_type": "stream",
          "text": [
            "/usr/local/lib/python3.6/dist-packages/lightgbm/basic.py:1205: UserWarning: Using categorical_feature in Dataset.\n",
            "  warnings.warn('Using categorical_feature in Dataset.')\n",
            "/usr/local/lib/python3.6/dist-packages/lightgbm/basic.py:762: UserWarning: categorical_feature in param dict is overridden.\n",
            "  warnings.warn('categorical_feature in param dict is overridden.')\n"
          ],
          "name": "stderr"
        },
        {
          "output_type": "stream",
          "text": [
            "Training until validation scores don't improve for 200 rounds.\n",
            "[200]\ttraining's rmse: 1.01791\tvalid_1's rmse: 2.24985\n",
            "Early stopping, best iteration is:\n",
            "[84]\ttraining's rmse: 1.16291\tvalid_1's rmse: 2.24583\n",
            "Site Id: 7, Meter: 3, Fold: 3, RMSE: 3.661752535657375\n"
          ],
          "name": "stdout"
        },
        {
          "output_type": "execute_result",
          "data": {
            "text/plain": [
              "89"
            ]
          },
          "metadata": {
            "tags": []
          },
          "execution_count": 79
        },
        {
          "output_type": "stream",
          "text": [
            "\n",
            "\n",
            "\n",
            "\n",
            "\n",
            "\n",
            "\n",
            "\n",
            "meter_id: 100%|██████████| 4/4 [00:21<00:00,  5.24s/it]\u001b[A\u001b[A\u001b[A\u001b[A\u001b[A\u001b[A\u001b[A\u001b[A\n",
            "\n",
            "\n",
            "\n",
            "\n",
            "\n",
            "\n",
            "\n",
            "\u001b[A\u001b[A\u001b[A\u001b[A\u001b[A\u001b[A\u001b[A\u001b[A\n",
            "\n",
            "\n",
            "\n",
            "\n",
            "\n",
            "\n",
            "site_id:  50%|█████     | 8/16 [06:51<05:06, 38.34s/it]\u001b[A\u001b[A\u001b[A\u001b[A\u001b[A\u001b[A\u001b[A\n",
            "\n",
            "\n",
            "\n",
            "\n",
            "\n",
            "\n",
            "\n",
            "meter_id:   0%|          | 0/4 [00:00<?, ?it/s]\u001b[A\u001b[A\u001b[A\u001b[A\u001b[A\u001b[A\u001b[A\u001b[A"
          ],
          "name": "stderr"
        },
        {
          "output_type": "stream",
          "text": [
            "\n",
            "Site Id: 7, Meter: 3, CV RMSE: 3.799067910153969 \n",
            "\n",
            "3 fold CV for site_id:8, meter_id:0\n"
          ],
          "name": "stdout"
        },
        {
          "output_type": "stream",
          "text": [
            "/usr/local/lib/python3.6/dist-packages/lightgbm/basic.py:1205: UserWarning: Using categorical_feature in Dataset.\n",
            "  warnings.warn('Using categorical_feature in Dataset.')\n",
            "/usr/local/lib/python3.6/dist-packages/lightgbm/basic.py:762: UserWarning: categorical_feature in param dict is overridden.\n",
            "  warnings.warn('categorical_feature in param dict is overridden.')\n"
          ],
          "name": "stderr"
        },
        {
          "output_type": "stream",
          "text": [
            "Training until validation scores don't improve for 200 rounds.\n",
            "[200]\ttraining's rmse: 0.310659\tvalid_1's rmse: 0.609495\n",
            "Early stopping, best iteration is:\n",
            "[79]\ttraining's rmse: 0.384904\tvalid_1's rmse: 0.545084\n",
            "Site Id: 8, Meter: 0, Fold: 1, RMSE: 0.5372918988194985\n"
          ],
          "name": "stdout"
        },
        {
          "output_type": "execute_result",
          "data": {
            "text/plain": [
              "135"
            ]
          },
          "metadata": {
            "tags": []
          },
          "execution_count": 79
        },
        {
          "output_type": "stream",
          "text": [
            "/usr/local/lib/python3.6/dist-packages/lightgbm/basic.py:1205: UserWarning: Using categorical_feature in Dataset.\n",
            "  warnings.warn('Using categorical_feature in Dataset.')\n",
            "/usr/local/lib/python3.6/dist-packages/lightgbm/basic.py:762: UserWarning: categorical_feature in param dict is overridden.\n",
            "  warnings.warn('categorical_feature in param dict is overridden.')\n"
          ],
          "name": "stderr"
        },
        {
          "output_type": "stream",
          "text": [
            "Training until validation scores don't improve for 200 rounds.\n",
            "[200]\ttraining's rmse: 0.312462\tvalid_1's rmse: 0.571798\n",
            "[400]\ttraining's rmse: 0.247496\tvalid_1's rmse: 0.571121\n",
            "Early stopping, best iteration is:\n",
            "[293]\ttraining's rmse: 0.277581\tvalid_1's rmse: 0.569218\n",
            "Site Id: 8, Meter: 0, Fold: 2, RMSE: 0.5721361627967169\n"
          ],
          "name": "stdout"
        },
        {
          "output_type": "execute_result",
          "data": {
            "text/plain": [
              "158"
            ]
          },
          "metadata": {
            "tags": []
          },
          "execution_count": 79
        },
        {
          "output_type": "stream",
          "text": [
            "/usr/local/lib/python3.6/dist-packages/lightgbm/basic.py:1205: UserWarning: Using categorical_feature in Dataset.\n",
            "  warnings.warn('Using categorical_feature in Dataset.')\n",
            "/usr/local/lib/python3.6/dist-packages/lightgbm/basic.py:762: UserWarning: categorical_feature in param dict is overridden.\n",
            "  warnings.warn('categorical_feature in param dict is overridden.')\n"
          ],
          "name": "stderr"
        },
        {
          "output_type": "stream",
          "text": [
            "Training until validation scores don't improve for 200 rounds.\n",
            "[200]\ttraining's rmse: 0.314222\tvalid_1's rmse: 0.566745\n",
            "Early stopping, best iteration is:\n",
            "[67]\ttraining's rmse: 0.398578\tvalid_1's rmse: 0.564366\n",
            "Site Id: 8, Meter: 0, Fold: 3, RMSE: 0.5759889149886204\n"
          ],
          "name": "stdout"
        },
        {
          "output_type": "execute_result",
          "data": {
            "text/plain": [
              "21"
            ]
          },
          "metadata": {
            "tags": []
          },
          "execution_count": 79
        },
        {
          "output_type": "stream",
          "text": [
            "\n",
            "\n",
            "\n",
            "\n",
            "\n",
            "\n",
            "\n",
            "\n",
            "meter_id:  25%|██▌       | 1/4 [00:20<01:02, 20.84s/it]\u001b[A\u001b[A\u001b[A\u001b[A\u001b[A\u001b[A\u001b[A\u001b[A\n",
            "\n",
            "\n",
            "\n",
            "\n",
            "\n",
            "\n",
            "\n",
            "meter_id:  50%|█████     | 2/4 [00:20<00:29, 14.62s/it]\u001b[A\u001b[A\u001b[A\u001b[A\u001b[A\u001b[A\u001b[A\u001b[A"
          ],
          "name": "stderr"
        },
        {
          "output_type": "stream",
          "text": [
            "\n",
            "Site Id: 8, Meter: 0, CV RMSE: 0.562075203600189 \n",
            "\n",
            "3 fold CV for site_id:8, meter_id:1\n",
            "3 fold CV for site_id:8, meter_id:2\n"
          ],
          "name": "stdout"
        },
        {
          "output_type": "stream",
          "text": [
            "\n",
            "\n",
            "\n",
            "\n",
            "\n",
            "\n",
            "\n",
            "\n",
            "meter_id:  75%|███████▌  | 3/4 [00:21<00:10, 10.27s/it]\u001b[A\u001b[A\u001b[A\u001b[A\u001b[A\u001b[A\u001b[A\u001b[A\n",
            "\n",
            "\n",
            "\n",
            "\n",
            "\n",
            "\n",
            "\n",
            "meter_id: 100%|██████████| 4/4 [00:21<00:00,  7.22s/it]\u001b[A\u001b[A\u001b[A\u001b[A\u001b[A\u001b[A\u001b[A\u001b[A\n",
            "\n",
            "\n",
            "\n",
            "\n",
            "\n",
            "\n",
            "\n",
            "\u001b[A\u001b[A\u001b[A\u001b[A\u001b[A\u001b[A\u001b[A\u001b[A\n",
            "\n",
            "\n",
            "\n",
            "\n",
            "\n",
            "\n",
            "site_id:  56%|█████▋    | 9/16 [07:13<03:52, 33.19s/it]\u001b[A\u001b[A\u001b[A\u001b[A\u001b[A\u001b[A\u001b[A\n",
            "\n",
            "\n",
            "\n",
            "\n",
            "\n",
            "\n",
            "\n",
            "meter_id:   0%|          | 0/4 [00:00<?, ?it/s]\u001b[A\u001b[A\u001b[A\u001b[A\u001b[A\u001b[A\u001b[A\u001b[A"
          ],
          "name": "stderr"
        },
        {
          "output_type": "stream",
          "text": [
            "3 fold CV for site_id:8, meter_id:3\n",
            "3 fold CV for site_id:9, meter_id:0\n"
          ],
          "name": "stdout"
        },
        {
          "output_type": "stream",
          "text": [
            "/usr/local/lib/python3.6/dist-packages/lightgbm/basic.py:1205: UserWarning: Using categorical_feature in Dataset.\n",
            "  warnings.warn('Using categorical_feature in Dataset.')\n",
            "/usr/local/lib/python3.6/dist-packages/lightgbm/basic.py:762: UserWarning: categorical_feature in param dict is overridden.\n",
            "  warnings.warn('categorical_feature in param dict is overridden.')\n"
          ],
          "name": "stderr"
        },
        {
          "output_type": "stream",
          "text": [
            "Training until validation scores don't improve for 200 rounds.\n",
            "[200]\ttraining's rmse: 0.229296\tvalid_1's rmse: 1.09043\n",
            "Early stopping, best iteration is:\n",
            "[46]\ttraining's rmse: 0.447821\tvalid_1's rmse: 1.06846\n",
            "Site Id: 9, Meter: 0, Fold: 1, RMSE: 1.0684578533221785\n"
          ],
          "name": "stdout"
        },
        {
          "output_type": "execute_result",
          "data": {
            "text/plain": [
              "47"
            ]
          },
          "metadata": {
            "tags": []
          },
          "execution_count": 79
        },
        {
          "output_type": "stream",
          "text": [
            "/usr/local/lib/python3.6/dist-packages/lightgbm/basic.py:1205: UserWarning: Using categorical_feature in Dataset.\n",
            "  warnings.warn('Using categorical_feature in Dataset.')\n",
            "/usr/local/lib/python3.6/dist-packages/lightgbm/basic.py:762: UserWarning: categorical_feature in param dict is overridden.\n",
            "  warnings.warn('categorical_feature in param dict is overridden.')\n"
          ],
          "name": "stderr"
        },
        {
          "output_type": "stream",
          "text": [
            "Training until validation scores don't improve for 200 rounds.\n",
            "[200]\ttraining's rmse: 0.274477\tvalid_1's rmse: 1.13747\n",
            "Early stopping, best iteration is:\n",
            "[65]\ttraining's rmse: 0.468631\tvalid_1's rmse: 1.00604\n",
            "Site Id: 9, Meter: 0, Fold: 2, RMSE: 1.0101103289619324\n"
          ],
          "name": "stdout"
        },
        {
          "output_type": "execute_result",
          "data": {
            "text/plain": [
              "15"
            ]
          },
          "metadata": {
            "tags": []
          },
          "execution_count": 79
        },
        {
          "output_type": "stream",
          "text": [
            "/usr/local/lib/python3.6/dist-packages/lightgbm/basic.py:1205: UserWarning: Using categorical_feature in Dataset.\n",
            "  warnings.warn('Using categorical_feature in Dataset.')\n",
            "/usr/local/lib/python3.6/dist-packages/lightgbm/basic.py:762: UserWarning: categorical_feature in param dict is overridden.\n",
            "  warnings.warn('categorical_feature in param dict is overridden.')\n"
          ],
          "name": "stderr"
        },
        {
          "output_type": "stream",
          "text": [
            "Training until validation scores don't improve for 200 rounds.\n",
            "[200]\ttraining's rmse: 0.275401\tvalid_1's rmse: 1.13947\n",
            "Early stopping, best iteration is:\n",
            "[18]\ttraining's rmse: 0.882495\tvalid_1's rmse: 0.978045\n",
            "Site Id: 9, Meter: 0, Fold: 3, RMSE: 0.9968995602935149\n"
          ],
          "name": "stdout"
        },
        {
          "output_type": "execute_result",
          "data": {
            "text/plain": [
              "591"
            ]
          },
          "metadata": {
            "tags": []
          },
          "execution_count": 79
        },
        {
          "output_type": "stream",
          "text": [
            "\n",
            "\n",
            "\n",
            "\n",
            "\n",
            "\n",
            "\n",
            "\n",
            "meter_id:  25%|██▌       | 1/4 [00:26<01:18, 26.02s/it]\u001b[A\u001b[A\u001b[A\u001b[A\u001b[A\u001b[A\u001b[A\u001b[A"
          ],
          "name": "stderr"
        },
        {
          "output_type": "stream",
          "text": [
            "\n",
            "Site Id: 9, Meter: 0, CV RMSE: 1.0256272808196392 \n",
            "\n",
            "3 fold CV for site_id:9, meter_id:1\n"
          ],
          "name": "stdout"
        },
        {
          "output_type": "stream",
          "text": [
            "/usr/local/lib/python3.6/dist-packages/lightgbm/basic.py:1205: UserWarning: Using categorical_feature in Dataset.\n",
            "  warnings.warn('Using categorical_feature in Dataset.')\n",
            "/usr/local/lib/python3.6/dist-packages/lightgbm/basic.py:762: UserWarning: categorical_feature in param dict is overridden.\n",
            "  warnings.warn('categorical_feature in param dict is overridden.')\n"
          ],
          "name": "stderr"
        },
        {
          "output_type": "stream",
          "text": [
            "Training until validation scores don't improve for 200 rounds.\n",
            "[200]\ttraining's rmse: 0.402751\tvalid_1's rmse: 2.21136\n",
            "Early stopping, best iteration is:\n",
            "[69]\ttraining's rmse: 0.612372\tvalid_1's rmse: 1.66579\n",
            "Site Id: 9, Meter: 1, Fold: 1, RMSE: 1.6205606699763233\n"
          ],
          "name": "stdout"
        },
        {
          "output_type": "execute_result",
          "data": {
            "text/plain": [
              "75"
            ]
          },
          "metadata": {
            "tags": []
          },
          "execution_count": 79
        },
        {
          "output_type": "stream",
          "text": [
            "/usr/local/lib/python3.6/dist-packages/lightgbm/basic.py:1205: UserWarning: Using categorical_feature in Dataset.\n",
            "  warnings.warn('Using categorical_feature in Dataset.')\n",
            "/usr/local/lib/python3.6/dist-packages/lightgbm/basic.py:762: UserWarning: categorical_feature in param dict is overridden.\n",
            "  warnings.warn('categorical_feature in param dict is overridden.')\n"
          ],
          "name": "stderr"
        },
        {
          "output_type": "stream",
          "text": [
            "Training until validation scores don't improve for 200 rounds.\n",
            "[200]\ttraining's rmse: 0.495805\tvalid_1's rmse: 2.22955\n",
            "Early stopping, best iteration is:\n",
            "[39]\ttraining's rmse: 0.877314\tvalid_1's rmse: 1.3702\n",
            "Site Id: 9, Meter: 1, Fold: 2, RMSE: 1.378438006149093\n"
          ],
          "name": "stdout"
        },
        {
          "output_type": "execute_result",
          "data": {
            "text/plain": [
              "675"
            ]
          },
          "metadata": {
            "tags": []
          },
          "execution_count": 79
        },
        {
          "output_type": "stream",
          "text": [
            "/usr/local/lib/python3.6/dist-packages/lightgbm/basic.py:1205: UserWarning: Using categorical_feature in Dataset.\n",
            "  warnings.warn('Using categorical_feature in Dataset.')\n",
            "/usr/local/lib/python3.6/dist-packages/lightgbm/basic.py:762: UserWarning: categorical_feature in param dict is overridden.\n",
            "  warnings.warn('categorical_feature in param dict is overridden.')\n"
          ],
          "name": "stderr"
        },
        {
          "output_type": "stream",
          "text": [
            "Training until validation scores don't improve for 200 rounds.\n",
            "[200]\ttraining's rmse: 0.44747\tvalid_1's rmse: 1.60781\n",
            "Early stopping, best iteration is:\n",
            "[21]\ttraining's rmse: 1.03806\tvalid_1's rmse: 1.47321\n",
            "Site Id: 9, Meter: 1, Fold: 3, RMSE: 1.4423262902256546\n"
          ],
          "name": "stdout"
        },
        {
          "output_type": "execute_result",
          "data": {
            "text/plain": [
              "603"
            ]
          },
          "metadata": {
            "tags": []
          },
          "execution_count": 79
        },
        {
          "output_type": "stream",
          "text": [
            "\n",
            "\n",
            "\n",
            "\n",
            "\n",
            "\n",
            "\n",
            "\n",
            "meter_id:  50%|█████     | 2/4 [00:47<00:49, 24.53s/it]\u001b[A\u001b[A\u001b[A\u001b[A\u001b[A\u001b[A\u001b[A\u001b[A"
          ],
          "name": "stderr"
        },
        {
          "output_type": "stream",
          "text": [
            "\n",
            "Site Id: 9, Meter: 1, CV RMSE: 1.4839826312265805 \n",
            "\n",
            "3 fold CV for site_id:9, meter_id:2\n"
          ],
          "name": "stdout"
        },
        {
          "output_type": "stream",
          "text": [
            "/usr/local/lib/python3.6/dist-packages/lightgbm/basic.py:1205: UserWarning: Using categorical_feature in Dataset.\n",
            "  warnings.warn('Using categorical_feature in Dataset.')\n",
            "/usr/local/lib/python3.6/dist-packages/lightgbm/basic.py:762: UserWarning: categorical_feature in param dict is overridden.\n",
            "  warnings.warn('categorical_feature in param dict is overridden.')\n"
          ],
          "name": "stderr"
        },
        {
          "output_type": "stream",
          "text": [
            "Training until validation scores don't improve for 200 rounds.\n",
            "[200]\ttraining's rmse: 0.920936\tvalid_1's rmse: 2.47506\n",
            "Early stopping, best iteration is:\n",
            "[28]\ttraining's rmse: 1.14785\tvalid_1's rmse: 1.5671\n",
            "Site Id: 9, Meter: 2, Fold: 1, RMSE: 1.5433929763814696\n"
          ],
          "name": "stdout"
        },
        {
          "output_type": "execute_result",
          "data": {
            "text/plain": [
              "683"
            ]
          },
          "metadata": {
            "tags": []
          },
          "execution_count": 79
        },
        {
          "output_type": "stream",
          "text": [
            "/usr/local/lib/python3.6/dist-packages/lightgbm/basic.py:1205: UserWarning: Using categorical_feature in Dataset.\n",
            "  warnings.warn('Using categorical_feature in Dataset.')\n",
            "/usr/local/lib/python3.6/dist-packages/lightgbm/basic.py:762: UserWarning: categorical_feature in param dict is overridden.\n",
            "  warnings.warn('categorical_feature in param dict is overridden.')\n"
          ],
          "name": "stderr"
        },
        {
          "output_type": "stream",
          "text": [
            "Training until validation scores don't improve for 200 rounds.\n",
            "[200]\ttraining's rmse: 0.857558\tvalid_1's rmse: 2.21452\n",
            "Early stopping, best iteration is:\n",
            "[36]\ttraining's rmse: 1.11615\tvalid_1's rmse: 1.64549\n",
            "Site Id: 9, Meter: 2, Fold: 2, RMSE: 1.5386382486687735\n"
          ],
          "name": "stdout"
        },
        {
          "output_type": "execute_result",
          "data": {
            "text/plain": [
              "663"
            ]
          },
          "metadata": {
            "tags": []
          },
          "execution_count": 79
        },
        {
          "output_type": "stream",
          "text": [
            "/usr/local/lib/python3.6/dist-packages/lightgbm/basic.py:1205: UserWarning: Using categorical_feature in Dataset.\n",
            "  warnings.warn('Using categorical_feature in Dataset.')\n",
            "/usr/local/lib/python3.6/dist-packages/lightgbm/basic.py:762: UserWarning: categorical_feature in param dict is overridden.\n",
            "  warnings.warn('categorical_feature in param dict is overridden.')\n"
          ],
          "name": "stderr"
        },
        {
          "output_type": "stream",
          "text": [
            "Training until validation scores don't improve for 200 rounds.\n",
            "[200]\ttraining's rmse: 0.912458\tvalid_1's rmse: 1.43181\n",
            "Early stopping, best iteration is:\n",
            "[88]\ttraining's rmse: 0.99152\tvalid_1's rmse: 1.42728\n",
            "Site Id: 9, Meter: 2, Fold: 3, RMSE: 1.4825549662937711\n"
          ],
          "name": "stdout"
        },
        {
          "output_type": "execute_result",
          "data": {
            "text/plain": [
              "99"
            ]
          },
          "metadata": {
            "tags": []
          },
          "execution_count": 79
        },
        {
          "output_type": "stream",
          "text": [
            "\n",
            "\n",
            "\n",
            "\n",
            "\n",
            "\n",
            "\n",
            "\n",
            "meter_id:  75%|███████▌  | 3/4 [01:07<00:23, 23.36s/it]\u001b[A\u001b[A\u001b[A\u001b[A\u001b[A\u001b[A\u001b[A\u001b[A"
          ],
          "name": "stderr"
        },
        {
          "output_type": "stream",
          "text": [
            "\n",
            "Site Id: 9, Meter: 2, CV RMSE: 1.5217795249742423 \n",
            "\n",
            "3 fold CV for site_id:9, meter_id:3\n"
          ],
          "name": "stdout"
        },
        {
          "output_type": "stream",
          "text": [
            "\n",
            "\n",
            "\n",
            "\n",
            "\n",
            "\n",
            "\n",
            "\n",
            "meter_id: 100%|██████████| 4/4 [01:07<00:00, 16.39s/it]\u001b[A\u001b[A\u001b[A\u001b[A\u001b[A\u001b[A\u001b[A\u001b[A\n",
            "\n",
            "\n",
            "\n",
            "\n",
            "\n",
            "\n",
            "\n",
            "\u001b[A\u001b[A\u001b[A\u001b[A\u001b[A\u001b[A\u001b[A\u001b[A\n",
            "\n",
            "\n",
            "\n",
            "\n",
            "\n",
            "\n",
            "site_id:  62%|██████▎   | 10/16 [08:20<04:21, 43.58s/it]\u001b[A\u001b[A\u001b[A\u001b[A\u001b[A\u001b[A\u001b[A\n",
            "\n",
            "\n",
            "\n",
            "\n",
            "\n",
            "\n",
            "\n",
            "meter_id:   0%|          | 0/4 [00:00<?, ?it/s]\u001b[A\u001b[A\u001b[A\u001b[A\u001b[A\u001b[A\u001b[A\u001b[A"
          ],
          "name": "stderr"
        },
        {
          "output_type": "stream",
          "text": [
            "3 fold CV for site_id:10, meter_id:0\n"
          ],
          "name": "stdout"
        },
        {
          "output_type": "stream",
          "text": [
            "/usr/local/lib/python3.6/dist-packages/lightgbm/basic.py:1205: UserWarning: Using categorical_feature in Dataset.\n",
            "  warnings.warn('Using categorical_feature in Dataset.')\n",
            "/usr/local/lib/python3.6/dist-packages/lightgbm/basic.py:762: UserWarning: categorical_feature in param dict is overridden.\n",
            "  warnings.warn('categorical_feature in param dict is overridden.')\n"
          ],
          "name": "stderr"
        },
        {
          "output_type": "stream",
          "text": [
            "Training until validation scores don't improve for 200 rounds.\n",
            "[200]\ttraining's rmse: 0.28776\tvalid_1's rmse: 0.434588\n",
            "Early stopping, best iteration is:\n",
            "[163]\ttraining's rmse: 0.299203\tvalid_1's rmse: 0.433387\n",
            "Site Id: 10, Meter: 0, Fold: 1, RMSE: 0.47933447598883433\n"
          ],
          "name": "stdout"
        },
        {
          "output_type": "execute_result",
          "data": {
            "text/plain": [
              "495"
            ]
          },
          "metadata": {
            "tags": []
          },
          "execution_count": 79
        },
        {
          "output_type": "stream",
          "text": [
            "/usr/local/lib/python3.6/dist-packages/lightgbm/basic.py:1205: UserWarning: Using categorical_feature in Dataset.\n",
            "  warnings.warn('Using categorical_feature in Dataset.')\n",
            "/usr/local/lib/python3.6/dist-packages/lightgbm/basic.py:762: UserWarning: categorical_feature in param dict is overridden.\n",
            "  warnings.warn('categorical_feature in param dict is overridden.')\n"
          ],
          "name": "stderr"
        },
        {
          "output_type": "stream",
          "text": [
            "Training until validation scores don't improve for 200 rounds.\n",
            "[200]\ttraining's rmse: 0.271087\tvalid_1's rmse: 0.500463\n",
            "[400]\ttraining's rmse: 0.240397\tvalid_1's rmse: 0.493447\n",
            "[600]\ttraining's rmse: 0.221598\tvalid_1's rmse: 0.49111\n",
            "[800]\ttraining's rmse: 0.208282\tvalid_1's rmse: 0.48977\n",
            "[1000]\ttraining's rmse: 0.198054\tvalid_1's rmse: 0.489343\n",
            "Did not meet early stopping. Best iteration is:\n",
            "[1000]\ttraining's rmse: 0.198054\tvalid_1's rmse: 0.489343\n",
            "Site Id: 10, Meter: 0, Fold: 2, RMSE: 0.5233728874783127\n"
          ],
          "name": "stdout"
        },
        {
          "output_type": "execute_result",
          "data": {
            "text/plain": [
              "638"
            ]
          },
          "metadata": {
            "tags": []
          },
          "execution_count": 79
        },
        {
          "output_type": "stream",
          "text": [
            "/usr/local/lib/python3.6/dist-packages/lightgbm/basic.py:1205: UserWarning: Using categorical_feature in Dataset.\n",
            "  warnings.warn('Using categorical_feature in Dataset.')\n",
            "/usr/local/lib/python3.6/dist-packages/lightgbm/basic.py:762: UserWarning: categorical_feature in param dict is overridden.\n",
            "  warnings.warn('categorical_feature in param dict is overridden.')\n"
          ],
          "name": "stderr"
        },
        {
          "output_type": "stream",
          "text": [
            "Training until validation scores don't improve for 200 rounds.\n",
            "[200]\ttraining's rmse: 0.270816\tvalid_1's rmse: 0.536371\n",
            "Early stopping, best iteration is:\n",
            "[74]\ttraining's rmse: 0.33097\tvalid_1's rmse: 0.531025\n",
            "Site Id: 10, Meter: 0, Fold: 3, RMSE: 0.4980149324612216\n"
          ],
          "name": "stdout"
        },
        {
          "output_type": "execute_result",
          "data": {
            "text/plain": [
              "43"
            ]
          },
          "metadata": {
            "tags": []
          },
          "execution_count": 79
        },
        {
          "output_type": "stream",
          "text": [
            "\n",
            "\n",
            "\n",
            "\n",
            "\n",
            "\n",
            "\n",
            "\n",
            "meter_id:  25%|██▌       | 1/4 [00:14<00:43, 14.63s/it]\u001b[A\u001b[A\u001b[A\u001b[A\u001b[A\u001b[A\u001b[A\u001b[A"
          ],
          "name": "stderr"
        },
        {
          "output_type": "stream",
          "text": [
            "\n",
            "Site Id: 10, Meter: 0, CV RMSE: 0.5005662208897865 \n",
            "\n",
            "3 fold CV for site_id:10, meter_id:1\n",
            "Training until validation scores don't improve for 200 rounds.\n"
          ],
          "name": "stdout"
        },
        {
          "output_type": "stream",
          "text": [
            "/usr/local/lib/python3.6/dist-packages/lightgbm/basic.py:1205: UserWarning: Using categorical_feature in Dataset.\n",
            "  warnings.warn('Using categorical_feature in Dataset.')\n",
            "/usr/local/lib/python3.6/dist-packages/lightgbm/basic.py:762: UserWarning: categorical_feature in param dict is overridden.\n",
            "  warnings.warn('categorical_feature in param dict is overridden.')\n"
          ],
          "name": "stderr"
        },
        {
          "output_type": "stream",
          "text": [
            "[200]\ttraining's rmse: 0.789798\tvalid_1's rmse: 1.98678\n",
            "[400]\ttraining's rmse: 0.725663\tvalid_1's rmse: 1.93854\n",
            "[600]\ttraining's rmse: 0.677047\tvalid_1's rmse: 1.93355\n",
            "[800]\ttraining's rmse: 0.63398\tvalid_1's rmse: 1.92987\n",
            "[1000]\ttraining's rmse: 0.599909\tvalid_1's rmse: 1.92546\n",
            "Did not meet early stopping. Best iteration is:\n",
            "[1000]\ttraining's rmse: 0.599909\tvalid_1's rmse: 1.92546\n",
            "Site Id: 10, Meter: 1, Fold: 1, RMSE: 1.8002605644735494\n"
          ],
          "name": "stdout"
        },
        {
          "output_type": "execute_result",
          "data": {
            "text/plain": [
              "702"
            ]
          },
          "metadata": {
            "tags": []
          },
          "execution_count": 79
        },
        {
          "output_type": "stream",
          "text": [
            "Training until validation scores don't improve for 200 rounds.\n"
          ],
          "name": "stdout"
        },
        {
          "output_type": "stream",
          "text": [
            "/usr/local/lib/python3.6/dist-packages/lightgbm/basic.py:1205: UserWarning: Using categorical_feature in Dataset.\n",
            "  warnings.warn('Using categorical_feature in Dataset.')\n",
            "/usr/local/lib/python3.6/dist-packages/lightgbm/basic.py:762: UserWarning: categorical_feature in param dict is overridden.\n",
            "  warnings.warn('categorical_feature in param dict is overridden.')\n"
          ],
          "name": "stderr"
        },
        {
          "output_type": "stream",
          "text": [
            "[200]\ttraining's rmse: 0.685461\tvalid_1's rmse: 2.34395\n",
            "[400]\ttraining's rmse: 0.624406\tvalid_1's rmse: 2.32975\n",
            "[600]\ttraining's rmse: 0.578464\tvalid_1's rmse: 2.32531\n",
            "Early stopping, best iteration is:\n",
            "[500]\ttraining's rmse: 0.59956\tvalid_1's rmse: 2.3216\n",
            "Site Id: 10, Meter: 1, Fold: 2, RMSE: 2.0265038893931204\n"
          ],
          "name": "stdout"
        },
        {
          "output_type": "execute_result",
          "data": {
            "text/plain": [
              "224"
            ]
          },
          "metadata": {
            "tags": []
          },
          "execution_count": 79
        },
        {
          "output_type": "stream",
          "text": [
            "Training until validation scores don't improve for 200 rounds.\n"
          ],
          "name": "stdout"
        },
        {
          "output_type": "stream",
          "text": [
            "/usr/local/lib/python3.6/dist-packages/lightgbm/basic.py:1205: UserWarning: Using categorical_feature in Dataset.\n",
            "  warnings.warn('Using categorical_feature in Dataset.')\n",
            "/usr/local/lib/python3.6/dist-packages/lightgbm/basic.py:762: UserWarning: categorical_feature in param dict is overridden.\n",
            "  warnings.warn('categorical_feature in param dict is overridden.')\n"
          ],
          "name": "stderr"
        },
        {
          "output_type": "stream",
          "text": [
            "[200]\ttraining's rmse: 0.673883\tvalid_1's rmse: 1.60016\n",
            "[400]\ttraining's rmse: 0.607343\tvalid_1's rmse: 1.60733\n",
            "Early stopping, best iteration is:\n",
            "[219]\ttraining's rmse: 0.664515\tvalid_1's rmse: 1.59898\n",
            "Site Id: 10, Meter: 1, Fold: 3, RMSE: 1.5677220317816751\n"
          ],
          "name": "stdout"
        },
        {
          "output_type": "execute_result",
          "data": {
            "text/plain": [
              "627"
            ]
          },
          "metadata": {
            "tags": []
          },
          "execution_count": 79
        },
        {
          "output_type": "stream",
          "text": [
            "\n",
            "\n",
            "\n",
            "\n",
            "\n",
            "\n",
            "\n",
            "\n",
            "meter_id:  50%|█████     | 2/4 [00:21<00:24, 12.37s/it]\u001b[A\u001b[A\u001b[A\u001b[A\u001b[A\u001b[A\u001b[A\u001b[A\n",
            "\n",
            "\n",
            "\n",
            "\n",
            "\n",
            "\n",
            "\n",
            "meter_id:  75%|███████▌  | 3/4 [00:21<00:08,  8.69s/it]\u001b[A\u001b[A\u001b[A\u001b[A\u001b[A\u001b[A\u001b[A\u001b[A"
          ],
          "name": "stderr"
        },
        {
          "output_type": "stream",
          "text": [
            "\n",
            "Site Id: 10, Meter: 1, CV RMSE: 1.8078937378215914 \n",
            "\n",
            "3 fold CV for site_id:10, meter_id:2\n",
            "3 fold CV for site_id:10, meter_id:3\n"
          ],
          "name": "stdout"
        },
        {
          "output_type": "stream",
          "text": [
            "/usr/local/lib/python3.6/dist-packages/lightgbm/basic.py:1205: UserWarning: Using categorical_feature in Dataset.\n",
            "  warnings.warn('Using categorical_feature in Dataset.')\n",
            "/usr/local/lib/python3.6/dist-packages/lightgbm/basic.py:762: UserWarning: categorical_feature in param dict is overridden.\n",
            "  warnings.warn('categorical_feature in param dict is overridden.')\n"
          ],
          "name": "stderr"
        },
        {
          "output_type": "stream",
          "text": [
            "Training until validation scores don't improve for 200 rounds.\n",
            "[200]\ttraining's rmse: 1.00493\tvalid_1's rmse: 2.40042\n",
            "Early stopping, best iteration is:\n",
            "[30]\ttraining's rmse: 1.4306\tvalid_1's rmse: 2.26651\n",
            "Site Id: 10, Meter: 3, Fold: 1, RMSE: 3.7183581272088024\n"
          ],
          "name": "stdout"
        },
        {
          "output_type": "execute_result",
          "data": {
            "text/plain": [
              "6"
            ]
          },
          "metadata": {
            "tags": []
          },
          "execution_count": 79
        },
        {
          "output_type": "stream",
          "text": [
            "/usr/local/lib/python3.6/dist-packages/lightgbm/basic.py:1205: UserWarning: Using categorical_feature in Dataset.\n",
            "  warnings.warn('Using categorical_feature in Dataset.')\n",
            "/usr/local/lib/python3.6/dist-packages/lightgbm/basic.py:762: UserWarning: categorical_feature in param dict is overridden.\n",
            "  warnings.warn('categorical_feature in param dict is overridden.')\n"
          ],
          "name": "stderr"
        },
        {
          "output_type": "stream",
          "text": [
            "Training until validation scores don't improve for 200 rounds.\n",
            "[200]\ttraining's rmse: 1.23499\tvalid_1's rmse: 2.67205\n",
            "[400]\ttraining's rmse: 1.11068\tvalid_1's rmse: 2.68525\n",
            "Early stopping, best iteration is:\n",
            "[200]\ttraining's rmse: 1.23499\tvalid_1's rmse: 2.67205\n",
            "Site Id: 10, Meter: 3, Fold: 2, RMSE: 2.9267465140784443\n"
          ],
          "name": "stdout"
        },
        {
          "output_type": "execute_result",
          "data": {
            "text/plain": [
              "549"
            ]
          },
          "metadata": {
            "tags": []
          },
          "execution_count": 79
        },
        {
          "output_type": "stream",
          "text": [
            "/usr/local/lib/python3.6/dist-packages/lightgbm/basic.py:1205: UserWarning: Using categorical_feature in Dataset.\n",
            "  warnings.warn('Using categorical_feature in Dataset.')\n",
            "/usr/local/lib/python3.6/dist-packages/lightgbm/basic.py:762: UserWarning: categorical_feature in param dict is overridden.\n",
            "  warnings.warn('categorical_feature in param dict is overridden.')\n"
          ],
          "name": "stderr"
        },
        {
          "output_type": "stream",
          "text": [
            "Training until validation scores don't improve for 200 rounds.\n",
            "[200]\ttraining's rmse: 1.02674\tvalid_1's rmse: 2.59166\n",
            "Early stopping, best iteration is:\n",
            "[20]\ttraining's rmse: 1.67851\tvalid_1's rmse: 2.52982\n",
            "Site Id: 10, Meter: 3, Fold: 3, RMSE: 2.7292547398528035\n"
          ],
          "name": "stdout"
        },
        {
          "output_type": "execute_result",
          "data": {
            "text/plain": [
              "595"
            ]
          },
          "metadata": {
            "tags": []
          },
          "execution_count": 79
        },
        {
          "output_type": "stream",
          "text": [
            "\n",
            "\n",
            "\n",
            "\n",
            "\n",
            "\n",
            "\n",
            "\n",
            "meter_id: 100%|██████████| 4/4 [00:25<00:00,  7.28s/it]\u001b[A\u001b[A\u001b[A\u001b[A\u001b[A\u001b[A\u001b[A\u001b[A\n",
            "\n",
            "\n",
            "\n",
            "\n",
            "\n",
            "\n",
            "\n",
            "\u001b[A\u001b[A\u001b[A\u001b[A\u001b[A\u001b[A\u001b[A\u001b[A\n",
            "\n",
            "\n",
            "\n",
            "\n",
            "\n",
            "\n",
            "site_id:  69%|██████▉   | 11/16 [08:46<03:11, 38.26s/it]\u001b[A\u001b[A\u001b[A\u001b[A\u001b[A\u001b[A\u001b[A\n",
            "\n",
            "\n",
            "\n",
            "\n",
            "\n",
            "\n",
            "\n",
            "meter_id:   0%|          | 0/4 [00:00<?, ?it/s]\u001b[A\u001b[A\u001b[A\u001b[A\u001b[A\u001b[A\u001b[A\u001b[A"
          ],
          "name": "stderr"
        },
        {
          "output_type": "stream",
          "text": [
            "\n",
            "Site Id: 10, Meter: 3, CV RMSE: 3.1538792914366622 \n",
            "\n",
            "3 fold CV for site_id:11, meter_id:0\n",
            "Training until validation scores don't improve for 200 rounds.\n"
          ],
          "name": "stdout"
        },
        {
          "output_type": "stream",
          "text": [
            "/usr/local/lib/python3.6/dist-packages/lightgbm/basic.py:1205: UserWarning: Using categorical_feature in Dataset.\n",
            "  warnings.warn('Using categorical_feature in Dataset.')\n",
            "/usr/local/lib/python3.6/dist-packages/lightgbm/basic.py:762: UserWarning: categorical_feature in param dict is overridden.\n",
            "  warnings.warn('categorical_feature in param dict is overridden.')\n"
          ],
          "name": "stderr"
        },
        {
          "output_type": "stream",
          "text": [
            "[200]\ttraining's rmse: 0.0759889\tvalid_1's rmse: 0.14802\n",
            "[400]\ttraining's rmse: 0.0624133\tvalid_1's rmse: 0.147122\n",
            "[600]\ttraining's rmse: 0.054507\tvalid_1's rmse: 0.14698\n",
            "[800]\ttraining's rmse: 0.0483442\tvalid_1's rmse: 0.146693\n",
            "[1000]\ttraining's rmse: 0.0440721\tvalid_1's rmse: 0.146445\n",
            "Did not meet early stopping. Best iteration is:\n",
            "[1000]\ttraining's rmse: 0.0440721\tvalid_1's rmse: 0.146445\n",
            "Site Id: 11, Meter: 0, Fold: 1, RMSE: 0.3193461398292465\n"
          ],
          "name": "stdout"
        },
        {
          "output_type": "execute_result",
          "data": {
            "text/plain": [
              "716"
            ]
          },
          "metadata": {
            "tags": []
          },
          "execution_count": 79
        },
        {
          "output_type": "stream",
          "text": [
            "Training until validation scores don't improve for 200 rounds.\n"
          ],
          "name": "stdout"
        },
        {
          "output_type": "stream",
          "text": [
            "/usr/local/lib/python3.6/dist-packages/lightgbm/basic.py:1205: UserWarning: Using categorical_feature in Dataset.\n",
            "  warnings.warn('Using categorical_feature in Dataset.')\n",
            "/usr/local/lib/python3.6/dist-packages/lightgbm/basic.py:762: UserWarning: categorical_feature in param dict is overridden.\n",
            "  warnings.warn('categorical_feature in param dict is overridden.')\n"
          ],
          "name": "stderr"
        },
        {
          "output_type": "stream",
          "text": [
            "[200]\ttraining's rmse: 0.0554027\tvalid_1's rmse: 0.300694\n",
            "Early stopping, best iteration is:\n",
            "[74]\ttraining's rmse: 0.0910675\tvalid_1's rmse: 0.289454\n",
            "Site Id: 11, Meter: 0, Fold: 2, RMSE: 0.5379096779415075\n"
          ],
          "name": "stdout"
        },
        {
          "output_type": "execute_result",
          "data": {
            "text/plain": [
              "53"
            ]
          },
          "metadata": {
            "tags": []
          },
          "execution_count": 79
        },
        {
          "output_type": "stream",
          "text": [
            "/usr/local/lib/python3.6/dist-packages/lightgbm/basic.py:1205: UserWarning: Using categorical_feature in Dataset.\n",
            "  warnings.warn('Using categorical_feature in Dataset.')\n",
            "/usr/local/lib/python3.6/dist-packages/lightgbm/basic.py:762: UserWarning: categorical_feature in param dict is overridden.\n",
            "  warnings.warn('categorical_feature in param dict is overridden.')\n"
          ],
          "name": "stderr"
        },
        {
          "output_type": "stream",
          "text": [
            "Training until validation scores don't improve for 200 rounds.\n",
            "[200]\ttraining's rmse: 0.0716577\tvalid_1's rmse: 0.321401\n",
            "Early stopping, best iteration is:\n",
            "[66]\ttraining's rmse: 0.11322\tvalid_1's rmse: 0.307608\n",
            "Site Id: 11, Meter: 0, Fold: 3, RMSE: 0.303635139651161\n"
          ],
          "name": "stdout"
        },
        {
          "output_type": "execute_result",
          "data": {
            "text/plain": [
              "17"
            ]
          },
          "metadata": {
            "tags": []
          },
          "execution_count": 79
        },
        {
          "output_type": "stream",
          "text": [
            "\n",
            "\n",
            "\n",
            "\n",
            "\n",
            "\n",
            "\n",
            "\n",
            "meter_id:  25%|██▌       | 1/4 [00:04<00:12,  4.13s/it]\u001b[A\u001b[A\u001b[A\u001b[A\u001b[A\u001b[A\u001b[A\u001b[A"
          ],
          "name": "stderr"
        },
        {
          "output_type": "stream",
          "text": [
            "\n",
            "Site Id: 11, Meter: 0, CV RMSE: 0.4014635346179447 \n",
            "\n",
            "3 fold CV for site_id:11, meter_id:1\n",
            "Training until validation scores don't improve for 200 rounds.\n"
          ],
          "name": "stdout"
        },
        {
          "output_type": "stream",
          "text": [
            "/usr/local/lib/python3.6/dist-packages/lightgbm/basic.py:1205: UserWarning: Using categorical_feature in Dataset.\n",
            "  warnings.warn('Using categorical_feature in Dataset.')\n",
            "/usr/local/lib/python3.6/dist-packages/lightgbm/basic.py:762: UserWarning: categorical_feature in param dict is overridden.\n",
            "  warnings.warn('categorical_feature in param dict is overridden.')\n"
          ],
          "name": "stderr"
        },
        {
          "output_type": "stream",
          "text": [
            "[200]\ttraining's rmse: 0.459792\tvalid_1's rmse: 0.0365514\n",
            "Early stopping, best iteration is:\n",
            "[126]\ttraining's rmse: 0.518348\tvalid_1's rmse: 0.0344225\n",
            "Site Id: 11, Meter: 1, Fold: 1, RMSE: 1.9583449819506034\n"
          ],
          "name": "stdout"
        },
        {
          "output_type": "execute_result",
          "data": {
            "text/plain": [
              "307"
            ]
          },
          "metadata": {
            "tags": []
          },
          "execution_count": 79
        },
        {
          "output_type": "stream",
          "text": [
            "Training until validation scores don't improve for 200 rounds.\n"
          ],
          "name": "stdout"
        },
        {
          "output_type": "stream",
          "text": [
            "/usr/local/lib/python3.6/dist-packages/lightgbm/basic.py:1205: UserWarning: Using categorical_feature in Dataset.\n",
            "  warnings.warn('Using categorical_feature in Dataset.')\n",
            "/usr/local/lib/python3.6/dist-packages/lightgbm/basic.py:762: UserWarning: categorical_feature in param dict is overridden.\n",
            "  warnings.warn('categorical_feature in param dict is overridden.')\n"
          ],
          "name": "stderr"
        },
        {
          "output_type": "stream",
          "text": [
            "[200]\ttraining's rmse: 0.149299\tvalid_1's rmse: 3.87531\n",
            "Early stopping, best iteration is:\n",
            "[16]\ttraining's rmse: 0.808533\tvalid_1's rmse: 3.80678\n",
            "Site Id: 11, Meter: 1, Fold: 2, RMSE: 4.017320733499771\n"
          ],
          "name": "stdout"
        },
        {
          "output_type": "execute_result",
          "data": {
            "text/plain": [
              "611"
            ]
          },
          "metadata": {
            "tags": []
          },
          "execution_count": 79
        },
        {
          "output_type": "stream",
          "text": [
            "Training until validation scores don't improve for 200 rounds.\n"
          ],
          "name": "stdout"
        },
        {
          "output_type": "stream",
          "text": [
            "/usr/local/lib/python3.6/dist-packages/lightgbm/basic.py:1205: UserWarning: Using categorical_feature in Dataset.\n",
            "  warnings.warn('Using categorical_feature in Dataset.')\n",
            "/usr/local/lib/python3.6/dist-packages/lightgbm/basic.py:762: UserWarning: categorical_feature in param dict is overridden.\n",
            "  warnings.warn('categorical_feature in param dict is overridden.')\n"
          ],
          "name": "stderr"
        },
        {
          "output_type": "stream",
          "text": [
            "[200]\ttraining's rmse: 0.378726\tvalid_1's rmse: 2.91137\n",
            "Early stopping, best iteration is:\n",
            "[6]\ttraining's rmse: 1.93508\tvalid_1's rmse: 2.16258\n",
            "Site Id: 11, Meter: 1, Fold: 3, RMSE: 2.1412487201242216\n"
          ],
          "name": "stdout"
        },
        {
          "output_type": "execute_result",
          "data": {
            "text/plain": [
              "551"
            ]
          },
          "metadata": {
            "tags": []
          },
          "execution_count": 79
        },
        {
          "output_type": "stream",
          "text": [
            "\n",
            "\n",
            "\n",
            "\n",
            "\n",
            "\n",
            "\n",
            "\n",
            "meter_id:  50%|█████     | 2/4 [00:05<00:06,  3.39s/it]\u001b[A\u001b[A\u001b[A\u001b[A\u001b[A\u001b[A\u001b[A\u001b[A"
          ],
          "name": "stderr"
        },
        {
          "output_type": "stream",
          "text": [
            "\n",
            "Site Id: 11, Meter: 1, CV RMSE: 2.8611923045466363 \n",
            "\n",
            "3 fold CV for site_id:11, meter_id:2\n"
          ],
          "name": "stdout"
        },
        {
          "output_type": "stream",
          "text": [
            "\n",
            "\n",
            "\n",
            "\n",
            "\n",
            "\n",
            "\n",
            "\n",
            "meter_id:  75%|███████▌  | 3/4 [00:05<00:02,  2.40s/it]\u001b[A\u001b[A\u001b[A\u001b[A\u001b[A\u001b[A\u001b[A\u001b[A"
          ],
          "name": "stderr"
        },
        {
          "output_type": "stream",
          "text": [
            "3 fold CV for site_id:11, meter_id:3\n"
          ],
          "name": "stdout"
        },
        {
          "output_type": "stream",
          "text": [
            "/usr/local/lib/python3.6/dist-packages/lightgbm/basic.py:1205: UserWarning: Using categorical_feature in Dataset.\n",
            "  warnings.warn('Using categorical_feature in Dataset.')\n",
            "/usr/local/lib/python3.6/dist-packages/lightgbm/basic.py:762: UserWarning: categorical_feature in param dict is overridden.\n",
            "  warnings.warn('categorical_feature in param dict is overridden.')\n"
          ],
          "name": "stderr"
        },
        {
          "output_type": "stream",
          "text": [
            "Training until validation scores don't improve for 200 rounds.\n",
            "[200]\ttraining's rmse: 0.456807\tvalid_1's rmse: 0.741639\n",
            "Early stopping, best iteration is:\n",
            "[102]\ttraining's rmse: 0.512396\tvalid_1's rmse: 0.730723\n",
            "Site Id: 11, Meter: 3, Fold: 1, RMSE: 2.885009946415859\n"
          ],
          "name": "stdout"
        },
        {
          "output_type": "execute_result",
          "data": {
            "text/plain": [
              "231"
            ]
          },
          "metadata": {
            "tags": []
          },
          "execution_count": 79
        },
        {
          "output_type": "stream",
          "text": [
            "/usr/local/lib/python3.6/dist-packages/lightgbm/basic.py:1205: UserWarning: Using categorical_feature in Dataset.\n",
            "  warnings.warn('Using categorical_feature in Dataset.')\n",
            "/usr/local/lib/python3.6/dist-packages/lightgbm/basic.py:762: UserWarning: categorical_feature in param dict is overridden.\n",
            "  warnings.warn('categorical_feature in param dict is overridden.')\n"
          ],
          "name": "stderr"
        },
        {
          "output_type": "stream",
          "text": [
            "Training until validation scores don't improve for 200 rounds.\n",
            "[200]\ttraining's rmse: 0.41266\tvalid_1's rmse: 1.05434\n",
            "Early stopping, best iteration is:\n",
            "[118]\ttraining's rmse: 0.454141\tvalid_1's rmse: 1.04974\n",
            "Site Id: 11, Meter: 3, Fold: 2, RMSE: 2.517440839562933\n"
          ],
          "name": "stdout"
        },
        {
          "output_type": "execute_result",
          "data": {
            "text/plain": [
              "229"
            ]
          },
          "metadata": {
            "tags": []
          },
          "execution_count": 79
        },
        {
          "output_type": "stream",
          "text": [
            "Training until validation scores don't improve for 200 rounds.\n"
          ],
          "name": "stdout"
        },
        {
          "output_type": "stream",
          "text": [
            "/usr/local/lib/python3.6/dist-packages/lightgbm/basic.py:1205: UserWarning: Using categorical_feature in Dataset.\n",
            "  warnings.warn('Using categorical_feature in Dataset.')\n",
            "/usr/local/lib/python3.6/dist-packages/lightgbm/basic.py:762: UserWarning: categorical_feature in param dict is overridden.\n",
            "  warnings.warn('categorical_feature in param dict is overridden.')\n"
          ],
          "name": "stderr"
        },
        {
          "output_type": "stream",
          "text": [
            "[200]\ttraining's rmse: 0.37786\tvalid_1's rmse: 1.39232\n",
            "[400]\ttraining's rmse: 0.323312\tvalid_1's rmse: 1.38673\n",
            "Early stopping, best iteration is:\n",
            "[375]\ttraining's rmse: 0.329842\tvalid_1's rmse: 1.38571\n",
            "Site Id: 11, Meter: 3, Fold: 3, RMSE: 1.393669062973471\n"
          ],
          "name": "stdout"
        },
        {
          "output_type": "execute_result",
          "data": {
            "text/plain": [
              "506"
            ]
          },
          "metadata": {
            "tags": []
          },
          "execution_count": 79
        },
        {
          "output_type": "stream",
          "text": [
            "\n",
            "\n",
            "\n",
            "\n",
            "\n",
            "\n",
            "\n",
            "\n",
            "meter_id: 100%|██████████| 4/4 [00:08<00:00,  2.60s/it]\u001b[A\u001b[A\u001b[A\u001b[A\u001b[A\u001b[A\u001b[A\u001b[A\n",
            "\n",
            "\n",
            "\n",
            "\n",
            "\n",
            "\n",
            "\n",
            "\u001b[A\u001b[A\u001b[A\u001b[A\u001b[A\u001b[A\u001b[A\u001b[A\n",
            "\n",
            "\n",
            "\n",
            "\n",
            "\n",
            "\n",
            "site_id:  75%|███████▌  | 12/16 [08:55<01:57, 29.46s/it]\u001b[A\u001b[A\u001b[A\u001b[A\u001b[A\u001b[A\u001b[A\n",
            "\n",
            "\n",
            "\n",
            "\n",
            "\n",
            "\n",
            "\n",
            "meter_id:   0%|          | 0/4 [00:00<?, ?it/s]\u001b[A\u001b[A\u001b[A\u001b[A\u001b[A\u001b[A\u001b[A\u001b[A"
          ],
          "name": "stderr"
        },
        {
          "output_type": "stream",
          "text": [
            "\n",
            "Site Id: 11, Meter: 3, CV RMSE: 2.352537678411025 \n",
            "\n",
            "3 fold CV for site_id:12, meter_id:0\n"
          ],
          "name": "stdout"
        },
        {
          "output_type": "stream",
          "text": [
            "/usr/local/lib/python3.6/dist-packages/lightgbm/basic.py:1205: UserWarning: Using categorical_feature in Dataset.\n",
            "  warnings.warn('Using categorical_feature in Dataset.')\n",
            "/usr/local/lib/python3.6/dist-packages/lightgbm/basic.py:762: UserWarning: categorical_feature in param dict is overridden.\n",
            "  warnings.warn('categorical_feature in param dict is overridden.')\n"
          ],
          "name": "stderr"
        },
        {
          "output_type": "stream",
          "text": [
            "Training until validation scores don't improve for 200 rounds.\n",
            "[200]\ttraining's rmse: 0.221159\tvalid_1's rmse: 0.556465\n",
            "Early stopping, best iteration is:\n",
            "[66]\ttraining's rmse: 0.314746\tvalid_1's rmse: 0.545876\n",
            "Site Id: 12, Meter: 0, Fold: 1, RMSE: 0.4745602766275124\n"
          ],
          "name": "stdout"
        },
        {
          "output_type": "execute_result",
          "data": {
            "text/plain": [
              "79"
            ]
          },
          "metadata": {
            "tags": []
          },
          "execution_count": 79
        },
        {
          "output_type": "stream",
          "text": [
            "/usr/local/lib/python3.6/dist-packages/lightgbm/basic.py:1205: UserWarning: Using categorical_feature in Dataset.\n",
            "  warnings.warn('Using categorical_feature in Dataset.')\n",
            "/usr/local/lib/python3.6/dist-packages/lightgbm/basic.py:762: UserWarning: categorical_feature in param dict is overridden.\n",
            "  warnings.warn('categorical_feature in param dict is overridden.')\n"
          ],
          "name": "stderr"
        },
        {
          "output_type": "stream",
          "text": [
            "Training until validation scores don't improve for 200 rounds.\n",
            "[200]\ttraining's rmse: 0.226057\tvalid_1's rmse: 0.450687\n",
            "Early stopping, best iteration is:\n",
            "[114]\ttraining's rmse: 0.270857\tvalid_1's rmse: 0.442345\n",
            "Site Id: 12, Meter: 0, Fold: 2, RMSE: 0.440861224493516\n"
          ],
          "name": "stdout"
        },
        {
          "output_type": "execute_result",
          "data": {
            "text/plain": [
              "199"
            ]
          },
          "metadata": {
            "tags": []
          },
          "execution_count": 79
        },
        {
          "output_type": "stream",
          "text": [
            "/usr/local/lib/python3.6/dist-packages/lightgbm/basic.py:1205: UserWarning: Using categorical_feature in Dataset.\n",
            "  warnings.warn('Using categorical_feature in Dataset.')\n",
            "/usr/local/lib/python3.6/dist-packages/lightgbm/basic.py:762: UserWarning: categorical_feature in param dict is overridden.\n",
            "  warnings.warn('categorical_feature in param dict is overridden.')\n"
          ],
          "name": "stderr"
        },
        {
          "output_type": "stream",
          "text": [
            "Training until validation scores don't improve for 200 rounds.\n",
            "[200]\ttraining's rmse: 0.22251\tvalid_1's rmse: 0.404568\n",
            "Early stopping, best iteration is:\n",
            "[83]\ttraining's rmse: 0.300576\tvalid_1's rmse: 0.399373\n",
            "Site Id: 12, Meter: 0, Fold: 3, RMSE: 0.3947579927463418\n"
          ],
          "name": "stdout"
        },
        {
          "output_type": "execute_result",
          "data": {
            "text/plain": [
              "79"
            ]
          },
          "metadata": {
            "tags": []
          },
          "execution_count": 79
        },
        {
          "output_type": "stream",
          "text": [
            "\n",
            "\n",
            "\n",
            "\n",
            "\n",
            "\n",
            "\n",
            "\n",
            "meter_id:  25%|██▌       | 1/4 [00:10<00:30, 10.19s/it]\u001b[A\u001b[A\u001b[A\u001b[A\u001b[A\u001b[A\u001b[A\u001b[A\n",
            "\n",
            "\n",
            "\n",
            "\n",
            "\n",
            "\n",
            "\n",
            "meter_id:  50%|█████     | 2/4 [00:10<00:14,  7.16s/it]\u001b[A\u001b[A\u001b[A\u001b[A\u001b[A\u001b[A\u001b[A\u001b[A"
          ],
          "name": "stderr"
        },
        {
          "output_type": "stream",
          "text": [
            "\n",
            "Site Id: 12, Meter: 0, CV RMSE: 0.43794987024795784 \n",
            "\n",
            "3 fold CV for site_id:12, meter_id:1\n",
            "3 fold CV for site_id:12, meter_id:2\n"
          ],
          "name": "stdout"
        },
        {
          "output_type": "stream",
          "text": [
            "\n",
            "\n",
            "\n",
            "\n",
            "\n",
            "\n",
            "\n",
            "\n",
            "meter_id:  75%|███████▌  | 3/4 [00:10<00:05,  5.04s/it]\u001b[A\u001b[A\u001b[A\u001b[A\u001b[A\u001b[A\u001b[A\u001b[A\n",
            "\n",
            "\n",
            "\n",
            "\n",
            "\n",
            "\n",
            "\n",
            "meter_id: 100%|██████████| 4/4 [00:10<00:00,  3.56s/it]\u001b[A\u001b[A\u001b[A\u001b[A\u001b[A\u001b[A\u001b[A\u001b[A\n",
            "\n",
            "\n",
            "\n",
            "\n",
            "\n",
            "\n",
            "\n",
            "\u001b[A\u001b[A\u001b[A\u001b[A\u001b[A\u001b[A\u001b[A\u001b[A\n",
            "\n",
            "\n",
            "\n",
            "\n",
            "\n",
            "\n",
            "site_id:  81%|████████▏ | 13/16 [09:06<01:11, 23.78s/it]\u001b[A\u001b[A\u001b[A\u001b[A\u001b[A\u001b[A\u001b[A\n",
            "\n",
            "\n",
            "\n",
            "\n",
            "\n",
            "\n",
            "\n",
            "meter_id:   0%|          | 0/4 [00:00<?, ?it/s]\u001b[A\u001b[A\u001b[A\u001b[A\u001b[A\u001b[A\u001b[A\u001b[A"
          ],
          "name": "stderr"
        },
        {
          "output_type": "stream",
          "text": [
            "3 fold CV for site_id:12, meter_id:3\n",
            "3 fold CV for site_id:13, meter_id:0\n"
          ],
          "name": "stdout"
        },
        {
          "output_type": "stream",
          "text": [
            "/usr/local/lib/python3.6/dist-packages/lightgbm/basic.py:1205: UserWarning: Using categorical_feature in Dataset.\n",
            "  warnings.warn('Using categorical_feature in Dataset.')\n",
            "/usr/local/lib/python3.6/dist-packages/lightgbm/basic.py:762: UserWarning: categorical_feature in param dict is overridden.\n",
            "  warnings.warn('categorical_feature in param dict is overridden.')\n"
          ],
          "name": "stderr"
        },
        {
          "output_type": "stream",
          "text": [
            "Training until validation scores don't improve for 200 rounds.\n",
            "[200]\ttraining's rmse: 0.243825\tvalid_1's rmse: 0.415722\n",
            "Early stopping, best iteration is:\n",
            "[192]\ttraining's rmse: 0.246857\tvalid_1's rmse: 0.414033\n",
            "Site Id: 13, Meter: 0, Fold: 1, RMSE: 0.6240875317407304\n"
          ],
          "name": "stdout"
        },
        {
          "output_type": "execute_result",
          "data": {
            "text/plain": [
              "633"
            ]
          },
          "metadata": {
            "tags": []
          },
          "execution_count": 79
        },
        {
          "output_type": "stream",
          "text": [
            "/usr/local/lib/python3.6/dist-packages/lightgbm/basic.py:1205: UserWarning: Using categorical_feature in Dataset.\n",
            "  warnings.warn('Using categorical_feature in Dataset.')\n",
            "/usr/local/lib/python3.6/dist-packages/lightgbm/basic.py:762: UserWarning: categorical_feature in param dict is overridden.\n",
            "  warnings.warn('categorical_feature in param dict is overridden.')\n"
          ],
          "name": "stderr"
        },
        {
          "output_type": "stream",
          "text": [
            "Training until validation scores don't improve for 200 rounds.\n",
            "[200]\ttraining's rmse: 0.197112\tvalid_1's rmse: 0.658984\n",
            "Early stopping, best iteration is:\n",
            "[141]\ttraining's rmse: 0.22034\tvalid_1's rmse: 0.653268\n",
            "Site Id: 13, Meter: 0, Fold: 2, RMSE: 0.5492171383313601\n"
          ],
          "name": "stdout"
        },
        {
          "output_type": "execute_result",
          "data": {
            "text/plain": [
              "311"
            ]
          },
          "metadata": {
            "tags": []
          },
          "execution_count": 79
        },
        {
          "output_type": "stream",
          "text": [
            "/usr/local/lib/python3.6/dist-packages/lightgbm/basic.py:1205: UserWarning: Using categorical_feature in Dataset.\n",
            "  warnings.warn('Using categorical_feature in Dataset.')\n",
            "/usr/local/lib/python3.6/dist-packages/lightgbm/basic.py:762: UserWarning: categorical_feature in param dict is overridden.\n",
            "  warnings.warn('categorical_feature in param dict is overridden.')\n"
          ],
          "name": "stderr"
        },
        {
          "output_type": "stream",
          "text": [
            "Training until validation scores don't improve for 200 rounds.\n",
            "[200]\ttraining's rmse: 0.227955\tvalid_1's rmse: 0.781154\n",
            "Early stopping, best iteration is:\n",
            "[36]\ttraining's rmse: 0.448266\tvalid_1's rmse: 0.702745\n",
            "Site Id: 13, Meter: 0, Fold: 3, RMSE: 0.6814809400796337\n"
          ],
          "name": "stdout"
        },
        {
          "output_type": "execute_result",
          "data": {
            "text/plain": [
              "663"
            ]
          },
          "metadata": {
            "tags": []
          },
          "execution_count": 79
        },
        {
          "output_type": "stream",
          "text": [
            "\n",
            "\n",
            "\n",
            "\n",
            "\n",
            "\n",
            "\n",
            "\n",
            "meter_id:  25%|██▌       | 1/4 [00:44<02:13, 44.50s/it]\u001b[A\u001b[A\u001b[A\u001b[A\u001b[A\u001b[A\u001b[A\u001b[A"
          ],
          "name": "stderr"
        },
        {
          "output_type": "stream",
          "text": [
            "\n",
            "Site Id: 13, Meter: 0, CV RMSE: 0.6206289777322536 \n",
            "\n",
            "3 fold CV for site_id:13, meter_id:1\n"
          ],
          "name": "stdout"
        },
        {
          "output_type": "stream",
          "text": [
            "/usr/local/lib/python3.6/dist-packages/lightgbm/basic.py:1205: UserWarning: Using categorical_feature in Dataset.\n",
            "  warnings.warn('Using categorical_feature in Dataset.')\n",
            "/usr/local/lib/python3.6/dist-packages/lightgbm/basic.py:762: UserWarning: categorical_feature in param dict is overridden.\n",
            "  warnings.warn('categorical_feature in param dict is overridden.')\n"
          ],
          "name": "stderr"
        },
        {
          "output_type": "stream",
          "text": [
            "Training until validation scores don't improve for 200 rounds.\n",
            "[200]\ttraining's rmse: 0.70026\tvalid_1's rmse: 1.43382\n",
            "[400]\ttraining's rmse: 0.62366\tvalid_1's rmse: 1.43873\n",
            "Early stopping, best iteration is:\n",
            "[276]\ttraining's rmse: 0.666415\tvalid_1's rmse: 1.43121\n",
            "Site Id: 13, Meter: 1, Fold: 1, RMSE: 1.7564647608027024\n"
          ],
          "name": "stdout"
        },
        {
          "output_type": "execute_result",
          "data": {
            "text/plain": [
              "148"
            ]
          },
          "metadata": {
            "tags": []
          },
          "execution_count": 79
        },
        {
          "output_type": "stream",
          "text": [
            "/usr/local/lib/python3.6/dist-packages/lightgbm/basic.py:1205: UserWarning: Using categorical_feature in Dataset.\n",
            "  warnings.warn('Using categorical_feature in Dataset.')\n",
            "/usr/local/lib/python3.6/dist-packages/lightgbm/basic.py:762: UserWarning: categorical_feature in param dict is overridden.\n",
            "  warnings.warn('categorical_feature in param dict is overridden.')\n"
          ],
          "name": "stderr"
        },
        {
          "output_type": "stream",
          "text": [
            "Training until validation scores don't improve for 200 rounds.\n",
            "[200]\ttraining's rmse: 0.588903\tvalid_1's rmse: 2.39685\n",
            "[400]\ttraining's rmse: 0.515668\tvalid_1's rmse: 2.40213\n",
            "Early stopping, best iteration is:\n",
            "[223]\ttraining's rmse: 0.576799\tvalid_1's rmse: 2.39161\n",
            "Site Id: 13, Meter: 1, Fold: 2, RMSE: 2.435690539092921\n"
          ],
          "name": "stdout"
        },
        {
          "output_type": "execute_result",
          "data": {
            "text/plain": [
              "639"
            ]
          },
          "metadata": {
            "tags": []
          },
          "execution_count": 79
        },
        {
          "output_type": "stream",
          "text": [
            "/usr/local/lib/python3.6/dist-packages/lightgbm/basic.py:1205: UserWarning: Using categorical_feature in Dataset.\n",
            "  warnings.warn('Using categorical_feature in Dataset.')\n",
            "/usr/local/lib/python3.6/dist-packages/lightgbm/basic.py:762: UserWarning: categorical_feature in param dict is overridden.\n",
            "  warnings.warn('categorical_feature in param dict is overridden.')\n"
          ],
          "name": "stderr"
        },
        {
          "output_type": "stream",
          "text": [
            "Training until validation scores don't improve for 200 rounds.\n",
            "[200]\ttraining's rmse: 0.605135\tvalid_1's rmse: 1.91212\n",
            "Early stopping, best iteration is:\n",
            "[19]\ttraining's rmse: 1.29523\tvalid_1's rmse: 1.87035\n",
            "Site Id: 13, Meter: 1, Fold: 3, RMSE: 1.6889286073928484\n"
          ],
          "name": "stdout"
        },
        {
          "output_type": "execute_result",
          "data": {
            "text/plain": [
              "595"
            ]
          },
          "metadata": {
            "tags": []
          },
          "execution_count": 79
        },
        {
          "output_type": "stream",
          "text": [
            "\n",
            "\n",
            "\n",
            "\n",
            "\n",
            "\n",
            "\n",
            "\n",
            "meter_id:  50%|█████     | 2/4 [01:11<01:18, 39.38s/it]\u001b[A\u001b[A\u001b[A\u001b[A\u001b[A\u001b[A\u001b[A\u001b[A"
          ],
          "name": "stderr"
        },
        {
          "output_type": "stream",
          "text": [
            "\n",
            "Site Id: 13, Meter: 1, CV RMSE: 1.9891573940224612 \n",
            "\n",
            "3 fold CV for site_id:13, meter_id:2\n"
          ],
          "name": "stdout"
        },
        {
          "output_type": "stream",
          "text": [
            "/usr/local/lib/python3.6/dist-packages/lightgbm/basic.py:1205: UserWarning: Using categorical_feature in Dataset.\n",
            "  warnings.warn('Using categorical_feature in Dataset.')\n",
            "/usr/local/lib/python3.6/dist-packages/lightgbm/basic.py:762: UserWarning: categorical_feature in param dict is overridden.\n",
            "  warnings.warn('categorical_feature in param dict is overridden.')\n"
          ],
          "name": "stderr"
        },
        {
          "output_type": "stream",
          "text": [
            "Training until validation scores don't improve for 200 rounds.\n",
            "[200]\ttraining's rmse: 0.976132\tvalid_1's rmse: 1.69338\n",
            "[400]\ttraining's rmse: 0.884907\tvalid_1's rmse: 1.69905\n",
            "Early stopping, best iteration is:\n",
            "[242]\ttraining's rmse: 0.954572\tvalid_1's rmse: 1.69087\n",
            "Site Id: 13, Meter: 2, Fold: 1, RMSE: 2.2477006876188734\n"
          ],
          "name": "stdout"
        },
        {
          "output_type": "execute_result",
          "data": {
            "text/plain": [
              "25"
            ]
          },
          "metadata": {
            "tags": []
          },
          "execution_count": 79
        },
        {
          "output_type": "stream",
          "text": [
            "/usr/local/lib/python3.6/dist-packages/lightgbm/basic.py:1205: UserWarning: Using categorical_feature in Dataset.\n",
            "  warnings.warn('Using categorical_feature in Dataset.')\n",
            "/usr/local/lib/python3.6/dist-packages/lightgbm/basic.py:762: UserWarning: categorical_feature in param dict is overridden.\n",
            "  warnings.warn('categorical_feature in param dict is overridden.')\n"
          ],
          "name": "stderr"
        },
        {
          "output_type": "stream",
          "text": [
            "Training until validation scores don't improve for 200 rounds.\n",
            "[200]\ttraining's rmse: 0.857382\tvalid_1's rmse: 2.09762\n",
            "Early stopping, best iteration is:\n",
            "[168]\ttraining's rmse: 0.882487\tvalid_1's rmse: 2.09253\n",
            "Site Id: 13, Meter: 2, Fold: 2, RMSE: 2.2397734400483085\n"
          ],
          "name": "stdout"
        },
        {
          "output_type": "execute_result",
          "data": {
            "text/plain": [
              "421"
            ]
          },
          "metadata": {
            "tags": []
          },
          "execution_count": 79
        },
        {
          "output_type": "stream",
          "text": [
            "/usr/local/lib/python3.6/dist-packages/lightgbm/basic.py:1205: UserWarning: Using categorical_feature in Dataset.\n",
            "  warnings.warn('Using categorical_feature in Dataset.')\n",
            "/usr/local/lib/python3.6/dist-packages/lightgbm/basic.py:762: UserWarning: categorical_feature in param dict is overridden.\n",
            "  warnings.warn('categorical_feature in param dict is overridden.')\n"
          ],
          "name": "stderr"
        },
        {
          "output_type": "stream",
          "text": [
            "Training until validation scores don't improve for 200 rounds.\n",
            "[200]\ttraining's rmse: 0.928427\tvalid_1's rmse: 1.80869\n",
            "Early stopping, best iteration is:\n",
            "[36]\ttraining's rmse: 1.30965\tvalid_1's rmse: 1.78446\n",
            "Site Id: 13, Meter: 2, Fold: 3, RMSE: 1.7510256790897598\n"
          ],
          "name": "stdout"
        },
        {
          "output_type": "execute_result",
          "data": {
            "text/plain": [
              "663"
            ]
          },
          "metadata": {
            "tags": []
          },
          "execution_count": 79
        },
        {
          "output_type": "stream",
          "text": [
            "\n",
            "\n",
            "\n",
            "\n",
            "\n",
            "\n",
            "\n",
            "\n",
            "meter_id:  75%|███████▌  | 3/4 [01:40<00:36, 36.19s/it]\u001b[A\u001b[A\u001b[A\u001b[A\u001b[A\u001b[A\u001b[A\u001b[A"
          ],
          "name": "stderr"
        },
        {
          "output_type": "stream",
          "text": [
            "\n",
            "Site Id: 13, Meter: 2, CV RMSE: 2.0924337496499428 \n",
            "\n",
            "3 fold CV for site_id:13, meter_id:3\n"
          ],
          "name": "stdout"
        },
        {
          "output_type": "stream",
          "text": [
            "\n",
            "\n",
            "\n",
            "\n",
            "\n",
            "\n",
            "\n",
            "\n",
            "meter_id: 100%|██████████| 4/4 [01:40<00:00, 25.36s/it]\u001b[A\u001b[A\u001b[A\u001b[A\u001b[A\u001b[A\u001b[A\u001b[A\n",
            "\n",
            "\n",
            "\n",
            "\n",
            "\n",
            "\n",
            "\n",
            "\u001b[A\u001b[A\u001b[A\u001b[A\u001b[A\u001b[A\u001b[A\u001b[A\n",
            "\n",
            "\n",
            "\n",
            "\n",
            "\n",
            "\n",
            "site_id:  88%|████████▊ | 14/16 [10:47<01:33, 46.88s/it]\u001b[A\u001b[A\u001b[A\u001b[A\u001b[A\u001b[A\u001b[A\n",
            "\n",
            "\n",
            "\n",
            "\n",
            "\n",
            "\n",
            "\n",
            "meter_id:   0%|          | 0/4 [00:00<?, ?it/s]\u001b[A\u001b[A\u001b[A\u001b[A\u001b[A\u001b[A\u001b[A\u001b[A"
          ],
          "name": "stderr"
        },
        {
          "output_type": "stream",
          "text": [
            "3 fold CV for site_id:14, meter_id:0\n"
          ],
          "name": "stdout"
        },
        {
          "output_type": "stream",
          "text": [
            "/usr/local/lib/python3.6/dist-packages/lightgbm/basic.py:1205: UserWarning: Using categorical_feature in Dataset.\n",
            "  warnings.warn('Using categorical_feature in Dataset.')\n",
            "/usr/local/lib/python3.6/dist-packages/lightgbm/basic.py:762: UserWarning: categorical_feature in param dict is overridden.\n",
            "  warnings.warn('categorical_feature in param dict is overridden.')\n"
          ],
          "name": "stderr"
        },
        {
          "output_type": "stream",
          "text": [
            "Training until validation scores don't improve for 200 rounds.\n",
            "[200]\ttraining's rmse: 0.445985\tvalid_1's rmse: 0.849561\n",
            "Early stopping, best iteration is:\n",
            "[44]\ttraining's rmse: 0.709339\tvalid_1's rmse: 0.805437\n",
            "Site Id: 14, Meter: 0, Fold: 1, RMSE: 0.8600941699589422\n"
          ],
          "name": "stdout"
        },
        {
          "output_type": "execute_result",
          "data": {
            "text/plain": [
              "17"
            ]
          },
          "metadata": {
            "tags": []
          },
          "execution_count": 79
        },
        {
          "output_type": "stream",
          "text": [
            "/usr/local/lib/python3.6/dist-packages/lightgbm/basic.py:1205: UserWarning: Using categorical_feature in Dataset.\n",
            "  warnings.warn('Using categorical_feature in Dataset.')\n",
            "/usr/local/lib/python3.6/dist-packages/lightgbm/basic.py:762: UserWarning: categorical_feature in param dict is overridden.\n",
            "  warnings.warn('categorical_feature in param dict is overridden.')\n"
          ],
          "name": "stderr"
        },
        {
          "output_type": "stream",
          "text": [
            "Training until validation scores don't improve for 200 rounds.\n",
            "[200]\ttraining's rmse: 0.378289\tvalid_1's rmse: 0.999289\n",
            "Early stopping, best iteration is:\n",
            "[71]\ttraining's rmse: 0.518278\tvalid_1's rmse: 0.98342\n",
            "Site Id: 14, Meter: 0, Fold: 2, RMSE: 0.9907826559360358\n"
          ],
          "name": "stdout"
        },
        {
          "output_type": "execute_result",
          "data": {
            "text/plain": [
              "31"
            ]
          },
          "metadata": {
            "tags": []
          },
          "execution_count": 79
        },
        {
          "output_type": "stream",
          "text": [
            "/usr/local/lib/python3.6/dist-packages/lightgbm/basic.py:1205: UserWarning: Using categorical_feature in Dataset.\n",
            "  warnings.warn('Using categorical_feature in Dataset.')\n",
            "/usr/local/lib/python3.6/dist-packages/lightgbm/basic.py:762: UserWarning: categorical_feature in param dict is overridden.\n",
            "  warnings.warn('categorical_feature in param dict is overridden.')\n"
          ],
          "name": "stderr"
        },
        {
          "output_type": "stream",
          "text": [
            "Training until validation scores don't improve for 200 rounds.\n",
            "[200]\ttraining's rmse: 0.391214\tvalid_1's rmse: 1.28915\n",
            "Early stopping, best iteration is:\n",
            "[135]\ttraining's rmse: 0.449273\tvalid_1's rmse: 1.28437\n",
            "Site Id: 14, Meter: 0, Fold: 3, RMSE: 1.318782546995732\n"
          ],
          "name": "stdout"
        },
        {
          "output_type": "execute_result",
          "data": {
            "text/plain": [
              "289"
            ]
          },
          "metadata": {
            "tags": []
          },
          "execution_count": 79
        },
        {
          "output_type": "stream",
          "text": [
            "\n",
            "\n",
            "\n",
            "\n",
            "\n",
            "\n",
            "\n",
            "\n",
            "meter_id:  25%|██▌       | 1/4 [00:25<01:17, 25.98s/it]\u001b[A\u001b[A\u001b[A\u001b[A\u001b[A\u001b[A\u001b[A\u001b[A"
          ],
          "name": "stderr"
        },
        {
          "output_type": "stream",
          "text": [
            "\n",
            "Site Id: 14, Meter: 0, CV RMSE: 1.0740266382111723 \n",
            "\n",
            "3 fold CV for site_id:14, meter_id:1\n"
          ],
          "name": "stdout"
        },
        {
          "output_type": "stream",
          "text": [
            "/usr/local/lib/python3.6/dist-packages/lightgbm/basic.py:1205: UserWarning: Using categorical_feature in Dataset.\n",
            "  warnings.warn('Using categorical_feature in Dataset.')\n",
            "/usr/local/lib/python3.6/dist-packages/lightgbm/basic.py:762: UserWarning: categorical_feature in param dict is overridden.\n",
            "  warnings.warn('categorical_feature in param dict is overridden.')\n"
          ],
          "name": "stderr"
        },
        {
          "output_type": "stream",
          "text": [
            "Training until validation scores don't improve for 200 rounds.\n",
            "[200]\ttraining's rmse: 0.984614\tvalid_1's rmse: 1.86172\n",
            "Early stopping, best iteration is:\n",
            "[169]\ttraining's rmse: 1.0124\tvalid_1's rmse: 1.8548\n",
            "Site Id: 14, Meter: 1, Fold: 1, RMSE: 1.920862892735943\n"
          ],
          "name": "stdout"
        },
        {
          "output_type": "execute_result",
          "data": {
            "text/plain": [
              "479"
            ]
          },
          "metadata": {
            "tags": []
          },
          "execution_count": 79
        },
        {
          "output_type": "stream",
          "text": [
            "/usr/local/lib/python3.6/dist-packages/lightgbm/basic.py:1205: UserWarning: Using categorical_feature in Dataset.\n",
            "  warnings.warn('Using categorical_feature in Dataset.')\n",
            "/usr/local/lib/python3.6/dist-packages/lightgbm/basic.py:762: UserWarning: categorical_feature in param dict is overridden.\n",
            "  warnings.warn('categorical_feature in param dict is overridden.')\n"
          ],
          "name": "stderr"
        },
        {
          "output_type": "stream",
          "text": [
            "Training until validation scores don't improve for 200 rounds.\n",
            "[200]\ttraining's rmse: 1.08308\tvalid_1's rmse: 1.58394\n",
            "Early stopping, best iteration is:\n",
            "[69]\ttraining's rmse: 1.29413\tvalid_1's rmse: 1.54873\n",
            "Site Id: 14, Meter: 1, Fold: 2, RMSE: 1.7739584898444896\n"
          ],
          "name": "stdout"
        },
        {
          "output_type": "execute_result",
          "data": {
            "text/plain": [
              "25"
            ]
          },
          "metadata": {
            "tags": []
          },
          "execution_count": 79
        },
        {
          "output_type": "stream",
          "text": [
            "/usr/local/lib/python3.6/dist-packages/lightgbm/basic.py:1205: UserWarning: Using categorical_feature in Dataset.\n",
            "  warnings.warn('Using categorical_feature in Dataset.')\n",
            "/usr/local/lib/python3.6/dist-packages/lightgbm/basic.py:762: UserWarning: categorical_feature in param dict is overridden.\n",
            "  warnings.warn('categorical_feature in param dict is overridden.')\n"
          ],
          "name": "stderr"
        },
        {
          "output_type": "stream",
          "text": [
            "Training until validation scores don't improve for 200 rounds.\n",
            "[200]\ttraining's rmse: 0.99644\tvalid_1's rmse: 2.06632\n",
            "Early stopping, best iteration is:\n",
            "[48]\ttraining's rmse: 1.28607\tvalid_1's rmse: 2.01236\n",
            "Site Id: 14, Meter: 1, Fold: 3, RMSE: 1.9897371164958222\n"
          ],
          "name": "stdout"
        },
        {
          "output_type": "execute_result",
          "data": {
            "text/plain": [
              "4"
            ]
          },
          "metadata": {
            "tags": []
          },
          "execution_count": 79
        },
        {
          "output_type": "stream",
          "text": [
            "\n",
            "\n",
            "\n",
            "\n",
            "\n",
            "\n",
            "\n",
            "\n",
            "meter_id:  50%|█████     | 2/4 [00:49<00:50, 25.30s/it]\u001b[A\u001b[A\u001b[A\u001b[A\u001b[A\u001b[A\u001b[A\u001b[A"
          ],
          "name": "stderr"
        },
        {
          "output_type": "stream",
          "text": [
            "\n",
            "Site Id: 14, Meter: 1, CV RMSE: 1.8969884301588287 \n",
            "\n",
            "3 fold CV for site_id:14, meter_id:2\n"
          ],
          "name": "stdout"
        },
        {
          "output_type": "stream",
          "text": [
            "/usr/local/lib/python3.6/dist-packages/lightgbm/basic.py:1205: UserWarning: Using categorical_feature in Dataset.\n",
            "  warnings.warn('Using categorical_feature in Dataset.')\n",
            "/usr/local/lib/python3.6/dist-packages/lightgbm/basic.py:762: UserWarning: categorical_feature in param dict is overridden.\n",
            "  warnings.warn('categorical_feature in param dict is overridden.')\n"
          ],
          "name": "stderr"
        },
        {
          "output_type": "stream",
          "text": [
            "Training until validation scores don't improve for 200 rounds.\n",
            "[200]\ttraining's rmse: 0.81564\tvalid_1's rmse: 1.44962\n",
            "[400]\ttraining's rmse: 0.74909\tvalid_1's rmse: 1.43293\n",
            "[600]\ttraining's rmse: 0.71196\tvalid_1's rmse: 1.42888\n",
            "Early stopping, best iteration is:\n",
            "[591]\ttraining's rmse: 0.713383\tvalid_1's rmse: 1.42807\n",
            "Site Id: 14, Meter: 2, Fold: 1, RMSE: 1.8196373800534036\n"
          ],
          "name": "stdout"
        },
        {
          "output_type": "execute_result",
          "data": {
            "text/plain": [
              "632"
            ]
          },
          "metadata": {
            "tags": []
          },
          "execution_count": 79
        },
        {
          "output_type": "stream",
          "text": [
            "/usr/local/lib/python3.6/dist-packages/lightgbm/basic.py:1205: UserWarning: Using categorical_feature in Dataset.\n",
            "  warnings.warn('Using categorical_feature in Dataset.')\n",
            "/usr/local/lib/python3.6/dist-packages/lightgbm/basic.py:762: UserWarning: categorical_feature in param dict is overridden.\n",
            "  warnings.warn('categorical_feature in param dict is overridden.')\n"
          ],
          "name": "stderr"
        },
        {
          "output_type": "stream",
          "text": [
            "Training until validation scores don't improve for 200 rounds.\n",
            "[200]\ttraining's rmse: 0.819263\tvalid_1's rmse: 1.44162\n",
            "[400]\ttraining's rmse: 0.749295\tvalid_1's rmse: 1.44044\n",
            "Early stopping, best iteration is:\n",
            "[266]\ttraining's rmse: 0.791759\tvalid_1's rmse: 1.43427\n",
            "Site Id: 14, Meter: 2, Fold: 2, RMSE: 1.591899212625692\n"
          ],
          "name": "stdout"
        },
        {
          "output_type": "execute_result",
          "data": {
            "text/plain": [
              "56"
            ]
          },
          "metadata": {
            "tags": []
          },
          "execution_count": 79
        },
        {
          "output_type": "stream",
          "text": [
            "/usr/local/lib/python3.6/dist-packages/lightgbm/basic.py:1205: UserWarning: Using categorical_feature in Dataset.\n",
            "  warnings.warn('Using categorical_feature in Dataset.')\n",
            "/usr/local/lib/python3.6/dist-packages/lightgbm/basic.py:762: UserWarning: categorical_feature in param dict is overridden.\n",
            "  warnings.warn('categorical_feature in param dict is overridden.')\n"
          ],
          "name": "stderr"
        },
        {
          "output_type": "stream",
          "text": [
            "Training until validation scores don't improve for 200 rounds.\n",
            "[200]\ttraining's rmse: 0.818703\tvalid_1's rmse: 1.8461\n",
            "Early stopping, best iteration is:\n",
            "[86]\ttraining's rmse: 0.908887\tvalid_1's rmse: 1.84041\n",
            "Site Id: 14, Meter: 2, Fold: 3, RMSE: 2.107281491204497\n"
          ],
          "name": "stdout"
        },
        {
          "output_type": "execute_result",
          "data": {
            "text/plain": [
              "97"
            ]
          },
          "metadata": {
            "tags": []
          },
          "execution_count": 79
        },
        {
          "output_type": "stream",
          "text": [
            "\n",
            "\n",
            "\n",
            "\n",
            "\n",
            "\n",
            "\n",
            "\n",
            "meter_id:  75%|███████▌  | 3/4 [01:09<00:23, 23.69s/it]\u001b[A\u001b[A\u001b[A\u001b[A\u001b[A\u001b[A\u001b[A\u001b[A"
          ],
          "name": "stderr"
        },
        {
          "output_type": "stream",
          "text": [
            "\n",
            "Site Id: 14, Meter: 2, CV RMSE: 1.8516531875794093 \n",
            "\n",
            "3 fold CV for site_id:14, meter_id:3\n"
          ],
          "name": "stdout"
        },
        {
          "output_type": "stream",
          "text": [
            "/usr/local/lib/python3.6/dist-packages/lightgbm/basic.py:1205: UserWarning: Using categorical_feature in Dataset.\n",
            "  warnings.warn('Using categorical_feature in Dataset.')\n",
            "/usr/local/lib/python3.6/dist-packages/lightgbm/basic.py:762: UserWarning: categorical_feature in param dict is overridden.\n",
            "  warnings.warn('categorical_feature in param dict is overridden.')\n"
          ],
          "name": "stderr"
        },
        {
          "output_type": "stream",
          "text": [
            "Training until validation scores don't improve for 200 rounds.\n",
            "[200]\ttraining's rmse: 1.23046\tvalid_1's rmse: 2.03753\n",
            "Early stopping, best iteration is:\n",
            "[69]\ttraining's rmse: 1.37846\tvalid_1's rmse: 2.01772\n",
            "Site Id: 14, Meter: 3, Fold: 1, RMSE: 2.446849901267538\n"
          ],
          "name": "stdout"
        },
        {
          "output_type": "execute_result",
          "data": {
            "text/plain": [
              "81"
            ]
          },
          "metadata": {
            "tags": []
          },
          "execution_count": 79
        },
        {
          "output_type": "stream",
          "text": [
            "/usr/local/lib/python3.6/dist-packages/lightgbm/basic.py:1205: UserWarning: Using categorical_feature in Dataset.\n",
            "  warnings.warn('Using categorical_feature in Dataset.')\n",
            "/usr/local/lib/python3.6/dist-packages/lightgbm/basic.py:762: UserWarning: categorical_feature in param dict is overridden.\n",
            "  warnings.warn('categorical_feature in param dict is overridden.')\n"
          ],
          "name": "stderr"
        },
        {
          "output_type": "stream",
          "text": [
            "Training until validation scores don't improve for 200 rounds.\n",
            "[200]\ttraining's rmse: 1.29567\tvalid_1's rmse: 1.77903\n",
            "Early stopping, best iteration is:\n",
            "[63]\ttraining's rmse: 1.48229\tvalid_1's rmse: 1.74589\n",
            "Site Id: 14, Meter: 3, Fold: 2, RMSE: 1.8279919456507332\n"
          ],
          "name": "stdout"
        },
        {
          "output_type": "execute_result",
          "data": {
            "text/plain": [
              "12"
            ]
          },
          "metadata": {
            "tags": []
          },
          "execution_count": 79
        },
        {
          "output_type": "stream",
          "text": [
            "/usr/local/lib/python3.6/dist-packages/lightgbm/basic.py:1205: UserWarning: Using categorical_feature in Dataset.\n",
            "  warnings.warn('Using categorical_feature in Dataset.')\n",
            "/usr/local/lib/python3.6/dist-packages/lightgbm/basic.py:762: UserWarning: categorical_feature in param dict is overridden.\n",
            "  warnings.warn('categorical_feature in param dict is overridden.')\n"
          ],
          "name": "stderr"
        },
        {
          "output_type": "stream",
          "text": [
            "Training until validation scores don't improve for 200 rounds.\n",
            "[200]\ttraining's rmse: 1.17824\tvalid_1's rmse: 2.12538\n",
            "Early stopping, best iteration is:\n",
            "[65]\ttraining's rmse: 1.33698\tvalid_1's rmse: 2.09064\n",
            "Site Id: 14, Meter: 3, Fold: 3, RMSE: 2.001240772274728\n"
          ],
          "name": "stdout"
        },
        {
          "output_type": "execute_result",
          "data": {
            "text/plain": [
              "13"
            ]
          },
          "metadata": {
            "tags": []
          },
          "execution_count": 79
        },
        {
          "output_type": "stream",
          "text": [
            "\n",
            "\n",
            "\n",
            "\n",
            "\n",
            "\n",
            "\n",
            "\n",
            "meter_id: 100%|██████████| 4/4 [01:25<00:00, 21.23s/it]\u001b[A\u001b[A\u001b[A\u001b[A\u001b[A\u001b[A\u001b[A\u001b[A\n",
            "\n",
            "\n",
            "\n",
            "\n",
            "\n",
            "\n",
            "\n",
            "\u001b[A\u001b[A\u001b[A\u001b[A\u001b[A\u001b[A\u001b[A\u001b[A\n",
            "\n",
            "\n",
            "\n",
            "\n",
            "\n",
            "\n",
            "site_id:  94%|█████████▍| 15/16 [12:12<00:58, 58.36s/it]\u001b[A\u001b[A\u001b[A\u001b[A\u001b[A\u001b[A\u001b[A\n",
            "\n",
            "\n",
            "\n",
            "\n",
            "\n",
            "\n",
            "\n",
            "meter_id:   0%|          | 0/4 [00:00<?, ?it/s]\u001b[A\u001b[A\u001b[A\u001b[A\u001b[A\u001b[A\u001b[A\u001b[A"
          ],
          "name": "stderr"
        },
        {
          "output_type": "stream",
          "text": [
            "\n",
            "Site Id: 14, Meter: 3, CV RMSE: 2.108205894490933 \n",
            "\n",
            "3 fold CV for site_id:15, meter_id:0\n"
          ],
          "name": "stdout"
        },
        {
          "output_type": "stream",
          "text": [
            "/usr/local/lib/python3.6/dist-packages/lightgbm/basic.py:1205: UserWarning: Using categorical_feature in Dataset.\n",
            "  warnings.warn('Using categorical_feature in Dataset.')\n",
            "/usr/local/lib/python3.6/dist-packages/lightgbm/basic.py:762: UserWarning: categorical_feature in param dict is overridden.\n",
            "  warnings.warn('categorical_feature in param dict is overridden.')\n"
          ],
          "name": "stderr"
        },
        {
          "output_type": "stream",
          "text": [
            "Training until validation scores don't improve for 200 rounds.\n",
            "[200]\ttraining's rmse: 0.169291\tvalid_1's rmse: 0.378461\n",
            "[400]\ttraining's rmse: 0.14959\tvalid_1's rmse: 0.374819\n",
            "[600]\ttraining's rmse: 0.13851\tvalid_1's rmse: 0.373132\n",
            "[800]\ttraining's rmse: 0.131339\tvalid_1's rmse: 0.37255\n",
            "[1000]\ttraining's rmse: 0.126206\tvalid_1's rmse: 0.372288\n",
            "Did not meet early stopping. Best iteration is:\n",
            "[1000]\ttraining's rmse: 0.126206\tvalid_1's rmse: 0.372288\n",
            "Site Id: 15, Meter: 0, Fold: 1, RMSE: 0.35759084484337034\n"
          ],
          "name": "stdout"
        },
        {
          "output_type": "execute_result",
          "data": {
            "text/plain": [
              "12"
            ]
          },
          "metadata": {
            "tags": []
          },
          "execution_count": 79
        },
        {
          "output_type": "stream",
          "text": [
            "/usr/local/lib/python3.6/dist-packages/lightgbm/basic.py:1205: UserWarning: Using categorical_feature in Dataset.\n",
            "  warnings.warn('Using categorical_feature in Dataset.')\n",
            "/usr/local/lib/python3.6/dist-packages/lightgbm/basic.py:762: UserWarning: categorical_feature in param dict is overridden.\n",
            "  warnings.warn('categorical_feature in param dict is overridden.')\n"
          ],
          "name": "stderr"
        },
        {
          "output_type": "stream",
          "text": [
            "Training until validation scores don't improve for 200 rounds.\n",
            "[200]\ttraining's rmse: 0.171263\tvalid_1's rmse: 0.392169\n",
            "Early stopping, best iteration is:\n",
            "[69]\ttraining's rmse: 0.230845\tvalid_1's rmse: 0.379333\n",
            "Site Id: 15, Meter: 0, Fold: 2, RMSE: 0.3893752195537898\n"
          ],
          "name": "stdout"
        },
        {
          "output_type": "execute_result",
          "data": {
            "text/plain": [
              "23"
            ]
          },
          "metadata": {
            "tags": []
          },
          "execution_count": 79
        },
        {
          "output_type": "stream",
          "text": [
            "/usr/local/lib/python3.6/dist-packages/lightgbm/basic.py:1205: UserWarning: Using categorical_feature in Dataset.\n",
            "  warnings.warn('Using categorical_feature in Dataset.')\n",
            "/usr/local/lib/python3.6/dist-packages/lightgbm/basic.py:762: UserWarning: categorical_feature in param dict is overridden.\n",
            "  warnings.warn('categorical_feature in param dict is overridden.')\n"
          ],
          "name": "stderr"
        },
        {
          "output_type": "stream",
          "text": [
            "Training until validation scores don't improve for 200 rounds.\n",
            "[200]\ttraining's rmse: 0.176912\tvalid_1's rmse: 0.342136\n",
            "Early stopping, best iteration is:\n",
            "[70]\ttraining's rmse: 0.23932\tvalid_1's rmse: 0.316461\n",
            "Site Id: 15, Meter: 0, Fold: 3, RMSE: 0.3308925678802041\n"
          ],
          "name": "stdout"
        },
        {
          "output_type": "execute_result",
          "data": {
            "text/plain": [
              "29"
            ]
          },
          "metadata": {
            "tags": []
          },
          "execution_count": 79
        },
        {
          "output_type": "stream",
          "text": [
            "\n",
            "\n",
            "\n",
            "\n",
            "\n",
            "\n",
            "\n",
            "\n",
            "meter_id:  25%|██▌       | 1/4 [00:45<02:17, 45.85s/it]\u001b[A\u001b[A\u001b[A\u001b[A\u001b[A\u001b[A\u001b[A\u001b[A"
          ],
          "name": "stderr"
        },
        {
          "output_type": "stream",
          "text": [
            "\n",
            "Site Id: 15, Meter: 0, CV RMSE: 0.3600806200294004 \n",
            "\n",
            "3 fold CV for site_id:15, meter_id:1\n"
          ],
          "name": "stdout"
        },
        {
          "output_type": "stream",
          "text": [
            "/usr/local/lib/python3.6/dist-packages/lightgbm/basic.py:1205: UserWarning: Using categorical_feature in Dataset.\n",
            "  warnings.warn('Using categorical_feature in Dataset.')\n",
            "/usr/local/lib/python3.6/dist-packages/lightgbm/basic.py:762: UserWarning: categorical_feature in param dict is overridden.\n",
            "  warnings.warn('categorical_feature in param dict is overridden.')\n"
          ],
          "name": "stderr"
        },
        {
          "output_type": "stream",
          "text": [
            "Training until validation scores don't improve for 200 rounds.\n",
            "[200]\ttraining's rmse: 0.329165\tvalid_1's rmse: 0.694975\n",
            "[400]\ttraining's rmse: 0.294719\tvalid_1's rmse: 0.674827\n",
            "[600]\ttraining's rmse: 0.270937\tvalid_1's rmse: 0.665977\n",
            "[800]\ttraining's rmse: 0.256618\tvalid_1's rmse: 0.657577\n",
            "[1000]\ttraining's rmse: 0.245041\tvalid_1's rmse: 0.654936\n",
            "Did not meet early stopping. Best iteration is:\n",
            "[1000]\ttraining's rmse: 0.245041\tvalid_1's rmse: 0.654936\n",
            "Site Id: 15, Meter: 1, Fold: 1, RMSE: 0.6448990282564068\n"
          ],
          "name": "stdout"
        },
        {
          "output_type": "execute_result",
          "data": {
            "text/plain": [
              "698"
            ]
          },
          "metadata": {
            "tags": []
          },
          "execution_count": 79
        },
        {
          "output_type": "stream",
          "text": [
            "/usr/local/lib/python3.6/dist-packages/lightgbm/basic.py:1205: UserWarning: Using categorical_feature in Dataset.\n",
            "  warnings.warn('Using categorical_feature in Dataset.')\n",
            "/usr/local/lib/python3.6/dist-packages/lightgbm/basic.py:762: UserWarning: categorical_feature in param dict is overridden.\n",
            "  warnings.warn('categorical_feature in param dict is overridden.')\n"
          ],
          "name": "stderr"
        },
        {
          "output_type": "stream",
          "text": [
            "Training until validation scores don't improve for 200 rounds.\n",
            "[200]\ttraining's rmse: 0.347218\tvalid_1's rmse: 0.963329\n",
            "[400]\ttraining's rmse: 0.311054\tvalid_1's rmse: 0.979411\n",
            "Early stopping, best iteration is:\n",
            "[247]\ttraining's rmse: 0.336285\tvalid_1's rmse: 0.960604\n",
            "Site Id: 15, Meter: 1, Fold: 2, RMSE: 1.1053038705648914\n"
          ],
          "name": "stdout"
        },
        {
          "output_type": "execute_result",
          "data": {
            "text/plain": [
              "8"
            ]
          },
          "metadata": {
            "tags": []
          },
          "execution_count": 79
        },
        {
          "output_type": "stream",
          "text": [
            "/usr/local/lib/python3.6/dist-packages/lightgbm/basic.py:1205: UserWarning: Using categorical_feature in Dataset.\n",
            "  warnings.warn('Using categorical_feature in Dataset.')\n",
            "/usr/local/lib/python3.6/dist-packages/lightgbm/basic.py:762: UserWarning: categorical_feature in param dict is overridden.\n",
            "  warnings.warn('categorical_feature in param dict is overridden.')\n"
          ],
          "name": "stderr"
        },
        {
          "output_type": "stream",
          "text": [
            "Training until validation scores don't improve for 200 rounds.\n",
            "[200]\ttraining's rmse: 0.350344\tvalid_1's rmse: 0.966749\n",
            "[400]\ttraining's rmse: 0.311241\tvalid_1's rmse: 0.960516\n",
            "[600]\ttraining's rmse: 0.290043\tvalid_1's rmse: 0.958435\n",
            "Early stopping, best iteration is:\n",
            "[532]\ttraining's rmse: 0.296629\tvalid_1's rmse: 0.956335\n",
            "Site Id: 15, Meter: 1, Fold: 3, RMSE: 0.7369585030808679\n"
          ],
          "name": "stdout"
        },
        {
          "output_type": "execute_result",
          "data": {
            "text/plain": [
              "344"
            ]
          },
          "metadata": {
            "tags": []
          },
          "execution_count": 79
        },
        {
          "output_type": "stream",
          "text": [
            "\n",
            "\n",
            "\n",
            "\n",
            "\n",
            "\n",
            "\n",
            "\n",
            "meter_id:  50%|█████     | 2/4 [01:22<01:26, 43.12s/it]\u001b[A\u001b[A\u001b[A\u001b[A\u001b[A\u001b[A\u001b[A\u001b[A"
          ],
          "name": "stderr"
        },
        {
          "output_type": "stream",
          "text": [
            "\n",
            "Site Id: 15, Meter: 1, CV RMSE: 0.8525841577609765 \n",
            "\n",
            "3 fold CV for site_id:15, meter_id:2\n"
          ],
          "name": "stdout"
        },
        {
          "output_type": "stream",
          "text": [
            "/usr/local/lib/python3.6/dist-packages/lightgbm/basic.py:1205: UserWarning: Using categorical_feature in Dataset.\n",
            "  warnings.warn('Using categorical_feature in Dataset.')\n",
            "/usr/local/lib/python3.6/dist-packages/lightgbm/basic.py:762: UserWarning: categorical_feature in param dict is overridden.\n",
            "  warnings.warn('categorical_feature in param dict is overridden.')\n"
          ],
          "name": "stderr"
        },
        {
          "output_type": "stream",
          "text": [
            "Training until validation scores don't improve for 200 rounds.\n",
            "[200]\ttraining's rmse: 0.742297\tvalid_1's rmse: 1.17913\n",
            "Early stopping, best iteration is:\n",
            "[149]\ttraining's rmse: 0.757614\tvalid_1's rmse: 1.17806\n",
            "Site Id: 15, Meter: 2, Fold: 1, RMSE: 1.2496720092021403\n"
          ],
          "name": "stdout"
        },
        {
          "output_type": "execute_result",
          "data": {
            "text/plain": [
              "401"
            ]
          },
          "metadata": {
            "tags": []
          },
          "execution_count": 79
        },
        {
          "output_type": "stream",
          "text": [
            "/usr/local/lib/python3.6/dist-packages/lightgbm/basic.py:1205: UserWarning: Using categorical_feature in Dataset.\n",
            "  warnings.warn('Using categorical_feature in Dataset.')\n",
            "/usr/local/lib/python3.6/dist-packages/lightgbm/basic.py:762: UserWarning: categorical_feature in param dict is overridden.\n",
            "  warnings.warn('categorical_feature in param dict is overridden.')\n"
          ],
          "name": "stderr"
        },
        {
          "output_type": "stream",
          "text": [
            "Training until validation scores don't improve for 200 rounds.\n",
            "[200]\ttraining's rmse: 0.562017\tvalid_1's rmse: 1.09542\n",
            "[400]\ttraining's rmse: 0.52034\tvalid_1's rmse: 1.0962\n",
            "Early stopping, best iteration is:\n",
            "[204]\ttraining's rmse: 0.560412\tvalid_1's rmse: 1.09504\n",
            "Site Id: 15, Meter: 2, Fold: 2, RMSE: 1.3576243797607053\n"
          ],
          "name": "stdout"
        },
        {
          "output_type": "execute_result",
          "data": {
            "text/plain": [
              "565"
            ]
          },
          "metadata": {
            "tags": []
          },
          "execution_count": 79
        },
        {
          "output_type": "stream",
          "text": [
            "/usr/local/lib/python3.6/dist-packages/lightgbm/basic.py:1205: UserWarning: Using categorical_feature in Dataset.\n",
            "  warnings.warn('Using categorical_feature in Dataset.')\n",
            "/usr/local/lib/python3.6/dist-packages/lightgbm/basic.py:762: UserWarning: categorical_feature in param dict is overridden.\n",
            "  warnings.warn('categorical_feature in param dict is overridden.')\n"
          ],
          "name": "stderr"
        },
        {
          "output_type": "stream",
          "text": [
            "Training until validation scores don't improve for 200 rounds.\n",
            "[200]\ttraining's rmse: 0.754919\tvalid_1's rmse: 1.16674\n",
            "Early stopping, best iteration is:\n",
            "[74]\ttraining's rmse: 0.820263\tvalid_1's rmse: 1.15035\n",
            "Site Id: 15, Meter: 2, Fold: 3, RMSE: 1.13955153224757\n"
          ],
          "name": "stdout"
        },
        {
          "output_type": "execute_result",
          "data": {
            "text/plain": [
              "43"
            ]
          },
          "metadata": {
            "tags": []
          },
          "execution_count": 79
        },
        {
          "output_type": "stream",
          "text": [
            "\n",
            "\n",
            "\n",
            "\n",
            "\n",
            "\n",
            "\n",
            "\n",
            "meter_id:  75%|███████▌  | 3/4 [01:40<00:35, 35.43s/it]\u001b[A\u001b[A\u001b[A\u001b[A\u001b[A\u001b[A\u001b[A\u001b[A"
          ],
          "name": "stderr"
        },
        {
          "output_type": "stream",
          "text": [
            "\n",
            "Site Id: 15, Meter: 2, CV RMSE: 1.252118442447537 \n",
            "\n",
            "3 fold CV for site_id:15, meter_id:3\n",
            "Training until validation scores don't improve for 200 rounds.\n"
          ],
          "name": "stdout"
        },
        {
          "output_type": "stream",
          "text": [
            "/usr/local/lib/python3.6/dist-packages/lightgbm/basic.py:1205: UserWarning: Using categorical_feature in Dataset.\n",
            "  warnings.warn('Using categorical_feature in Dataset.')\n",
            "/usr/local/lib/python3.6/dist-packages/lightgbm/basic.py:762: UserWarning: categorical_feature in param dict is overridden.\n",
            "  warnings.warn('categorical_feature in param dict is overridden.')\n"
          ],
          "name": "stderr"
        },
        {
          "output_type": "stream",
          "text": [
            "[200]\ttraining's rmse: 0.234242\tvalid_1's rmse: 0.709158\n",
            "[400]\ttraining's rmse: 0.187599\tvalid_1's rmse: 0.693863\n",
            "[600]\ttraining's rmse: 0.16018\tvalid_1's rmse: 0.686313\n",
            "[800]\ttraining's rmse: 0.138332\tvalid_1's rmse: 0.682042\n",
            "[1000]\ttraining's rmse: 0.121698\tvalid_1's rmse: 0.679892\n",
            "Did not meet early stopping. Best iteration is:\n",
            "[1000]\ttraining's rmse: 0.121698\tvalid_1's rmse: 0.679892\n",
            "Site Id: 15, Meter: 3, Fold: 1, RMSE: 0.6798923632808436\n"
          ],
          "name": "stdout"
        },
        {
          "output_type": "execute_result",
          "data": {
            "text/plain": [
              "704"
            ]
          },
          "metadata": {
            "tags": []
          },
          "execution_count": 79
        },
        {
          "output_type": "stream",
          "text": [
            "Training until validation scores don't improve for 200 rounds.\n"
          ],
          "name": "stdout"
        },
        {
          "output_type": "stream",
          "text": [
            "/usr/local/lib/python3.6/dist-packages/lightgbm/basic.py:1205: UserWarning: Using categorical_feature in Dataset.\n",
            "  warnings.warn('Using categorical_feature in Dataset.')\n",
            "/usr/local/lib/python3.6/dist-packages/lightgbm/basic.py:762: UserWarning: categorical_feature in param dict is overridden.\n",
            "  warnings.warn('categorical_feature in param dict is overridden.')\n"
          ],
          "name": "stderr"
        },
        {
          "output_type": "stream",
          "text": [
            "[200]\ttraining's rmse: 0.231783\tvalid_1's rmse: 0.880416\n",
            "Early stopping, best iteration is:\n",
            "[36]\ttraining's rmse: 0.466307\tvalid_1's rmse: 0.864972\n",
            "Site Id: 15, Meter: 3, Fold: 2, RMSE: 0.795881794342694\n"
          ],
          "name": "stdout"
        },
        {
          "output_type": "execute_result",
          "data": {
            "text/plain": [
              "679"
            ]
          },
          "metadata": {
            "tags": []
          },
          "execution_count": 79
        },
        {
          "output_type": "stream",
          "text": [
            "Training until validation scores don't improve for 200 rounds.\n"
          ],
          "name": "stdout"
        },
        {
          "output_type": "stream",
          "text": [
            "/usr/local/lib/python3.6/dist-packages/lightgbm/basic.py:1205: UserWarning: Using categorical_feature in Dataset.\n",
            "  warnings.warn('Using categorical_feature in Dataset.')\n",
            "/usr/local/lib/python3.6/dist-packages/lightgbm/basic.py:762: UserWarning: categorical_feature in param dict is overridden.\n",
            "  warnings.warn('categorical_feature in param dict is overridden.')\n"
          ],
          "name": "stderr"
        },
        {
          "output_type": "stream",
          "text": [
            "[200]\ttraining's rmse: 0.197881\tvalid_1's rmse: 0.669787\n",
            "[400]\ttraining's rmse: 0.160875\tvalid_1's rmse: 0.670508\n",
            "Early stopping, best iteration is:\n",
            "[325]\ttraining's rmse: 0.172382\tvalid_1's rmse: 0.669482\n",
            "Site Id: 15, Meter: 3, Fold: 3, RMSE: 0.8729131377805395\n"
          ],
          "name": "stdout"
        },
        {
          "output_type": "execute_result",
          "data": {
            "text/plain": [
              "296"
            ]
          },
          "metadata": {
            "tags": []
          },
          "execution_count": 79
        },
        {
          "output_type": "stream",
          "text": [
            "\n",
            "\n",
            "\n",
            "\n",
            "\n",
            "\n",
            "\n",
            "\n",
            "meter_id: 100%|██████████| 4/4 [01:43<00:00, 25.70s/it]\u001b[A\u001b[A\u001b[A\u001b[A\u001b[A\u001b[A\u001b[A\u001b[A\n",
            "\n",
            "\n",
            "\n",
            "\n",
            "\n",
            "\n",
            "\n",
            "\u001b[A\u001b[A\u001b[A\u001b[A\u001b[A\u001b[A\u001b[A\u001b[A\n",
            "\n",
            "\n",
            "\n",
            "\n",
            "\n",
            "\n",
            "site_id: 100%|██████████| 16/16 [13:55<00:00, 71.78s/it]\u001b[A\u001b[A\u001b[A\u001b[A\u001b[A\u001b[A\u001b[A\n",
            "\n",
            "\n",
            "\n",
            "\n",
            "\n",
            "\n",
            "\u001b[A\u001b[A\u001b[A\u001b[A\u001b[A\u001b[A\u001b[A"
          ],
          "name": "stderr"
        },
        {
          "output_type": "stream",
          "text": [
            "\n",
            "Site Id: 15, Meter: 3, CV RMSE: 0.7868986966104192 \n",
            "\n"
          ],
          "name": "stdout"
        }
      ]
    },
    {
      "cell_type": "code",
      "metadata": {
        "id": "RDZz6vdNV4nf",
        "colab_type": "code",
        "colab": {
          "base_uri": "https://localhost:8080/",
          "height": 1000
        },
        "outputId": "afd88097-9d60-4564-9af7-8922b1c63972"
      },
      "source": [
        "cv_scores"
      ],
      "execution_count": 80,
      "outputs": [
        {
          "output_type": "execute_result",
          "data": {
            "text/plain": [
              "{'cv_score': [3.935358013260487,\n",
              "  2.13305276402256,\n",
              "  0.6771313997579412,\n",
              "  2.4115705561653846,\n",
              "  0.5661726719176968,\n",
              "  1.4138618010831552,\n",
              "  1.3610703594632192,\n",
              "  0.4761444395398905,\n",
              "  0.2898011878825949,\n",
              "  0.8033793930656978,\n",
              "  0.2631078289468036,\n",
              "  2.564007537864365,\n",
              "  2.196832547468289,\n",
              "  2.0983602135185624,\n",
              "  2.6751453714805917,\n",
              "  3.4577236977777077,\n",
              "  3.797742068890129,\n",
              "  0.5618056588682785,\n",
              "  1.025155914192542,\n",
              "  1.480441655450357,\n",
              "  1.5215287304480047,\n",
              "  0.5002407653094562,\n",
              "  1.7981621618827819,\n",
              "  3.1247864603800166,\n",
              "  0.3869636524739717,\n",
              "  2.705638145191532,\n",
              "  2.2653732829840876,\n",
              "  0.4367264979557901,\n",
              "  0.6182618700505748,\n",
              "  1.9603613024294908,\n",
              "  2.0794999355856474,\n",
              "  1.0565531242969033,\n",
              "  1.8948528330254182,\n",
              "  1.8396060279611977,\n",
              "  2.0920275397309998,\n",
              "  0.3592862107591214,\n",
              "  0.8290538006340553,\n",
              "  1.2489493070701385,\n",
              "  0.7828957651346924],\n",
              " 'meter': [0,\n",
              "  1,\n",
              "  0,\n",
              "  3,\n",
              "  0,\n",
              "  1,\n",
              "  3,\n",
              "  0,\n",
              "  0,\n",
              "  0,\n",
              "  0,\n",
              "  1,\n",
              "  2,\n",
              "  0,\n",
              "  1,\n",
              "  2,\n",
              "  3,\n",
              "  0,\n",
              "  0,\n",
              "  1,\n",
              "  2,\n",
              "  0,\n",
              "  1,\n",
              "  3,\n",
              "  0,\n",
              "  1,\n",
              "  3,\n",
              "  0,\n",
              "  0,\n",
              "  1,\n",
              "  2,\n",
              "  0,\n",
              "  1,\n",
              "  2,\n",
              "  3,\n",
              "  0,\n",
              "  1,\n",
              "  2,\n",
              "  3],\n",
              " 'site_id': [0,\n",
              "  0,\n",
              "  1,\n",
              "  1,\n",
              "  2,\n",
              "  2,\n",
              "  2,\n",
              "  3,\n",
              "  4,\n",
              "  5,\n",
              "  6,\n",
              "  6,\n",
              "  6,\n",
              "  7,\n",
              "  7,\n",
              "  7,\n",
              "  7,\n",
              "  8,\n",
              "  9,\n",
              "  9,\n",
              "  9,\n",
              "  10,\n",
              "  10,\n",
              "  10,\n",
              "  11,\n",
              "  11,\n",
              "  11,\n",
              "  12,\n",
              "  13,\n",
              "  13,\n",
              "  13,\n",
              "  14,\n",
              "  14,\n",
              "  14,\n",
              "  14,\n",
              "  15,\n",
              "  15,\n",
              "  15,\n",
              "  15]}"
            ]
          },
          "metadata": {
            "tags": []
          },
          "execution_count": 80
        }
      ]
    },
    {
      "cell_type": "code",
      "metadata": {
        "id": "4v5zT2n5Vf59",
        "colab_type": "code",
        "colab": {
          "base_uri": "https://localhost:8080/",
          "height": 34
        },
        "outputId": "bdc658f2-466e-4fc1-ea26-8b8bc8bc37b2"
      },
      "source": [
        "type(models)\n",
        "len(models['model'])"
      ],
      "execution_count": 85,
      "outputs": [
        {
          "output_type": "execute_result",
          "data": {
            "text/plain": [
              "dict"
            ]
          },
          "metadata": {
            "tags": []
          },
          "execution_count": 85
        },
        {
          "output_type": "execute_result",
          "data": {
            "text/plain": [
              "117"
            ]
          },
          "metadata": {
            "tags": []
          },
          "execution_count": 85
        }
      ]
    },
    {
      "cell_type": "code",
      "metadata": {
        "id": "bElQcRGaQDIh",
        "colab_type": "code",
        "colab": {
          "base_uri": "https://localhost:8080/",
          "height": 173
        },
        "outputId": "40460840-2ef1-4a39-9319-55e05ecad77e"
      },
      "source": [
        "cv_scores"
      ],
      "execution_count": 69,
      "outputs": [
        {
          "output_type": "execute_result",
          "data": {
            "text/plain": [
              "{'cv_score': [3.8864075692567397,\n",
              "  0.6771313997579412,\n",
              "  0.5671451033764106,\n",
              "  0.4790531736622141,\n",
              "  0.2897623150712714,\n",
              "  3.8864075692567397,\n",
              "  0.6771313997579412],\n",
              " 'meter': [0, 0, 0, 0, 0, 0, 0],\n",
              " 'site_id': [0, 1, 2, 3, 4, 0, 1]}"
            ]
          },
          "metadata": {
            "tags": []
          },
          "execution_count": 69
        }
      ]
    },
    {
      "cell_type": "code",
      "metadata": {
        "id": "6enrRLp7EcOO",
        "colab_type": "code",
        "colab": {}
      },
      "source": [
        "for site_id in tqdm(range(1), desc=\"site_id\"):\n",
        "  for meter in tqdm(range(4), desc='meter'):\n",
        "\n",
        "\n",
        "    print(cv, \"fold CV for site_id:\", site_id)\n",
        "    kf = KFold(n_splits=cv, random_state=seed)\n",
        "    models[site_id] = []\n",
        "\n",
        "    X_train_site = df_train[df_train.site_id==site_id & df_train.meter==meter].reset_index(drop=True)\n",
        "    y_train_site = X_train_site.log_meter_reading\n",
        "    y_pred_train_site = np.zeros(X_train_site.shape[0])"
      ],
      "execution_count": 0,
      "outputs": []
    },
    {
      "cell_type": "markdown",
      "metadata": {
        "id": "MDeH1ebKLgXL",
        "colab_type": "text"
      },
      "source": [
        "# LGB Model"
      ]
    },
    {
      "cell_type": "code",
      "metadata": {
        "id": "31brkX3m1Yqo",
        "colab_type": "code",
        "outputId": "7dc9c0b4-e617-4d74-d383-ffa4a4445ac6",
        "colab": {
          "base_uri": "https://localhost:8080/",
          "height": 1000
        }
      },
      "source": [
        "cv = 3\n",
        "seed = 42\n",
        "models = {}\n",
        "cv_scores = {\"site_id\": [], \"cv_score\": []}\n",
        "\n",
        "for site_id in tqdm(range(16), desc=\"site_id\"):\n",
        "    print(cv, \"fold CV for site_id:\", site_id)\n",
        "    kf = KFold(n_splits=cv, random_state=seed)\n",
        "    models[site_id] = []\n",
        "\n",
        "    X_train_site = df_train[df_train.site_id==site_id].reset_index(drop=True)\n",
        "    y_train_site = X_train_site.log_meter_reading\n",
        "    y_pred_train_site = np.zeros(X_train_site.shape[0])   \n",
        "\n",
        "    score = 0\n",
        "\n",
        "\n",
        "    for fold, (train_index, valid_index) in enumerate(kf.split(X_train_site, y_train_site)):\n",
        "            X_train, X_valid = X_train_site.loc[train_index, all_features], X_train_site.loc[valid_index, all_features]\n",
        "            y_train, y_valid = y_train_site.iloc[train_index], y_train_site.iloc[valid_index]\n",
        "\n",
        "            dtrain = lgb.Dataset(X_train, label=y_train, categorical_feature=categorical_features)\n",
        "            dvalid = lgb.Dataset(X_valid, label=y_valid, categorical_feature=categorical_features)\n",
        "\n",
        "            watchlist = [dtrain, dvalid]\n",
        "\n",
        "            params = {\"objective\": \"regression\",\n",
        "                      \"num_leaves\": 40,\n",
        "                      \"learning_rate\": 0.05,\n",
        "                      \"bagging_fraction\": 0.9,\n",
        "                      \"feature_fraction\": 0.85,\n",
        "                      \"metric\": \"rmse\"\n",
        "                      }\n",
        "\n",
        "            model_lgb = lgb.train(params, train_set=dtrain, num_boost_round=2000, valid_sets=watchlist, verbose_eval=200, early_stopping_rounds=200)\n",
        "            models[site_id].append(model_lgb)\n",
        "\n",
        "            y_pred_valid = model_lgb.predict(X_valid, num_iteration=model_lgb.best_iteration)\n",
        "            y_pred_train_site[valid_index] = y_pred_valid\n",
        "\n",
        "            rmse = np.sqrt(mean_squared_error(y_valid, y_pred_valid))\n",
        "            print(\"Site Id:\", site_id, \", Fold:\", fold+1, \", RMSE:\", rmse)\n",
        "            score += rmse / cv\n",
        "\n",
        "            gc.collect()\n",
        "\n",
        "    cv_scores[\"site_id\"].append(site_id)\n",
        "    cv_scores[\"cv_score\"].append(score)\n",
        "        \n",
        "    print(\"\\nSite Id:\", site_id, \", CV RMSE:\", np.sqrt(mean_squared_error(y_train_site, y_pred_train_site)), \"\\n\")            \n"
      ],
      "execution_count": 0,
      "outputs": [
        {
          "output_type": "stream",
          "text": [
            "\rsite_id:   0%|          | 0/16 [00:00<?, ?it/s]"
          ],
          "name": "stderr"
        },
        {
          "output_type": "stream",
          "text": [
            "3 fold CV for site_id: 0\n"
          ],
          "name": "stdout"
        },
        {
          "output_type": "stream",
          "text": [
            "/usr/local/lib/python3.6/dist-packages/lightgbm/basic.py:1205: UserWarning: Using categorical_feature in Dataset.\n",
            "  warnings.warn('Using categorical_feature in Dataset.')\n",
            "/usr/local/lib/python3.6/dist-packages/lightgbm/basic.py:762: UserWarning: categorical_feature in param dict is overridden.\n",
            "  warnings.warn('categorical_feature in param dict is overridden.')\n"
          ],
          "name": "stderr"
        },
        {
          "output_type": "stream",
          "text": [
            "Training until validation scores don't improve for 200 rounds.\n",
            "[200]\ttraining's rmse: 0.467245\tvalid_1's rmse: 4.49038\n",
            "[400]\ttraining's rmse: 0.410099\tvalid_1's rmse: 4.49347\n",
            "Early stopping, best iteration is:\n",
            "[208]\ttraining's rmse: 0.464324\tvalid_1's rmse: 4.48955\n",
            "Site Id: 0 , Fold: 1 , RMSE: 5.061626620195897\n"
          ],
          "name": "stdout"
        },
        {
          "output_type": "execute_result",
          "data": {
            "text/plain": [
              "39"
            ]
          },
          "metadata": {
            "tags": []
          },
          "execution_count": 39
        },
        {
          "output_type": "stream",
          "text": [
            "/usr/local/lib/python3.6/dist-packages/lightgbm/basic.py:1205: UserWarning: Using categorical_feature in Dataset.\n",
            "  warnings.warn('Using categorical_feature in Dataset.')\n",
            "/usr/local/lib/python3.6/dist-packages/lightgbm/basic.py:762: UserWarning: categorical_feature in param dict is overridden.\n",
            "  warnings.warn('categorical_feature in param dict is overridden.')\n"
          ],
          "name": "stderr"
        },
        {
          "output_type": "stream",
          "text": [
            "Training until validation scores don't improve for 200 rounds.\n",
            "[200]\ttraining's rmse: 0.425697\tvalid_1's rmse: 1.69245\n",
            "Early stopping, best iteration is:\n",
            "[158]\ttraining's rmse: 0.442336\tvalid_1's rmse: 1.68768\n",
            "Site Id: 0 , Fold: 2 , RMSE: 4.1019353558018095\n"
          ],
          "name": "stdout"
        },
        {
          "output_type": "execute_result",
          "data": {
            "text/plain": [
              "123"
            ]
          },
          "metadata": {
            "tags": []
          },
          "execution_count": 39
        },
        {
          "output_type": "stream",
          "text": [
            "/usr/local/lib/python3.6/dist-packages/lightgbm/basic.py:1205: UserWarning: Using categorical_feature in Dataset.\n",
            "  warnings.warn('Using categorical_feature in Dataset.')\n",
            "/usr/local/lib/python3.6/dist-packages/lightgbm/basic.py:762: UserWarning: categorical_feature in param dict is overridden.\n",
            "  warnings.warn('categorical_feature in param dict is overridden.')\n"
          ],
          "name": "stderr"
        },
        {
          "output_type": "stream",
          "text": [
            "Training until validation scores don't improve for 200 rounds.\n",
            "[200]\ttraining's rmse: 0.428499\tvalid_1's rmse: 4.49761\n",
            "Early stopping, best iteration is:\n",
            "[1]\ttraining's rmse: 2.98465\tvalid_1's rmse: 3.15814\n",
            "Site Id: 0 , Fold: 3 , RMSE: 3.098929732629638\n"
          ],
          "name": "stdout"
        },
        {
          "output_type": "execute_result",
          "data": {
            "text/plain": [
              "507"
            ]
          },
          "metadata": {
            "tags": []
          },
          "execution_count": 39
        },
        {
          "output_type": "stream",
          "text": [
            "\rsite_id:   6%|▋         | 1/16 [00:40<10:08, 40.55s/it]"
          ],
          "name": "stderr"
        },
        {
          "output_type": "stream",
          "text": [
            "\n",
            "Site Id: 0 , CV RMSE: 4.165306160716073 \n",
            "\n",
            "3 fold CV for site_id: 1\n"
          ],
          "name": "stdout"
        },
        {
          "output_type": "stream",
          "text": [
            "/usr/local/lib/python3.6/dist-packages/lightgbm/basic.py:1205: UserWarning: Using categorical_feature in Dataset.\n",
            "  warnings.warn('Using categorical_feature in Dataset.')\n",
            "/usr/local/lib/python3.6/dist-packages/lightgbm/basic.py:762: UserWarning: categorical_feature in param dict is overridden.\n",
            "  warnings.warn('categorical_feature in param dict is overridden.')\n"
          ],
          "name": "stderr"
        },
        {
          "output_type": "stream",
          "text": [
            "Training until validation scores don't improve for 200 rounds.\n",
            "[200]\ttraining's rmse: 0.522274\tvalid_1's rmse: 0.946174\n",
            "Early stopping, best iteration is:\n",
            "[40]\ttraining's rmse: 0.696435\tvalid_1's rmse: 0.88439\n",
            "Site Id: 1 , Fold: 1 , RMSE: 1.1862793289686282\n"
          ],
          "name": "stdout"
        },
        {
          "output_type": "execute_result",
          "data": {
            "text/plain": [
              "417"
            ]
          },
          "metadata": {
            "tags": []
          },
          "execution_count": 39
        },
        {
          "output_type": "stream",
          "text": [
            "/usr/local/lib/python3.6/dist-packages/lightgbm/basic.py:1205: UserWarning: Using categorical_feature in Dataset.\n",
            "  warnings.warn('Using categorical_feature in Dataset.')\n",
            "/usr/local/lib/python3.6/dist-packages/lightgbm/basic.py:762: UserWarning: categorical_feature in param dict is overridden.\n",
            "  warnings.warn('categorical_feature in param dict is overridden.')\n"
          ],
          "name": "stderr"
        },
        {
          "output_type": "stream",
          "text": [
            "Training until validation scores don't improve for 200 rounds.\n",
            "[200]\ttraining's rmse: 0.500976\tvalid_1's rmse: 1.10535\n",
            "[400]\ttraining's rmse: 0.467268\tvalid_1's rmse: 1.1049\n",
            "[600]\ttraining's rmse: 0.442345\tvalid_1's rmse: 1.10403\n",
            "Early stopping, best iteration is:\n",
            "[448]\ttraining's rmse: 0.461522\tvalid_1's rmse: 1.10255\n",
            "Site Id: 1 , Fold: 2 , RMSE: 1.1432059480042949\n"
          ],
          "name": "stdout"
        },
        {
          "output_type": "execute_result",
          "data": {
            "text/plain": [
              "180"
            ]
          },
          "metadata": {
            "tags": []
          },
          "execution_count": 39
        },
        {
          "output_type": "stream",
          "text": [
            "/usr/local/lib/python3.6/dist-packages/lightgbm/basic.py:1205: UserWarning: Using categorical_feature in Dataset.\n",
            "  warnings.warn('Using categorical_feature in Dataset.')\n",
            "/usr/local/lib/python3.6/dist-packages/lightgbm/basic.py:762: UserWarning: categorical_feature in param dict is overridden.\n",
            "  warnings.warn('categorical_feature in param dict is overridden.')\n"
          ],
          "name": "stderr"
        },
        {
          "output_type": "stream",
          "text": [
            "Training until validation scores don't improve for 200 rounds.\n",
            "[200]\ttraining's rmse: 0.511989\tvalid_1's rmse: 1.15777\n",
            "Early stopping, best iteration is:\n",
            "[101]\ttraining's rmse: 0.535569\tvalid_1's rmse: 1.14696\n",
            "Site Id: 1 , Fold: 3 , RMSE: 1.1324795084848391\n"
          ],
          "name": "stdout"
        },
        {
          "output_type": "execute_result",
          "data": {
            "text/plain": [
              "12"
            ]
          },
          "metadata": {
            "tags": []
          },
          "execution_count": 39
        },
        {
          "output_type": "stream",
          "text": [
            "\rsite_id:  12%|█▎        | 2/16 [01:06<08:25, 36.09s/it]"
          ],
          "name": "stderr"
        },
        {
          "output_type": "stream",
          "text": [
            "\n",
            "Site Id: 1 , CV RMSE: 1.1542224988812493 \n",
            "\n",
            "3 fold CV for site_id: 2\n"
          ],
          "name": "stdout"
        },
        {
          "output_type": "stream",
          "text": [
            "/usr/local/lib/python3.6/dist-packages/lightgbm/basic.py:1205: UserWarning: Using categorical_feature in Dataset.\n",
            "  warnings.warn('Using categorical_feature in Dataset.')\n",
            "/usr/local/lib/python3.6/dist-packages/lightgbm/basic.py:762: UserWarning: categorical_feature in param dict is overridden.\n",
            "  warnings.warn('categorical_feature in param dict is overridden.')\n"
          ],
          "name": "stderr"
        },
        {
          "output_type": "stream",
          "text": [
            "Training until validation scores don't improve for 200 rounds.\n",
            "[200]\ttraining's rmse: 0.602032\tvalid_1's rmse: 1.08987\n",
            "[400]\ttraining's rmse: 0.537669\tvalid_1's rmse: 1.07834\n",
            "[600]\ttraining's rmse: 0.503994\tvalid_1's rmse: 1.07542\n",
            "[800]\ttraining's rmse: 0.479686\tvalid_1's rmse: 1.07233\n",
            "[1000]\ttraining's rmse: 0.460663\tvalid_1's rmse: 1.07038\n",
            "[1200]\ttraining's rmse: 0.445137\tvalid_1's rmse: 1.06922\n",
            "[1400]\ttraining's rmse: 0.43255\tvalid_1's rmse: 1.06883\n",
            "[1600]\ttraining's rmse: 0.421147\tvalid_1's rmse: 1.0701\n",
            "Early stopping, best iteration is:\n",
            "[1410]\ttraining's rmse: 0.431771\tvalid_1's rmse: 1.0687\n",
            "Site Id: 2 , Fold: 1 , RMSE: 1.0687011084925668\n"
          ],
          "name": "stdout"
        },
        {
          "output_type": "execute_result",
          "data": {
            "text/plain": [
              "324"
            ]
          },
          "metadata": {
            "tags": []
          },
          "execution_count": 39
        },
        {
          "output_type": "stream",
          "text": [
            "/usr/local/lib/python3.6/dist-packages/lightgbm/basic.py:1205: UserWarning: Using categorical_feature in Dataset.\n",
            "  warnings.warn('Using categorical_feature in Dataset.')\n",
            "/usr/local/lib/python3.6/dist-packages/lightgbm/basic.py:762: UserWarning: categorical_feature in param dict is overridden.\n",
            "  warnings.warn('categorical_feature in param dict is overridden.')\n"
          ],
          "name": "stderr"
        },
        {
          "output_type": "stream",
          "text": [
            "Training until validation scores don't improve for 200 rounds.\n",
            "[200]\ttraining's rmse: 0.645964\tvalid_1's rmse: 1.0771\n",
            "Early stopping, best iteration is:\n",
            "[174]\ttraining's rmse: 0.659321\tvalid_1's rmse: 1.07074\n",
            "Site Id: 2 , Fold: 2 , RMSE: 1.0299812355899953\n"
          ],
          "name": "stdout"
        },
        {
          "output_type": "execute_result",
          "data": {
            "text/plain": [
              "297"
            ]
          },
          "metadata": {
            "tags": []
          },
          "execution_count": 39
        },
        {
          "output_type": "stream",
          "text": [
            "/usr/local/lib/python3.6/dist-packages/lightgbm/basic.py:1205: UserWarning: Using categorical_feature in Dataset.\n",
            "  warnings.warn('Using categorical_feature in Dataset.')\n",
            "/usr/local/lib/python3.6/dist-packages/lightgbm/basic.py:762: UserWarning: categorical_feature in param dict is overridden.\n",
            "  warnings.warn('categorical_feature in param dict is overridden.')\n"
          ],
          "name": "stderr"
        },
        {
          "output_type": "stream",
          "text": [
            "Training until validation scores don't improve for 200 rounds.\n",
            "[200]\ttraining's rmse: 0.578522\tvalid_1's rmse: 1.20278\n",
            "Early stopping, best iteration is:\n",
            "[66]\ttraining's rmse: 0.734189\tvalid_1's rmse: 1.1754\n",
            "Site Id: 2 , Fold: 3 , RMSE: 1.0586520722941768\n"
          ],
          "name": "stdout"
        },
        {
          "output_type": "execute_result",
          "data": {
            "text/plain": [
              "153"
            ]
          },
          "metadata": {
            "tags": []
          },
          "execution_count": 39
        },
        {
          "output_type": "stream",
          "text": [
            "\rsite_id:  19%|█▉        | 3/16 [04:26<18:28, 85.26s/it]"
          ],
          "name": "stderr"
        },
        {
          "output_type": "stream",
          "text": [
            "\n",
            "Site Id: 2 , CV RMSE: 1.0525726578110515 \n",
            "\n",
            "3 fold CV for site_id: 3\n"
          ],
          "name": "stdout"
        },
        {
          "output_type": "stream",
          "text": [
            "/usr/local/lib/python3.6/dist-packages/lightgbm/basic.py:1205: UserWarning: Using categorical_feature in Dataset.\n",
            "  warnings.warn('Using categorical_feature in Dataset.')\n",
            "/usr/local/lib/python3.6/dist-packages/lightgbm/basic.py:762: UserWarning: categorical_feature in param dict is overridden.\n",
            "  warnings.warn('categorical_feature in param dict is overridden.')\n"
          ],
          "name": "stderr"
        },
        {
          "output_type": "stream",
          "text": [
            "Training until validation scores don't improve for 200 rounds.\n",
            "[200]\ttraining's rmse: 0.261626\tvalid_1's rmse: 0.47574\n",
            "[400]\ttraining's rmse: 0.224696\tvalid_1's rmse: 0.474353\n",
            "[600]\ttraining's rmse: 0.206665\tvalid_1's rmse: 0.473995\n",
            "Early stopping, best iteration is:\n",
            "[469]\ttraining's rmse: 0.21672\tvalid_1's rmse: 0.473147\n",
            "Site Id: 3 , Fold: 1 , RMSE: 0.4731466486310106\n"
          ],
          "name": "stdout"
        },
        {
          "output_type": "execute_result",
          "data": {
            "text/plain": [
              "438"
            ]
          },
          "metadata": {
            "tags": []
          },
          "execution_count": 39
        },
        {
          "output_type": "stream",
          "text": [
            "/usr/local/lib/python3.6/dist-packages/lightgbm/basic.py:1205: UserWarning: Using categorical_feature in Dataset.\n",
            "  warnings.warn('Using categorical_feature in Dataset.')\n",
            "/usr/local/lib/python3.6/dist-packages/lightgbm/basic.py:762: UserWarning: categorical_feature in param dict is overridden.\n",
            "  warnings.warn('categorical_feature in param dict is overridden.')\n"
          ],
          "name": "stderr"
        },
        {
          "output_type": "stream",
          "text": [
            "Training until validation scores don't improve for 200 rounds.\n",
            "[200]\ttraining's rmse: 0.264676\tvalid_1's rmse: 0.503329\n",
            "Early stopping, best iteration is:\n",
            "[120]\ttraining's rmse: 0.299359\tvalid_1's rmse: 0.494416\n",
            "Site Id: 3 , Fold: 2 , RMSE: 0.4814143342149957\n"
          ],
          "name": "stdout"
        },
        {
          "output_type": "execute_result",
          "data": {
            "text/plain": [
              "219"
            ]
          },
          "metadata": {
            "tags": []
          },
          "execution_count": 39
        },
        {
          "output_type": "stream",
          "text": [
            "/usr/local/lib/python3.6/dist-packages/lightgbm/basic.py:1205: UserWarning: Using categorical_feature in Dataset.\n",
            "  warnings.warn('Using categorical_feature in Dataset.')\n",
            "/usr/local/lib/python3.6/dist-packages/lightgbm/basic.py:762: UserWarning: categorical_feature in param dict is overridden.\n",
            "  warnings.warn('categorical_feature in param dict is overridden.')\n"
          ],
          "name": "stderr"
        },
        {
          "output_type": "stream",
          "text": [
            "Training until validation scores don't improve for 200 rounds.\n",
            "[200]\ttraining's rmse: 0.251956\tvalid_1's rmse: 0.488728\n",
            "[400]\ttraining's rmse: 0.216039\tvalid_1's rmse: 0.486716\n",
            "[600]\ttraining's rmse: 0.19934\tvalid_1's rmse: 0.484684\n",
            "Early stopping, best iteration is:\n",
            "[464]\ttraining's rmse: 0.210006\tvalid_1's rmse: 0.483739\n",
            "Site Id: 3 , Fold: 3 , RMSE: 0.47355743368568576\n"
          ],
          "name": "stdout"
        },
        {
          "output_type": "execute_result",
          "data": {
            "text/plain": [
              "366"
            ]
          },
          "metadata": {
            "tags": []
          },
          "execution_count": 39
        },
        {
          "output_type": "stream",
          "text": [
            "\rsite_id:  25%|██▌       | 4/16 [07:02<21:19, 106.64s/it]"
          ],
          "name": "stderr"
        },
        {
          "output_type": "stream",
          "text": [
            "\n",
            "Site Id: 3 , CV RMSE: 0.47605467186094336 \n",
            "\n",
            "3 fold CV for site_id: 4\n"
          ],
          "name": "stdout"
        },
        {
          "output_type": "stream",
          "text": [
            "/usr/local/lib/python3.6/dist-packages/lightgbm/basic.py:1205: UserWarning: Using categorical_feature in Dataset.\n",
            "  warnings.warn('Using categorical_feature in Dataset.')\n",
            "/usr/local/lib/python3.6/dist-packages/lightgbm/basic.py:762: UserWarning: categorical_feature in param dict is overridden.\n",
            "  warnings.warn('categorical_feature in param dict is overridden.')\n"
          ],
          "name": "stderr"
        },
        {
          "output_type": "stream",
          "text": [
            "Training until validation scores don't improve for 200 rounds.\n",
            "[200]\ttraining's rmse: 0.169609\tvalid_1's rmse: 0.293249\n",
            "Early stopping, best iteration is:\n",
            "[77]\ttraining's rmse: 0.222717\tvalid_1's rmse: 0.280856\n",
            "Site Id: 4 , Fold: 1 , RMSE: 0.27105106007747887\n"
          ],
          "name": "stdout"
        },
        {
          "output_type": "execute_result",
          "data": {
            "text/plain": [
              "297"
            ]
          },
          "metadata": {
            "tags": []
          },
          "execution_count": 39
        },
        {
          "output_type": "stream",
          "text": [
            "/usr/local/lib/python3.6/dist-packages/lightgbm/basic.py:1205: UserWarning: Using categorical_feature in Dataset.\n",
            "  warnings.warn('Using categorical_feature in Dataset.')\n",
            "/usr/local/lib/python3.6/dist-packages/lightgbm/basic.py:762: UserWarning: categorical_feature in param dict is overridden.\n",
            "  warnings.warn('categorical_feature in param dict is overridden.')\n"
          ],
          "name": "stderr"
        },
        {
          "output_type": "stream",
          "text": [
            "Training until validation scores don't improve for 200 rounds.\n",
            "[200]\ttraining's rmse: 0.167872\tvalid_1's rmse: 0.354571\n",
            "Early stopping, best iteration is:\n",
            "[69]\ttraining's rmse: 0.229403\tvalid_1's rmse: 0.337902\n",
            "Site Id: 4 , Fold: 2 , RMSE: 0.28809333840838336\n"
          ],
          "name": "stdout"
        },
        {
          "output_type": "execute_result",
          "data": {
            "text/plain": [
              "189"
            ]
          },
          "metadata": {
            "tags": []
          },
          "execution_count": 39
        },
        {
          "output_type": "stream",
          "text": [
            "/usr/local/lib/python3.6/dist-packages/lightgbm/basic.py:1205: UserWarning: Using categorical_feature in Dataset.\n",
            "  warnings.warn('Using categorical_feature in Dataset.')\n",
            "/usr/local/lib/python3.6/dist-packages/lightgbm/basic.py:762: UserWarning: categorical_feature in param dict is overridden.\n",
            "  warnings.warn('categorical_feature in param dict is overridden.')\n"
          ],
          "name": "stderr"
        },
        {
          "output_type": "stream",
          "text": [
            "Training until validation scores don't improve for 200 rounds.\n",
            "[200]\ttraining's rmse: 0.168102\tvalid_1's rmse: 0.308321\n",
            "Early stopping, best iteration is:\n",
            "[147]\ttraining's rmse: 0.183879\tvalid_1's rmse: 0.3079\n",
            "Site Id: 4 , Fold: 3 , RMSE: 0.3101083736652599\n"
          ],
          "name": "stdout"
        },
        {
          "output_type": "execute_result",
          "data": {
            "text/plain": [
              "12"
            ]
          },
          "metadata": {
            "tags": []
          },
          "execution_count": 39
        },
        {
          "output_type": "stream",
          "text": [
            "\rsite_id:  31%|███▏      | 5/16 [07:31<15:17, 83.39s/it] "
          ],
          "name": "stderr"
        },
        {
          "output_type": "stream",
          "text": [
            "\n",
            "Site Id: 4 , CV RMSE: 0.2901916907963451 \n",
            "\n",
            "3 fold CV for site_id: 5\n"
          ],
          "name": "stdout"
        },
        {
          "output_type": "stream",
          "text": [
            "/usr/local/lib/python3.6/dist-packages/lightgbm/basic.py:1205: UserWarning: Using categorical_feature in Dataset.\n",
            "  warnings.warn('Using categorical_feature in Dataset.')\n",
            "/usr/local/lib/python3.6/dist-packages/lightgbm/basic.py:762: UserWarning: categorical_feature in param dict is overridden.\n",
            "  warnings.warn('categorical_feature in param dict is overridden.')\n"
          ],
          "name": "stderr"
        },
        {
          "output_type": "stream",
          "text": [
            "Training until validation scores don't improve for 200 rounds.\n",
            "[200]\ttraining's rmse: 0.38813\tvalid_1's rmse: 0.867552\n",
            "Early stopping, best iteration is:\n",
            "[47]\ttraining's rmse: 0.566985\tvalid_1's rmse: 0.853908\n",
            "Site Id: 5 , Fold: 1 , RMSE: 0.8558302175056965\n"
          ],
          "name": "stdout"
        },
        {
          "output_type": "execute_result",
          "data": {
            "text/plain": [
              "507"
            ]
          },
          "metadata": {
            "tags": []
          },
          "execution_count": 39
        },
        {
          "output_type": "stream",
          "text": [
            "/usr/local/lib/python3.6/dist-packages/lightgbm/basic.py:1205: UserWarning: Using categorical_feature in Dataset.\n",
            "  warnings.warn('Using categorical_feature in Dataset.')\n",
            "/usr/local/lib/python3.6/dist-packages/lightgbm/basic.py:762: UserWarning: categorical_feature in param dict is overridden.\n",
            "  warnings.warn('categorical_feature in param dict is overridden.')\n"
          ],
          "name": "stderr"
        },
        {
          "output_type": "stream",
          "text": [
            "Training until validation scores don't improve for 200 rounds.\n",
            "[200]\ttraining's rmse: 0.409475\tvalid_1's rmse: 0.699974\n",
            "[400]\ttraining's rmse: 0.345667\tvalid_1's rmse: 0.698845\n",
            "[600]\ttraining's rmse: 0.312978\tvalid_1's rmse: 0.700652\n",
            "Early stopping, best iteration is:\n",
            "[428]\ttraining's rmse: 0.339682\tvalid_1's rmse: 0.698211\n",
            "Site Id: 5 , Fold: 2 , RMSE: 0.7496654818272483\n"
          ],
          "name": "stdout"
        },
        {
          "output_type": "execute_result",
          "data": {
            "text/plain": [
              "516"
            ]
          },
          "metadata": {
            "tags": []
          },
          "execution_count": 39
        },
        {
          "output_type": "stream",
          "text": [
            "/usr/local/lib/python3.6/dist-packages/lightgbm/basic.py:1205: UserWarning: Using categorical_feature in Dataset.\n",
            "  warnings.warn('Using categorical_feature in Dataset.')\n",
            "/usr/local/lib/python3.6/dist-packages/lightgbm/basic.py:762: UserWarning: categorical_feature in param dict is overridden.\n",
            "  warnings.warn('categorical_feature in param dict is overridden.')\n"
          ],
          "name": "stderr"
        },
        {
          "output_type": "stream",
          "text": [
            "Training until validation scores don't improve for 200 rounds.\n",
            "[200]\ttraining's rmse: 0.399495\tvalid_1's rmse: 0.929705\n",
            "Early stopping, best iteration is:\n",
            "[46]\ttraining's rmse: 0.586748\tvalid_1's rmse: 0.861986\n",
            "Site Id: 5 , Fold: 3 , RMSE: 0.8046727908349843\n"
          ],
          "name": "stdout"
        },
        {
          "output_type": "execute_result",
          "data": {
            "text/plain": [
              "489"
            ]
          },
          "metadata": {
            "tags": []
          },
          "execution_count": 39
        },
        {
          "output_type": "stream",
          "text": [
            "\rsite_id:  38%|███▊      | 6/16 [08:07<11:29, 68.95s/it]"
          ],
          "name": "stderr"
        },
        {
          "output_type": "stream",
          "text": [
            "\n",
            "Site Id: 5 , CV RMSE: 0.8045582629492422 \n",
            "\n",
            "3 fold CV for site_id: 6\n"
          ],
          "name": "stdout"
        },
        {
          "output_type": "stream",
          "text": [
            "/usr/local/lib/python3.6/dist-packages/lightgbm/basic.py:1205: UserWarning: Using categorical_feature in Dataset.\n",
            "  warnings.warn('Using categorical_feature in Dataset.')\n",
            "/usr/local/lib/python3.6/dist-packages/lightgbm/basic.py:762: UserWarning: categorical_feature in param dict is overridden.\n",
            "  warnings.warn('categorical_feature in param dict is overridden.')\n"
          ],
          "name": "stderr"
        },
        {
          "output_type": "stream",
          "text": [
            "Training until validation scores don't improve for 200 rounds.\n",
            "[200]\ttraining's rmse: 0.709683\tvalid_1's rmse: 1.40022\n",
            "[400]\ttraining's rmse: 0.628998\tvalid_1's rmse: 1.38291\n",
            "[600]\ttraining's rmse: 0.586381\tvalid_1's rmse: 1.3815\n",
            "[800]\ttraining's rmse: 0.558095\tvalid_1's rmse: 1.38206\n",
            "[1000]\ttraining's rmse: 0.535405\tvalid_1's rmse: 1.3831\n",
            "Early stopping, best iteration is:\n",
            "[914]\ttraining's rmse: 0.544038\tvalid_1's rmse: 1.38105\n",
            "Site Id: 6 , Fold: 1 , RMSE: 1.7387793436488117\n"
          ],
          "name": "stdout"
        },
        {
          "output_type": "execute_result",
          "data": {
            "text/plain": [
              "84"
            ]
          },
          "metadata": {
            "tags": []
          },
          "execution_count": 39
        },
        {
          "output_type": "stream",
          "text": [
            "/usr/local/lib/python3.6/dist-packages/lightgbm/basic.py:1205: UserWarning: Using categorical_feature in Dataset.\n",
            "  warnings.warn('Using categorical_feature in Dataset.')\n",
            "/usr/local/lib/python3.6/dist-packages/lightgbm/basic.py:762: UserWarning: categorical_feature in param dict is overridden.\n",
            "  warnings.warn('categorical_feature in param dict is overridden.')\n"
          ],
          "name": "stderr"
        },
        {
          "output_type": "stream",
          "text": [
            "Training until validation scores don't improve for 200 rounds.\n",
            "[200]\ttraining's rmse: 0.73701\tvalid_1's rmse: 1.18685\n",
            "[400]\ttraining's rmse: 0.653259\tvalid_1's rmse: 1.14848\n",
            "[600]\ttraining's rmse: 0.603211\tvalid_1's rmse: 1.1384\n",
            "[800]\ttraining's rmse: 0.571074\tvalid_1's rmse: 1.13454\n",
            "[1000]\ttraining's rmse: 0.544861\tvalid_1's rmse: 1.12563\n",
            "[1200]\ttraining's rmse: 0.523607\tvalid_1's rmse: 1.12094\n",
            "[1400]\ttraining's rmse: 0.509277\tvalid_1's rmse: 1.12007\n",
            "Early stopping, best iteration is:\n",
            "[1264]\ttraining's rmse: 0.51866\tvalid_1's rmse: 1.1187\n",
            "Site Id: 6 , Fold: 2 , RMSE: 1.7184252971387688\n"
          ],
          "name": "stdout"
        },
        {
          "output_type": "execute_result",
          "data": {
            "text/plain": [
              "288"
            ]
          },
          "metadata": {
            "tags": []
          },
          "execution_count": 39
        },
        {
          "output_type": "stream",
          "text": [
            "/usr/local/lib/python3.6/dist-packages/lightgbm/basic.py:1205: UserWarning: Using categorical_feature in Dataset.\n",
            "  warnings.warn('Using categorical_feature in Dataset.')\n",
            "/usr/local/lib/python3.6/dist-packages/lightgbm/basic.py:762: UserWarning: categorical_feature in param dict is overridden.\n",
            "  warnings.warn('categorical_feature in param dict is overridden.')\n"
          ],
          "name": "stderr"
        },
        {
          "output_type": "stream",
          "text": [
            "Training until validation scores don't improve for 200 rounds.\n",
            "[200]\ttraining's rmse: 0.662032\tvalid_1's rmse: 1.80084\n",
            "Early stopping, best iteration is:\n",
            "[49]\ttraining's rmse: 0.90706\tvalid_1's rmse: 1.7842\n",
            "Site Id: 6 , Fold: 3 , RMSE: 1.6405883218790593\n"
          ],
          "name": "stdout"
        },
        {
          "output_type": "execute_result",
          "data": {
            "text/plain": [
              "525"
            ]
          },
          "metadata": {
            "tags": []
          },
          "execution_count": 39
        },
        {
          "output_type": "stream",
          "text": [
            "\rsite_id:  44%|████▍     | 7/16 [09:16<10:22, 69.12s/it]"
          ],
          "name": "stderr"
        },
        {
          "output_type": "stream",
          "text": [
            "\n",
            "Site Id: 6 , CV RMSE: 1.6997910802637097 \n",
            "\n",
            "3 fold CV for site_id: 7\n"
          ],
          "name": "stdout"
        },
        {
          "output_type": "stream",
          "text": [
            "/usr/local/lib/python3.6/dist-packages/lightgbm/basic.py:1205: UserWarning: Using categorical_feature in Dataset.\n",
            "  warnings.warn('Using categorical_feature in Dataset.')\n",
            "/usr/local/lib/python3.6/dist-packages/lightgbm/basic.py:762: UserWarning: categorical_feature in param dict is overridden.\n",
            "  warnings.warn('categorical_feature in param dict is overridden.')\n"
          ],
          "name": "stderr"
        },
        {
          "output_type": "stream",
          "text": [
            "Training until validation scores don't improve for 200 rounds.\n",
            "[200]\ttraining's rmse: 0.890129\tvalid_1's rmse: 1.71145\n",
            "[400]\ttraining's rmse: 0.781309\tvalid_1's rmse: 1.69137\n",
            "[600]\ttraining's rmse: 0.722614\tvalid_1's rmse: 1.68485\n",
            "[800]\ttraining's rmse: 0.679588\tvalid_1's rmse: 1.6731\n",
            "[1000]\ttraining's rmse: 0.649061\tvalid_1's rmse: 1.66879\n",
            "[1200]\ttraining's rmse: 0.618346\tvalid_1's rmse: 1.65763\n",
            "[1400]\ttraining's rmse: 0.595953\tvalid_1's rmse: 1.64722\n",
            "[1600]\ttraining's rmse: 0.576688\tvalid_1's rmse: 1.63913\n",
            "[1800]\ttraining's rmse: 0.557321\tvalid_1's rmse: 1.6312\n",
            "[2000]\ttraining's rmse: 0.53947\tvalid_1's rmse: 1.62879\n",
            "Did not meet early stopping. Best iteration is:\n",
            "[2000]\ttraining's rmse: 0.53947\tvalid_1's rmse: 1.62879\n",
            "Site Id: 7 , Fold: 1 , RMSE: 2.976796682931721\n"
          ],
          "name": "stdout"
        },
        {
          "output_type": "execute_result",
          "data": {
            "text/plain": [
              "456"
            ]
          },
          "metadata": {
            "tags": []
          },
          "execution_count": 39
        },
        {
          "output_type": "stream",
          "text": [
            "/usr/local/lib/python3.6/dist-packages/lightgbm/basic.py:1205: UserWarning: Using categorical_feature in Dataset.\n",
            "  warnings.warn('Using categorical_feature in Dataset.')\n",
            "/usr/local/lib/python3.6/dist-packages/lightgbm/basic.py:762: UserWarning: categorical_feature in param dict is overridden.\n",
            "  warnings.warn('categorical_feature in param dict is overridden.')\n"
          ],
          "name": "stderr"
        },
        {
          "output_type": "stream",
          "text": [
            "Training until validation scores don't improve for 200 rounds.\n",
            "[200]\ttraining's rmse: 0.763059\tvalid_1's rmse: 2.8574\n",
            "[400]\ttraining's rmse: 0.67492\tvalid_1's rmse: 2.84416\n",
            "[600]\ttraining's rmse: 0.609439\tvalid_1's rmse: 2.85156\n",
            "Early stopping, best iteration is:\n",
            "[460]\ttraining's rmse: 0.657165\tvalid_1's rmse: 2.83852\n",
            "Site Id: 7 , Fold: 2 , RMSE: 3.411805197226748\n"
          ],
          "name": "stdout"
        },
        {
          "output_type": "execute_result",
          "data": {
            "text/plain": [
              "324"
            ]
          },
          "metadata": {
            "tags": []
          },
          "execution_count": 39
        },
        {
          "output_type": "stream",
          "text": [
            "/usr/local/lib/python3.6/dist-packages/lightgbm/basic.py:1205: UserWarning: Using categorical_feature in Dataset.\n",
            "  warnings.warn('Using categorical_feature in Dataset.')\n",
            "/usr/local/lib/python3.6/dist-packages/lightgbm/basic.py:762: UserWarning: categorical_feature in param dict is overridden.\n",
            "  warnings.warn('categorical_feature in param dict is overridden.')\n"
          ],
          "name": "stderr"
        },
        {
          "output_type": "stream",
          "text": [
            "Training until validation scores don't improve for 200 rounds.\n",
            "[200]\ttraining's rmse: 0.803914\tvalid_1's rmse: 2.46172\n",
            "[400]\ttraining's rmse: 0.708173\tvalid_1's rmse: 2.46372\n",
            "Early stopping, best iteration is:\n",
            "[280]\ttraining's rmse: 0.756968\tvalid_1's rmse: 2.45815\n",
            "Site Id: 7 , Fold: 3 , RMSE: 2.553929254423152\n"
          ],
          "name": "stdout"
        },
        {
          "output_type": "execute_result",
          "data": {
            "text/plain": [
              "435"
            ]
          },
          "metadata": {
            "tags": []
          },
          "execution_count": 39
        },
        {
          "output_type": "stream",
          "text": [
            "\rsite_id:  50%|█████     | 8/16 [09:58<08:06, 60.82s/it]"
          ],
          "name": "stderr"
        },
        {
          "output_type": "stream",
          "text": [
            "\n",
            "Site Id: 7 , CV RMSE: 3.0013501720280074 \n",
            "\n",
            "3 fold CV for site_id: 8\n"
          ],
          "name": "stdout"
        },
        {
          "output_type": "stream",
          "text": [
            "/usr/local/lib/python3.6/dist-packages/lightgbm/basic.py:1205: UserWarning: Using categorical_feature in Dataset.\n",
            "  warnings.warn('Using categorical_feature in Dataset.')\n",
            "/usr/local/lib/python3.6/dist-packages/lightgbm/basic.py:762: UserWarning: categorical_feature in param dict is overridden.\n",
            "  warnings.warn('categorical_feature in param dict is overridden.')\n"
          ],
          "name": "stderr"
        },
        {
          "output_type": "stream",
          "text": [
            "Training until validation scores don't improve for 200 rounds.\n",
            "[200]\ttraining's rmse: 0.310659\tvalid_1's rmse: 0.609495\n",
            "Early stopping, best iteration is:\n",
            "[79]\ttraining's rmse: 0.384904\tvalid_1's rmse: 0.545084\n",
            "Site Id: 8 , Fold: 1 , RMSE: 0.5372918988194985\n"
          ],
          "name": "stdout"
        },
        {
          "output_type": "execute_result",
          "data": {
            "text/plain": [
              "321"
            ]
          },
          "metadata": {
            "tags": []
          },
          "execution_count": 39
        },
        {
          "output_type": "stream",
          "text": [
            "/usr/local/lib/python3.6/dist-packages/lightgbm/basic.py:1205: UserWarning: Using categorical_feature in Dataset.\n",
            "  warnings.warn('Using categorical_feature in Dataset.')\n",
            "/usr/local/lib/python3.6/dist-packages/lightgbm/basic.py:762: UserWarning: categorical_feature in param dict is overridden.\n",
            "  warnings.warn('categorical_feature in param dict is overridden.')\n"
          ],
          "name": "stderr"
        },
        {
          "output_type": "stream",
          "text": [
            "Training until validation scores don't improve for 200 rounds.\n",
            "[200]\ttraining's rmse: 0.312462\tvalid_1's rmse: 0.571798\n",
            "[400]\ttraining's rmse: 0.247496\tvalid_1's rmse: 0.571121\n",
            "Early stopping, best iteration is:\n",
            "[293]\ttraining's rmse: 0.277581\tvalid_1's rmse: 0.569218\n",
            "Site Id: 8 , Fold: 2 , RMSE: 0.5721361627967169\n"
          ],
          "name": "stdout"
        },
        {
          "output_type": "execute_result",
          "data": {
            "text/plain": [
              "30"
            ]
          },
          "metadata": {
            "tags": []
          },
          "execution_count": 39
        },
        {
          "output_type": "stream",
          "text": [
            "/usr/local/lib/python3.6/dist-packages/lightgbm/basic.py:1205: UserWarning: Using categorical_feature in Dataset.\n",
            "  warnings.warn('Using categorical_feature in Dataset.')\n",
            "/usr/local/lib/python3.6/dist-packages/lightgbm/basic.py:762: UserWarning: categorical_feature in param dict is overridden.\n",
            "  warnings.warn('categorical_feature in param dict is overridden.')\n"
          ],
          "name": "stderr"
        },
        {
          "output_type": "stream",
          "text": [
            "Training until validation scores don't improve for 200 rounds.\n",
            "[200]\ttraining's rmse: 0.314222\tvalid_1's rmse: 0.566745\n",
            "Early stopping, best iteration is:\n",
            "[67]\ttraining's rmse: 0.398578\tvalid_1's rmse: 0.564366\n",
            "Site Id: 8 , Fold: 3 , RMSE: 0.5759889149886204\n"
          ],
          "name": "stdout"
        },
        {
          "output_type": "execute_result",
          "data": {
            "text/plain": [
              "165"
            ]
          },
          "metadata": {
            "tags": []
          },
          "execution_count": 39
        },
        {
          "output_type": "stream",
          "text": [
            "\rsite_id:  56%|█████▋    | 9/16 [10:23<05:50, 50.11s/it]"
          ],
          "name": "stderr"
        },
        {
          "output_type": "stream",
          "text": [
            "\n",
            "Site Id: 8 , CV RMSE: 0.562075203600189 \n",
            "\n",
            "3 fold CV for site_id: 9\n"
          ],
          "name": "stdout"
        },
        {
          "output_type": "stream",
          "text": [
            "/usr/local/lib/python3.6/dist-packages/lightgbm/basic.py:1205: UserWarning: Using categorical_feature in Dataset.\n",
            "  warnings.warn('Using categorical_feature in Dataset.')\n",
            "/usr/local/lib/python3.6/dist-packages/lightgbm/basic.py:762: UserWarning: categorical_feature in param dict is overridden.\n",
            "  warnings.warn('categorical_feature in param dict is overridden.')\n"
          ],
          "name": "stderr"
        },
        {
          "output_type": "stream",
          "text": [
            "Training until validation scores don't improve for 200 rounds.\n",
            "[200]\ttraining's rmse: 0.636554\tvalid_1's rmse: 2.18753\n",
            "Early stopping, best iteration is:\n",
            "[50]\ttraining's rmse: 0.843632\tvalid_1's rmse: 1.44794\n",
            "Site Id: 9 , Fold: 1 , RMSE: 1.4377174879438126\n"
          ],
          "name": "stdout"
        },
        {
          "output_type": "execute_result",
          "data": {
            "text/plain": [
              "537"
            ]
          },
          "metadata": {
            "tags": []
          },
          "execution_count": 39
        },
        {
          "output_type": "stream",
          "text": [
            "/usr/local/lib/python3.6/dist-packages/lightgbm/basic.py:1205: UserWarning: Using categorical_feature in Dataset.\n",
            "  warnings.warn('Using categorical_feature in Dataset.')\n",
            "/usr/local/lib/python3.6/dist-packages/lightgbm/basic.py:762: UserWarning: categorical_feature in param dict is overridden.\n",
            "  warnings.warn('categorical_feature in param dict is overridden.')\n"
          ],
          "name": "stderr"
        },
        {
          "output_type": "stream",
          "text": [
            "Training until validation scores don't improve for 200 rounds.\n",
            "[200]\ttraining's rmse: 0.683092\tvalid_1's rmse: 2.15049\n",
            "Early stopping, best iteration is:\n",
            "[57]\ttraining's rmse: 0.909258\tvalid_1's rmse: 1.35421\n",
            "Site Id: 9 , Fold: 2 , RMSE: 1.320549446239568\n"
          ],
          "name": "stdout"
        },
        {
          "output_type": "execute_result",
          "data": {
            "text/plain": [
              "45"
            ]
          },
          "metadata": {
            "tags": []
          },
          "execution_count": 39
        },
        {
          "output_type": "stream",
          "text": [
            "/usr/local/lib/python3.6/dist-packages/lightgbm/basic.py:1205: UserWarning: Using categorical_feature in Dataset.\n",
            "  warnings.warn('Using categorical_feature in Dataset.')\n",
            "/usr/local/lib/python3.6/dist-packages/lightgbm/basic.py:762: UserWarning: categorical_feature in param dict is overridden.\n",
            "  warnings.warn('categorical_feature in param dict is overridden.')\n"
          ],
          "name": "stderr"
        },
        {
          "output_type": "stream",
          "text": [
            "Training until validation scores don't improve for 200 rounds.\n",
            "[200]\ttraining's rmse: 0.675329\tvalid_1's rmse: 1.45841\n",
            "Early stopping, best iteration is:\n",
            "[48]\ttraining's rmse: 0.933835\tvalid_1's rmse: 1.42265\n",
            "Site Id: 9 , Fold: 3 , RMSE: 1.2911401766282211\n"
          ],
          "name": "stdout"
        },
        {
          "output_type": "execute_result",
          "data": {
            "text/plain": [
              "495"
            ]
          },
          "metadata": {
            "tags": []
          },
          "execution_count": 39
        },
        {
          "output_type": "stream",
          "text": [
            "\rsite_id:  62%|██████▎   | 10/16 [11:41<05:51, 58.54s/it]"
          ],
          "name": "stderr"
        },
        {
          "output_type": "stream",
          "text": [
            "\n",
            "Site Id: 9 , CV RMSE: 1.351286491809673 \n",
            "\n",
            "3 fold CV for site_id: 10\n"
          ],
          "name": "stdout"
        },
        {
          "output_type": "stream",
          "text": [
            "/usr/local/lib/python3.6/dist-packages/lightgbm/basic.py:1205: UserWarning: Using categorical_feature in Dataset.\n",
            "  warnings.warn('Using categorical_feature in Dataset.')\n",
            "/usr/local/lib/python3.6/dist-packages/lightgbm/basic.py:762: UserWarning: categorical_feature in param dict is overridden.\n",
            "  warnings.warn('categorical_feature in param dict is overridden.')\n"
          ],
          "name": "stderr"
        },
        {
          "output_type": "stream",
          "text": [
            "Training until validation scores don't improve for 200 rounds.\n",
            "[200]\ttraining's rmse: 0.775159\tvalid_1's rmse: 1.40986\n",
            "Early stopping, best iteration is:\n",
            "[121]\ttraining's rmse: 0.817767\tvalid_1's rmse: 1.40663\n",
            "Site Id: 10 , Fold: 1 , RMSE: 1.9125856263033312\n"
          ],
          "name": "stdout"
        },
        {
          "output_type": "execute_result",
          "data": {
            "text/plain": [
              "249"
            ]
          },
          "metadata": {
            "tags": []
          },
          "execution_count": 39
        },
        {
          "output_type": "stream",
          "text": [
            "/usr/local/lib/python3.6/dist-packages/lightgbm/basic.py:1205: UserWarning: Using categorical_feature in Dataset.\n",
            "  warnings.warn('Using categorical_feature in Dataset.')\n",
            "/usr/local/lib/python3.6/dist-packages/lightgbm/basic.py:762: UserWarning: categorical_feature in param dict is overridden.\n",
            "  warnings.warn('categorical_feature in param dict is overridden.')\n"
          ],
          "name": "stderr"
        },
        {
          "output_type": "stream",
          "text": [
            "Training until validation scores don't improve for 200 rounds.\n",
            "[200]\ttraining's rmse: 0.809885\tvalid_1's rmse: 1.96545\n",
            "Early stopping, best iteration is:\n",
            "[22]\ttraining's rmse: 1.26018\tvalid_1's rmse: 1.92123\n",
            "Site Id: 10 , Fold: 2 , RMSE: 1.7650011663400622\n"
          ],
          "name": "stdout"
        },
        {
          "output_type": "execute_result",
          "data": {
            "text/plain": [
              "195"
            ]
          },
          "metadata": {
            "tags": []
          },
          "execution_count": 39
        },
        {
          "output_type": "stream",
          "text": [
            "/usr/local/lib/python3.6/dist-packages/lightgbm/basic.py:1205: UserWarning: Using categorical_feature in Dataset.\n",
            "  warnings.warn('Using categorical_feature in Dataset.')\n",
            "/usr/local/lib/python3.6/dist-packages/lightgbm/basic.py:762: UserWarning: categorical_feature in param dict is overridden.\n",
            "  warnings.warn('categorical_feature in param dict is overridden.')\n"
          ],
          "name": "stderr"
        },
        {
          "output_type": "stream",
          "text": [
            "Training until validation scores don't improve for 200 rounds.\n",
            "[200]\ttraining's rmse: 0.726454\tvalid_1's rmse: 1.66814\n",
            "Early stopping, best iteration is:\n",
            "[26]\ttraining's rmse: 1.1228\tvalid_1's rmse: 1.62244\n",
            "Site Id: 10 , Fold: 3 , RMSE: 1.5590840412886644\n"
          ],
          "name": "stdout"
        },
        {
          "output_type": "execute_result",
          "data": {
            "text/plain": [
              "243"
            ]
          },
          "metadata": {
            "tags": []
          },
          "execution_count": 39
        },
        {
          "output_type": "stream",
          "text": [
            "\rsite_id:  69%|██████▉   | 11/16 [11:54<03:44, 44.96s/it]"
          ],
          "name": "stderr"
        },
        {
          "output_type": "stream",
          "text": [
            "\n",
            "Site Id: 10 , CV RMSE: 1.7515669409803534 \n",
            "\n",
            "3 fold CV for site_id: 11\n",
            "Training until validation scores don't improve for 200 rounds.\n"
          ],
          "name": "stdout"
        },
        {
          "output_type": "stream",
          "text": [
            "/usr/local/lib/python3.6/dist-packages/lightgbm/basic.py:1205: UserWarning: Using categorical_feature in Dataset.\n",
            "  warnings.warn('Using categorical_feature in Dataset.')\n",
            "/usr/local/lib/python3.6/dist-packages/lightgbm/basic.py:762: UserWarning: categorical_feature in param dict is overridden.\n",
            "  warnings.warn('categorical_feature in param dict is overridden.')\n"
          ],
          "name": "stderr"
        },
        {
          "output_type": "stream",
          "text": [
            "[200]\ttraining's rmse: 0.49851\tvalid_1's rmse: 1.01513\n",
            "[400]\ttraining's rmse: 0.435741\tvalid_1's rmse: 0.989313\n",
            "[600]\ttraining's rmse: 0.394242\tvalid_1's rmse: 0.972425\n",
            "[800]\ttraining's rmse: 0.367387\tvalid_1's rmse: 0.966948\n",
            "[1000]\ttraining's rmse: 0.343722\tvalid_1's rmse: 0.964139\n",
            "Early stopping, best iteration is:\n",
            "[991]\ttraining's rmse: 0.344474\tvalid_1's rmse: 0.963969\n",
            "Site Id: 11 , Fold: 1 , RMSE: 2.171086649414246\n"
          ],
          "name": "stdout"
        },
        {
          "output_type": "execute_result",
          "data": {
            "text/plain": [
              "426"
            ]
          },
          "metadata": {
            "tags": []
          },
          "execution_count": 39
        },
        {
          "output_type": "stream",
          "text": [
            "Training until validation scores don't improve for 200 rounds.\n"
          ],
          "name": "stdout"
        },
        {
          "output_type": "stream",
          "text": [
            "/usr/local/lib/python3.6/dist-packages/lightgbm/basic.py:1205: UserWarning: Using categorical_feature in Dataset.\n",
            "  warnings.warn('Using categorical_feature in Dataset.')\n",
            "/usr/local/lib/python3.6/dist-packages/lightgbm/basic.py:762: UserWarning: categorical_feature in param dict is overridden.\n",
            "  warnings.warn('categorical_feature in param dict is overridden.')\n"
          ],
          "name": "stderr"
        },
        {
          "output_type": "stream",
          "text": [
            "[200]\ttraining's rmse: 0.323463\tvalid_1's rmse: 2.58976\n",
            "Early stopping, best iteration is:\n",
            "[7]\ttraining's rmse: 1.92246\tvalid_1's rmse: 2.24215\n",
            "Site Id: 11 , Fold: 2 , RMSE: 2.2350100321769473\n"
          ],
          "name": "stdout"
        },
        {
          "output_type": "execute_result",
          "data": {
            "text/plain": [
              "20"
            ]
          },
          "metadata": {
            "tags": []
          },
          "execution_count": 39
        },
        {
          "output_type": "stream",
          "text": [
            "/usr/local/lib/python3.6/dist-packages/lightgbm/basic.py:1205: UserWarning: Using categorical_feature in Dataset.\n",
            "  warnings.warn('Using categorical_feature in Dataset.')\n",
            "/usr/local/lib/python3.6/dist-packages/lightgbm/basic.py:762: UserWarning: categorical_feature in param dict is overridden.\n",
            "  warnings.warn('categorical_feature in param dict is overridden.')\n"
          ],
          "name": "stderr"
        },
        {
          "output_type": "stream",
          "text": [
            "Training until validation scores don't improve for 200 rounds.\n",
            "[200]\ttraining's rmse: 0.412385\tvalid_1's rmse: 1.46329\n",
            "[400]\ttraining's rmse: 0.359424\tvalid_1's rmse: 1.45246\n",
            "[600]\ttraining's rmse: 0.322471\tvalid_1's rmse: 1.4496\n",
            "[800]\ttraining's rmse: 0.298019\tvalid_1's rmse: 1.44793\n",
            "[1000]\ttraining's rmse: 0.278623\tvalid_1's rmse: 1.44667\n",
            "Early stopping, best iteration is:\n",
            "[932]\ttraining's rmse: 0.284016\tvalid_1's rmse: 1.44602\n",
            "Site Id: 11 , Fold: 3 , RMSE: 1.4436873930427927\n"
          ],
          "name": "stdout"
        },
        {
          "output_type": "execute_result",
          "data": {
            "text/plain": [
              "270"
            ]
          },
          "metadata": {
            "tags": []
          },
          "execution_count": 39
        },
        {
          "output_type": "stream",
          "text": [
            "\rsite_id:  75%|███████▌  | 12/16 [12:07<02:21, 35.40s/it]"
          ],
          "name": "stderr"
        },
        {
          "output_type": "stream",
          "text": [
            "\n",
            "Site Id: 11 , CV RMSE: 1.9826867624333468 \n",
            "\n",
            "3 fold CV for site_id: 12\n"
          ],
          "name": "stdout"
        },
        {
          "output_type": "stream",
          "text": [
            "/usr/local/lib/python3.6/dist-packages/lightgbm/basic.py:1205: UserWarning: Using categorical_feature in Dataset.\n",
            "  warnings.warn('Using categorical_feature in Dataset.')\n",
            "/usr/local/lib/python3.6/dist-packages/lightgbm/basic.py:762: UserWarning: categorical_feature in param dict is overridden.\n",
            "  warnings.warn('categorical_feature in param dict is overridden.')\n"
          ],
          "name": "stderr"
        },
        {
          "output_type": "stream",
          "text": [
            "Training until validation scores don't improve for 200 rounds.\n",
            "[200]\ttraining's rmse: 0.221159\tvalid_1's rmse: 0.556465\n",
            "Early stopping, best iteration is:\n",
            "[66]\ttraining's rmse: 0.314746\tvalid_1's rmse: 0.545876\n",
            "Site Id: 12 , Fold: 1 , RMSE: 0.4745602766275124\n"
          ],
          "name": "stdout"
        },
        {
          "output_type": "execute_result",
          "data": {
            "text/plain": [
              "159"
            ]
          },
          "metadata": {
            "tags": []
          },
          "execution_count": 39
        },
        {
          "output_type": "stream",
          "text": [
            "/usr/local/lib/python3.6/dist-packages/lightgbm/basic.py:1205: UserWarning: Using categorical_feature in Dataset.\n",
            "  warnings.warn('Using categorical_feature in Dataset.')\n",
            "/usr/local/lib/python3.6/dist-packages/lightgbm/basic.py:762: UserWarning: categorical_feature in param dict is overridden.\n",
            "  warnings.warn('categorical_feature in param dict is overridden.')\n"
          ],
          "name": "stderr"
        },
        {
          "output_type": "stream",
          "text": [
            "Training until validation scores don't improve for 200 rounds.\n",
            "[200]\ttraining's rmse: 0.226057\tvalid_1's rmse: 0.450687\n",
            "Early stopping, best iteration is:\n",
            "[114]\ttraining's rmse: 0.270857\tvalid_1's rmse: 0.442345\n",
            "Site Id: 12 , Fold: 2 , RMSE: 0.440861224493516\n"
          ],
          "name": "stdout"
        },
        {
          "output_type": "execute_result",
          "data": {
            "text/plain": [
              "159"
            ]
          },
          "metadata": {
            "tags": []
          },
          "execution_count": 39
        },
        {
          "output_type": "stream",
          "text": [
            "/usr/local/lib/python3.6/dist-packages/lightgbm/basic.py:1205: UserWarning: Using categorical_feature in Dataset.\n",
            "  warnings.warn('Using categorical_feature in Dataset.')\n",
            "/usr/local/lib/python3.6/dist-packages/lightgbm/basic.py:762: UserWarning: categorical_feature in param dict is overridden.\n",
            "  warnings.warn('categorical_feature in param dict is overridden.')\n"
          ],
          "name": "stderr"
        },
        {
          "output_type": "stream",
          "text": [
            "Training until validation scores don't improve for 200 rounds.\n",
            "[200]\ttraining's rmse: 0.22251\tvalid_1's rmse: 0.404568\n",
            "Early stopping, best iteration is:\n",
            "[83]\ttraining's rmse: 0.300576\tvalid_1's rmse: 0.399373\n",
            "Site Id: 12 , Fold: 3 , RMSE: 0.3947579927463418\n"
          ],
          "name": "stdout"
        },
        {
          "output_type": "execute_result",
          "data": {
            "text/plain": [
              "357"
            ]
          },
          "metadata": {
            "tags": []
          },
          "execution_count": 39
        },
        {
          "output_type": "stream",
          "text": [
            "\rsite_id:  81%|████████▏ | 13/16 [12:19<01:25, 28.38s/it]"
          ],
          "name": "stderr"
        },
        {
          "output_type": "stream",
          "text": [
            "\n",
            "Site Id: 12 , CV RMSE: 0.43794987024795784 \n",
            "\n",
            "3 fold CV for site_id: 13\n"
          ],
          "name": "stdout"
        },
        {
          "output_type": "stream",
          "text": [
            "/usr/local/lib/python3.6/dist-packages/lightgbm/basic.py:1205: UserWarning: Using categorical_feature in Dataset.\n",
            "  warnings.warn('Using categorical_feature in Dataset.')\n",
            "/usr/local/lib/python3.6/dist-packages/lightgbm/basic.py:762: UserWarning: categorical_feature in param dict is overridden.\n",
            "  warnings.warn('categorical_feature in param dict is overridden.')\n"
          ],
          "name": "stderr"
        },
        {
          "output_type": "stream",
          "text": [
            "Training until validation scores don't improve for 200 rounds.\n",
            "[200]\ttraining's rmse: 0.785564\tvalid_1's rmse: 1.54146\n",
            "[400]\ttraining's rmse: 0.706232\tvalid_1's rmse: 1.52495\n",
            "[600]\ttraining's rmse: 0.663186\tvalid_1's rmse: 1.51428\n",
            "Early stopping, best iteration is:\n",
            "[590]\ttraining's rmse: 0.664983\tvalid_1's rmse: 1.51363\n",
            "Site Id: 13 , Fold: 1 , RMSE: 1.568531258641086\n"
          ],
          "name": "stdout"
        },
        {
          "output_type": "execute_result",
          "data": {
            "text/plain": [
              "180"
            ]
          },
          "metadata": {
            "tags": []
          },
          "execution_count": 39
        },
        {
          "output_type": "stream",
          "text": [
            "/usr/local/lib/python3.6/dist-packages/lightgbm/basic.py:1205: UserWarning: Using categorical_feature in Dataset.\n",
            "  warnings.warn('Using categorical_feature in Dataset.')\n",
            "/usr/local/lib/python3.6/dist-packages/lightgbm/basic.py:762: UserWarning: categorical_feature in param dict is overridden.\n",
            "  warnings.warn('categorical_feature in param dict is overridden.')\n"
          ],
          "name": "stderr"
        },
        {
          "output_type": "stream",
          "text": [
            "Training until validation scores don't improve for 200 rounds.\n",
            "[200]\ttraining's rmse: 0.674719\tvalid_1's rmse: 1.65312\n",
            "[400]\ttraining's rmse: 0.603338\tvalid_1's rmse: 1.65419\n",
            "Early stopping, best iteration is:\n",
            "[219]\ttraining's rmse: 0.66386\tvalid_1's rmse: 1.64944\n",
            "Site Id: 13 , Fold: 2 , RMSE: 1.6362411505063497\n"
          ],
          "name": "stdout"
        },
        {
          "output_type": "execute_result",
          "data": {
            "text/plain": [
              "267"
            ]
          },
          "metadata": {
            "tags": []
          },
          "execution_count": 39
        },
        {
          "output_type": "stream",
          "text": [
            "/usr/local/lib/python3.6/dist-packages/lightgbm/basic.py:1205: UserWarning: Using categorical_feature in Dataset.\n",
            "  warnings.warn('Using categorical_feature in Dataset.')\n",
            "/usr/local/lib/python3.6/dist-packages/lightgbm/basic.py:762: UserWarning: categorical_feature in param dict is overridden.\n",
            "  warnings.warn('categorical_feature in param dict is overridden.')\n"
          ],
          "name": "stderr"
        },
        {
          "output_type": "stream",
          "text": [
            "Training until validation scores don't improve for 200 rounds.\n",
            "[200]\ttraining's rmse: 0.728161\tvalid_1's rmse: 1.38926\n",
            "Early stopping, best iteration is:\n",
            "[65]\ttraining's rmse: 0.92473\tvalid_1's rmse: 1.36527\n",
            "Site Id: 13 , Fold: 3 , RMSE: 1.3196970563542487\n"
          ],
          "name": "stdout"
        },
        {
          "output_type": "execute_result",
          "data": {
            "text/plain": [
              "129"
            ]
          },
          "metadata": {
            "tags": []
          },
          "execution_count": 39
        },
        {
          "output_type": "stream",
          "text": [
            "\rsite_id:  88%|████████▊ | 14/16 [15:00<02:16, 68.15s/it]"
          ],
          "name": "stderr"
        },
        {
          "output_type": "stream",
          "text": [
            "\n",
            "Site Id: 13 , CV RMSE: 1.5142848402788038 \n",
            "\n",
            "3 fold CV for site_id: 14\n"
          ],
          "name": "stdout"
        },
        {
          "output_type": "stream",
          "text": [
            "/usr/local/lib/python3.6/dist-packages/lightgbm/basic.py:1205: UserWarning: Using categorical_feature in Dataset.\n",
            "  warnings.warn('Using categorical_feature in Dataset.')\n",
            "/usr/local/lib/python3.6/dist-packages/lightgbm/basic.py:762: UserWarning: categorical_feature in param dict is overridden.\n",
            "  warnings.warn('categorical_feature in param dict is overridden.')\n"
          ],
          "name": "stderr"
        },
        {
          "output_type": "stream",
          "text": [
            "Training until validation scores don't improve for 200 rounds.\n",
            "[200]\ttraining's rmse: 1.08511\tvalid_1's rmse: 1.61895\n",
            "Early stopping, best iteration is:\n",
            "[165]\ttraining's rmse: 1.12081\tvalid_1's rmse: 1.61677\n",
            "Site Id: 14 , Fold: 1 , RMSE: 1.722193850114282\n"
          ],
          "name": "stdout"
        },
        {
          "output_type": "execute_result",
          "data": {
            "text/plain": [
              "201"
            ]
          },
          "metadata": {
            "tags": []
          },
          "execution_count": 39
        },
        {
          "output_type": "stream",
          "text": [
            "/usr/local/lib/python3.6/dist-packages/lightgbm/basic.py:1205: UserWarning: Using categorical_feature in Dataset.\n",
            "  warnings.warn('Using categorical_feature in Dataset.')\n",
            "/usr/local/lib/python3.6/dist-packages/lightgbm/basic.py:762: UserWarning: categorical_feature in param dict is overridden.\n",
            "  warnings.warn('categorical_feature in param dict is overridden.')\n"
          ],
          "name": "stderr"
        },
        {
          "output_type": "stream",
          "text": [
            "Training until validation scores don't improve for 200 rounds.\n",
            "[200]\ttraining's rmse: 1.12496\tvalid_1's rmse: 1.4201\n",
            "[400]\ttraining's rmse: 1.01342\tvalid_1's rmse: 1.42614\n",
            "Early stopping, best iteration is:\n",
            "[238]\ttraining's rmse: 1.10196\tvalid_1's rmse: 1.41196\n",
            "Site Id: 14 , Fold: 2 , RMSE: 1.526722514948996\n"
          ],
          "name": "stdout"
        },
        {
          "output_type": "execute_result",
          "data": {
            "text/plain": [
              "504"
            ]
          },
          "metadata": {
            "tags": []
          },
          "execution_count": 39
        },
        {
          "output_type": "stream",
          "text": [
            "/usr/local/lib/python3.6/dist-packages/lightgbm/basic.py:1205: UserWarning: Using categorical_feature in Dataset.\n",
            "  warnings.warn('Using categorical_feature in Dataset.')\n",
            "/usr/local/lib/python3.6/dist-packages/lightgbm/basic.py:762: UserWarning: categorical_feature in param dict is overridden.\n",
            "  warnings.warn('categorical_feature in param dict is overridden.')\n"
          ],
          "name": "stderr"
        },
        {
          "output_type": "stream",
          "text": [
            "Training until validation scores don't improve for 200 rounds.\n",
            "[200]\ttraining's rmse: 1.05714\tvalid_1's rmse: 1.79987\n",
            "[400]\ttraining's rmse: 0.948441\tvalid_1's rmse: 1.80535\n",
            "Early stopping, best iteration is:\n",
            "[246]\ttraining's rmse: 1.02814\tvalid_1's rmse: 1.79718\n",
            "Site Id: 14 , Fold: 3 , RMSE: 1.8321126997363932\n"
          ],
          "name": "stdout"
        },
        {
          "output_type": "execute_result",
          "data": {
            "text/plain": [
              "30"
            ]
          },
          "metadata": {
            "tags": []
          },
          "execution_count": 39
        },
        {
          "output_type": "stream",
          "text": [
            "\rsite_id:  94%|█████████▍| 15/16 [17:06<01:25, 85.53s/it]"
          ],
          "name": "stderr"
        },
        {
          "output_type": "stream",
          "text": [
            "\n",
            "Site Id: 14 , CV RMSE: 1.6983786716878329 \n",
            "\n",
            "3 fold CV for site_id: 15\n"
          ],
          "name": "stdout"
        },
        {
          "output_type": "stream",
          "text": [
            "/usr/local/lib/python3.6/dist-packages/lightgbm/basic.py:1205: UserWarning: Using categorical_feature in Dataset.\n",
            "  warnings.warn('Using categorical_feature in Dataset.')\n",
            "/usr/local/lib/python3.6/dist-packages/lightgbm/basic.py:762: UserWarning: categorical_feature in param dict is overridden.\n",
            "  warnings.warn('categorical_feature in param dict is overridden.')\n"
          ],
          "name": "stderr"
        },
        {
          "output_type": "stream",
          "text": [
            "Training until validation scores don't improve for 200 rounds.\n",
            "[200]\ttraining's rmse: 0.509701\tvalid_1's rmse: 0.803195\n",
            "[400]\ttraining's rmse: 0.474647\tvalid_1's rmse: 0.784978\n",
            "[600]\ttraining's rmse: 0.455084\tvalid_1's rmse: 0.777283\n",
            "[800]\ttraining's rmse: 0.442199\tvalid_1's rmse: 0.774854\n",
            "[1000]\ttraining's rmse: 0.431652\tvalid_1's rmse: 0.771149\n",
            "[1200]\ttraining's rmse: 0.422979\tvalid_1's rmse: 0.767909\n",
            "[1400]\ttraining's rmse: 0.415338\tvalid_1's rmse: 0.763143\n",
            "[1600]\ttraining's rmse: 0.409229\tvalid_1's rmse: 0.762509\n",
            "[1800]\ttraining's rmse: 0.402701\tvalid_1's rmse: 0.76046\n",
            "[2000]\ttraining's rmse: 0.396816\tvalid_1's rmse: 0.759842\n",
            "Did not meet early stopping. Best iteration is:\n",
            "[2000]\ttraining's rmse: 0.396816\tvalid_1's rmse: 0.759842\n",
            "Site Id: 15 , Fold: 1 , RMSE: 0.7783292254062475\n"
          ],
          "name": "stdout"
        },
        {
          "output_type": "execute_result",
          "data": {
            "text/plain": [
              "432"
            ]
          },
          "metadata": {
            "tags": []
          },
          "execution_count": 39
        },
        {
          "output_type": "stream",
          "text": [
            "/usr/local/lib/python3.6/dist-packages/lightgbm/basic.py:1205: UserWarning: Using categorical_feature in Dataset.\n",
            "  warnings.warn('Using categorical_feature in Dataset.')\n",
            "/usr/local/lib/python3.6/dist-packages/lightgbm/basic.py:762: UserWarning: categorical_feature in param dict is overridden.\n",
            "  warnings.warn('categorical_feature in param dict is overridden.')\n"
          ],
          "name": "stderr"
        },
        {
          "output_type": "stream",
          "text": [
            "Training until validation scores don't improve for 200 rounds.\n",
            "[200]\ttraining's rmse: 0.428462\tvalid_1's rmse: 0.898749\n",
            "[400]\ttraining's rmse: 0.393452\tvalid_1's rmse: 0.88526\n",
            "[600]\ttraining's rmse: 0.373542\tvalid_1's rmse: 0.881241\n",
            "[800]\ttraining's rmse: 0.360091\tvalid_1's rmse: 0.882516\n",
            "Early stopping, best iteration is:\n",
            "[605]\ttraining's rmse: 0.373221\tvalid_1's rmse: 0.880921\n",
            "Site Id: 15 , Fold: 2 , RMSE: 0.9293222670138974\n"
          ],
          "name": "stdout"
        },
        {
          "output_type": "execute_result",
          "data": {
            "text/plain": [
              "354"
            ]
          },
          "metadata": {
            "tags": []
          },
          "execution_count": 39
        },
        {
          "output_type": "stream",
          "text": [
            "/usr/local/lib/python3.6/dist-packages/lightgbm/basic.py:1205: UserWarning: Using categorical_feature in Dataset.\n",
            "  warnings.warn('Using categorical_feature in Dataset.')\n",
            "/usr/local/lib/python3.6/dist-packages/lightgbm/basic.py:762: UserWarning: categorical_feature in param dict is overridden.\n",
            "  warnings.warn('categorical_feature in param dict is overridden.')\n"
          ],
          "name": "stderr"
        },
        {
          "output_type": "stream",
          "text": [
            "Training until validation scores don't improve for 200 rounds.\n",
            "[200]\ttraining's rmse: 0.520632\tvalid_1's rmse: 0.727915\n",
            "Early stopping, best iteration is:\n",
            "[94]\ttraining's rmse: 0.588954\tvalid_1's rmse: 0.72028\n",
            "Site Id: 15 , Fold: 3 , RMSE: 0.8096948126898141\n"
          ],
          "name": "stdout"
        },
        {
          "output_type": "execute_result",
          "data": {
            "text/plain": [
              "483"
            ]
          },
          "metadata": {
            "tags": []
          },
          "execution_count": 39
        },
        {
          "output_type": "stream",
          "text": [
            "\rsite_id: 100%|██████████| 16/16 [20:22<00:00, 118.60s/it]"
          ],
          "name": "stderr"
        },
        {
          "output_type": "stream",
          "text": [
            "\n",
            "Site Id: 15 , CV RMSE: 0.8416337185866807 \n",
            "\n"
          ],
          "name": "stdout"
        },
        {
          "output_type": "stream",
          "text": [
            "\n"
          ],
          "name": "stderr"
        }
      ]
    },
    {
      "cell_type": "code",
      "metadata": {
        "id": "F5hNbhhr9pKh",
        "colab_type": "code",
        "outputId": "c529ffa3-432b-4d2d-ad7f-940588b9b467",
        "colab": {
          "base_uri": "https://localhost:8080/",
          "height": 1000
        }
      },
      "source": [
        "pd.DataFrame.from_dict(cv_scores)"
      ],
      "execution_count": 86,
      "outputs": [
        {
          "output_type": "execute_result",
          "data": {
            "text/html": [
              "<div>\n",
              "<style scoped>\n",
              "    .dataframe tbody tr th:only-of-type {\n",
              "        vertical-align: middle;\n",
              "    }\n",
              "\n",
              "    .dataframe tbody tr th {\n",
              "        vertical-align: top;\n",
              "    }\n",
              "\n",
              "    .dataframe thead th {\n",
              "        text-align: right;\n",
              "    }\n",
              "</style>\n",
              "<table border=\"1\" class=\"dataframe\">\n",
              "  <thead>\n",
              "    <tr style=\"text-align: right;\">\n",
              "      <th></th>\n",
              "      <th>site_id</th>\n",
              "      <th>meter</th>\n",
              "      <th>cv_score</th>\n",
              "    </tr>\n",
              "  </thead>\n",
              "  <tbody>\n",
              "    <tr>\n",
              "      <th>0</th>\n",
              "      <td>0</td>\n",
              "      <td>0</td>\n",
              "      <td>3.935358</td>\n",
              "    </tr>\n",
              "    <tr>\n",
              "      <th>1</th>\n",
              "      <td>0</td>\n",
              "      <td>1</td>\n",
              "      <td>2.133053</td>\n",
              "    </tr>\n",
              "    <tr>\n",
              "      <th>2</th>\n",
              "      <td>1</td>\n",
              "      <td>0</td>\n",
              "      <td>0.677131</td>\n",
              "    </tr>\n",
              "    <tr>\n",
              "      <th>3</th>\n",
              "      <td>1</td>\n",
              "      <td>3</td>\n",
              "      <td>2.411571</td>\n",
              "    </tr>\n",
              "    <tr>\n",
              "      <th>4</th>\n",
              "      <td>2</td>\n",
              "      <td>0</td>\n",
              "      <td>0.566173</td>\n",
              "    </tr>\n",
              "    <tr>\n",
              "      <th>5</th>\n",
              "      <td>2</td>\n",
              "      <td>1</td>\n",
              "      <td>1.413862</td>\n",
              "    </tr>\n",
              "    <tr>\n",
              "      <th>6</th>\n",
              "      <td>2</td>\n",
              "      <td>3</td>\n",
              "      <td>1.361070</td>\n",
              "    </tr>\n",
              "    <tr>\n",
              "      <th>7</th>\n",
              "      <td>3</td>\n",
              "      <td>0</td>\n",
              "      <td>0.476144</td>\n",
              "    </tr>\n",
              "    <tr>\n",
              "      <th>8</th>\n",
              "      <td>4</td>\n",
              "      <td>0</td>\n",
              "      <td>0.289801</td>\n",
              "    </tr>\n",
              "    <tr>\n",
              "      <th>9</th>\n",
              "      <td>5</td>\n",
              "      <td>0</td>\n",
              "      <td>0.803379</td>\n",
              "    </tr>\n",
              "    <tr>\n",
              "      <th>10</th>\n",
              "      <td>6</td>\n",
              "      <td>0</td>\n",
              "      <td>0.263108</td>\n",
              "    </tr>\n",
              "    <tr>\n",
              "      <th>11</th>\n",
              "      <td>6</td>\n",
              "      <td>1</td>\n",
              "      <td>2.564008</td>\n",
              "    </tr>\n",
              "    <tr>\n",
              "      <th>12</th>\n",
              "      <td>6</td>\n",
              "      <td>2</td>\n",
              "      <td>2.196833</td>\n",
              "    </tr>\n",
              "    <tr>\n",
              "      <th>13</th>\n",
              "      <td>7</td>\n",
              "      <td>0</td>\n",
              "      <td>2.098360</td>\n",
              "    </tr>\n",
              "    <tr>\n",
              "      <th>14</th>\n",
              "      <td>7</td>\n",
              "      <td>1</td>\n",
              "      <td>2.675145</td>\n",
              "    </tr>\n",
              "    <tr>\n",
              "      <th>15</th>\n",
              "      <td>7</td>\n",
              "      <td>2</td>\n",
              "      <td>3.457724</td>\n",
              "    </tr>\n",
              "    <tr>\n",
              "      <th>16</th>\n",
              "      <td>7</td>\n",
              "      <td>3</td>\n",
              "      <td>3.797742</td>\n",
              "    </tr>\n",
              "    <tr>\n",
              "      <th>17</th>\n",
              "      <td>8</td>\n",
              "      <td>0</td>\n",
              "      <td>0.561806</td>\n",
              "    </tr>\n",
              "    <tr>\n",
              "      <th>18</th>\n",
              "      <td>9</td>\n",
              "      <td>0</td>\n",
              "      <td>1.025156</td>\n",
              "    </tr>\n",
              "    <tr>\n",
              "      <th>19</th>\n",
              "      <td>9</td>\n",
              "      <td>1</td>\n",
              "      <td>1.480442</td>\n",
              "    </tr>\n",
              "    <tr>\n",
              "      <th>20</th>\n",
              "      <td>9</td>\n",
              "      <td>2</td>\n",
              "      <td>1.521529</td>\n",
              "    </tr>\n",
              "    <tr>\n",
              "      <th>21</th>\n",
              "      <td>10</td>\n",
              "      <td>0</td>\n",
              "      <td>0.500241</td>\n",
              "    </tr>\n",
              "    <tr>\n",
              "      <th>22</th>\n",
              "      <td>10</td>\n",
              "      <td>1</td>\n",
              "      <td>1.798162</td>\n",
              "    </tr>\n",
              "    <tr>\n",
              "      <th>23</th>\n",
              "      <td>10</td>\n",
              "      <td>3</td>\n",
              "      <td>3.124786</td>\n",
              "    </tr>\n",
              "    <tr>\n",
              "      <th>24</th>\n",
              "      <td>11</td>\n",
              "      <td>0</td>\n",
              "      <td>0.386964</td>\n",
              "    </tr>\n",
              "    <tr>\n",
              "      <th>25</th>\n",
              "      <td>11</td>\n",
              "      <td>1</td>\n",
              "      <td>2.705638</td>\n",
              "    </tr>\n",
              "    <tr>\n",
              "      <th>26</th>\n",
              "      <td>11</td>\n",
              "      <td>3</td>\n",
              "      <td>2.265373</td>\n",
              "    </tr>\n",
              "    <tr>\n",
              "      <th>27</th>\n",
              "      <td>12</td>\n",
              "      <td>0</td>\n",
              "      <td>0.436726</td>\n",
              "    </tr>\n",
              "    <tr>\n",
              "      <th>28</th>\n",
              "      <td>13</td>\n",
              "      <td>0</td>\n",
              "      <td>0.618262</td>\n",
              "    </tr>\n",
              "    <tr>\n",
              "      <th>29</th>\n",
              "      <td>13</td>\n",
              "      <td>1</td>\n",
              "      <td>1.960361</td>\n",
              "    </tr>\n",
              "    <tr>\n",
              "      <th>30</th>\n",
              "      <td>13</td>\n",
              "      <td>2</td>\n",
              "      <td>2.079500</td>\n",
              "    </tr>\n",
              "    <tr>\n",
              "      <th>31</th>\n",
              "      <td>14</td>\n",
              "      <td>0</td>\n",
              "      <td>1.056553</td>\n",
              "    </tr>\n",
              "    <tr>\n",
              "      <th>32</th>\n",
              "      <td>14</td>\n",
              "      <td>1</td>\n",
              "      <td>1.894853</td>\n",
              "    </tr>\n",
              "    <tr>\n",
              "      <th>33</th>\n",
              "      <td>14</td>\n",
              "      <td>2</td>\n",
              "      <td>1.839606</td>\n",
              "    </tr>\n",
              "    <tr>\n",
              "      <th>34</th>\n",
              "      <td>14</td>\n",
              "      <td>3</td>\n",
              "      <td>2.092028</td>\n",
              "    </tr>\n",
              "    <tr>\n",
              "      <th>35</th>\n",
              "      <td>15</td>\n",
              "      <td>0</td>\n",
              "      <td>0.359286</td>\n",
              "    </tr>\n",
              "    <tr>\n",
              "      <th>36</th>\n",
              "      <td>15</td>\n",
              "      <td>1</td>\n",
              "      <td>0.829054</td>\n",
              "    </tr>\n",
              "    <tr>\n",
              "      <th>37</th>\n",
              "      <td>15</td>\n",
              "      <td>2</td>\n",
              "      <td>1.248949</td>\n",
              "    </tr>\n",
              "    <tr>\n",
              "      <th>38</th>\n",
              "      <td>15</td>\n",
              "      <td>3</td>\n",
              "      <td>0.782896</td>\n",
              "    </tr>\n",
              "  </tbody>\n",
              "</table>\n",
              "</div>"
            ],
            "text/plain": [
              "    site_id  meter  cv_score\n",
              "0         0      0  3.935358\n",
              "1         0      1  2.133053\n",
              "2         1      0  0.677131\n",
              "3         1      3  2.411571\n",
              "4         2      0  0.566173\n",
              "5         2      1  1.413862\n",
              "6         2      3  1.361070\n",
              "7         3      0  0.476144\n",
              "8         4      0  0.289801\n",
              "9         5      0  0.803379\n",
              "10        6      0  0.263108\n",
              "11        6      1  2.564008\n",
              "12        6      2  2.196833\n",
              "13        7      0  2.098360\n",
              "14        7      1  2.675145\n",
              "15        7      2  3.457724\n",
              "16        7      3  3.797742\n",
              "17        8      0  0.561806\n",
              "18        9      0  1.025156\n",
              "19        9      1  1.480442\n",
              "20        9      2  1.521529\n",
              "21       10      0  0.500241\n",
              "22       10      1  1.798162\n",
              "23       10      3  3.124786\n",
              "24       11      0  0.386964\n",
              "25       11      1  2.705638\n",
              "26       11      3  2.265373\n",
              "27       12      0  0.436726\n",
              "28       13      0  0.618262\n",
              "29       13      1  1.960361\n",
              "30       13      2  2.079500\n",
              "31       14      0  1.056553\n",
              "32       14      1  1.894853\n",
              "33       14      2  1.839606\n",
              "34       14      3  2.092028\n",
              "35       15      0  0.359286\n",
              "36       15      1  0.829054\n",
              "37       15      2  1.248949\n",
              "38       15      3  0.782896"
            ]
          },
          "metadata": {
            "tags": []
          },
          "execution_count": 86
        }
      ]
    },
    {
      "cell_type": "code",
      "metadata": {
        "id": "vre3lhGG-BFK",
        "colab_type": "code",
        "outputId": "3b517f76-de66-4454-fd5f-069c395d0757",
        "colab": {
          "base_uri": "https://localhost:8080/",
          "height": 852
        }
      },
      "source": [
        "# Get a sorted list of the objects and their sizes\n",
        "sorted([(x, sys.getsizeof(globals().get(x))) for x in dir() if not x.startswith('_') and x not in sys.modules and x not in ipython_vars], key=lambda x: x[1], reverse=True)"
      ],
      "execution_count": 87,
      "outputs": [
        {
          "output_type": "execute_result",
          "data": {
            "text/plain": [
              "[('df_train', 744647409),\n",
              " ('df_weather_train', 3774023),\n",
              " ('X_train_site_meter', 412416),\n",
              " ('X_train', 312798),\n",
              " ('X_valid', 156378),\n",
              " ('y_pred_train_site_meter', 113824),\n",
              " ('y_train', 94804),\n",
              " ('train_index', 75920),\n",
              " ('y_valid', 47404),\n",
              " ('valid_index', 38000),\n",
              " ('y_pred_valid', 38000),\n",
              " ('y_train_site_meter', 28584),\n",
              " ('filler', 24327),\n",
              " ('df_building_metadata', 11744),\n",
              " ('InteractiveShell', 1056),\n",
              " ('KFold', 1056),\n",
              " ('LinearRegression', 1056),\n",
              " ('primary_use_map', 648),\n",
              " ('params', 368),\n",
              " ('cv_scores', 240),\n",
              " ('models', 240),\n",
              " ('all_features', 192),\n",
              " ('dateparse', 136),\n",
              " ('fill_missing_column', 136),\n",
              " ('mean_squared_error', 136),\n",
              " ('reduce_mem_usage', 136),\n",
              " ('weather_metrics', 120),\n",
              " ('categorical_features', 112),\n",
              " ('drive', 80),\n",
              " ('lgb', 80),\n",
              " ('np', 80),\n",
              " ('pd', 80),\n",
              " ('plt', 80),\n",
              " ('sns', 80),\n",
              " ('watchlist', 80),\n",
              " ('item', 59),\n",
              " ('dtrain', 56),\n",
              " ('dvalid', 56),\n",
              " ('kf', 56),\n",
              " ('model_lgb', 56),\n",
              " ('rmse', 32),\n",
              " ('score', 32),\n",
              " ('cv', 28),\n",
              " ('fold', 28),\n",
              " ('meter', 28),\n",
              " ('meter_id', 28),\n",
              " ('seed', 28),\n",
              " ('site_id', 28)]"
            ]
          },
          "metadata": {
            "tags": []
          },
          "execution_count": 87
        }
      ]
    },
    {
      "cell_type": "code",
      "metadata": {
        "id": "jdECPFNFUvZY",
        "colab_type": "code",
        "outputId": "5367ca32-6ef5-4011-a164-7aad89c67d13",
        "colab": {
          "base_uri": "https://localhost:8080/",
          "height": 34
        }
      },
      "source": [
        "del df_train, X_train, X_valid, X_train_site_meter, y_pred_train_site_meter, y_train, y_valid, y_train_site_meter, train_index, valid_index\n",
        "gc.collect()"
      ],
      "execution_count": 88,
      "outputs": [
        {
          "output_type": "execute_result",
          "data": {
            "text/plain": [
              "831"
            ]
          },
          "metadata": {
            "tags": []
          },
          "execution_count": 88
        }
      ]
    },
    {
      "cell_type": "markdown",
      "metadata": {
        "id": "RBHOMdJvLKCj",
        "colab_type": "text"
      },
      "source": [
        "# Weather Test EDA"
      ]
    },
    {
      "cell_type": "code",
      "metadata": {
        "id": "dzoxGsLVKNuk",
        "colab_type": "code",
        "outputId": "fcf7741c-fae4-40f5-a006-3338be767c41",
        "colab": {
          "base_uri": "https://localhost:8080/",
          "height": 1000
        }
      },
      "source": [
        "df_weather_test = pd.read_csv('weather_test.csv',parse_dates = ['timestamp'], date_parser = dateparse)\n",
        "df_weather_test.info()\n",
        "df_weather_test.head()\n",
        "df_weather_test.tail()\n",
        "df_weather_test = reduce_mem_usage(df_weather_test)\n",
        "df_weather_test.info()\n",
        "df_weather_test['day'] = df_weather_test['timestamp'].dt.day\n",
        "df_weather_test['week'] = df_weather_test['timestamp'].dt.week\n",
        "df_weather_test['month'] = df_weather_test['timestamp'].dt.month\n",
        "df_weather_test['hour'] = df_weather_test['timestamp'].dt.hour\n",
        "df_weather_test.info()\n",
        "df_weather_test = reduce_mem_usage(df_weather_test)\n",
        "df_weather_test.info()\n",
        "df_weather_test.head()"
      ],
      "execution_count": 89,
      "outputs": [
        {
          "output_type": "stream",
          "text": [
            "<class 'pandas.core.frame.DataFrame'>\n",
            "RangeIndex: 277243 entries, 0 to 277242\n",
            "Data columns (total 9 columns):\n",
            "site_id               277243 non-null int64\n",
            "timestamp             277243 non-null datetime64[ns]\n",
            "air_temperature       277139 non-null float64\n",
            "cloud_coverage        136795 non-null float64\n",
            "dew_temperature       276916 non-null float64\n",
            "precip_depth_1_hr     181655 non-null float64\n",
            "sea_level_pressure    255978 non-null float64\n",
            "wind_direction        264873 non-null float64\n",
            "wind_speed            276783 non-null float64\n",
            "dtypes: datetime64[ns](1), float64(7), int64(1)\n",
            "memory usage: 19.0 MB\n"
          ],
          "name": "stdout"
        },
        {
          "output_type": "execute_result",
          "data": {
            "text/html": [
              "<div>\n",
              "<style scoped>\n",
              "    .dataframe tbody tr th:only-of-type {\n",
              "        vertical-align: middle;\n",
              "    }\n",
              "\n",
              "    .dataframe tbody tr th {\n",
              "        vertical-align: top;\n",
              "    }\n",
              "\n",
              "    .dataframe thead th {\n",
              "        text-align: right;\n",
              "    }\n",
              "</style>\n",
              "<table border=\"1\" class=\"dataframe\">\n",
              "  <thead>\n",
              "    <tr style=\"text-align: right;\">\n",
              "      <th></th>\n",
              "      <th>site_id</th>\n",
              "      <th>timestamp</th>\n",
              "      <th>air_temperature</th>\n",
              "      <th>cloud_coverage</th>\n",
              "      <th>dew_temperature</th>\n",
              "      <th>precip_depth_1_hr</th>\n",
              "      <th>sea_level_pressure</th>\n",
              "      <th>wind_direction</th>\n",
              "      <th>wind_speed</th>\n",
              "    </tr>\n",
              "  </thead>\n",
              "  <tbody>\n",
              "    <tr>\n",
              "      <th>0</th>\n",
              "      <td>0</td>\n",
              "      <td>2017-01-01 00:00:00</td>\n",
              "      <td>17.8</td>\n",
              "      <td>4.0</td>\n",
              "      <td>11.7</td>\n",
              "      <td>NaN</td>\n",
              "      <td>1021.4</td>\n",
              "      <td>100.0</td>\n",
              "      <td>3.6</td>\n",
              "    </tr>\n",
              "    <tr>\n",
              "      <th>1</th>\n",
              "      <td>0</td>\n",
              "      <td>2017-01-01 01:00:00</td>\n",
              "      <td>17.8</td>\n",
              "      <td>2.0</td>\n",
              "      <td>12.8</td>\n",
              "      <td>0.0</td>\n",
              "      <td>1022.0</td>\n",
              "      <td>130.0</td>\n",
              "      <td>3.1</td>\n",
              "    </tr>\n",
              "    <tr>\n",
              "      <th>2</th>\n",
              "      <td>0</td>\n",
              "      <td>2017-01-01 02:00:00</td>\n",
              "      <td>16.1</td>\n",
              "      <td>0.0</td>\n",
              "      <td>12.8</td>\n",
              "      <td>0.0</td>\n",
              "      <td>1021.9</td>\n",
              "      <td>140.0</td>\n",
              "      <td>3.1</td>\n",
              "    </tr>\n",
              "    <tr>\n",
              "      <th>3</th>\n",
              "      <td>0</td>\n",
              "      <td>2017-01-01 03:00:00</td>\n",
              "      <td>17.2</td>\n",
              "      <td>0.0</td>\n",
              "      <td>13.3</td>\n",
              "      <td>0.0</td>\n",
              "      <td>1022.2</td>\n",
              "      <td>140.0</td>\n",
              "      <td>3.1</td>\n",
              "    </tr>\n",
              "    <tr>\n",
              "      <th>4</th>\n",
              "      <td>0</td>\n",
              "      <td>2017-01-01 04:00:00</td>\n",
              "      <td>16.7</td>\n",
              "      <td>2.0</td>\n",
              "      <td>13.3</td>\n",
              "      <td>0.0</td>\n",
              "      <td>1022.3</td>\n",
              "      <td>130.0</td>\n",
              "      <td>2.6</td>\n",
              "    </tr>\n",
              "  </tbody>\n",
              "</table>\n",
              "</div>"
            ],
            "text/plain": [
              "   site_id           timestamp  ...  wind_direction  wind_speed\n",
              "0        0 2017-01-01 00:00:00  ...           100.0         3.6\n",
              "1        0 2017-01-01 01:00:00  ...           130.0         3.1\n",
              "2        0 2017-01-01 02:00:00  ...           140.0         3.1\n",
              "3        0 2017-01-01 03:00:00  ...           140.0         3.1\n",
              "4        0 2017-01-01 04:00:00  ...           130.0         2.6\n",
              "\n",
              "[5 rows x 9 columns]"
            ]
          },
          "metadata": {
            "tags": []
          },
          "execution_count": 89
        },
        {
          "output_type": "execute_result",
          "data": {
            "text/html": [
              "<div>\n",
              "<style scoped>\n",
              "    .dataframe tbody tr th:only-of-type {\n",
              "        vertical-align: middle;\n",
              "    }\n",
              "\n",
              "    .dataframe tbody tr th {\n",
              "        vertical-align: top;\n",
              "    }\n",
              "\n",
              "    .dataframe thead th {\n",
              "        text-align: right;\n",
              "    }\n",
              "</style>\n",
              "<table border=\"1\" class=\"dataframe\">\n",
              "  <thead>\n",
              "    <tr style=\"text-align: right;\">\n",
              "      <th></th>\n",
              "      <th>site_id</th>\n",
              "      <th>timestamp</th>\n",
              "      <th>air_temperature</th>\n",
              "      <th>cloud_coverage</th>\n",
              "      <th>dew_temperature</th>\n",
              "      <th>precip_depth_1_hr</th>\n",
              "      <th>sea_level_pressure</th>\n",
              "      <th>wind_direction</th>\n",
              "      <th>wind_speed</th>\n",
              "    </tr>\n",
              "  </thead>\n",
              "  <tbody>\n",
              "    <tr>\n",
              "      <th>277238</th>\n",
              "      <td>15</td>\n",
              "      <td>2018-12-31 19:00:00</td>\n",
              "      <td>3.3</td>\n",
              "      <td>NaN</td>\n",
              "      <td>1.7</td>\n",
              "      <td>NaN</td>\n",
              "      <td>1018.3</td>\n",
              "      <td>150.0</td>\n",
              "      <td>7.7</td>\n",
              "    </tr>\n",
              "    <tr>\n",
              "      <th>277239</th>\n",
              "      <td>15</td>\n",
              "      <td>2018-12-31 20:00:00</td>\n",
              "      <td>2.8</td>\n",
              "      <td>NaN</td>\n",
              "      <td>1.1</td>\n",
              "      <td>NaN</td>\n",
              "      <td>1017.8</td>\n",
              "      <td>140.0</td>\n",
              "      <td>5.1</td>\n",
              "    </tr>\n",
              "    <tr>\n",
              "      <th>277240</th>\n",
              "      <td>15</td>\n",
              "      <td>2018-12-31 21:00:00</td>\n",
              "      <td>2.8</td>\n",
              "      <td>NaN</td>\n",
              "      <td>1.7</td>\n",
              "      <td>-1.0</td>\n",
              "      <td>1017.2</td>\n",
              "      <td>140.0</td>\n",
              "      <td>6.2</td>\n",
              "    </tr>\n",
              "    <tr>\n",
              "      <th>277241</th>\n",
              "      <td>15</td>\n",
              "      <td>2018-12-31 22:00:00</td>\n",
              "      <td>2.8</td>\n",
              "      <td>NaN</td>\n",
              "      <td>2.2</td>\n",
              "      <td>8.0</td>\n",
              "      <td>1016.1</td>\n",
              "      <td>140.0</td>\n",
              "      <td>5.1</td>\n",
              "    </tr>\n",
              "    <tr>\n",
              "      <th>277242</th>\n",
              "      <td>15</td>\n",
              "      <td>2018-12-31 23:00:00</td>\n",
              "      <td>3.3</td>\n",
              "      <td>NaN</td>\n",
              "      <td>2.2</td>\n",
              "      <td>20.0</td>\n",
              "      <td>1014.7</td>\n",
              "      <td>140.0</td>\n",
              "      <td>5.1</td>\n",
              "    </tr>\n",
              "  </tbody>\n",
              "</table>\n",
              "</div>"
            ],
            "text/plain": [
              "        site_id           timestamp  ...  wind_direction  wind_speed\n",
              "277238       15 2018-12-31 19:00:00  ...           150.0         7.7\n",
              "277239       15 2018-12-31 20:00:00  ...           140.0         5.1\n",
              "277240       15 2018-12-31 21:00:00  ...           140.0         6.2\n",
              "277241       15 2018-12-31 22:00:00  ...           140.0         5.1\n",
              "277242       15 2018-12-31 23:00:00  ...           140.0         5.1\n",
              "\n",
              "[5 rows x 9 columns]"
            ]
          },
          "metadata": {
            "tags": []
          },
          "execution_count": 89
        },
        {
          "output_type": "stream",
          "text": [
            "Mem. usage decreased to  6.08 Mb (68.1% reduction)\n",
            "<class 'pandas.core.frame.DataFrame'>\n",
            "RangeIndex: 277243 entries, 0 to 277242\n",
            "Data columns (total 9 columns):\n",
            "site_id               277243 non-null int8\n",
            "timestamp             277243 non-null datetime64[ns]\n",
            "air_temperature       277139 non-null float16\n",
            "cloud_coverage        136795 non-null float16\n",
            "dew_temperature       276916 non-null float16\n",
            "precip_depth_1_hr     181655 non-null float16\n",
            "sea_level_pressure    255978 non-null float16\n",
            "wind_direction        264873 non-null float16\n",
            "wind_speed            276783 non-null float16\n",
            "dtypes: datetime64[ns](1), float16(7), int8(1)\n",
            "memory usage: 6.1 MB\n",
            "<class 'pandas.core.frame.DataFrame'>\n",
            "RangeIndex: 277243 entries, 0 to 277242\n",
            "Data columns (total 13 columns):\n",
            "site_id               277243 non-null int8\n",
            "timestamp             277243 non-null datetime64[ns]\n",
            "air_temperature       277139 non-null float16\n",
            "cloud_coverage        136795 non-null float16\n",
            "dew_temperature       276916 non-null float16\n",
            "precip_depth_1_hr     181655 non-null float16\n",
            "sea_level_pressure    255978 non-null float16\n",
            "wind_direction        264873 non-null float16\n",
            "wind_speed            276783 non-null float16\n",
            "day                   277243 non-null int64\n",
            "week                  277243 non-null int64\n",
            "month                 277243 non-null int64\n",
            "hour                  277243 non-null int64\n",
            "dtypes: datetime64[ns](1), float16(7), int64(4), int8(1)\n",
            "memory usage: 14.5 MB\n",
            "Mem. usage decreased to  7.14 Mb (50.9% reduction)\n",
            "<class 'pandas.core.frame.DataFrame'>\n",
            "RangeIndex: 277243 entries, 0 to 277242\n",
            "Data columns (total 13 columns):\n",
            "site_id               277243 non-null int8\n",
            "timestamp             277243 non-null datetime64[ns]\n",
            "air_temperature       277139 non-null float16\n",
            "cloud_coverage        136795 non-null float16\n",
            "dew_temperature       276916 non-null float16\n",
            "precip_depth_1_hr     181655 non-null float16\n",
            "sea_level_pressure    255978 non-null float16\n",
            "wind_direction        264873 non-null float16\n",
            "wind_speed            276783 non-null float16\n",
            "day                   277243 non-null int8\n",
            "week                  277243 non-null int8\n",
            "month                 277243 non-null int8\n",
            "hour                  277243 non-null int8\n",
            "dtypes: datetime64[ns](1), float16(7), int8(5)\n",
            "memory usage: 7.1 MB\n"
          ],
          "name": "stdout"
        },
        {
          "output_type": "execute_result",
          "data": {
            "text/html": [
              "<div>\n",
              "<style scoped>\n",
              "    .dataframe tbody tr th:only-of-type {\n",
              "        vertical-align: middle;\n",
              "    }\n",
              "\n",
              "    .dataframe tbody tr th {\n",
              "        vertical-align: top;\n",
              "    }\n",
              "\n",
              "    .dataframe thead th {\n",
              "        text-align: right;\n",
              "    }\n",
              "</style>\n",
              "<table border=\"1\" class=\"dataframe\">\n",
              "  <thead>\n",
              "    <tr style=\"text-align: right;\">\n",
              "      <th></th>\n",
              "      <th>site_id</th>\n",
              "      <th>timestamp</th>\n",
              "      <th>air_temperature</th>\n",
              "      <th>cloud_coverage</th>\n",
              "      <th>dew_temperature</th>\n",
              "      <th>precip_depth_1_hr</th>\n",
              "      <th>sea_level_pressure</th>\n",
              "      <th>wind_direction</th>\n",
              "      <th>wind_speed</th>\n",
              "      <th>day</th>\n",
              "      <th>week</th>\n",
              "      <th>month</th>\n",
              "      <th>hour</th>\n",
              "    </tr>\n",
              "  </thead>\n",
              "  <tbody>\n",
              "    <tr>\n",
              "      <th>0</th>\n",
              "      <td>0</td>\n",
              "      <td>2017-01-01 00:00:00</td>\n",
              "      <td>17.796875</td>\n",
              "      <td>4.0</td>\n",
              "      <td>11.703125</td>\n",
              "      <td>NaN</td>\n",
              "      <td>1021.5</td>\n",
              "      <td>100.0</td>\n",
              "      <td>3.599609</td>\n",
              "      <td>1</td>\n",
              "      <td>52</td>\n",
              "      <td>1</td>\n",
              "      <td>0</td>\n",
              "    </tr>\n",
              "    <tr>\n",
              "      <th>1</th>\n",
              "      <td>0</td>\n",
              "      <td>2017-01-01 01:00:00</td>\n",
              "      <td>17.796875</td>\n",
              "      <td>2.0</td>\n",
              "      <td>12.796875</td>\n",
              "      <td>0.0</td>\n",
              "      <td>1022.0</td>\n",
              "      <td>130.0</td>\n",
              "      <td>3.099609</td>\n",
              "      <td>1</td>\n",
              "      <td>52</td>\n",
              "      <td>1</td>\n",
              "      <td>1</td>\n",
              "    </tr>\n",
              "    <tr>\n",
              "      <th>2</th>\n",
              "      <td>0</td>\n",
              "      <td>2017-01-01 02:00:00</td>\n",
              "      <td>16.093750</td>\n",
              "      <td>0.0</td>\n",
              "      <td>12.796875</td>\n",
              "      <td>0.0</td>\n",
              "      <td>1022.0</td>\n",
              "      <td>140.0</td>\n",
              "      <td>3.099609</td>\n",
              "      <td>1</td>\n",
              "      <td>52</td>\n",
              "      <td>1</td>\n",
              "      <td>2</td>\n",
              "    </tr>\n",
              "    <tr>\n",
              "      <th>3</th>\n",
              "      <td>0</td>\n",
              "      <td>2017-01-01 03:00:00</td>\n",
              "      <td>17.203125</td>\n",
              "      <td>0.0</td>\n",
              "      <td>13.296875</td>\n",
              "      <td>0.0</td>\n",
              "      <td>1022.0</td>\n",
              "      <td>140.0</td>\n",
              "      <td>3.099609</td>\n",
              "      <td>1</td>\n",
              "      <td>52</td>\n",
              "      <td>1</td>\n",
              "      <td>3</td>\n",
              "    </tr>\n",
              "    <tr>\n",
              "      <th>4</th>\n",
              "      <td>0</td>\n",
              "      <td>2017-01-01 04:00:00</td>\n",
              "      <td>16.703125</td>\n",
              "      <td>2.0</td>\n",
              "      <td>13.296875</td>\n",
              "      <td>0.0</td>\n",
              "      <td>1022.5</td>\n",
              "      <td>130.0</td>\n",
              "      <td>2.599609</td>\n",
              "      <td>1</td>\n",
              "      <td>52</td>\n",
              "      <td>1</td>\n",
              "      <td>4</td>\n",
              "    </tr>\n",
              "  </tbody>\n",
              "</table>\n",
              "</div>"
            ],
            "text/plain": [
              "   site_id           timestamp  air_temperature  ...  week  month  hour\n",
              "0        0 2017-01-01 00:00:00        17.796875  ...    52      1     0\n",
              "1        0 2017-01-01 01:00:00        17.796875  ...    52      1     1\n",
              "2        0 2017-01-01 02:00:00        16.093750  ...    52      1     2\n",
              "3        0 2017-01-01 03:00:00        17.203125  ...    52      1     3\n",
              "4        0 2017-01-01 04:00:00        16.703125  ...    52      1     4\n",
              "\n",
              "[5 rows x 13 columns]"
            ]
          },
          "metadata": {
            "tags": []
          },
          "execution_count": 89
        }
      ]
    },
    {
      "cell_type": "code",
      "metadata": {
        "id": "nyDTVZHwKv3u",
        "colab_type": "code",
        "outputId": "f3a897d8-37f2-4f60-ff20-30fb6d971ff5",
        "colab": {
          "base_uri": "https://localhost:8080/",
          "height": 278
        }
      },
      "source": [
        "print('Missing Values in %:\\n{}'.format(100*df_weather_test.isna().sum()/df_weather_test.shape[0]))"
      ],
      "execution_count": 90,
      "outputs": [
        {
          "output_type": "stream",
          "text": [
            "Missing Values in %:\n",
            "site_id                0.000000\n",
            "timestamp              0.000000\n",
            "air_temperature        0.037512\n",
            "cloud_coverage        50.658808\n",
            "dew_temperature        0.117947\n",
            "precip_depth_1_hr     34.478057\n",
            "sea_level_pressure     7.670167\n",
            "wind_direction         4.461790\n",
            "wind_speed             0.165919\n",
            "day                    0.000000\n",
            "week                   0.000000\n",
            "month                  0.000000\n",
            "hour                   0.000000\n",
            "dtype: float64\n"
          ],
          "name": "stdout"
        }
      ]
    },
    {
      "cell_type": "code",
      "metadata": {
        "id": "6JI6Id_sLFre",
        "colab_type": "code",
        "outputId": "c66b1134-d3d9-4bad-8de6-162366ab8407",
        "colab": {
          "base_uri": "https://localhost:8080/",
          "height": 382
        }
      },
      "source": [
        "for item in weather_metrics:\n",
        "  filler = df_weather_test.groupby(by = ['site_id','month','hour'])[item].agg(np.mean)\n",
        "\n",
        "  df_weather_test = fill_missing_column(df_weather_test,filler,item)\n",
        "print('Missing Values in %:\\n{}'.format(100*df_weather_test.isna().sum()/df_weather_test.shape[0]))"
      ],
      "execution_count": 91,
      "outputs": [
        {
          "output_type": "stream",
          "text": [
            "/usr/local/lib/python3.6/dist-packages/ipykernel_launcher.py:5: SettingWithCopyWarning: \n",
            "A value is trying to be set on a copy of a slice from a DataFrame.\n",
            "Try using .loc[row_indexer,col_indexer] = value instead\n",
            "\n",
            "See the caveats in the documentation: http://pandas.pydata.org/pandas-docs/stable/user_guide/indexing.html#returning-a-view-versus-a-copy\n",
            "  \"\"\"\n"
          ],
          "name": "stderr"
        },
        {
          "output_type": "stream",
          "text": [
            "Missing Values in %:\n",
            "site_id                0.000000\n",
            "timestamp              0.000000\n",
            "air_temperature        0.000000\n",
            "cloud_coverage        11.955577\n",
            "dew_temperature        0.000000\n",
            "precip_depth_1_hr     18.900748\n",
            "sea_level_pressure     6.218732\n",
            "wind_direction         0.000000\n",
            "wind_speed             0.000000\n",
            "day                    0.000000\n",
            "week                   0.000000\n",
            "month                  0.000000\n",
            "hour                   0.000000\n",
            "dtype: float64\n"
          ],
          "name": "stdout"
        }
      ]
    },
    {
      "cell_type": "code",
      "metadata": {
        "id": "2F_C19d_LspO",
        "colab_type": "code",
        "outputId": "91f58502-e0ce-44e8-f69b-4a44200175b2",
        "colab": {
          "base_uri": "https://localhost:8080/",
          "height": 330
        }
      },
      "source": [
        "df_weather_test.groupby(['site_id'])['air_temperature'].median()"
      ],
      "execution_count": 92,
      "outputs": [
        {
          "output_type": "execute_result",
          "data": {
            "text/plain": [
              "site_id\n",
              "0     23.906250\n",
              "1     11.796875\n",
              "2     25.000000\n",
              "3     16.093750\n",
              "4     14.398438\n",
              "5     11.000000\n",
              "6     16.093750\n",
              "7      7.699219\n",
              "8     23.906250\n",
              "9     22.796875\n",
              "10    10.601562\n",
              "11     7.699219\n",
              "12    10.101562\n",
              "13     8.898438\n",
              "14    13.296875\n",
              "15     9.398438\n",
              "Name: air_temperature, dtype: float16"
            ]
          },
          "metadata": {
            "tags": []
          },
          "execution_count": 92
        }
      ]
    },
    {
      "cell_type": "code",
      "metadata": {
        "id": "xyY5_m3YO-yA",
        "colab_type": "code",
        "outputId": "8dffbce9-be87-482a-8f4b-d8fa7f27cca5",
        "colab": {
          "base_uri": "https://localhost:8080/",
          "height": 1000
        }
      },
      "source": [
        "df_weather_test.groupby(['site_id'])['air_temperature','dew_temperature','sea_level_pressure','cloud_coverage','precip_depth_1_hr','wind_direction', 'wind_speed'].median()\n",
        "df_weather_test.groupby(['site_id'])['air_temperature','dew_temperature','sea_level_pressure','cloud_coverage','precip_depth_1_hr','wind_direction', 'wind_speed'].mean()"
      ],
      "execution_count": 93,
      "outputs": [
        {
          "output_type": "execute_result",
          "data": {
            "text/html": [
              "<div>\n",
              "<style scoped>\n",
              "    .dataframe tbody tr th:only-of-type {\n",
              "        vertical-align: middle;\n",
              "    }\n",
              "\n",
              "    .dataframe tbody tr th {\n",
              "        vertical-align: top;\n",
              "    }\n",
              "\n",
              "    .dataframe thead th {\n",
              "        text-align: right;\n",
              "    }\n",
              "</style>\n",
              "<table border=\"1\" class=\"dataframe\">\n",
              "  <thead>\n",
              "    <tr style=\"text-align: right;\">\n",
              "      <th></th>\n",
              "      <th>air_temperature</th>\n",
              "      <th>dew_temperature</th>\n",
              "      <th>sea_level_pressure</th>\n",
              "      <th>cloud_coverage</th>\n",
              "      <th>precip_depth_1_hr</th>\n",
              "      <th>wind_direction</th>\n",
              "      <th>wind_speed</th>\n",
              "    </tr>\n",
              "    <tr>\n",
              "      <th>site_id</th>\n",
              "      <th></th>\n",
              "      <th></th>\n",
              "      <th></th>\n",
              "      <th></th>\n",
              "      <th></th>\n",
              "      <th></th>\n",
              "      <th></th>\n",
              "    </tr>\n",
              "  </thead>\n",
              "  <tbody>\n",
              "    <tr>\n",
              "      <th>0</th>\n",
              "      <td>23.906250</td>\n",
              "      <td>19.406250</td>\n",
              "      <td>1018.0</td>\n",
              "      <td>2.500000</td>\n",
              "      <td>0.000000</td>\n",
              "      <td>136.750</td>\n",
              "      <td>3.099609</td>\n",
              "    </tr>\n",
              "    <tr>\n",
              "      <th>1</th>\n",
              "      <td>11.796875</td>\n",
              "      <td>8.000000</td>\n",
              "      <td>1016.5</td>\n",
              "      <td>0.000000</td>\n",
              "      <td>NaN</td>\n",
              "      <td>220.000</td>\n",
              "      <td>3.599609</td>\n",
              "    </tr>\n",
              "    <tr>\n",
              "      <th>2</th>\n",
              "      <td>25.000000</td>\n",
              "      <td>2.800781</td>\n",
              "      <td>1010.5</td>\n",
              "      <td>2.000000</td>\n",
              "      <td>0.000000</td>\n",
              "      <td>132.000</td>\n",
              "      <td>2.599609</td>\n",
              "    </tr>\n",
              "    <tr>\n",
              "      <th>3</th>\n",
              "      <td>16.093750</td>\n",
              "      <td>10.000000</td>\n",
              "      <td>1018.0</td>\n",
              "      <td>2.572266</td>\n",
              "      <td>0.000000</td>\n",
              "      <td>190.000</td>\n",
              "      <td>3.599609</td>\n",
              "    </tr>\n",
              "    <tr>\n",
              "      <th>4</th>\n",
              "      <td>14.398438</td>\n",
              "      <td>10.601562</td>\n",
              "      <td>1016.5</td>\n",
              "      <td>2.000000</td>\n",
              "      <td>0.000000</td>\n",
              "      <td>260.000</td>\n",
              "      <td>3.599609</td>\n",
              "    </tr>\n",
              "    <tr>\n",
              "      <th>5</th>\n",
              "      <td>11.000000</td>\n",
              "      <td>9.000000</td>\n",
              "      <td>NaN</td>\n",
              "      <td>0.000000</td>\n",
              "      <td>NaN</td>\n",
              "      <td>250.000</td>\n",
              "      <td>4.601562</td>\n",
              "    </tr>\n",
              "    <tr>\n",
              "      <th>6</th>\n",
              "      <td>16.093750</td>\n",
              "      <td>10.000000</td>\n",
              "      <td>1017.5</td>\n",
              "      <td>0.000000</td>\n",
              "      <td>0.000000</td>\n",
              "      <td>140.000</td>\n",
              "      <td>2.099609</td>\n",
              "    </tr>\n",
              "    <tr>\n",
              "      <th>7</th>\n",
              "      <td>7.699219</td>\n",
              "      <td>2.599609</td>\n",
              "      <td>1015.5</td>\n",
              "      <td>NaN</td>\n",
              "      <td>8.859375</td>\n",
              "      <td>220.000</td>\n",
              "      <td>3.099609</td>\n",
              "    </tr>\n",
              "    <tr>\n",
              "      <th>8</th>\n",
              "      <td>23.906250</td>\n",
              "      <td>19.406250</td>\n",
              "      <td>1018.0</td>\n",
              "      <td>2.500000</td>\n",
              "      <td>0.000000</td>\n",
              "      <td>136.750</td>\n",
              "      <td>3.099609</td>\n",
              "    </tr>\n",
              "    <tr>\n",
              "      <th>9</th>\n",
              "      <td>22.796875</td>\n",
              "      <td>16.703125</td>\n",
              "      <td>1015.5</td>\n",
              "      <td>0.108093</td>\n",
              "      <td>0.000000</td>\n",
              "      <td>133.500</td>\n",
              "      <td>2.099609</td>\n",
              "    </tr>\n",
              "    <tr>\n",
              "      <th>10</th>\n",
              "      <td>10.601562</td>\n",
              "      <td>-0.600098</td>\n",
              "      <td>1014.5</td>\n",
              "      <td>0.000000</td>\n",
              "      <td>0.000000</td>\n",
              "      <td>180.000</td>\n",
              "      <td>3.099609</td>\n",
              "    </tr>\n",
              "    <tr>\n",
              "      <th>11</th>\n",
              "      <td>7.699219</td>\n",
              "      <td>2.599609</td>\n",
              "      <td>1015.5</td>\n",
              "      <td>NaN</td>\n",
              "      <td>8.859375</td>\n",
              "      <td>220.000</td>\n",
              "      <td>3.099609</td>\n",
              "    </tr>\n",
              "    <tr>\n",
              "      <th>12</th>\n",
              "      <td>10.101562</td>\n",
              "      <td>7.101562</td>\n",
              "      <td>1015.0</td>\n",
              "      <td>7.000000</td>\n",
              "      <td>NaN</td>\n",
              "      <td>230.000</td>\n",
              "      <td>5.000000</td>\n",
              "    </tr>\n",
              "    <tr>\n",
              "      <th>13</th>\n",
              "      <td>8.898438</td>\n",
              "      <td>2.199219</td>\n",
              "      <td>1016.0</td>\n",
              "      <td>1.839844</td>\n",
              "      <td>0.000000</td>\n",
              "      <td>183.125</td>\n",
              "      <td>3.599609</td>\n",
              "    </tr>\n",
              "    <tr>\n",
              "      <th>14</th>\n",
              "      <td>13.296875</td>\n",
              "      <td>7.800781</td>\n",
              "      <td>1016.5</td>\n",
              "      <td>0.323486</td>\n",
              "      <td>0.000000</td>\n",
              "      <td>210.000</td>\n",
              "      <td>3.099609</td>\n",
              "    </tr>\n",
              "    <tr>\n",
              "      <th>15</th>\n",
              "      <td>9.398438</td>\n",
              "      <td>5.601562</td>\n",
              "      <td>1017.5</td>\n",
              "      <td>0.666504</td>\n",
              "      <td>2.445312</td>\n",
              "      <td>180.000</td>\n",
              "      <td>3.099609</td>\n",
              "    </tr>\n",
              "  </tbody>\n",
              "</table>\n",
              "</div>"
            ],
            "text/plain": [
              "         air_temperature  dew_temperature  ...  wind_direction  wind_speed\n",
              "site_id                                    ...                            \n",
              "0              23.906250        19.406250  ...         136.750    3.099609\n",
              "1              11.796875         8.000000  ...         220.000    3.599609\n",
              "2              25.000000         2.800781  ...         132.000    2.599609\n",
              "3              16.093750        10.000000  ...         190.000    3.599609\n",
              "4              14.398438        10.601562  ...         260.000    3.599609\n",
              "5              11.000000         9.000000  ...         250.000    4.601562\n",
              "6              16.093750        10.000000  ...         140.000    2.099609\n",
              "7               7.699219         2.599609  ...         220.000    3.099609\n",
              "8              23.906250        19.406250  ...         136.750    3.099609\n",
              "9              22.796875        16.703125  ...         133.500    2.099609\n",
              "10             10.601562        -0.600098  ...         180.000    3.099609\n",
              "11              7.699219         2.599609  ...         220.000    3.099609\n",
              "12             10.101562         7.101562  ...         230.000    5.000000\n",
              "13              8.898438         2.199219  ...         183.125    3.599609\n",
              "14             13.296875         7.800781  ...         210.000    3.099609\n",
              "15              9.398438         5.601562  ...         180.000    3.099609\n",
              "\n",
              "[16 rows x 7 columns]"
            ]
          },
          "metadata": {
            "tags": []
          },
          "execution_count": 93
        },
        {
          "output_type": "execute_result",
          "data": {
            "text/html": [
              "<div>\n",
              "<style scoped>\n",
              "    .dataframe tbody tr th:only-of-type {\n",
              "        vertical-align: middle;\n",
              "    }\n",
              "\n",
              "    .dataframe tbody tr th {\n",
              "        vertical-align: top;\n",
              "    }\n",
              "\n",
              "    .dataframe thead th {\n",
              "        text-align: right;\n",
              "    }\n",
              "</style>\n",
              "<table border=\"1\" class=\"dataframe\">\n",
              "  <thead>\n",
              "    <tr style=\"text-align: right;\">\n",
              "      <th></th>\n",
              "      <th>air_temperature</th>\n",
              "      <th>dew_temperature</th>\n",
              "      <th>sea_level_pressure</th>\n",
              "      <th>cloud_coverage</th>\n",
              "      <th>precip_depth_1_hr</th>\n",
              "      <th>wind_direction</th>\n",
              "      <th>wind_speed</th>\n",
              "    </tr>\n",
              "    <tr>\n",
              "      <th>site_id</th>\n",
              "      <th></th>\n",
              "      <th></th>\n",
              "      <th></th>\n",
              "      <th></th>\n",
              "      <th></th>\n",
              "      <th></th>\n",
              "      <th></th>\n",
              "    </tr>\n",
              "  </thead>\n",
              "  <tbody>\n",
              "    <tr>\n",
              "      <th>0</th>\n",
              "      <td>22.703125</td>\n",
              "      <td>17.656250</td>\n",
              "      <td>1018.0</td>\n",
              "      <td>2.816406</td>\n",
              "      <td>1.168945</td>\n",
              "      <td>150.750</td>\n",
              "      <td>3.400391</td>\n",
              "    </tr>\n",
              "    <tr>\n",
              "      <th>1</th>\n",
              "      <td>12.171875</td>\n",
              "      <td>7.542969</td>\n",
              "      <td>1015.5</td>\n",
              "      <td>0.050964</td>\n",
              "      <td>NaN</td>\n",
              "      <td>198.875</td>\n",
              "      <td>4.039062</td>\n",
              "    </tr>\n",
              "    <tr>\n",
              "      <th>2</th>\n",
              "      <td>24.968750</td>\n",
              "      <td>3.816406</td>\n",
              "      <td>1011.5</td>\n",
              "      <td>2.080078</td>\n",
              "      <td>0.153931</td>\n",
              "      <td>155.125</td>\n",
              "      <td>2.882812</td>\n",
              "    </tr>\n",
              "    <tr>\n",
              "      <th>3</th>\n",
              "      <td>15.492188</td>\n",
              "      <td>8.367188</td>\n",
              "      <td>1018.0</td>\n",
              "      <td>3.371094</td>\n",
              "      <td>0.997559</td>\n",
              "      <td>184.000</td>\n",
              "      <td>3.902344</td>\n",
              "    </tr>\n",
              "    <tr>\n",
              "      <th>4</th>\n",
              "      <td>14.468750</td>\n",
              "      <td>9.804688</td>\n",
              "      <td>1017.0</td>\n",
              "      <td>1.873047</td>\n",
              "      <td>0.516602</td>\n",
              "      <td>204.375</td>\n",
              "      <td>3.753906</td>\n",
              "    </tr>\n",
              "    <tr>\n",
              "      <th>5</th>\n",
              "      <td>11.156250</td>\n",
              "      <td>8.437500</td>\n",
              "      <td>NaN</td>\n",
              "      <td>0.496094</td>\n",
              "      <td>NaN</td>\n",
              "      <td>209.875</td>\n",
              "      <td>4.886719</td>\n",
              "    </tr>\n",
              "    <tr>\n",
              "      <th>6</th>\n",
              "      <td>15.234375</td>\n",
              "      <td>7.867188</td>\n",
              "      <td>1017.5</td>\n",
              "      <td>0.695312</td>\n",
              "      <td>1.147461</td>\n",
              "      <td>128.625</td>\n",
              "      <td>2.257812</td>\n",
              "    </tr>\n",
              "    <tr>\n",
              "      <th>7</th>\n",
              "      <td>7.406250</td>\n",
              "      <td>2.109375</td>\n",
              "      <td>1016.0</td>\n",
              "      <td>NaN</td>\n",
              "      <td>13.757812</td>\n",
              "      <td>206.000</td>\n",
              "      <td>3.361328</td>\n",
              "    </tr>\n",
              "    <tr>\n",
              "      <th>8</th>\n",
              "      <td>22.703125</td>\n",
              "      <td>17.656250</td>\n",
              "      <td>1018.0</td>\n",
              "      <td>2.816406</td>\n",
              "      <td>1.168945</td>\n",
              "      <td>150.750</td>\n",
              "      <td>3.400391</td>\n",
              "    </tr>\n",
              "    <tr>\n",
              "      <th>9</th>\n",
              "      <td>21.296875</td>\n",
              "      <td>13.437500</td>\n",
              "      <td>1016.5</td>\n",
              "      <td>0.581055</td>\n",
              "      <td>0.785645</td>\n",
              "      <td>128.875</td>\n",
              "      <td>2.199219</td>\n",
              "    </tr>\n",
              "    <tr>\n",
              "      <th>10</th>\n",
              "      <td>11.734375</td>\n",
              "      <td>-0.498047</td>\n",
              "      <td>1015.5</td>\n",
              "      <td>0.373779</td>\n",
              "      <td>0.300781</td>\n",
              "      <td>184.500</td>\n",
              "      <td>3.074219</td>\n",
              "    </tr>\n",
              "    <tr>\n",
              "      <th>11</th>\n",
              "      <td>7.406250</td>\n",
              "      <td>2.109375</td>\n",
              "      <td>1016.0</td>\n",
              "      <td>NaN</td>\n",
              "      <td>13.757812</td>\n",
              "      <td>206.000</td>\n",
              "      <td>3.361328</td>\n",
              "    </tr>\n",
              "    <tr>\n",
              "      <th>12</th>\n",
              "      <td>10.015625</td>\n",
              "      <td>6.781250</td>\n",
              "      <td>1014.0</td>\n",
              "      <td>5.644531</td>\n",
              "      <td>NaN</td>\n",
              "      <td>209.375</td>\n",
              "      <td>5.484375</td>\n",
              "    </tr>\n",
              "    <tr>\n",
              "      <th>13</th>\n",
              "      <td>8.734375</td>\n",
              "      <td>2.554688</td>\n",
              "      <td>1016.5</td>\n",
              "      <td>2.216797</td>\n",
              "      <td>0.760254</td>\n",
              "      <td>187.000</td>\n",
              "      <td>4.070312</td>\n",
              "    </tr>\n",
              "    <tr>\n",
              "      <th>14</th>\n",
              "      <td>13.039062</td>\n",
              "      <td>6.832031</td>\n",
              "      <td>1016.5</td>\n",
              "      <td>0.718750</td>\n",
              "      <td>1.178711</td>\n",
              "      <td>183.375</td>\n",
              "      <td>3.113281</td>\n",
              "    </tr>\n",
              "    <tr>\n",
              "      <th>15</th>\n",
              "      <td>8.945312</td>\n",
              "      <td>4.695312</td>\n",
              "      <td>1017.5</td>\n",
              "      <td>1.060547</td>\n",
              "      <td>4.523438</td>\n",
              "      <td>187.250</td>\n",
              "      <td>3.607422</td>\n",
              "    </tr>\n",
              "  </tbody>\n",
              "</table>\n",
              "</div>"
            ],
            "text/plain": [
              "         air_temperature  dew_temperature  ...  wind_direction  wind_speed\n",
              "site_id                                    ...                            \n",
              "0              22.703125        17.656250  ...         150.750    3.400391\n",
              "1              12.171875         7.542969  ...         198.875    4.039062\n",
              "2              24.968750         3.816406  ...         155.125    2.882812\n",
              "3              15.492188         8.367188  ...         184.000    3.902344\n",
              "4              14.468750         9.804688  ...         204.375    3.753906\n",
              "5              11.156250         8.437500  ...         209.875    4.886719\n",
              "6              15.234375         7.867188  ...         128.625    2.257812\n",
              "7               7.406250         2.109375  ...         206.000    3.361328\n",
              "8              22.703125        17.656250  ...         150.750    3.400391\n",
              "9              21.296875        13.437500  ...         128.875    2.199219\n",
              "10             11.734375        -0.498047  ...         184.500    3.074219\n",
              "11              7.406250         2.109375  ...         206.000    3.361328\n",
              "12             10.015625         6.781250  ...         209.375    5.484375\n",
              "13              8.734375         2.554688  ...         187.000    4.070312\n",
              "14             13.039062         6.832031  ...         183.375    3.113281\n",
              "15              8.945312         4.695312  ...         187.250    3.607422\n",
              "\n",
              "[16 rows x 7 columns]"
            ]
          },
          "metadata": {
            "tags": []
          },
          "execution_count": 93
        }
      ]
    },
    {
      "cell_type": "code",
      "metadata": {
        "id": "AAccBz_KPe2C",
        "colab_type": "code",
        "outputId": "ce1a1be9-0aa4-47c6-d120-bc853acc777b",
        "colab": {
          "base_uri": "https://localhost:8080/",
          "height": 695
        }
      },
      "source": [
        "# Get a sorted list of the objects and their sizes\n",
        "sorted([(x, sys.getsizeof(globals().get(x))) for x in dir() if not x.startswith('_') and x not in sys.modules and x not in ipython_vars], key=lambda x: x[1], reverse=True)"
      ],
      "execution_count": 94,
      "outputs": [
        {
          "output_type": "execute_result",
          "data": {
            "text/plain": [
              "[('df_weather_test', 7485713),\n",
              " ('df_weather_train', 3774023),\n",
              " ('y_pred_valid', 38000),\n",
              " ('filler', 24327),\n",
              " ('df_building_metadata', 11744),\n",
              " ('InteractiveShell', 1056),\n",
              " ('KFold', 1056),\n",
              " ('LinearRegression', 1056),\n",
              " ('primary_use_map', 648),\n",
              " ('params', 368),\n",
              " ('cv_scores', 240),\n",
              " ('models', 240),\n",
              " ('all_features', 192),\n",
              " ('dateparse', 136),\n",
              " ('fill_missing_column', 136),\n",
              " ('mean_squared_error', 136),\n",
              " ('reduce_mem_usage', 136),\n",
              " ('weather_metrics', 120),\n",
              " ('categorical_features', 112),\n",
              " ('drive', 80),\n",
              " ('lgb', 80),\n",
              " ('np', 80),\n",
              " ('pd', 80),\n",
              " ('plt', 80),\n",
              " ('sns', 80),\n",
              " ('watchlist', 80),\n",
              " ('item', 59),\n",
              " ('dtrain', 56),\n",
              " ('dvalid', 56),\n",
              " ('kf', 56),\n",
              " ('model_lgb', 56),\n",
              " ('rmse', 32),\n",
              " ('score', 32),\n",
              " ('cv', 28),\n",
              " ('fold', 28),\n",
              " ('meter', 28),\n",
              " ('meter_id', 28),\n",
              " ('seed', 28),\n",
              " ('site_id', 28)]"
            ]
          },
          "metadata": {
            "tags": []
          },
          "execution_count": 94
        }
      ]
    },
    {
      "cell_type": "code",
      "metadata": {
        "id": "QfqZJpCnPl6n",
        "colab_type": "code",
        "outputId": "c3f4eb8e-4b70-4dfd-b734-4f9ce84f3715",
        "colab": {
          "base_uri": "https://localhost:8080/",
          "height": 801
        }
      },
      "source": [
        "df_weather_test.cloud_coverage.fillna(value=0, inplace=True)\n",
        "df_weather_test.precip_depth_1_hr.fillna(value=0, inplace=True)\n",
        "df_weather_test.sea_level_pressure.fillna(value=1015, inplace=True)\n",
        "\n",
        "df_weather_test.isna().sum()\n",
        "df_weather_test.groupby(['site_id'])['air_temperature','dew_temperature','sea_level_pressure','cloud_coverage','precip_depth_1_hr','wind_direction', 'wind_speed'].mean()"
      ],
      "execution_count": 95,
      "outputs": [
        {
          "output_type": "execute_result",
          "data": {
            "text/plain": [
              "site_id               0\n",
              "timestamp             0\n",
              "air_temperature       0\n",
              "cloud_coverage        0\n",
              "dew_temperature       0\n",
              "precip_depth_1_hr     0\n",
              "sea_level_pressure    0\n",
              "wind_direction        0\n",
              "wind_speed            0\n",
              "day                   0\n",
              "week                  0\n",
              "month                 0\n",
              "hour                  0\n",
              "dtype: int64"
            ]
          },
          "metadata": {
            "tags": []
          },
          "execution_count": 95
        },
        {
          "output_type": "execute_result",
          "data": {
            "text/html": [
              "<div>\n",
              "<style scoped>\n",
              "    .dataframe tbody tr th:only-of-type {\n",
              "        vertical-align: middle;\n",
              "    }\n",
              "\n",
              "    .dataframe tbody tr th {\n",
              "        vertical-align: top;\n",
              "    }\n",
              "\n",
              "    .dataframe thead th {\n",
              "        text-align: right;\n",
              "    }\n",
              "</style>\n",
              "<table border=\"1\" class=\"dataframe\">\n",
              "  <thead>\n",
              "    <tr style=\"text-align: right;\">\n",
              "      <th></th>\n",
              "      <th>air_temperature</th>\n",
              "      <th>dew_temperature</th>\n",
              "      <th>sea_level_pressure</th>\n",
              "      <th>cloud_coverage</th>\n",
              "      <th>precip_depth_1_hr</th>\n",
              "      <th>wind_direction</th>\n",
              "      <th>wind_speed</th>\n",
              "    </tr>\n",
              "    <tr>\n",
              "      <th>site_id</th>\n",
              "      <th></th>\n",
              "      <th></th>\n",
              "      <th></th>\n",
              "      <th></th>\n",
              "      <th></th>\n",
              "      <th></th>\n",
              "      <th></th>\n",
              "    </tr>\n",
              "  </thead>\n",
              "  <tbody>\n",
              "    <tr>\n",
              "      <th>0</th>\n",
              "      <td>22.703125</td>\n",
              "      <td>17.656250</td>\n",
              "      <td>1018.0</td>\n",
              "      <td>2.816406</td>\n",
              "      <td>1.168945</td>\n",
              "      <td>150.750</td>\n",
              "      <td>3.400391</td>\n",
              "    </tr>\n",
              "    <tr>\n",
              "      <th>1</th>\n",
              "      <td>12.171875</td>\n",
              "      <td>7.542969</td>\n",
              "      <td>1015.5</td>\n",
              "      <td>0.050964</td>\n",
              "      <td>0.000000</td>\n",
              "      <td>198.875</td>\n",
              "      <td>4.039062</td>\n",
              "    </tr>\n",
              "    <tr>\n",
              "      <th>2</th>\n",
              "      <td>24.968750</td>\n",
              "      <td>3.816406</td>\n",
              "      <td>1011.5</td>\n",
              "      <td>2.080078</td>\n",
              "      <td>0.153931</td>\n",
              "      <td>155.125</td>\n",
              "      <td>2.882812</td>\n",
              "    </tr>\n",
              "    <tr>\n",
              "      <th>3</th>\n",
              "      <td>15.492188</td>\n",
              "      <td>8.367188</td>\n",
              "      <td>1018.0</td>\n",
              "      <td>3.371094</td>\n",
              "      <td>0.997559</td>\n",
              "      <td>184.000</td>\n",
              "      <td>3.902344</td>\n",
              "    </tr>\n",
              "    <tr>\n",
              "      <th>4</th>\n",
              "      <td>14.468750</td>\n",
              "      <td>9.804688</td>\n",
              "      <td>1017.0</td>\n",
              "      <td>1.873047</td>\n",
              "      <td>0.516602</td>\n",
              "      <td>204.375</td>\n",
              "      <td>3.753906</td>\n",
              "    </tr>\n",
              "    <tr>\n",
              "      <th>5</th>\n",
              "      <td>11.156250</td>\n",
              "      <td>8.437500</td>\n",
              "      <td>1015.0</td>\n",
              "      <td>0.496094</td>\n",
              "      <td>0.000000</td>\n",
              "      <td>209.875</td>\n",
              "      <td>4.886719</td>\n",
              "    </tr>\n",
              "    <tr>\n",
              "      <th>6</th>\n",
              "      <td>15.234375</td>\n",
              "      <td>7.867188</td>\n",
              "      <td>1017.5</td>\n",
              "      <td>0.695312</td>\n",
              "      <td>1.147461</td>\n",
              "      <td>128.625</td>\n",
              "      <td>2.257812</td>\n",
              "    </tr>\n",
              "    <tr>\n",
              "      <th>7</th>\n",
              "      <td>7.406250</td>\n",
              "      <td>2.109375</td>\n",
              "      <td>1016.0</td>\n",
              "      <td>0.000000</td>\n",
              "      <td>13.507812</td>\n",
              "      <td>206.000</td>\n",
              "      <td>3.361328</td>\n",
              "    </tr>\n",
              "    <tr>\n",
              "      <th>8</th>\n",
              "      <td>22.703125</td>\n",
              "      <td>17.656250</td>\n",
              "      <td>1018.0</td>\n",
              "      <td>2.816406</td>\n",
              "      <td>1.168945</td>\n",
              "      <td>150.750</td>\n",
              "      <td>3.400391</td>\n",
              "    </tr>\n",
              "    <tr>\n",
              "      <th>9</th>\n",
              "      <td>21.296875</td>\n",
              "      <td>13.437500</td>\n",
              "      <td>1016.5</td>\n",
              "      <td>0.581055</td>\n",
              "      <td>0.785645</td>\n",
              "      <td>128.875</td>\n",
              "      <td>2.199219</td>\n",
              "    </tr>\n",
              "    <tr>\n",
              "      <th>10</th>\n",
              "      <td>11.734375</td>\n",
              "      <td>-0.498047</td>\n",
              "      <td>1015.5</td>\n",
              "      <td>0.373779</td>\n",
              "      <td>0.300781</td>\n",
              "      <td>184.500</td>\n",
              "      <td>3.074219</td>\n",
              "    </tr>\n",
              "    <tr>\n",
              "      <th>11</th>\n",
              "      <td>7.406250</td>\n",
              "      <td>2.109375</td>\n",
              "      <td>1016.0</td>\n",
              "      <td>0.000000</td>\n",
              "      <td>13.507812</td>\n",
              "      <td>206.000</td>\n",
              "      <td>3.361328</td>\n",
              "    </tr>\n",
              "    <tr>\n",
              "      <th>12</th>\n",
              "      <td>10.015625</td>\n",
              "      <td>6.781250</td>\n",
              "      <td>1014.0</td>\n",
              "      <td>5.644531</td>\n",
              "      <td>0.000000</td>\n",
              "      <td>209.375</td>\n",
              "      <td>5.484375</td>\n",
              "    </tr>\n",
              "    <tr>\n",
              "      <th>13</th>\n",
              "      <td>8.734375</td>\n",
              "      <td>2.554688</td>\n",
              "      <td>1016.5</td>\n",
              "      <td>2.216797</td>\n",
              "      <td>0.760254</td>\n",
              "      <td>187.000</td>\n",
              "      <td>4.070312</td>\n",
              "    </tr>\n",
              "    <tr>\n",
              "      <th>14</th>\n",
              "      <td>13.039062</td>\n",
              "      <td>6.832031</td>\n",
              "      <td>1016.5</td>\n",
              "      <td>0.718750</td>\n",
              "      <td>1.178711</td>\n",
              "      <td>183.375</td>\n",
              "      <td>3.113281</td>\n",
              "    </tr>\n",
              "    <tr>\n",
              "      <th>15</th>\n",
              "      <td>8.945312</td>\n",
              "      <td>4.695312</td>\n",
              "      <td>1017.5</td>\n",
              "      <td>1.060547</td>\n",
              "      <td>4.523438</td>\n",
              "      <td>187.250</td>\n",
              "      <td>3.607422</td>\n",
              "    </tr>\n",
              "  </tbody>\n",
              "</table>\n",
              "</div>"
            ],
            "text/plain": [
              "         air_temperature  dew_temperature  ...  wind_direction  wind_speed\n",
              "site_id                                    ...                            \n",
              "0              22.703125        17.656250  ...         150.750    3.400391\n",
              "1              12.171875         7.542969  ...         198.875    4.039062\n",
              "2              24.968750         3.816406  ...         155.125    2.882812\n",
              "3              15.492188         8.367188  ...         184.000    3.902344\n",
              "4              14.468750         9.804688  ...         204.375    3.753906\n",
              "5              11.156250         8.437500  ...         209.875    4.886719\n",
              "6              15.234375         7.867188  ...         128.625    2.257812\n",
              "7               7.406250         2.109375  ...         206.000    3.361328\n",
              "8              22.703125        17.656250  ...         150.750    3.400391\n",
              "9              21.296875        13.437500  ...         128.875    2.199219\n",
              "10             11.734375        -0.498047  ...         184.500    3.074219\n",
              "11              7.406250         2.109375  ...         206.000    3.361328\n",
              "12             10.015625         6.781250  ...         209.375    5.484375\n",
              "13              8.734375         2.554688  ...         187.000    4.070312\n",
              "14             13.039062         6.832031  ...         183.375    3.113281\n",
              "15              8.945312         4.695312  ...         187.250    3.607422\n",
              "\n",
              "[16 rows x 7 columns]"
            ]
          },
          "metadata": {
            "tags": []
          },
          "execution_count": 95
        }
      ]
    },
    {
      "cell_type": "markdown",
      "metadata": {
        "id": "M4j9A9OUMHXF",
        "colab_type": "text"
      },
      "source": [
        "# Test Data Manip"
      ]
    },
    {
      "cell_type": "code",
      "metadata": {
        "id": "8YGJtyJ8PwgI",
        "colab_type": "code",
        "outputId": "6faac6ab-944d-445a-f2df-f078cb040405",
        "colab": {
          "base_uri": "https://localhost:8080/",
          "height": 708
        }
      },
      "source": [
        "df_test = pd.read_csv('test.csv',parse_dates = ['timestamp'], date_parser = dateparse)\n",
        "df_test.info()\n",
        "df_test.head()\n",
        "df_test = reduce_mem_usage(df_test)\n",
        "df_test.info()\n",
        "df_test.head()"
      ],
      "execution_count": 96,
      "outputs": [
        {
          "output_type": "stream",
          "text": [
            "<class 'pandas.core.frame.DataFrame'>\n",
            "RangeIndex: 41697600 entries, 0 to 41697599\n",
            "Data columns (total 4 columns):\n",
            "row_id         int64\n",
            "building_id    int64\n",
            "meter          int64\n",
            "timestamp      datetime64[ns]\n",
            "dtypes: datetime64[ns](1), int64(3)\n",
            "memory usage: 1.2 GB\n"
          ],
          "name": "stdout"
        },
        {
          "output_type": "execute_result",
          "data": {
            "text/html": [
              "<div>\n",
              "<style scoped>\n",
              "    .dataframe tbody tr th:only-of-type {\n",
              "        vertical-align: middle;\n",
              "    }\n",
              "\n",
              "    .dataframe tbody tr th {\n",
              "        vertical-align: top;\n",
              "    }\n",
              "\n",
              "    .dataframe thead th {\n",
              "        text-align: right;\n",
              "    }\n",
              "</style>\n",
              "<table border=\"1\" class=\"dataframe\">\n",
              "  <thead>\n",
              "    <tr style=\"text-align: right;\">\n",
              "      <th></th>\n",
              "      <th>row_id</th>\n",
              "      <th>building_id</th>\n",
              "      <th>meter</th>\n",
              "      <th>timestamp</th>\n",
              "    </tr>\n",
              "  </thead>\n",
              "  <tbody>\n",
              "    <tr>\n",
              "      <th>0</th>\n",
              "      <td>0</td>\n",
              "      <td>0</td>\n",
              "      <td>0</td>\n",
              "      <td>2017-01-01</td>\n",
              "    </tr>\n",
              "    <tr>\n",
              "      <th>1</th>\n",
              "      <td>1</td>\n",
              "      <td>1</td>\n",
              "      <td>0</td>\n",
              "      <td>2017-01-01</td>\n",
              "    </tr>\n",
              "    <tr>\n",
              "      <th>2</th>\n",
              "      <td>2</td>\n",
              "      <td>2</td>\n",
              "      <td>0</td>\n",
              "      <td>2017-01-01</td>\n",
              "    </tr>\n",
              "    <tr>\n",
              "      <th>3</th>\n",
              "      <td>3</td>\n",
              "      <td>3</td>\n",
              "      <td>0</td>\n",
              "      <td>2017-01-01</td>\n",
              "    </tr>\n",
              "    <tr>\n",
              "      <th>4</th>\n",
              "      <td>4</td>\n",
              "      <td>4</td>\n",
              "      <td>0</td>\n",
              "      <td>2017-01-01</td>\n",
              "    </tr>\n",
              "  </tbody>\n",
              "</table>\n",
              "</div>"
            ],
            "text/plain": [
              "   row_id  building_id  meter  timestamp\n",
              "0       0            0      0 2017-01-01\n",
              "1       1            1      0 2017-01-01\n",
              "2       2            2      0 2017-01-01\n",
              "3       3            3      0 2017-01-01\n",
              "4       4            4      0 2017-01-01"
            ]
          },
          "metadata": {
            "tags": []
          },
          "execution_count": 96
        },
        {
          "output_type": "stream",
          "text": [
            "Mem. usage decreased to 596.49 Mb (53.1% reduction)\n",
            "<class 'pandas.core.frame.DataFrame'>\n",
            "RangeIndex: 41697600 entries, 0 to 41697599\n",
            "Data columns (total 4 columns):\n",
            "row_id         int32\n",
            "building_id    int16\n",
            "meter          int8\n",
            "timestamp      datetime64[ns]\n",
            "dtypes: datetime64[ns](1), int16(1), int32(1), int8(1)\n",
            "memory usage: 596.5 MB\n"
          ],
          "name": "stdout"
        },
        {
          "output_type": "execute_result",
          "data": {
            "text/html": [
              "<div>\n",
              "<style scoped>\n",
              "    .dataframe tbody tr th:only-of-type {\n",
              "        vertical-align: middle;\n",
              "    }\n",
              "\n",
              "    .dataframe tbody tr th {\n",
              "        vertical-align: top;\n",
              "    }\n",
              "\n",
              "    .dataframe thead th {\n",
              "        text-align: right;\n",
              "    }\n",
              "</style>\n",
              "<table border=\"1\" class=\"dataframe\">\n",
              "  <thead>\n",
              "    <tr style=\"text-align: right;\">\n",
              "      <th></th>\n",
              "      <th>row_id</th>\n",
              "      <th>building_id</th>\n",
              "      <th>meter</th>\n",
              "      <th>timestamp</th>\n",
              "    </tr>\n",
              "  </thead>\n",
              "  <tbody>\n",
              "    <tr>\n",
              "      <th>0</th>\n",
              "      <td>0</td>\n",
              "      <td>0</td>\n",
              "      <td>0</td>\n",
              "      <td>2017-01-01</td>\n",
              "    </tr>\n",
              "    <tr>\n",
              "      <th>1</th>\n",
              "      <td>1</td>\n",
              "      <td>1</td>\n",
              "      <td>0</td>\n",
              "      <td>2017-01-01</td>\n",
              "    </tr>\n",
              "    <tr>\n",
              "      <th>2</th>\n",
              "      <td>2</td>\n",
              "      <td>2</td>\n",
              "      <td>0</td>\n",
              "      <td>2017-01-01</td>\n",
              "    </tr>\n",
              "    <tr>\n",
              "      <th>3</th>\n",
              "      <td>3</td>\n",
              "      <td>3</td>\n",
              "      <td>0</td>\n",
              "      <td>2017-01-01</td>\n",
              "    </tr>\n",
              "    <tr>\n",
              "      <th>4</th>\n",
              "      <td>4</td>\n",
              "      <td>4</td>\n",
              "      <td>0</td>\n",
              "      <td>2017-01-01</td>\n",
              "    </tr>\n",
              "  </tbody>\n",
              "</table>\n",
              "</div>"
            ],
            "text/plain": [
              "   row_id  building_id  meter  timestamp\n",
              "0       0            0      0 2017-01-01\n",
              "1       1            1      0 2017-01-01\n",
              "2       2            2      0 2017-01-01\n",
              "3       3            3      0 2017-01-01\n",
              "4       4            4      0 2017-01-01"
            ]
          },
          "metadata": {
            "tags": []
          },
          "execution_count": 96
        }
      ]
    },
    {
      "cell_type": "code",
      "metadata": {
        "id": "KV3ozElKP6J7",
        "colab_type": "code",
        "outputId": "cbce4e66-3675-4174-f807-d7235a8201f4",
        "colab": {
          "base_uri": "https://localhost:8080/",
          "height": 632
        }
      },
      "source": [
        "df_test = df_test.merge(df_building_metadata,on='building_id')\n",
        "df_test.info()\n",
        "df_test = reduce_mem_usage(df_test)\n",
        "df_test.info()\n",
        "df_test.head()"
      ],
      "execution_count": 97,
      "outputs": [
        {
          "output_type": "stream",
          "text": [
            "<class 'pandas.core.frame.DataFrame'>\n",
            "Int64Index: 41697600 entries, 0 to 41697599\n",
            "Data columns (total 7 columns):\n",
            "row_id          int32\n",
            "building_id     int16\n",
            "meter           int8\n",
            "timestamp       datetime64[ns]\n",
            "site_id         int8\n",
            "square_feet     int32\n",
            "use_category    int8\n",
            "dtypes: datetime64[ns](1), int16(1), int32(2), int8(3)\n",
            "memory usage: 1.1 GB\n",
            "Mem. usage decreased to 1153.21 Mb (0.0% reduction)\n",
            "<class 'pandas.core.frame.DataFrame'>\n",
            "Int64Index: 41697600 entries, 0 to 41697599\n",
            "Data columns (total 7 columns):\n",
            "row_id          int32\n",
            "building_id     int16\n",
            "meter           int8\n",
            "timestamp       datetime64[ns]\n",
            "site_id         int8\n",
            "square_feet     int32\n",
            "use_category    int8\n",
            "dtypes: datetime64[ns](1), int16(1), int32(2), int8(3)\n",
            "memory usage: 1.1 GB\n"
          ],
          "name": "stdout"
        },
        {
          "output_type": "execute_result",
          "data": {
            "text/html": [
              "<div>\n",
              "<style scoped>\n",
              "    .dataframe tbody tr th:only-of-type {\n",
              "        vertical-align: middle;\n",
              "    }\n",
              "\n",
              "    .dataframe tbody tr th {\n",
              "        vertical-align: top;\n",
              "    }\n",
              "\n",
              "    .dataframe thead th {\n",
              "        text-align: right;\n",
              "    }\n",
              "</style>\n",
              "<table border=\"1\" class=\"dataframe\">\n",
              "  <thead>\n",
              "    <tr style=\"text-align: right;\">\n",
              "      <th></th>\n",
              "      <th>row_id</th>\n",
              "      <th>building_id</th>\n",
              "      <th>meter</th>\n",
              "      <th>timestamp</th>\n",
              "      <th>site_id</th>\n",
              "      <th>square_feet</th>\n",
              "      <th>use_category</th>\n",
              "    </tr>\n",
              "  </thead>\n",
              "  <tbody>\n",
              "    <tr>\n",
              "      <th>0</th>\n",
              "      <td>0</td>\n",
              "      <td>0</td>\n",
              "      <td>0</td>\n",
              "      <td>2017-01-01 00:00:00</td>\n",
              "      <td>0</td>\n",
              "      <td>7432</td>\n",
              "      <td>0</td>\n",
              "    </tr>\n",
              "    <tr>\n",
              "      <th>1</th>\n",
              "      <td>129</td>\n",
              "      <td>0</td>\n",
              "      <td>0</td>\n",
              "      <td>2017-01-01 01:00:00</td>\n",
              "      <td>0</td>\n",
              "      <td>7432</td>\n",
              "      <td>0</td>\n",
              "    </tr>\n",
              "    <tr>\n",
              "      <th>2</th>\n",
              "      <td>258</td>\n",
              "      <td>0</td>\n",
              "      <td>0</td>\n",
              "      <td>2017-01-01 02:00:00</td>\n",
              "      <td>0</td>\n",
              "      <td>7432</td>\n",
              "      <td>0</td>\n",
              "    </tr>\n",
              "    <tr>\n",
              "      <th>3</th>\n",
              "      <td>387</td>\n",
              "      <td>0</td>\n",
              "      <td>0</td>\n",
              "      <td>2017-01-01 03:00:00</td>\n",
              "      <td>0</td>\n",
              "      <td>7432</td>\n",
              "      <td>0</td>\n",
              "    </tr>\n",
              "    <tr>\n",
              "      <th>4</th>\n",
              "      <td>516</td>\n",
              "      <td>0</td>\n",
              "      <td>0</td>\n",
              "      <td>2017-01-01 04:00:00</td>\n",
              "      <td>0</td>\n",
              "      <td>7432</td>\n",
              "      <td>0</td>\n",
              "    </tr>\n",
              "  </tbody>\n",
              "</table>\n",
              "</div>"
            ],
            "text/plain": [
              "   row_id  building_id  meter  ... site_id  square_feet  use_category\n",
              "0       0            0      0  ...       0         7432             0\n",
              "1     129            0      0  ...       0         7432             0\n",
              "2     258            0      0  ...       0         7432             0\n",
              "3     387            0      0  ...       0         7432             0\n",
              "4     516            0      0  ...       0         7432             0\n",
              "\n",
              "[5 rows x 7 columns]"
            ]
          },
          "metadata": {
            "tags": []
          },
          "execution_count": 97
        }
      ]
    },
    {
      "cell_type": "code",
      "metadata": {
        "id": "_9suyIJUTD3Q",
        "colab_type": "code",
        "outputId": "fe9a8c2d-b8b0-4120-9cfe-682b8bdee035",
        "colab": {
          "base_uri": "https://localhost:8080/",
          "height": 452
        }
      },
      "source": [
        "df_test.info()\n",
        "df_test = reduce_mem_usage(df_test)\n",
        "df_test.info()"
      ],
      "execution_count": 98,
      "outputs": [
        {
          "output_type": "stream",
          "text": [
            "<class 'pandas.core.frame.DataFrame'>\n",
            "Int64Index: 41697600 entries, 0 to 41697599\n",
            "Data columns (total 7 columns):\n",
            "row_id          int32\n",
            "building_id     int16\n",
            "meter           int8\n",
            "timestamp       datetime64[ns]\n",
            "site_id         int8\n",
            "square_feet     int32\n",
            "use_category    int8\n",
            "dtypes: datetime64[ns](1), int16(1), int32(2), int8(3)\n",
            "memory usage: 1.1 GB\n",
            "Mem. usage decreased to 1153.21 Mb (0.0% reduction)\n",
            "<class 'pandas.core.frame.DataFrame'>\n",
            "Int64Index: 41697600 entries, 0 to 41697599\n",
            "Data columns (total 7 columns):\n",
            "row_id          int32\n",
            "building_id     int16\n",
            "meter           int8\n",
            "timestamp       datetime64[ns]\n",
            "site_id         int8\n",
            "square_feet     int32\n",
            "use_category    int8\n",
            "dtypes: datetime64[ns](1), int16(1), int32(2), int8(3)\n",
            "memory usage: 1.1 GB\n"
          ],
          "name": "stdout"
        }
      ]
    },
    {
      "cell_type": "code",
      "metadata": {
        "id": "uFUw-JyCTZgs",
        "colab_type": "code",
        "outputId": "add868b2-fe02-494f-d769-7ad254c4259d",
        "colab": {
          "base_uri": "https://localhost:8080/",
          "height": 1000
        }
      },
      "source": [
        "df_test = df_test.merge(df_weather_test,on=['site_id','timestamp'],how='left')\n",
        "\n",
        "                      \n",
        "df_test.info()\n",
        "df_test = reduce_mem_usage(df_test)\n",
        "df_test.info()\n",
        "df_test.head()"
      ],
      "execution_count": 99,
      "outputs": [
        {
          "output_type": "stream",
          "text": [
            "<class 'pandas.core.frame.DataFrame'>\n",
            "Int64Index: 41697600 entries, 0 to 41697599\n",
            "Data columns (total 18 columns):\n",
            "row_id                int32\n",
            "building_id           int16\n",
            "meter                 int8\n",
            "timestamp             datetime64[ns]\n",
            "site_id               int8\n",
            "square_feet           int32\n",
            "use_category          int8\n",
            "air_temperature       float16\n",
            "cloud_coverage        float16\n",
            "dew_temperature       float16\n",
            "precip_depth_1_hr     float16\n",
            "sea_level_pressure    float16\n",
            "wind_direction        float16\n",
            "wind_speed            float16\n",
            "day                   float64\n",
            "week                  float64\n",
            "month                 float64\n",
            "hour                  float64\n",
            "dtypes: datetime64[ns](1), float16(7), float64(4), int16(1), int32(2), int8(3)\n",
            "memory usage: 2.9 GB\n",
            "Mem. usage decreased to 2028.06 Mb (32.0% reduction)\n",
            "<class 'pandas.core.frame.DataFrame'>\n",
            "Int64Index: 41697600 entries, 0 to 41697599\n",
            "Data columns (total 18 columns):\n",
            "row_id                int32\n",
            "building_id           int16\n",
            "meter                 int8\n",
            "timestamp             datetime64[ns]\n",
            "site_id               int8\n",
            "square_feet           int32\n",
            "use_category          int8\n",
            "air_temperature       float16\n",
            "cloud_coverage        float16\n",
            "dew_temperature       float16\n",
            "precip_depth_1_hr     float16\n",
            "sea_level_pressure    float16\n",
            "wind_direction        float16\n",
            "wind_speed            float16\n",
            "day                   float16\n",
            "week                  float16\n",
            "month                 float16\n",
            "hour                  float16\n",
            "dtypes: datetime64[ns](1), float16(11), int16(1), int32(2), int8(3)\n",
            "memory usage: 2.0 GB\n"
          ],
          "name": "stdout"
        },
        {
          "output_type": "execute_result",
          "data": {
            "text/html": [
              "<div>\n",
              "<style scoped>\n",
              "    .dataframe tbody tr th:only-of-type {\n",
              "        vertical-align: middle;\n",
              "    }\n",
              "\n",
              "    .dataframe tbody tr th {\n",
              "        vertical-align: top;\n",
              "    }\n",
              "\n",
              "    .dataframe thead th {\n",
              "        text-align: right;\n",
              "    }\n",
              "</style>\n",
              "<table border=\"1\" class=\"dataframe\">\n",
              "  <thead>\n",
              "    <tr style=\"text-align: right;\">\n",
              "      <th></th>\n",
              "      <th>row_id</th>\n",
              "      <th>building_id</th>\n",
              "      <th>meter</th>\n",
              "      <th>timestamp</th>\n",
              "      <th>site_id</th>\n",
              "      <th>square_feet</th>\n",
              "      <th>use_category</th>\n",
              "      <th>air_temperature</th>\n",
              "      <th>cloud_coverage</th>\n",
              "      <th>dew_temperature</th>\n",
              "      <th>precip_depth_1_hr</th>\n",
              "      <th>sea_level_pressure</th>\n",
              "      <th>wind_direction</th>\n",
              "      <th>wind_speed</th>\n",
              "      <th>day</th>\n",
              "      <th>week</th>\n",
              "      <th>month</th>\n",
              "      <th>hour</th>\n",
              "    </tr>\n",
              "  </thead>\n",
              "  <tbody>\n",
              "    <tr>\n",
              "      <th>0</th>\n",
              "      <td>0</td>\n",
              "      <td>0</td>\n",
              "      <td>0</td>\n",
              "      <td>2017-01-01 00:00:00</td>\n",
              "      <td>0</td>\n",
              "      <td>7432</td>\n",
              "      <td>0</td>\n",
              "      <td>17.796875</td>\n",
              "      <td>4.0</td>\n",
              "      <td>11.703125</td>\n",
              "      <td>0.116638</td>\n",
              "      <td>1021.5</td>\n",
              "      <td>100.0</td>\n",
              "      <td>3.599609</td>\n",
              "      <td>1.0</td>\n",
              "      <td>52.0</td>\n",
              "      <td>1.0</td>\n",
              "      <td>0.0</td>\n",
              "    </tr>\n",
              "    <tr>\n",
              "      <th>1</th>\n",
              "      <td>129</td>\n",
              "      <td>0</td>\n",
              "      <td>0</td>\n",
              "      <td>2017-01-01 01:00:00</td>\n",
              "      <td>0</td>\n",
              "      <td>7432</td>\n",
              "      <td>0</td>\n",
              "      <td>17.796875</td>\n",
              "      <td>2.0</td>\n",
              "      <td>12.796875</td>\n",
              "      <td>0.000000</td>\n",
              "      <td>1022.0</td>\n",
              "      <td>130.0</td>\n",
              "      <td>3.099609</td>\n",
              "      <td>1.0</td>\n",
              "      <td>52.0</td>\n",
              "      <td>1.0</td>\n",
              "      <td>1.0</td>\n",
              "    </tr>\n",
              "    <tr>\n",
              "      <th>2</th>\n",
              "      <td>258</td>\n",
              "      <td>0</td>\n",
              "      <td>0</td>\n",
              "      <td>2017-01-01 02:00:00</td>\n",
              "      <td>0</td>\n",
              "      <td>7432</td>\n",
              "      <td>0</td>\n",
              "      <td>16.093750</td>\n",
              "      <td>0.0</td>\n",
              "      <td>12.796875</td>\n",
              "      <td>0.000000</td>\n",
              "      <td>1022.0</td>\n",
              "      <td>140.0</td>\n",
              "      <td>3.099609</td>\n",
              "      <td>1.0</td>\n",
              "      <td>52.0</td>\n",
              "      <td>1.0</td>\n",
              "      <td>2.0</td>\n",
              "    </tr>\n",
              "    <tr>\n",
              "      <th>3</th>\n",
              "      <td>387</td>\n",
              "      <td>0</td>\n",
              "      <td>0</td>\n",
              "      <td>2017-01-01 03:00:00</td>\n",
              "      <td>0</td>\n",
              "      <td>7432</td>\n",
              "      <td>0</td>\n",
              "      <td>17.203125</td>\n",
              "      <td>0.0</td>\n",
              "      <td>13.296875</td>\n",
              "      <td>0.000000</td>\n",
              "      <td>1022.0</td>\n",
              "      <td>140.0</td>\n",
              "      <td>3.099609</td>\n",
              "      <td>1.0</td>\n",
              "      <td>52.0</td>\n",
              "      <td>1.0</td>\n",
              "      <td>3.0</td>\n",
              "    </tr>\n",
              "    <tr>\n",
              "      <th>4</th>\n",
              "      <td>516</td>\n",
              "      <td>0</td>\n",
              "      <td>0</td>\n",
              "      <td>2017-01-01 04:00:00</td>\n",
              "      <td>0</td>\n",
              "      <td>7432</td>\n",
              "      <td>0</td>\n",
              "      <td>16.703125</td>\n",
              "      <td>2.0</td>\n",
              "      <td>13.296875</td>\n",
              "      <td>0.000000</td>\n",
              "      <td>1022.5</td>\n",
              "      <td>130.0</td>\n",
              "      <td>2.599609</td>\n",
              "      <td>1.0</td>\n",
              "      <td>52.0</td>\n",
              "      <td>1.0</td>\n",
              "      <td>4.0</td>\n",
              "    </tr>\n",
              "  </tbody>\n",
              "</table>\n",
              "</div>"
            ],
            "text/plain": [
              "   row_id  building_id  meter           timestamp  ...  day  week  month  hour\n",
              "0       0            0      0 2017-01-01 00:00:00  ...  1.0  52.0    1.0   0.0\n",
              "1     129            0      0 2017-01-01 01:00:00  ...  1.0  52.0    1.0   1.0\n",
              "2     258            0      0 2017-01-01 02:00:00  ...  1.0  52.0    1.0   2.0\n",
              "3     387            0      0 2017-01-01 03:00:00  ...  1.0  52.0    1.0   3.0\n",
              "4     516            0      0 2017-01-01 04:00:00  ...  1.0  52.0    1.0   4.0\n",
              "\n",
              "[5 rows x 18 columns]"
            ]
          },
          "metadata": {
            "tags": []
          },
          "execution_count": 99
        }
      ]
    },
    {
      "cell_type": "code",
      "metadata": {
        "id": "-CcZ6wLETuL5",
        "colab_type": "code",
        "outputId": "109d1979-46ed-4a7e-ad83-fb12fe748e5f",
        "colab": {
          "base_uri": "https://localhost:8080/",
          "height": 347
        }
      },
      "source": [
        "df_test.isna().sum()"
      ],
      "execution_count": 100,
      "outputs": [
        {
          "output_type": "execute_result",
          "data": {
            "text/plain": [
              "row_id                     0\n",
              "building_id                0\n",
              "meter                      0\n",
              "timestamp                  0\n",
              "site_id                    0\n",
              "square_feet                0\n",
              "use_category               0\n",
              "air_temperature       199029\n",
              "cloud_coverage        199029\n",
              "dew_temperature       199029\n",
              "precip_depth_1_hr     199029\n",
              "sea_level_pressure    199029\n",
              "wind_direction        199029\n",
              "wind_speed            199029\n",
              "day                   199029\n",
              "week                  199029\n",
              "month                 199029\n",
              "hour                  199029\n",
              "dtype: int64"
            ]
          },
          "metadata": {
            "tags": []
          },
          "execution_count": 100
        }
      ]
    },
    {
      "cell_type": "code",
      "metadata": {
        "id": "G4HzoQAhoWtz",
        "colab_type": "code",
        "colab": {
          "base_uri": "https://localhost:8080/",
          "height": 426
        },
        "outputId": "45279fe0-5231-4653-fe14-93083294d64d"
      },
      "source": [
        "df_test[df_test.isna()]"
      ],
      "execution_count": 103,
      "outputs": [
        {
          "output_type": "execute_result",
          "data": {
            "text/html": [
              "<div>\n",
              "<style scoped>\n",
              "    .dataframe tbody tr th:only-of-type {\n",
              "        vertical-align: middle;\n",
              "    }\n",
              "\n",
              "    .dataframe tbody tr th {\n",
              "        vertical-align: top;\n",
              "    }\n",
              "\n",
              "    .dataframe thead th {\n",
              "        text-align: right;\n",
              "    }\n",
              "</style>\n",
              "<table border=\"1\" class=\"dataframe\">\n",
              "  <thead>\n",
              "    <tr style=\"text-align: right;\">\n",
              "      <th></th>\n",
              "      <th>row_id</th>\n",
              "      <th>building_id</th>\n",
              "      <th>meter</th>\n",
              "      <th>site_id</th>\n",
              "      <th>square_feet</th>\n",
              "      <th>use_category</th>\n",
              "      <th>air_temperature</th>\n",
              "      <th>cloud_coverage</th>\n",
              "      <th>dew_temperature</th>\n",
              "      <th>precip_depth_1_hr</th>\n",
              "      <th>sea_level_pressure</th>\n",
              "      <th>wind_direction</th>\n",
              "      <th>wind_speed</th>\n",
              "      <th>day</th>\n",
              "      <th>week</th>\n",
              "      <th>month</th>\n",
              "      <th>hour</th>\n",
              "    </tr>\n",
              "  </thead>\n",
              "  <tbody>\n",
              "    <tr>\n",
              "      <th>0</th>\n",
              "      <td>NaN</td>\n",
              "      <td>NaN</td>\n",
              "      <td>NaN</td>\n",
              "      <td>NaN</td>\n",
              "      <td>NaN</td>\n",
              "      <td>NaN</td>\n",
              "      <td>NaN</td>\n",
              "      <td>NaN</td>\n",
              "      <td>NaN</td>\n",
              "      <td>NaN</td>\n",
              "      <td>NaN</td>\n",
              "      <td>NaN</td>\n",
              "      <td>NaN</td>\n",
              "      <td>NaN</td>\n",
              "      <td>NaN</td>\n",
              "      <td>NaN</td>\n",
              "      <td>NaN</td>\n",
              "    </tr>\n",
              "    <tr>\n",
              "      <th>1</th>\n",
              "      <td>NaN</td>\n",
              "      <td>NaN</td>\n",
              "      <td>NaN</td>\n",
              "      <td>NaN</td>\n",
              "      <td>NaN</td>\n",
              "      <td>NaN</td>\n",
              "      <td>NaN</td>\n",
              "      <td>NaN</td>\n",
              "      <td>NaN</td>\n",
              "      <td>NaN</td>\n",
              "      <td>NaN</td>\n",
              "      <td>NaN</td>\n",
              "      <td>NaN</td>\n",
              "      <td>NaN</td>\n",
              "      <td>NaN</td>\n",
              "      <td>NaN</td>\n",
              "      <td>NaN</td>\n",
              "    </tr>\n",
              "    <tr>\n",
              "      <th>2</th>\n",
              "      <td>NaN</td>\n",
              "      <td>NaN</td>\n",
              "      <td>NaN</td>\n",
              "      <td>NaN</td>\n",
              "      <td>NaN</td>\n",
              "      <td>NaN</td>\n",
              "      <td>NaN</td>\n",
              "      <td>NaN</td>\n",
              "      <td>NaN</td>\n",
              "      <td>NaN</td>\n",
              "      <td>NaN</td>\n",
              "      <td>NaN</td>\n",
              "      <td>NaN</td>\n",
              "      <td>NaN</td>\n",
              "      <td>NaN</td>\n",
              "      <td>NaN</td>\n",
              "      <td>NaN</td>\n",
              "    </tr>\n",
              "    <tr>\n",
              "      <th>3</th>\n",
              "      <td>NaN</td>\n",
              "      <td>NaN</td>\n",
              "      <td>NaN</td>\n",
              "      <td>NaN</td>\n",
              "      <td>NaN</td>\n",
              "      <td>NaN</td>\n",
              "      <td>NaN</td>\n",
              "      <td>NaN</td>\n",
              "      <td>NaN</td>\n",
              "      <td>NaN</td>\n",
              "      <td>NaN</td>\n",
              "      <td>NaN</td>\n",
              "      <td>NaN</td>\n",
              "      <td>NaN</td>\n",
              "      <td>NaN</td>\n",
              "      <td>NaN</td>\n",
              "      <td>NaN</td>\n",
              "    </tr>\n",
              "    <tr>\n",
              "      <th>4</th>\n",
              "      <td>NaN</td>\n",
              "      <td>NaN</td>\n",
              "      <td>NaN</td>\n",
              "      <td>NaN</td>\n",
              "      <td>NaN</td>\n",
              "      <td>NaN</td>\n",
              "      <td>NaN</td>\n",
              "      <td>NaN</td>\n",
              "      <td>NaN</td>\n",
              "      <td>NaN</td>\n",
              "      <td>NaN</td>\n",
              "      <td>NaN</td>\n",
              "      <td>NaN</td>\n",
              "      <td>NaN</td>\n",
              "      <td>NaN</td>\n",
              "      <td>NaN</td>\n",
              "      <td>NaN</td>\n",
              "    </tr>\n",
              "    <tr>\n",
              "      <th>...</th>\n",
              "      <td>...</td>\n",
              "      <td>...</td>\n",
              "      <td>...</td>\n",
              "      <td>...</td>\n",
              "      <td>...</td>\n",
              "      <td>...</td>\n",
              "      <td>...</td>\n",
              "      <td>...</td>\n",
              "      <td>...</td>\n",
              "      <td>...</td>\n",
              "      <td>...</td>\n",
              "      <td>...</td>\n",
              "      <td>...</td>\n",
              "      <td>...</td>\n",
              "      <td>...</td>\n",
              "      <td>...</td>\n",
              "      <td>...</td>\n",
              "    </tr>\n",
              "    <tr>\n",
              "      <th>41697595</th>\n",
              "      <td>NaN</td>\n",
              "      <td>NaN</td>\n",
              "      <td>NaN</td>\n",
              "      <td>NaN</td>\n",
              "      <td>NaN</td>\n",
              "      <td>NaN</td>\n",
              "      <td>NaN</td>\n",
              "      <td>NaN</td>\n",
              "      <td>NaN</td>\n",
              "      <td>NaN</td>\n",
              "      <td>NaN</td>\n",
              "      <td>NaN</td>\n",
              "      <td>NaN</td>\n",
              "      <td>NaN</td>\n",
              "      <td>NaN</td>\n",
              "      <td>NaN</td>\n",
              "      <td>NaN</td>\n",
              "    </tr>\n",
              "    <tr>\n",
              "      <th>41697596</th>\n",
              "      <td>NaN</td>\n",
              "      <td>NaN</td>\n",
              "      <td>NaN</td>\n",
              "      <td>NaN</td>\n",
              "      <td>NaN</td>\n",
              "      <td>NaN</td>\n",
              "      <td>NaN</td>\n",
              "      <td>NaN</td>\n",
              "      <td>NaN</td>\n",
              "      <td>NaN</td>\n",
              "      <td>NaN</td>\n",
              "      <td>NaN</td>\n",
              "      <td>NaN</td>\n",
              "      <td>NaN</td>\n",
              "      <td>NaN</td>\n",
              "      <td>NaN</td>\n",
              "      <td>NaN</td>\n",
              "    </tr>\n",
              "    <tr>\n",
              "      <th>41697597</th>\n",
              "      <td>NaN</td>\n",
              "      <td>NaN</td>\n",
              "      <td>NaN</td>\n",
              "      <td>NaN</td>\n",
              "      <td>NaN</td>\n",
              "      <td>NaN</td>\n",
              "      <td>NaN</td>\n",
              "      <td>NaN</td>\n",
              "      <td>NaN</td>\n",
              "      <td>NaN</td>\n",
              "      <td>NaN</td>\n",
              "      <td>NaN</td>\n",
              "      <td>NaN</td>\n",
              "      <td>NaN</td>\n",
              "      <td>NaN</td>\n",
              "      <td>NaN</td>\n",
              "      <td>NaN</td>\n",
              "    </tr>\n",
              "    <tr>\n",
              "      <th>41697598</th>\n",
              "      <td>NaN</td>\n",
              "      <td>NaN</td>\n",
              "      <td>NaN</td>\n",
              "      <td>NaN</td>\n",
              "      <td>NaN</td>\n",
              "      <td>NaN</td>\n",
              "      <td>NaN</td>\n",
              "      <td>NaN</td>\n",
              "      <td>NaN</td>\n",
              "      <td>NaN</td>\n",
              "      <td>NaN</td>\n",
              "      <td>NaN</td>\n",
              "      <td>NaN</td>\n",
              "      <td>NaN</td>\n",
              "      <td>NaN</td>\n",
              "      <td>NaN</td>\n",
              "      <td>NaN</td>\n",
              "    </tr>\n",
              "    <tr>\n",
              "      <th>41697599</th>\n",
              "      <td>NaN</td>\n",
              "      <td>NaN</td>\n",
              "      <td>NaN</td>\n",
              "      <td>NaN</td>\n",
              "      <td>NaN</td>\n",
              "      <td>NaN</td>\n",
              "      <td>NaN</td>\n",
              "      <td>NaN</td>\n",
              "      <td>NaN</td>\n",
              "      <td>NaN</td>\n",
              "      <td>NaN</td>\n",
              "      <td>NaN</td>\n",
              "      <td>NaN</td>\n",
              "      <td>NaN</td>\n",
              "      <td>NaN</td>\n",
              "      <td>NaN</td>\n",
              "      <td>NaN</td>\n",
              "    </tr>\n",
              "  </tbody>\n",
              "</table>\n",
              "<p>41697600 rows × 17 columns</p>\n",
              "</div>"
            ],
            "text/plain": [
              "          row_id  building_id  meter  site_id  ...  day  week  month  hour\n",
              "0            NaN          NaN    NaN      NaN  ...  NaN   NaN    NaN   NaN\n",
              "1            NaN          NaN    NaN      NaN  ...  NaN   NaN    NaN   NaN\n",
              "2            NaN          NaN    NaN      NaN  ...  NaN   NaN    NaN   NaN\n",
              "3            NaN          NaN    NaN      NaN  ...  NaN   NaN    NaN   NaN\n",
              "4            NaN          NaN    NaN      NaN  ...  NaN   NaN    NaN   NaN\n",
              "...          ...          ...    ...      ...  ...  ...   ...    ...   ...\n",
              "41697595     NaN          NaN    NaN      NaN  ...  NaN   NaN    NaN   NaN\n",
              "41697596     NaN          NaN    NaN      NaN  ...  NaN   NaN    NaN   NaN\n",
              "41697597     NaN          NaN    NaN      NaN  ...  NaN   NaN    NaN   NaN\n",
              "41697598     NaN          NaN    NaN      NaN  ...  NaN   NaN    NaN   NaN\n",
              "41697599     NaN          NaN    NaN      NaN  ...  NaN   NaN    NaN   NaN\n",
              "\n",
              "[41697600 rows x 17 columns]"
            ]
          },
          "metadata": {
            "tags": []
          },
          "execution_count": 103
        }
      ]
    },
    {
      "cell_type": "code",
      "metadata": {
        "id": "AuXRPFEJUAEK",
        "colab_type": "code",
        "outputId": "3bd83dd0-8095-4802-bf95-2b471b2c30b7",
        "colab": {
          "base_uri": "https://localhost:8080/",
          "height": 399
        }
      },
      "source": [
        "df_test.drop(columns=['timestamp'],inplace=True)\n",
        "df_test.info()"
      ],
      "execution_count": 101,
      "outputs": [
        {
          "output_type": "stream",
          "text": [
            "<class 'pandas.core.frame.DataFrame'>\n",
            "Int64Index: 41697600 entries, 0 to 41697599\n",
            "Data columns (total 17 columns):\n",
            "row_id                int32\n",
            "building_id           int16\n",
            "meter                 int8\n",
            "site_id               int8\n",
            "square_feet           int32\n",
            "use_category          int8\n",
            "air_temperature       float16\n",
            "cloud_coverage        float16\n",
            "dew_temperature       float16\n",
            "precip_depth_1_hr     float16\n",
            "sea_level_pressure    float16\n",
            "wind_direction        float16\n",
            "wind_speed            float16\n",
            "day                   float16\n",
            "week                  float16\n",
            "month                 float16\n",
            "hour                  float16\n",
            "dtypes: float16(11), int16(1), int32(2), int8(3)\n",
            "memory usage: 1.7 GB\n"
          ],
          "name": "stdout"
        }
      ]
    },
    {
      "cell_type": "code",
      "metadata": {
        "id": "SxEIT3K6Ugua",
        "colab_type": "code",
        "outputId": "f331eef8-c00c-41e5-db5a-0835cc19ded1",
        "colab": {
          "base_uri": "https://localhost:8080/",
          "height": 713
        }
      },
      "source": [
        "# Get a sorted list of the objects and their sizes\n",
        "sorted([(x, sys.getsizeof(globals().get(x))) for x in dir() if not x.startswith('_') and x not in sys.modules and x not in ipython_vars], key=lambda x: x[1], reverse=True)"
      ],
      "execution_count": 102,
      "outputs": [
        {
          "output_type": "execute_result",
          "data": {
            "text/plain": [
              "[('df_test', 1792996824),\n",
              " ('df_weather_test', 7485713),\n",
              " ('df_weather_train', 3774023),\n",
              " ('y_pred_valid', 38000),\n",
              " ('filler', 24327),\n",
              " ('df_building_metadata', 11744),\n",
              " ('InteractiveShell', 1056),\n",
              " ('KFold', 1056),\n",
              " ('LinearRegression', 1056),\n",
              " ('primary_use_map', 648),\n",
              " ('params', 368),\n",
              " ('cv_scores', 240),\n",
              " ('models', 240),\n",
              " ('all_features', 192),\n",
              " ('dateparse', 136),\n",
              " ('fill_missing_column', 136),\n",
              " ('mean_squared_error', 136),\n",
              " ('reduce_mem_usage', 136),\n",
              " ('weather_metrics', 120),\n",
              " ('categorical_features', 112),\n",
              " ('drive', 80),\n",
              " ('lgb', 80),\n",
              " ('np', 80),\n",
              " ('pd', 80),\n",
              " ('plt', 80),\n",
              " ('sns', 80),\n",
              " ('watchlist', 80),\n",
              " ('item', 59),\n",
              " ('dtrain', 56),\n",
              " ('dvalid', 56),\n",
              " ('kf', 56),\n",
              " ('model_lgb', 56),\n",
              " ('rmse', 32),\n",
              " ('score', 32),\n",
              " ('cv', 28),\n",
              " ('fold', 28),\n",
              " ('meter', 28),\n",
              " ('meter_id', 28),\n",
              " ('seed', 28),\n",
              " ('site_id', 28)]"
            ]
          },
          "metadata": {
            "tags": []
          },
          "execution_count": 102
        }
      ]
    },
    {
      "cell_type": "markdown",
      "metadata": {
        "id": "HayEwiELTUwh",
        "colab_type": "text"
      },
      "source": [
        "# Final"
      ]
    },
    {
      "cell_type": "code",
      "metadata": {
        "id": "iIwkF2BXpBT3",
        "colab_type": "code",
        "colab": {}
      },
      "source": [
        "for site in tqdm(range(16), desc=\"site_id\"):\n",
        "\n",
        "  for meter_id in tqdm(range(4), desc=\"meter_id\"):\n",
        "    print(\"{} fold CV for site_id:{}, meter_id:{}\".format(cv, site, meter_id))\n",
        "    kf = KFold(n_splits=cv, random_state=seed)\n",
        "    \n",
        "    \n",
        "\n",
        "    X_train_site_meter = df_train.query('site_id==@site & meter==@meter_id').reset_index(drop=True)\n",
        "    y_train_site_meter = X_train_site_meter.log_meter_reading\n",
        "    y_pred_train_site_meter = np.zeros(X_train_site_meter.shape[0])\n",
        "\n",
        "    score = 0\n",
        "\n",
        "    if X_train_site_meter.shape[0] != 0:\n",
        "      for fold, (train_index, valid_index) in enumerate(kf.split(X_train_site_meter, y_train_site_meter)):\n",
        "              X_train, X_valid = X_train_site_meter.loc[train_index, all_features], X_train_site_meter.loc[valid_index, all_features]\n",
        "              y_train, y_valid = y_train_site_meter.iloc[train_index], y_train_site_meter.iloc[valid_index]\n",
        "\n",
        "              dtrain = lgb.Dataset(X_train, label=y_train, categorical_feature=categorical_features)\n",
        "              dvalid = lgb.Dataset(X_valid, label=y_valid, categorical_feature=categorical_features)\n",
        "\n",
        "              watchlist = [dtrain, dvalid]\n",
        "\n",
        "              params = {\"objective\": \"regression\",\n",
        "                        \"num_leaves\": 40,\n",
        "                        \"learning_rate\": 0.05,\n",
        "                        \"bagging_fraction\": 0.9,\n",
        "                        \"feature_fraction\": 0.85,\n",
        "                        \"metric\": \"rmse\"\n",
        "                        }\n",
        "\n",
        "              model_lgb = lgb.train(params, train_set=dtrain, num_boost_round=1000, valid_sets=watchlist, verbose_eval=200, early_stopping_rounds=200)\n",
        "              models['site_id'].append(site)\n",
        "              models['meter'].append(meter_id)\n",
        "              models['model'].append(model_lgb)\n",
        "\n",
        "              y_pred_valid = model_lgb.predict(X_valid, num_iteration=model_lgb.best_iteration)\n",
        "              y_pred_train_site_meter[valid_index] = y_pred_valid\n",
        "\n",
        "              rmse = np.sqrt(mean_squared_error(y_valid, y_pred_valid))\n",
        "              print(\"Site Id: {}, Meter: {}, Fold: {}, RMSE: {}\".format(site, meter_id, fold+1,rmse))\n",
        "              score += rmse / cv\n",
        "\n",
        "              gc.collect()\n",
        "\n",
        "      cv_scores[\"site_id\"].append(site)\n",
        "      cv_scores[\"meter\"].append(meter_id)\n",
        "      cv_scores[\"cv_score\"].append(score)\n",
        "          \n",
        "      print(\"\\nSite Id: {}, Meter: {}, CV RMSE: {} \\n\".format(site, meter_id, np.sqrt(mean_squared_error(y_train_site_meter, y_pred_train_site_meter))))     \n"
      ],
      "execution_count": 0,
      "outputs": []
    },
    {
      "cell_type": "code",
      "metadata": {
        "id": "PIJF5UuUpGFg",
        "colab_type": "code",
        "colab": {}
      },
      "source": [
        "    X_train_site_meter = df_train.query('site_id==@site & meter==@meter_id').reset_index(drop=True)\n",
        "    y_train_site_meter = X_train_site_meter.log_meter_reading\n",
        "    y_pred_train_site_meter = np.zeros(X_train_site_meter.shape[0])"
      ],
      "execution_count": 0,
      "outputs": []
    },
    {
      "cell_type": "code",
      "metadata": {
        "id": "af_9d3ZVphNF",
        "colab_type": "code",
        "colab": {
          "base_uri": "https://localhost:8080/",
          "height": 217
        },
        "outputId": "6b56f437-c8a2-4617-a72d-276132ecd13f"
      },
      "source": [
        "df_test.head()"
      ],
      "execution_count": 104,
      "outputs": [
        {
          "output_type": "execute_result",
          "data": {
            "text/html": [
              "<div>\n",
              "<style scoped>\n",
              "    .dataframe tbody tr th:only-of-type {\n",
              "        vertical-align: middle;\n",
              "    }\n",
              "\n",
              "    .dataframe tbody tr th {\n",
              "        vertical-align: top;\n",
              "    }\n",
              "\n",
              "    .dataframe thead th {\n",
              "        text-align: right;\n",
              "    }\n",
              "</style>\n",
              "<table border=\"1\" class=\"dataframe\">\n",
              "  <thead>\n",
              "    <tr style=\"text-align: right;\">\n",
              "      <th></th>\n",
              "      <th>row_id</th>\n",
              "      <th>building_id</th>\n",
              "      <th>meter</th>\n",
              "      <th>site_id</th>\n",
              "      <th>square_feet</th>\n",
              "      <th>use_category</th>\n",
              "      <th>air_temperature</th>\n",
              "      <th>cloud_coverage</th>\n",
              "      <th>dew_temperature</th>\n",
              "      <th>precip_depth_1_hr</th>\n",
              "      <th>sea_level_pressure</th>\n",
              "      <th>wind_direction</th>\n",
              "      <th>wind_speed</th>\n",
              "      <th>day</th>\n",
              "      <th>week</th>\n",
              "      <th>month</th>\n",
              "      <th>hour</th>\n",
              "    </tr>\n",
              "  </thead>\n",
              "  <tbody>\n",
              "    <tr>\n",
              "      <th>0</th>\n",
              "      <td>0</td>\n",
              "      <td>0</td>\n",
              "      <td>0</td>\n",
              "      <td>0</td>\n",
              "      <td>7432</td>\n",
              "      <td>0</td>\n",
              "      <td>17.796875</td>\n",
              "      <td>4.0</td>\n",
              "      <td>11.703125</td>\n",
              "      <td>0.116638</td>\n",
              "      <td>1021.5</td>\n",
              "      <td>100.0</td>\n",
              "      <td>3.599609</td>\n",
              "      <td>1.0</td>\n",
              "      <td>52.0</td>\n",
              "      <td>1.0</td>\n",
              "      <td>0.0</td>\n",
              "    </tr>\n",
              "    <tr>\n",
              "      <th>1</th>\n",
              "      <td>129</td>\n",
              "      <td>0</td>\n",
              "      <td>0</td>\n",
              "      <td>0</td>\n",
              "      <td>7432</td>\n",
              "      <td>0</td>\n",
              "      <td>17.796875</td>\n",
              "      <td>2.0</td>\n",
              "      <td>12.796875</td>\n",
              "      <td>0.000000</td>\n",
              "      <td>1022.0</td>\n",
              "      <td>130.0</td>\n",
              "      <td>3.099609</td>\n",
              "      <td>1.0</td>\n",
              "      <td>52.0</td>\n",
              "      <td>1.0</td>\n",
              "      <td>1.0</td>\n",
              "    </tr>\n",
              "    <tr>\n",
              "      <th>2</th>\n",
              "      <td>258</td>\n",
              "      <td>0</td>\n",
              "      <td>0</td>\n",
              "      <td>0</td>\n",
              "      <td>7432</td>\n",
              "      <td>0</td>\n",
              "      <td>16.093750</td>\n",
              "      <td>0.0</td>\n",
              "      <td>12.796875</td>\n",
              "      <td>0.000000</td>\n",
              "      <td>1022.0</td>\n",
              "      <td>140.0</td>\n",
              "      <td>3.099609</td>\n",
              "      <td>1.0</td>\n",
              "      <td>52.0</td>\n",
              "      <td>1.0</td>\n",
              "      <td>2.0</td>\n",
              "    </tr>\n",
              "    <tr>\n",
              "      <th>3</th>\n",
              "      <td>387</td>\n",
              "      <td>0</td>\n",
              "      <td>0</td>\n",
              "      <td>0</td>\n",
              "      <td>7432</td>\n",
              "      <td>0</td>\n",
              "      <td>17.203125</td>\n",
              "      <td>0.0</td>\n",
              "      <td>13.296875</td>\n",
              "      <td>0.000000</td>\n",
              "      <td>1022.0</td>\n",
              "      <td>140.0</td>\n",
              "      <td>3.099609</td>\n",
              "      <td>1.0</td>\n",
              "      <td>52.0</td>\n",
              "      <td>1.0</td>\n",
              "      <td>3.0</td>\n",
              "    </tr>\n",
              "    <tr>\n",
              "      <th>4</th>\n",
              "      <td>516</td>\n",
              "      <td>0</td>\n",
              "      <td>0</td>\n",
              "      <td>0</td>\n",
              "      <td>7432</td>\n",
              "      <td>0</td>\n",
              "      <td>16.703125</td>\n",
              "      <td>2.0</td>\n",
              "      <td>13.296875</td>\n",
              "      <td>0.000000</td>\n",
              "      <td>1022.5</td>\n",
              "      <td>130.0</td>\n",
              "      <td>2.599609</td>\n",
              "      <td>1.0</td>\n",
              "      <td>52.0</td>\n",
              "      <td>1.0</td>\n",
              "      <td>4.0</td>\n",
              "    </tr>\n",
              "  </tbody>\n",
              "</table>\n",
              "</div>"
            ],
            "text/plain": [
              "   row_id  building_id  meter  site_id  ...  day  week  month  hour\n",
              "0       0            0      0        0  ...  1.0  52.0    1.0   0.0\n",
              "1     129            0      0        0  ...  1.0  52.0    1.0   1.0\n",
              "2     258            0      0        0  ...  1.0  52.0    1.0   2.0\n",
              "3     387            0      0        0  ...  1.0  52.0    1.0   3.0\n",
              "4     516            0      0        0  ...  1.0  52.0    1.0   4.0\n",
              "\n",
              "[5 rows x 17 columns]"
            ]
          },
          "metadata": {
            "tags": []
          },
          "execution_count": 104
        }
      ]
    },
    {
      "cell_type": "code",
      "metadata": {
        "id": "fPm0ub59tD1v",
        "colab_type": "code",
        "colab": {
          "base_uri": "https://localhost:8080/",
          "height": 647
        },
        "outputId": "cb6a2d7d-cb46-43a8-bcc8-d8e9c9c52563"
      },
      "source": [
        "model_df = pd.DataFrame(models)\n",
        "model_df.head(20)"
      ],
      "execution_count": 144,
      "outputs": [
        {
          "output_type": "execute_result",
          "data": {
            "text/html": [
              "<div>\n",
              "<style scoped>\n",
              "    .dataframe tbody tr th:only-of-type {\n",
              "        vertical-align: middle;\n",
              "    }\n",
              "\n",
              "    .dataframe tbody tr th {\n",
              "        vertical-align: top;\n",
              "    }\n",
              "\n",
              "    .dataframe thead th {\n",
              "        text-align: right;\n",
              "    }\n",
              "</style>\n",
              "<table border=\"1\" class=\"dataframe\">\n",
              "  <thead>\n",
              "    <tr style=\"text-align: right;\">\n",
              "      <th></th>\n",
              "      <th>site_id</th>\n",
              "      <th>meter</th>\n",
              "      <th>model</th>\n",
              "    </tr>\n",
              "  </thead>\n",
              "  <tbody>\n",
              "    <tr>\n",
              "      <th>0</th>\n",
              "      <td>0</td>\n",
              "      <td>0</td>\n",
              "      <td>&lt;lightgbm.basic.Booster object at 0x7f03f1e23cf8&gt;</td>\n",
              "    </tr>\n",
              "    <tr>\n",
              "      <th>1</th>\n",
              "      <td>0</td>\n",
              "      <td>0</td>\n",
              "      <td>&lt;lightgbm.basic.Booster object at 0x7f03f1e23d30&gt;</td>\n",
              "    </tr>\n",
              "    <tr>\n",
              "      <th>2</th>\n",
              "      <td>0</td>\n",
              "      <td>0</td>\n",
              "      <td>&lt;lightgbm.basic.Booster object at 0x7f03f1e2c278&gt;</td>\n",
              "    </tr>\n",
              "    <tr>\n",
              "      <th>3</th>\n",
              "      <td>0</td>\n",
              "      <td>1</td>\n",
              "      <td>&lt;lightgbm.basic.Booster object at 0x7f03f222a0f0&gt;</td>\n",
              "    </tr>\n",
              "    <tr>\n",
              "      <th>4</th>\n",
              "      <td>0</td>\n",
              "      <td>1</td>\n",
              "      <td>&lt;lightgbm.basic.Booster object at 0x7f03f1e88b00&gt;</td>\n",
              "    </tr>\n",
              "    <tr>\n",
              "      <th>5</th>\n",
              "      <td>0</td>\n",
              "      <td>1</td>\n",
              "      <td>&lt;lightgbm.basic.Booster object at 0x7f03f1e88940&gt;</td>\n",
              "    </tr>\n",
              "    <tr>\n",
              "      <th>6</th>\n",
              "      <td>1</td>\n",
              "      <td>0</td>\n",
              "      <td>&lt;lightgbm.basic.Booster object at 0x7f03f208bd68&gt;</td>\n",
              "    </tr>\n",
              "    <tr>\n",
              "      <th>7</th>\n",
              "      <td>1</td>\n",
              "      <td>0</td>\n",
              "      <td>&lt;lightgbm.basic.Booster object at 0x7f03f2302278&gt;</td>\n",
              "    </tr>\n",
              "    <tr>\n",
              "      <th>8</th>\n",
              "      <td>1</td>\n",
              "      <td>0</td>\n",
              "      <td>&lt;lightgbm.basic.Booster object at 0x7f03f1e23a90&gt;</td>\n",
              "    </tr>\n",
              "    <tr>\n",
              "      <th>9</th>\n",
              "      <td>1</td>\n",
              "      <td>3</td>\n",
              "      <td>&lt;lightgbm.basic.Booster object at 0x7f03f1f302b0&gt;</td>\n",
              "    </tr>\n",
              "    <tr>\n",
              "      <th>10</th>\n",
              "      <td>1</td>\n",
              "      <td>3</td>\n",
              "      <td>&lt;lightgbm.basic.Booster object at 0x7f03f1e88128&gt;</td>\n",
              "    </tr>\n",
              "    <tr>\n",
              "      <th>11</th>\n",
              "      <td>1</td>\n",
              "      <td>3</td>\n",
              "      <td>&lt;lightgbm.basic.Booster object at 0x7f03f1e882b0&gt;</td>\n",
              "    </tr>\n",
              "    <tr>\n",
              "      <th>12</th>\n",
              "      <td>2</td>\n",
              "      <td>0</td>\n",
              "      <td>&lt;lightgbm.basic.Booster object at 0x7f03f1fdaeb8&gt;</td>\n",
              "    </tr>\n",
              "    <tr>\n",
              "      <th>13</th>\n",
              "      <td>2</td>\n",
              "      <td>0</td>\n",
              "      <td>&lt;lightgbm.basic.Booster object at 0x7f03f1e23160&gt;</td>\n",
              "    </tr>\n",
              "    <tr>\n",
              "      <th>14</th>\n",
              "      <td>2</td>\n",
              "      <td>0</td>\n",
              "      <td>&lt;lightgbm.basic.Booster object at 0x7f03f1ea4c18&gt;</td>\n",
              "    </tr>\n",
              "    <tr>\n",
              "      <th>15</th>\n",
              "      <td>2</td>\n",
              "      <td>1</td>\n",
              "      <td>&lt;lightgbm.basic.Booster object at 0x7f03f1e2c400&gt;</td>\n",
              "    </tr>\n",
              "    <tr>\n",
              "      <th>16</th>\n",
              "      <td>2</td>\n",
              "      <td>1</td>\n",
              "      <td>&lt;lightgbm.basic.Booster object at 0x7f03f1e2cdd8&gt;</td>\n",
              "    </tr>\n",
              "    <tr>\n",
              "      <th>17</th>\n",
              "      <td>2</td>\n",
              "      <td>1</td>\n",
              "      <td>&lt;lightgbm.basic.Booster object at 0x7f03f1e884e0&gt;</td>\n",
              "    </tr>\n",
              "    <tr>\n",
              "      <th>18</th>\n",
              "      <td>2</td>\n",
              "      <td>3</td>\n",
              "      <td>&lt;lightgbm.basic.Booster object at 0x7f03f229ea58&gt;</td>\n",
              "    </tr>\n",
              "    <tr>\n",
              "      <th>19</th>\n",
              "      <td>2</td>\n",
              "      <td>3</td>\n",
              "      <td>&lt;lightgbm.basic.Booster object at 0x7f03f1ea4160&gt;</td>\n",
              "    </tr>\n",
              "  </tbody>\n",
              "</table>\n",
              "</div>"
            ],
            "text/plain": [
              "    site_id  meter                                              model\n",
              "0         0      0  <lightgbm.basic.Booster object at 0x7f03f1e23cf8>\n",
              "1         0      0  <lightgbm.basic.Booster object at 0x7f03f1e23d30>\n",
              "2         0      0  <lightgbm.basic.Booster object at 0x7f03f1e2c278>\n",
              "3         0      1  <lightgbm.basic.Booster object at 0x7f03f222a0f0>\n",
              "4         0      1  <lightgbm.basic.Booster object at 0x7f03f1e88b00>\n",
              "5         0      1  <lightgbm.basic.Booster object at 0x7f03f1e88940>\n",
              "6         1      0  <lightgbm.basic.Booster object at 0x7f03f208bd68>\n",
              "7         1      0  <lightgbm.basic.Booster object at 0x7f03f2302278>\n",
              "8         1      0  <lightgbm.basic.Booster object at 0x7f03f1e23a90>\n",
              "9         1      3  <lightgbm.basic.Booster object at 0x7f03f1f302b0>\n",
              "10        1      3  <lightgbm.basic.Booster object at 0x7f03f1e88128>\n",
              "11        1      3  <lightgbm.basic.Booster object at 0x7f03f1e882b0>\n",
              "12        2      0  <lightgbm.basic.Booster object at 0x7f03f1fdaeb8>\n",
              "13        2      0  <lightgbm.basic.Booster object at 0x7f03f1e23160>\n",
              "14        2      0  <lightgbm.basic.Booster object at 0x7f03f1ea4c18>\n",
              "15        2      1  <lightgbm.basic.Booster object at 0x7f03f1e2c400>\n",
              "16        2      1  <lightgbm.basic.Booster object at 0x7f03f1e2cdd8>\n",
              "17        2      1  <lightgbm.basic.Booster object at 0x7f03f1e884e0>\n",
              "18        2      3  <lightgbm.basic.Booster object at 0x7f03f229ea58>\n",
              "19        2      3  <lightgbm.basic.Booster object at 0x7f03f1ea4160>"
            ]
          },
          "metadata": {
            "tags": []
          },
          "execution_count": 144
        }
      ]
    },
    {
      "cell_type": "code",
      "metadata": {
        "id": "nbyUM0CRwlyS",
        "colab_type": "code",
        "colab": {
          "base_uri": "https://localhost:8080/",
          "height": 34
        },
        "outputId": "6f536985-0a69-440b-916b-e6e85d002253"
      },
      "source": [
        "list(model_df.query('site_id == 0 & meter == 1')['model'])[0]"
      ],
      "execution_count": 158,
      "outputs": [
        {
          "output_type": "execute_result",
          "data": {
            "text/plain": [
              "<lightgbm.basic.Booster at 0x7f03f222a0f0>"
            ]
          },
          "metadata": {
            "tags": []
          },
          "execution_count": 158
        }
      ]
    },
    {
      "cell_type": "code",
      "metadata": {
        "id": "GNWOd-cstK9n",
        "colab_type": "code",
        "colab": {
          "base_uri": "https://localhost:8080/",
          "height": 695
        },
        "outputId": "672d44c4-1148-40fd-9c84-f04cee3b8d25"
      },
      "source": [
        "for site in range(16):\n",
        "  for meter_id in range(4):\n",
        "    if model_df.query('site_id == @site & meter == @meter_id').shape[0] != 0:\n",
        "      print(list(model_df.query('site_id == @site & meter == @meter_id')['model']))\n"
      ],
      "execution_count": 159,
      "outputs": [
        {
          "output_type": "stream",
          "text": [
            "[<lightgbm.basic.Booster object at 0x7f03f1e23cf8>, <lightgbm.basic.Booster object at 0x7f03f1e23d30>, <lightgbm.basic.Booster object at 0x7f03f1e2c278>]\n",
            "[<lightgbm.basic.Booster object at 0x7f03f222a0f0>, <lightgbm.basic.Booster object at 0x7f03f1e88b00>, <lightgbm.basic.Booster object at 0x7f03f1e88940>]\n",
            "[<lightgbm.basic.Booster object at 0x7f03f208bd68>, <lightgbm.basic.Booster object at 0x7f03f2302278>, <lightgbm.basic.Booster object at 0x7f03f1e23a90>]\n",
            "[<lightgbm.basic.Booster object at 0x7f03f1f302b0>, <lightgbm.basic.Booster object at 0x7f03f1e88128>, <lightgbm.basic.Booster object at 0x7f03f1e882b0>]\n",
            "[<lightgbm.basic.Booster object at 0x7f03f1fdaeb8>, <lightgbm.basic.Booster object at 0x7f03f1e23160>, <lightgbm.basic.Booster object at 0x7f03f1ea4c18>]\n",
            "[<lightgbm.basic.Booster object at 0x7f03f1e2c400>, <lightgbm.basic.Booster object at 0x7f03f1e2cdd8>, <lightgbm.basic.Booster object at 0x7f03f1e884e0>]\n",
            "[<lightgbm.basic.Booster object at 0x7f03f229ea58>, <lightgbm.basic.Booster object at 0x7f03f1ea4160>, <lightgbm.basic.Booster object at 0x7f03f230fb00>]\n",
            "[<lightgbm.basic.Booster object at 0x7f03f229e358>, <lightgbm.basic.Booster object at 0x7f03f208b860>, <lightgbm.basic.Booster object at 0x7f03f1eb20f0>]\n",
            "[<lightgbm.basic.Booster object at 0x7f03f1e36fd0>, <lightgbm.basic.Booster object at 0x7f03f1e36208>, <lightgbm.basic.Booster object at 0x7f03f1e2c128>]\n",
            "[<lightgbm.basic.Booster object at 0x7f03f1e88a90>, <lightgbm.basic.Booster object at 0x7f03f1fbc6a0>, <lightgbm.basic.Booster object at 0x7f03f1fbcda0>]\n",
            "[<lightgbm.basic.Booster object at 0x7f03f1fda4a8>, <lightgbm.basic.Booster object at 0x7f03f1fbc358>, <lightgbm.basic.Booster object at 0x7f03f230fd68>]\n",
            "[<lightgbm.basic.Booster object at 0x7f03f1e2cfd0>, <lightgbm.basic.Booster object at 0x7f03f1fbcef0>, <lightgbm.basic.Booster object at 0x7f03f1fbc240>]\n",
            "[<lightgbm.basic.Booster object at 0x7f03f230fdd8>, <lightgbm.basic.Booster object at 0x7f03f1fbcc50>, <lightgbm.basic.Booster object at 0x7f03f229ef98>]\n",
            "[<lightgbm.basic.Booster object at 0x7f03f230f390>, <lightgbm.basic.Booster object at 0x7f03f1ef82b0>, <lightgbm.basic.Booster object at 0x7f03f1fbc710>]\n",
            "[<lightgbm.basic.Booster object at 0x7f03f1ef8780>, <lightgbm.basic.Booster object at 0x7f03f208bb70>, <lightgbm.basic.Booster object at 0x7f03f1ea4ac8>]\n",
            "[<lightgbm.basic.Booster object at 0x7f03f1fbceb8>, <lightgbm.basic.Booster object at 0x7f03f1ef8e80>, <lightgbm.basic.Booster object at 0x7f03f1fbc4a8>]\n",
            "[<lightgbm.basic.Booster object at 0x7f03f1ef8438>, <lightgbm.basic.Booster object at 0x7f03f1ef8ba8>, <lightgbm.basic.Booster object at 0x7f03f1ef89b0>]\n",
            "[<lightgbm.basic.Booster object at 0x7f03f1ef8a90>, <lightgbm.basic.Booster object at 0x7f03f1fbc128>, <lightgbm.basic.Booster object at 0x7f03f1ef8390>]\n",
            "[<lightgbm.basic.Booster object at 0x7f03f1ef8c88>, <lightgbm.basic.Booster object at 0x7f03f1ef8400>, <lightgbm.basic.Booster object at 0x7f03f1ef8b00>]\n",
            "[<lightgbm.basic.Booster object at 0x7f03f1ef8cf8>, <lightgbm.basic.Booster object at 0x7f03f1dd7a90>, <lightgbm.basic.Booster object at 0x7f03f1ef8eb8>]\n",
            "[<lightgbm.basic.Booster object at 0x7f03f1ef8470>, <lightgbm.basic.Booster object at 0x7f03f1dd72b0>, <lightgbm.basic.Booster object at 0x7f03f1ef89e8>]\n",
            "[<lightgbm.basic.Booster object at 0x7f03f1ef86a0>, <lightgbm.basic.Booster object at 0x7f03f230f940>, <lightgbm.basic.Booster object at 0x7f03f1dd7e10>]\n",
            "[<lightgbm.basic.Booster object at 0x7f03f1dd77b8>, <lightgbm.basic.Booster object at 0x7f03f1ef8ac8>, <lightgbm.basic.Booster object at 0x7f03f230f240>]\n",
            "[<lightgbm.basic.Booster object at 0x7f03f1dd7ef0>, <lightgbm.basic.Booster object at 0x7f03f1dd72e8>, <lightgbm.basic.Booster object at 0x7f03f1fbcf60>]\n",
            "[<lightgbm.basic.Booster object at 0x7f03f1dd7668>, <lightgbm.basic.Booster object at 0x7f03f1dd7710>, <lightgbm.basic.Booster object at 0x7f03f1dd7cc0>]\n",
            "[<lightgbm.basic.Booster object at 0x7f03f1dd7d68>, <lightgbm.basic.Booster object at 0x7f03f1dd7978>, <lightgbm.basic.Booster object at 0x7f03f1dd7d30>]\n",
            "[<lightgbm.basic.Booster object at 0x7f03f1dd7080>, <lightgbm.basic.Booster object at 0x7f03f1de7ba8>, <lightgbm.basic.Booster object at 0x7f03f230fbe0>]\n",
            "[<lightgbm.basic.Booster object at 0x7f03f1ef84e0>, <lightgbm.basic.Booster object at 0x7f03f1de7eb8>, <lightgbm.basic.Booster object at 0x7f03f229e588>]\n",
            "[<lightgbm.basic.Booster object at 0x7f03f1ef8198>, <lightgbm.basic.Booster object at 0x7f03f1de7668>, <lightgbm.basic.Booster object at 0x7f03f1de70b8>]\n",
            "[<lightgbm.basic.Booster object at 0x7f03f1ef8550>, <lightgbm.basic.Booster object at 0x7f03f1de7ac8>, <lightgbm.basic.Booster object at 0x7f03f1dd7320>]\n",
            "[<lightgbm.basic.Booster object at 0x7f03f1de7cf8>, <lightgbm.basic.Booster object at 0x7f03f1de7c50>, <lightgbm.basic.Booster object at 0x7f03f1de7358>]\n",
            "[<lightgbm.basic.Booster object at 0x7f03f1dd7f98>, <lightgbm.basic.Booster object at 0x7f03f1de7e48>, <lightgbm.basic.Booster object at 0x7f03f1de7c88>]\n",
            "[<lightgbm.basic.Booster object at 0x7f03f1de73c8>, <lightgbm.basic.Booster object at 0x7f03f1de7470>, <lightgbm.basic.Booster object at 0x7f03f1e235f8>]\n",
            "[<lightgbm.basic.Booster object at 0x7f03f1de77b8>, <lightgbm.basic.Booster object at 0x7f03f1de7898>, <lightgbm.basic.Booster object at 0x7f03f1de7a58>]\n",
            "[<lightgbm.basic.Booster object at 0x7f03f1de79e8>, <lightgbm.basic.Booster object at 0x7f03f1dd7b38>, <lightgbm.basic.Booster object at 0x7f03f1dd7630>]\n",
            "[<lightgbm.basic.Booster object at 0x7f03f1de76a0>, <lightgbm.basic.Booster object at 0x7f03f1dc2550>, <lightgbm.basic.Booster object at 0x7f03f1de7dd8>]\n",
            "[<lightgbm.basic.Booster object at 0x7f03f1de7080>, <lightgbm.basic.Booster object at 0x7f03f1dc2860>, <lightgbm.basic.Booster object at 0x7f03f1dd7c50>]\n",
            "[<lightgbm.basic.Booster object at 0x7f03f1de7748>, <lightgbm.basic.Booster object at 0x7f03f1dc22b0>, <lightgbm.basic.Booster object at 0x7f03f1dc2ac8>]\n",
            "[<lightgbm.basic.Booster object at 0x7f03f1de72b0>, <lightgbm.basic.Booster object at 0x7f03f1dc2b38>, <lightgbm.basic.Booster object at 0x7f03f1dc2ef0>]\n"
          ],
          "name": "stdout"
        }
      ]
    },
    {
      "cell_type": "code",
      "metadata": {
        "id": "gi-DpH9KAMJH",
        "colab_type": "code",
        "outputId": "deca9c27-ecc3-4c9a-d593-bcf38fb478c4",
        "colab": {
          "base_uri": "https://localhost:8080/",
          "height": 1000
        }
      },
      "source": [
        "df_test_sites_meters = []\n",
        "\n",
        "for site in tqdm(range(16), desc=\"site_id\"):\n",
        "  for meter_id in tqdm(range(4), desc='meter_id'):\n",
        "    print(\"Preparing test data for site_id\", site_id)\n",
        "\n",
        "    if model_df.query('site_id == @site & meter == @meter_id').shape[0] != 0:\n",
        "\n",
        "      X_test_site_meter = df_test.query('site_id== @site & meter == @meter_id')\n",
        "      \n",
        "      row_ids_site_meter = X_test_site_meter.row_id\n",
        "\n",
        "      X_test_site_meter = X_test_site_meter[all_features]\n",
        "      y_pred_test_site_meter = np.zeros(X_test_site_meter.shape[0])\n",
        "\n",
        "      print(\"Scoring for site_id: {}, meter: {}\".format(site, meter_id))    \n",
        "      for fold in range(cv):\n",
        "          model_lgb = list(model_df.query('site_id == @site & meter == @meter_id')['model'])[fold]\n",
        "          y_pred_test_site_meter += model_lgb.predict(X_test_site_meter, num_iteration=model_lgb.best_iteration) / cv\n",
        "          gc.collect()\n",
        "          \n",
        "      df_test_site_meter = pd.DataFrame({\"row_id\": row_ids_site_meter, \"meter_reading\": y_pred_test_site_meter})\n",
        "      df_test_sites_meters.append(df_test_site_meter)\n",
        "      \n",
        "      print(\"Scoring for site_id {}, meter {} completed \\n\".format(site, meter_id))\n",
        "      gc.collect()"
      ],
      "execution_count": 160,
      "outputs": [
        {
          "output_type": "stream",
          "text": [
            "\n",
            "\n",
            "\n",
            "\n",
            "\n",
            "\n",
            "\n",
            "\n",
            "\n",
            "site_id:   0%|          | 0/16 [00:00<?, ?it/s]\u001b[A\u001b[A\u001b[A\u001b[A\u001b[A\u001b[A\u001b[A\u001b[A\u001b[A\n",
            "\n",
            "\n",
            "\n",
            "\n",
            "\n",
            "\n",
            "\n",
            "\n",
            "\n",
            "meter_id:   0%|          | 0/4 [00:00<?, ?it/s]\u001b[A\u001b[A\u001b[A\u001b[A\u001b[A\u001b[A\u001b[A\u001b[A\u001b[A\u001b[A"
          ],
          "name": "stderr"
        },
        {
          "output_type": "stream",
          "text": [
            "Preparing test data for site_id 9\n",
            "Scoring for site_id: 0, meter: 0\n"
          ],
          "name": "stdout"
        },
        {
          "output_type": "execute_result",
          "data": {
            "text/plain": [
              "1103"
            ]
          },
          "metadata": {
            "tags": []
          },
          "execution_count": 160
        },
        {
          "output_type": "execute_result",
          "data": {
            "text/plain": [
              "7"
            ]
          },
          "metadata": {
            "tags": []
          },
          "execution_count": 160
        },
        {
          "output_type": "execute_result",
          "data": {
            "text/plain": [
              "7"
            ]
          },
          "metadata": {
            "tags": []
          },
          "execution_count": 160
        },
        {
          "output_type": "stream",
          "text": [
            "Scoring for site_id 0, meter 0 completed \n",
            "\n"
          ],
          "name": "stdout"
        },
        {
          "output_type": "execute_result",
          "data": {
            "text/plain": [
              "0"
            ]
          },
          "metadata": {
            "tags": []
          },
          "execution_count": 160
        },
        {
          "output_type": "stream",
          "text": [
            "\n",
            "\n",
            "\n",
            "\n",
            "\n",
            "\n",
            "\n",
            "\n",
            "\n",
            "\n",
            "meter_id:  25%|██▌       | 1/4 [00:07<00:22,  7.34s/it]\u001b[A\u001b[A\u001b[A\u001b[A\u001b[A\u001b[A\u001b[A\u001b[A\u001b[A\u001b[A"
          ],
          "name": "stderr"
        },
        {
          "output_type": "stream",
          "text": [
            "Preparing test data for site_id 9\n",
            "Scoring for site_id: 0, meter: 1\n"
          ],
          "name": "stdout"
        },
        {
          "output_type": "execute_result",
          "data": {
            "text/plain": [
              "10"
            ]
          },
          "metadata": {
            "tags": []
          },
          "execution_count": 160
        },
        {
          "output_type": "execute_result",
          "data": {
            "text/plain": [
              "7"
            ]
          },
          "metadata": {
            "tags": []
          },
          "execution_count": 160
        },
        {
          "output_type": "execute_result",
          "data": {
            "text/plain": [
              "7"
            ]
          },
          "metadata": {
            "tags": []
          },
          "execution_count": 160
        },
        {
          "output_type": "stream",
          "text": [
            "Scoring for site_id 0, meter 1 completed \n",
            "\n"
          ],
          "name": "stdout"
        },
        {
          "output_type": "execute_result",
          "data": {
            "text/plain": [
              "0"
            ]
          },
          "metadata": {
            "tags": []
          },
          "execution_count": 160
        },
        {
          "output_type": "stream",
          "text": [
            "\n",
            "\n",
            "\n",
            "\n",
            "\n",
            "\n",
            "\n",
            "\n",
            "\n",
            "\n",
            "meter_id:  50%|█████     | 2/4 [00:21<00:18,  9.28s/it]\u001b[A\u001b[A\u001b[A\u001b[A\u001b[A\u001b[A\u001b[A\u001b[A\u001b[A\u001b[A\n",
            "\n",
            "\n",
            "\n",
            "\n",
            "\n",
            "\n",
            "\n",
            "\n",
            "\n",
            "meter_id: 100%|██████████| 4/4 [00:21<00:00,  5.29s/it]\u001b[A\u001b[A\u001b[A\u001b[A\u001b[A\u001b[A\u001b[A\u001b[A\u001b[A\u001b[A\n",
            "\n",
            "\n",
            "\n",
            "\n",
            "\n",
            "\n",
            "\n",
            "\n",
            "site_id:   6%|▋         | 1/16 [00:21<05:17, 21.15s/it]\u001b[A\u001b[A\u001b[A\u001b[A\u001b[A\u001b[A\u001b[A\u001b[A\u001b[A\n",
            "\n",
            "\n",
            "\n",
            "\n",
            "\n",
            "\n",
            "\n",
            "\n",
            "\n",
            "meter_id:   0%|          | 0/4 [00:00<?, ?it/s]\u001b[A\u001b[A\u001b[A\u001b[A\u001b[A\u001b[A\u001b[A\u001b[A\u001b[A\u001b[A"
          ],
          "name": "stderr"
        },
        {
          "output_type": "stream",
          "text": [
            "Preparing test data for site_id 9\n",
            "Preparing test data for site_id 9\n",
            "Preparing test data for site_id 9\n",
            "Scoring for site_id: 1, meter: 0\n"
          ],
          "name": "stdout"
        },
        {
          "output_type": "execute_result",
          "data": {
            "text/plain": [
              "16"
            ]
          },
          "metadata": {
            "tags": []
          },
          "execution_count": 160
        },
        {
          "output_type": "execute_result",
          "data": {
            "text/plain": [
              "7"
            ]
          },
          "metadata": {
            "tags": []
          },
          "execution_count": 160
        },
        {
          "output_type": "execute_result",
          "data": {
            "text/plain": [
              "7"
            ]
          },
          "metadata": {
            "tags": []
          },
          "execution_count": 160
        },
        {
          "output_type": "stream",
          "text": [
            "Scoring for site_id 1, meter 0 completed \n",
            "\n"
          ],
          "name": "stdout"
        },
        {
          "output_type": "execute_result",
          "data": {
            "text/plain": [
              "0"
            ]
          },
          "metadata": {
            "tags": []
          },
          "execution_count": 160
        },
        {
          "output_type": "stream",
          "text": [
            "\n",
            "\n",
            "\n",
            "\n",
            "\n",
            "\n",
            "\n",
            "\n",
            "\n",
            "\n",
            "meter_id:  25%|██▌       | 1/4 [00:04<00:14,  4.77s/it]\u001b[A\u001b[A\u001b[A\u001b[A\u001b[A\u001b[A\u001b[A\u001b[A\u001b[A\u001b[A"
          ],
          "name": "stderr"
        },
        {
          "output_type": "stream",
          "text": [
            "Preparing test data for site_id 9\n",
            "Preparing test data for site_id 9\n",
            "Preparing test data for site_id 9\n",
            "Scoring for site_id: 1, meter: 3\n"
          ],
          "name": "stdout"
        },
        {
          "output_type": "execute_result",
          "data": {
            "text/plain": [
              "16"
            ]
          },
          "metadata": {
            "tags": []
          },
          "execution_count": 160
        },
        {
          "output_type": "execute_result",
          "data": {
            "text/plain": [
              "7"
            ]
          },
          "metadata": {
            "tags": []
          },
          "execution_count": 160
        },
        {
          "output_type": "execute_result",
          "data": {
            "text/plain": [
              "7"
            ]
          },
          "metadata": {
            "tags": []
          },
          "execution_count": 160
        },
        {
          "output_type": "stream",
          "text": [
            "Scoring for site_id 1, meter 3 completed \n",
            "\n"
          ],
          "name": "stdout"
        },
        {
          "output_type": "execute_result",
          "data": {
            "text/plain": [
              "0"
            ]
          },
          "metadata": {
            "tags": []
          },
          "execution_count": 160
        },
        {
          "output_type": "stream",
          "text": [
            "\n",
            "\n",
            "\n",
            "\n",
            "\n",
            "\n",
            "\n",
            "\n",
            "\n",
            "\n",
            "meter_id: 100%|██████████| 4/4 [00:06<00:00,  3.49s/it]\u001b[A\u001b[A\u001b[A\u001b[A\u001b[A\u001b[A\u001b[A\u001b[A\u001b[A\u001b[A\n",
            "\n",
            "\n",
            "\n",
            "\n",
            "\n",
            "\n",
            "\n",
            "\n",
            "\n",
            "\u001b[A\u001b[A\u001b[A\u001b[A\u001b[A\u001b[A\u001b[A\u001b[A\u001b[A\u001b[A\n",
            "\n",
            "\n",
            "\n",
            "\n",
            "\n",
            "\n",
            "\n",
            "\n",
            "site_id:  12%|█▎        | 2/16 [00:27<03:53, 16.70s/it]\u001b[A\u001b[A\u001b[A\u001b[A\u001b[A\u001b[A\u001b[A\u001b[A\u001b[A\n",
            "\n",
            "\n",
            "\n",
            "\n",
            "\n",
            "\n",
            "\n",
            "\n",
            "\n",
            "meter_id:   0%|          | 0/4 [00:00<?, ?it/s]\u001b[A\u001b[A\u001b[A\u001b[A\u001b[A\u001b[A\u001b[A\u001b[A\u001b[A\u001b[A"
          ],
          "name": "stderr"
        },
        {
          "output_type": "stream",
          "text": [
            "Preparing test data for site_id 9\n",
            "Scoring for site_id: 2, meter: 0\n"
          ],
          "name": "stdout"
        },
        {
          "output_type": "execute_result",
          "data": {
            "text/plain": [
              "13"
            ]
          },
          "metadata": {
            "tags": []
          },
          "execution_count": 160
        },
        {
          "output_type": "execute_result",
          "data": {
            "text/plain": [
              "7"
            ]
          },
          "metadata": {
            "tags": []
          },
          "execution_count": 160
        },
        {
          "output_type": "execute_result",
          "data": {
            "text/plain": [
              "7"
            ]
          },
          "metadata": {
            "tags": []
          },
          "execution_count": 160
        },
        {
          "output_type": "stream",
          "text": [
            "Scoring for site_id 2, meter 0 completed \n",
            "\n"
          ],
          "name": "stdout"
        },
        {
          "output_type": "execute_result",
          "data": {
            "text/plain": [
              "0"
            ]
          },
          "metadata": {
            "tags": []
          },
          "execution_count": 160
        },
        {
          "output_type": "stream",
          "text": [
            "\n",
            "\n",
            "\n",
            "\n",
            "\n",
            "\n",
            "\n",
            "\n",
            "\n",
            "\n",
            "meter_id:  25%|██▌       | 1/4 [00:58<02:55, 58.44s/it]\u001b[A\u001b[A\u001b[A\u001b[A\u001b[A\u001b[A\u001b[A\u001b[A\u001b[A\u001b[A"
          ],
          "name": "stderr"
        },
        {
          "output_type": "stream",
          "text": [
            "Preparing test data for site_id 9\n",
            "Scoring for site_id: 2, meter: 1\n"
          ],
          "name": "stdout"
        },
        {
          "output_type": "execute_result",
          "data": {
            "text/plain": [
              "7"
            ]
          },
          "metadata": {
            "tags": []
          },
          "execution_count": 160
        },
        {
          "output_type": "execute_result",
          "data": {
            "text/plain": [
              "7"
            ]
          },
          "metadata": {
            "tags": []
          },
          "execution_count": 160
        },
        {
          "output_type": "execute_result",
          "data": {
            "text/plain": [
              "7"
            ]
          },
          "metadata": {
            "tags": []
          },
          "execution_count": 160
        },
        {
          "output_type": "stream",
          "text": [
            "Scoring for site_id 2, meter 1 completed \n",
            "\n"
          ],
          "name": "stdout"
        },
        {
          "output_type": "execute_result",
          "data": {
            "text/plain": [
              "0"
            ]
          },
          "metadata": {
            "tags": []
          },
          "execution_count": 160
        },
        {
          "output_type": "stream",
          "text": [
            "\n",
            "\n",
            "\n",
            "\n",
            "\n",
            "\n",
            "\n",
            "\n",
            "\n",
            "\n",
            "meter_id:  50%|█████     | 2/4 [01:35<01:44, 52.05s/it]\u001b[A\u001b[A\u001b[A\u001b[A\u001b[A\u001b[A\u001b[A\u001b[A\u001b[A\u001b[A"
          ],
          "name": "stderr"
        },
        {
          "output_type": "stream",
          "text": [
            "Preparing test data for site_id 9\n",
            "Preparing test data for site_id 9\n",
            "Scoring for site_id: 2, meter: 3\n"
          ],
          "name": "stdout"
        },
        {
          "output_type": "execute_result",
          "data": {
            "text/plain": [
              "13"
            ]
          },
          "metadata": {
            "tags": []
          },
          "execution_count": 160
        },
        {
          "output_type": "execute_result",
          "data": {
            "text/plain": [
              "7"
            ]
          },
          "metadata": {
            "tags": []
          },
          "execution_count": 160
        },
        {
          "output_type": "execute_result",
          "data": {
            "text/plain": [
              "7"
            ]
          },
          "metadata": {
            "tags": []
          },
          "execution_count": 160
        },
        {
          "output_type": "stream",
          "text": [
            "Scoring for site_id 2, meter 3 completed \n",
            "\n"
          ],
          "name": "stdout"
        },
        {
          "output_type": "execute_result",
          "data": {
            "text/plain": [
              "0"
            ]
          },
          "metadata": {
            "tags": []
          },
          "execution_count": 160
        },
        {
          "output_type": "stream",
          "text": [
            "\n",
            "\n",
            "\n",
            "\n",
            "\n",
            "\n",
            "\n",
            "\n",
            "\n",
            "\n",
            "meter_id: 100%|██████████| 4/4 [01:41<00:00, 37.27s/it]\u001b[A\u001b[A\u001b[A\u001b[A\u001b[A\u001b[A\u001b[A\u001b[A\u001b[A\u001b[A\n",
            "\n",
            "\n",
            "\n",
            "\n",
            "\n",
            "\n",
            "\n",
            "\n",
            "\n",
            "\u001b[A\u001b[A\u001b[A\u001b[A\u001b[A\u001b[A\u001b[A\u001b[A\u001b[A\u001b[A\n",
            "\n",
            "\n",
            "\n",
            "\n",
            "\n",
            "\n",
            "\n",
            "\n",
            "site_id:  19%|█▉        | 3/16 [02:08<09:06, 42.03s/it]\u001b[A\u001b[A\u001b[A\u001b[A\u001b[A\u001b[A\u001b[A\u001b[A\u001b[A\n",
            "\n",
            "\n",
            "\n",
            "\n",
            "\n",
            "\n",
            "\n",
            "\n",
            "\n",
            "meter_id:   0%|          | 0/4 [00:00<?, ?it/s]\u001b[A\u001b[A\u001b[A\u001b[A\u001b[A\u001b[A\u001b[A\u001b[A\u001b[A\u001b[A"
          ],
          "name": "stderr"
        },
        {
          "output_type": "stream",
          "text": [
            "Preparing test data for site_id 9\n",
            "Scoring for site_id: 3, meter: 0\n"
          ],
          "name": "stdout"
        },
        {
          "output_type": "execute_result",
          "data": {
            "text/plain": [
              "13"
            ]
          },
          "metadata": {
            "tags": []
          },
          "execution_count": 160
        },
        {
          "output_type": "execute_result",
          "data": {
            "text/plain": [
              "7"
            ]
          },
          "metadata": {
            "tags": []
          },
          "execution_count": 160
        },
        {
          "output_type": "execute_result",
          "data": {
            "text/plain": [
              "7"
            ]
          },
          "metadata": {
            "tags": []
          },
          "execution_count": 160
        },
        {
          "output_type": "stream",
          "text": [
            "Scoring for site_id 3, meter 0 completed \n",
            "\n"
          ],
          "name": "stdout"
        },
        {
          "output_type": "execute_result",
          "data": {
            "text/plain": [
              "0"
            ]
          },
          "metadata": {
            "tags": []
          },
          "execution_count": 160
        },
        {
          "output_type": "stream",
          "text": [
            "\n",
            "\n",
            "\n",
            "\n",
            "\n",
            "\n",
            "\n",
            "\n",
            "\n",
            "\n",
            "meter_id:  25%|██▌       | 1/4 [01:51<05:34, 111.49s/it]\u001b[A\u001b[A\u001b[A\u001b[A\u001b[A\u001b[A\u001b[A\u001b[A\u001b[A\u001b[A\n",
            "\n",
            "\n",
            "\n",
            "\n",
            "\n",
            "\n",
            "\n",
            "\n",
            "\n",
            "meter_id: 100%|██████████| 4/4 [01:51<00:00, 27.88s/it] \u001b[A\u001b[A\u001b[A\u001b[A\u001b[A\u001b[A\u001b[A\u001b[A\u001b[A\u001b[A\n",
            "\n",
            "\n",
            "\n",
            "\n",
            "\n",
            "\n",
            "\n",
            "\n",
            "site_id:  25%|██▌       | 4/16 [04:00<12:34, 62.87s/it]\u001b[A\u001b[A\u001b[A\u001b[A\u001b[A\u001b[A\u001b[A\u001b[A\u001b[A\n",
            "\n",
            "\n",
            "\n",
            "\n",
            "\n",
            "\n",
            "\n",
            "\n",
            "\n",
            "meter_id:   0%|          | 0/4 [00:00<?, ?it/s]\u001b[A\u001b[A\u001b[A\u001b[A\u001b[A\u001b[A\u001b[A\u001b[A\u001b[A\u001b[A"
          ],
          "name": "stderr"
        },
        {
          "output_type": "stream",
          "text": [
            "Preparing test data for site_id 9\n",
            "Preparing test data for site_id 9\n",
            "Preparing test data for site_id 9\n",
            "Preparing test data for site_id 9\n",
            "Scoring for site_id: 4, meter: 0\n"
          ],
          "name": "stdout"
        },
        {
          "output_type": "execute_result",
          "data": {
            "text/plain": [
              "19"
            ]
          },
          "metadata": {
            "tags": []
          },
          "execution_count": 160
        },
        {
          "output_type": "execute_result",
          "data": {
            "text/plain": [
              "7"
            ]
          },
          "metadata": {
            "tags": []
          },
          "execution_count": 160
        },
        {
          "output_type": "execute_result",
          "data": {
            "text/plain": [
              "7"
            ]
          },
          "metadata": {
            "tags": []
          },
          "execution_count": 160
        },
        {
          "output_type": "stream",
          "text": [
            "Scoring for site_id 4, meter 0 completed \n",
            "\n"
          ],
          "name": "stdout"
        },
        {
          "output_type": "execute_result",
          "data": {
            "text/plain": [
              "0"
            ]
          },
          "metadata": {
            "tags": []
          },
          "execution_count": 160
        },
        {
          "output_type": "stream",
          "text": [
            "\n",
            "\n",
            "\n",
            "\n",
            "\n",
            "\n",
            "\n",
            "\n",
            "\n",
            "\n",
            "meter_id:  25%|██▌       | 1/4 [00:10<00:30, 10.14s/it]\u001b[A\u001b[A\u001b[A\u001b[A\u001b[A\u001b[A\u001b[A\u001b[A\u001b[A\u001b[A\n",
            "\n",
            "\n",
            "\n",
            "\n",
            "\n",
            "\n",
            "\n",
            "\n",
            "\n",
            "meter_id: 100%|██████████| 4/4 [00:10<00:00,  2.54s/it]\u001b[A\u001b[A\u001b[A\u001b[A\u001b[A\u001b[A\u001b[A\u001b[A\u001b[A\u001b[A\n",
            "\n",
            "\n",
            "\n",
            "\n",
            "\n",
            "\n",
            "\n",
            "\n",
            "site_id:  31%|███▏      | 5/16 [04:10<08:37, 47.06s/it]\u001b[A\u001b[A\u001b[A\u001b[A\u001b[A\u001b[A\u001b[A\u001b[A\u001b[A\n",
            "\n",
            "\n",
            "\n",
            "\n",
            "\n",
            "\n",
            "\n",
            "\n",
            "\n",
            "meter_id:   0%|          | 0/4 [00:00<?, ?it/s]\u001b[A\u001b[A\u001b[A\u001b[A\u001b[A\u001b[A\u001b[A\u001b[A\u001b[A\u001b[A"
          ],
          "name": "stderr"
        },
        {
          "output_type": "stream",
          "text": [
            "Preparing test data for site_id 9\n",
            "Preparing test data for site_id 9\n",
            "Preparing test data for site_id 9\n",
            "Preparing test data for site_id 9\n",
            "Scoring for site_id: 5, meter: 0\n"
          ],
          "name": "stdout"
        },
        {
          "output_type": "execute_result",
          "data": {
            "text/plain": [
              "19"
            ]
          },
          "metadata": {
            "tags": []
          },
          "execution_count": 160
        },
        {
          "output_type": "execute_result",
          "data": {
            "text/plain": [
              "7"
            ]
          },
          "metadata": {
            "tags": []
          },
          "execution_count": 160
        },
        {
          "output_type": "execute_result",
          "data": {
            "text/plain": [
              "7"
            ]
          },
          "metadata": {
            "tags": []
          },
          "execution_count": 160
        },
        {
          "output_type": "stream",
          "text": [
            "Scoring for site_id 5, meter 0 completed \n",
            "\n"
          ],
          "name": "stdout"
        },
        {
          "output_type": "execute_result",
          "data": {
            "text/plain": [
              "0"
            ]
          },
          "metadata": {
            "tags": []
          },
          "execution_count": 160
        },
        {
          "output_type": "stream",
          "text": [
            "\n",
            "\n",
            "\n",
            "\n",
            "\n",
            "\n",
            "\n",
            "\n",
            "\n",
            "\n",
            "meter_id:  25%|██▌       | 1/4 [00:18<00:55, 18.35s/it]\u001b[A\u001b[A\u001b[A\u001b[A\u001b[A\u001b[A\u001b[A\u001b[A\u001b[A\u001b[A\n",
            "\n",
            "\n",
            "\n",
            "\n",
            "\n",
            "\n",
            "\n",
            "\n",
            "\n",
            "meter_id: 100%|██████████| 4/4 [00:18<00:00,  4.59s/it]\u001b[A\u001b[A\u001b[A\u001b[A\u001b[A\u001b[A\u001b[A\u001b[A\u001b[A\u001b[A\n",
            "\n",
            "\n",
            "\n",
            "\n",
            "\n",
            "\n",
            "\n",
            "\n",
            "site_id:  38%|███▊      | 6/16 [04:28<06:24, 38.45s/it]\u001b[A\u001b[A\u001b[A\u001b[A\u001b[A\u001b[A\u001b[A\u001b[A\u001b[A\n",
            "\n",
            "\n",
            "\n",
            "\n",
            "\n",
            "\n",
            "\n",
            "\n",
            "\n",
            "meter_id:   0%|          | 0/4 [00:00<?, ?it/s]\u001b[A\u001b[A\u001b[A\u001b[A\u001b[A\u001b[A\u001b[A\u001b[A\u001b[A\u001b[A"
          ],
          "name": "stderr"
        },
        {
          "output_type": "stream",
          "text": [
            "Preparing test data for site_id 9\n",
            "Preparing test data for site_id 9\n",
            "Preparing test data for site_id 9\n",
            "Preparing test data for site_id 9\n",
            "Scoring for site_id: 6, meter: 0\n"
          ],
          "name": "stdout"
        },
        {
          "output_type": "execute_result",
          "data": {
            "text/plain": [
              "16"
            ]
          },
          "metadata": {
            "tags": []
          },
          "execution_count": 160
        },
        {
          "output_type": "execute_result",
          "data": {
            "text/plain": [
              "7"
            ]
          },
          "metadata": {
            "tags": []
          },
          "execution_count": 160
        },
        {
          "output_type": "execute_result",
          "data": {
            "text/plain": [
              "7"
            ]
          },
          "metadata": {
            "tags": []
          },
          "execution_count": 160
        },
        {
          "output_type": "stream",
          "text": [
            "Scoring for site_id 6, meter 0 completed \n",
            "\n"
          ],
          "name": "stdout"
        },
        {
          "output_type": "execute_result",
          "data": {
            "text/plain": [
              "0"
            ]
          },
          "metadata": {
            "tags": []
          },
          "execution_count": 160
        },
        {
          "output_type": "stream",
          "text": [
            "\n",
            "\n",
            "\n",
            "\n",
            "\n",
            "\n",
            "\n",
            "\n",
            "\n",
            "\n",
            "meter_id:  25%|██▌       | 1/4 [00:03<00:10,  3.44s/it]\u001b[A\u001b[A\u001b[A\u001b[A\u001b[A\u001b[A\u001b[A\u001b[A\u001b[A\u001b[A"
          ],
          "name": "stderr"
        },
        {
          "output_type": "stream",
          "text": [
            "Preparing test data for site_id 9\n",
            "Scoring for site_id: 6, meter: 1\n"
          ],
          "name": "stdout"
        },
        {
          "output_type": "execute_result",
          "data": {
            "text/plain": [
              "10"
            ]
          },
          "metadata": {
            "tags": []
          },
          "execution_count": 160
        },
        {
          "output_type": "execute_result",
          "data": {
            "text/plain": [
              "7"
            ]
          },
          "metadata": {
            "tags": []
          },
          "execution_count": 160
        },
        {
          "output_type": "execute_result",
          "data": {
            "text/plain": [
              "7"
            ]
          },
          "metadata": {
            "tags": []
          },
          "execution_count": 160
        },
        {
          "output_type": "stream",
          "text": [
            "Scoring for site_id 6, meter 1 completed \n",
            "\n"
          ],
          "name": "stdout"
        },
        {
          "output_type": "execute_result",
          "data": {
            "text/plain": [
              "0"
            ]
          },
          "metadata": {
            "tags": []
          },
          "execution_count": 160
        },
        {
          "output_type": "stream",
          "text": [
            "\n",
            "\n",
            "\n",
            "\n",
            "\n",
            "\n",
            "\n",
            "\n",
            "\n",
            "\n",
            "meter_id:  50%|█████     | 2/4 [00:16<00:12,  6.30s/it]\u001b[A\u001b[A\u001b[A\u001b[A\u001b[A\u001b[A\u001b[A\u001b[A\u001b[A\u001b[A"
          ],
          "name": "stderr"
        },
        {
          "output_type": "stream",
          "text": [
            "Preparing test data for site_id 9\n",
            "Scoring for site_id: 6, meter: 2\n"
          ],
          "name": "stdout"
        },
        {
          "output_type": "execute_result",
          "data": {
            "text/plain": [
              "10"
            ]
          },
          "metadata": {
            "tags": []
          },
          "execution_count": 160
        },
        {
          "output_type": "execute_result",
          "data": {
            "text/plain": [
              "7"
            ]
          },
          "metadata": {
            "tags": []
          },
          "execution_count": 160
        },
        {
          "output_type": "execute_result",
          "data": {
            "text/plain": [
              "7"
            ]
          },
          "metadata": {
            "tags": []
          },
          "execution_count": 160
        },
        {
          "output_type": "stream",
          "text": [
            "Scoring for site_id 6, meter 2 completed \n",
            "\n"
          ],
          "name": "stdout"
        },
        {
          "output_type": "execute_result",
          "data": {
            "text/plain": [
              "0"
            ]
          },
          "metadata": {
            "tags": []
          },
          "execution_count": 160
        },
        {
          "output_type": "stream",
          "text": [
            "\n",
            "\n",
            "\n",
            "\n",
            "\n",
            "\n",
            "\n",
            "\n",
            "\n",
            "\n",
            "meter_id:  75%|███████▌  | 3/4 [00:18<00:04,  4.89s/it]\u001b[A\u001b[A\u001b[A\u001b[A\u001b[A\u001b[A\u001b[A\u001b[A\u001b[A\u001b[A\n",
            "\n",
            "\n",
            "\n",
            "\n",
            "\n",
            "\n",
            "\n",
            "\n",
            "\n",
            "meter_id: 100%|██████████| 4/4 [00:18<00:00,  4.51s/it]\u001b[A\u001b[A\u001b[A\u001b[A\u001b[A\u001b[A\u001b[A\u001b[A\u001b[A\u001b[A\n",
            "\n",
            "\n",
            "\n",
            "\n",
            "\n",
            "\n",
            "\n",
            "\n",
            "site_id:  44%|████▍     | 7/16 [04:46<04:50, 32.33s/it]\u001b[A\u001b[A\u001b[A\u001b[A\u001b[A\u001b[A\u001b[A\u001b[A\u001b[A\n",
            "\n",
            "\n",
            "\n",
            "\n",
            "\n",
            "\n",
            "\n",
            "\n",
            "\n",
            "meter_id:   0%|          | 0/4 [00:00<?, ?it/s]\u001b[A\u001b[A\u001b[A\u001b[A\u001b[A\u001b[A\u001b[A\u001b[A\u001b[A\u001b[A"
          ],
          "name": "stderr"
        },
        {
          "output_type": "stream",
          "text": [
            "Preparing test data for site_id 9\n",
            "Preparing test data for site_id 9\n",
            "Scoring for site_id: 7, meter: 0\n"
          ],
          "name": "stdout"
        },
        {
          "output_type": "execute_result",
          "data": {
            "text/plain": [
              "13"
            ]
          },
          "metadata": {
            "tags": []
          },
          "execution_count": 160
        },
        {
          "output_type": "execute_result",
          "data": {
            "text/plain": [
              "7"
            ]
          },
          "metadata": {
            "tags": []
          },
          "execution_count": 160
        },
        {
          "output_type": "execute_result",
          "data": {
            "text/plain": [
              "7"
            ]
          },
          "metadata": {
            "tags": []
          },
          "execution_count": 160
        },
        {
          "output_type": "stream",
          "text": [
            "Scoring for site_id 7, meter 0 completed \n",
            "\n"
          ],
          "name": "stdout"
        },
        {
          "output_type": "execute_result",
          "data": {
            "text/plain": [
              "0"
            ]
          },
          "metadata": {
            "tags": []
          },
          "execution_count": 160
        },
        {
          "output_type": "stream",
          "text": [
            "\n",
            "\n",
            "\n",
            "\n",
            "\n",
            "\n",
            "\n",
            "\n",
            "\n",
            "\n",
            "meter_id:  25%|██▌       | 1/4 [00:07<00:21,  7.16s/it]\u001b[A\u001b[A\u001b[A\u001b[A\u001b[A\u001b[A\u001b[A\u001b[A\u001b[A\u001b[A"
          ],
          "name": "stderr"
        },
        {
          "output_type": "stream",
          "text": [
            "Preparing test data for site_id 9\n",
            "Scoring for site_id: 7, meter: 1\n"
          ],
          "name": "stdout"
        },
        {
          "output_type": "execute_result",
          "data": {
            "text/plain": [
              "10"
            ]
          },
          "metadata": {
            "tags": []
          },
          "execution_count": 160
        },
        {
          "output_type": "execute_result",
          "data": {
            "text/plain": [
              "7"
            ]
          },
          "metadata": {
            "tags": []
          },
          "execution_count": 160
        },
        {
          "output_type": "execute_result",
          "data": {
            "text/plain": [
              "7"
            ]
          },
          "metadata": {
            "tags": []
          },
          "execution_count": 160
        },
        {
          "output_type": "stream",
          "text": [
            "Scoring for site_id 7, meter 1 completed \n",
            "\n"
          ],
          "name": "stdout"
        },
        {
          "output_type": "execute_result",
          "data": {
            "text/plain": [
              "0"
            ]
          },
          "metadata": {
            "tags": []
          },
          "execution_count": 160
        },
        {
          "output_type": "stream",
          "text": [
            "\n",
            "\n",
            "\n",
            "\n",
            "\n",
            "\n",
            "\n",
            "\n",
            "\n",
            "\n",
            "meter_id:  50%|█████     | 2/4 [00:12<00:13,  6.62s/it]\u001b[A\u001b[A\u001b[A\u001b[A\u001b[A\u001b[A\u001b[A\u001b[A\u001b[A\u001b[A"
          ],
          "name": "stderr"
        },
        {
          "output_type": "stream",
          "text": [
            "Preparing test data for site_id 9\n",
            "Scoring for site_id: 7, meter: 2\n"
          ],
          "name": "stdout"
        },
        {
          "output_type": "execute_result",
          "data": {
            "text/plain": [
              "7"
            ]
          },
          "metadata": {
            "tags": []
          },
          "execution_count": 160
        },
        {
          "output_type": "execute_result",
          "data": {
            "text/plain": [
              "7"
            ]
          },
          "metadata": {
            "tags": []
          },
          "execution_count": 160
        },
        {
          "output_type": "execute_result",
          "data": {
            "text/plain": [
              "7"
            ]
          },
          "metadata": {
            "tags": []
          },
          "execution_count": 160
        },
        {
          "output_type": "stream",
          "text": [
            "Scoring for site_id 7, meter 2 completed \n",
            "\n"
          ],
          "name": "stdout"
        },
        {
          "output_type": "execute_result",
          "data": {
            "text/plain": [
              "0"
            ]
          },
          "metadata": {
            "tags": []
          },
          "execution_count": 160
        },
        {
          "output_type": "stream",
          "text": [
            "\n",
            "\n",
            "\n",
            "\n",
            "\n",
            "\n",
            "\n",
            "\n",
            "\n",
            "\n",
            "meter_id:  75%|███████▌  | 3/4 [00:14<00:05,  5.08s/it]\u001b[A\u001b[A\u001b[A\u001b[A\u001b[A\u001b[A\u001b[A\u001b[A\u001b[A\u001b[A"
          ],
          "name": "stderr"
        },
        {
          "output_type": "stream",
          "text": [
            "Preparing test data for site_id 9\n",
            "Scoring for site_id: 7, meter: 3\n"
          ],
          "name": "stdout"
        },
        {
          "output_type": "execute_result",
          "data": {
            "text/plain": [
              "7"
            ]
          },
          "metadata": {
            "tags": []
          },
          "execution_count": 160
        },
        {
          "output_type": "execute_result",
          "data": {
            "text/plain": [
              "7"
            ]
          },
          "metadata": {
            "tags": []
          },
          "execution_count": 160
        },
        {
          "output_type": "execute_result",
          "data": {
            "text/plain": [
              "7"
            ]
          },
          "metadata": {
            "tags": []
          },
          "execution_count": 160
        },
        {
          "output_type": "stream",
          "text": [
            "Scoring for site_id 7, meter 3 completed \n",
            "\n"
          ],
          "name": "stdout"
        },
        {
          "output_type": "execute_result",
          "data": {
            "text/plain": [
              "0"
            ]
          },
          "metadata": {
            "tags": []
          },
          "execution_count": 160
        },
        {
          "output_type": "stream",
          "text": [
            "\n",
            "\n",
            "\n",
            "\n",
            "\n",
            "\n",
            "\n",
            "\n",
            "\n",
            "\n",
            "meter_id: 100%|██████████| 4/4 [00:16<00:00,  4.24s/it]\u001b[A\u001b[A\u001b[A\u001b[A\u001b[A\u001b[A\u001b[A\u001b[A\u001b[A\u001b[A\n",
            "\n",
            "\n",
            "\n",
            "\n",
            "\n",
            "\n",
            "\n",
            "\n",
            "\n",
            "\u001b[A\u001b[A\u001b[A\u001b[A\u001b[A\u001b[A\u001b[A\u001b[A\u001b[A\u001b[A\n",
            "\n",
            "\n",
            "\n",
            "\n",
            "\n",
            "\n",
            "\n",
            "\n",
            "site_id:  50%|█████     | 8/16 [05:02<03:40, 27.51s/it]\u001b[A\u001b[A\u001b[A\u001b[A\u001b[A\u001b[A\u001b[A\u001b[A\u001b[A\n",
            "\n",
            "\n",
            "\n",
            "\n",
            "\n",
            "\n",
            "\n",
            "\n",
            "\n",
            "meter_id:   0%|          | 0/4 [00:00<?, ?it/s]\u001b[A\u001b[A\u001b[A\u001b[A\u001b[A\u001b[A\u001b[A\u001b[A\u001b[A\u001b[A"
          ],
          "name": "stderr"
        },
        {
          "output_type": "stream",
          "text": [
            "Preparing test data for site_id 9\n",
            "Scoring for site_id: 8, meter: 0\n"
          ],
          "name": "stdout"
        },
        {
          "output_type": "execute_result",
          "data": {
            "text/plain": [
              "13"
            ]
          },
          "metadata": {
            "tags": []
          },
          "execution_count": 160
        },
        {
          "output_type": "execute_result",
          "data": {
            "text/plain": [
              "7"
            ]
          },
          "metadata": {
            "tags": []
          },
          "execution_count": 160
        },
        {
          "output_type": "execute_result",
          "data": {
            "text/plain": [
              "7"
            ]
          },
          "metadata": {
            "tags": []
          },
          "execution_count": 160
        },
        {
          "output_type": "stream",
          "text": [
            "Scoring for site_id 8, meter 0 completed \n",
            "\n"
          ],
          "name": "stdout"
        },
        {
          "output_type": "execute_result",
          "data": {
            "text/plain": [
              "0"
            ]
          },
          "metadata": {
            "tags": []
          },
          "execution_count": 160
        },
        {
          "output_type": "stream",
          "text": [
            "\n",
            "\n",
            "\n",
            "\n",
            "\n",
            "\n",
            "\n",
            "\n",
            "\n",
            "\n",
            "meter_id:  25%|██▌       | 1/4 [00:09<00:28,  9.42s/it]\u001b[A\u001b[A\u001b[A\u001b[A\u001b[A\u001b[A\u001b[A\u001b[A\u001b[A\u001b[A\n",
            "\n",
            "\n",
            "\n",
            "\n",
            "\n",
            "\n",
            "\n",
            "\n",
            "\n",
            "meter_id: 100%|██████████| 4/4 [00:09<00:00,  2.36s/it]\u001b[A\u001b[A\u001b[A\u001b[A\u001b[A\u001b[A\u001b[A\u001b[A\u001b[A\u001b[A\n",
            "\n",
            "\n",
            "\n",
            "\n",
            "\n",
            "\n",
            "\n",
            "\n",
            "site_id:  56%|█████▋    | 9/16 [05:12<02:34, 22.09s/it]\u001b[A\u001b[A\u001b[A\u001b[A\u001b[A\u001b[A\u001b[A\u001b[A\u001b[A\n",
            "\n",
            "\n",
            "\n",
            "\n",
            "\n",
            "\n",
            "\n",
            "\n",
            "\n",
            "meter_id:   0%|          | 0/4 [00:00<?, ?it/s]\u001b[A\u001b[A\u001b[A\u001b[A\u001b[A\u001b[A\u001b[A\u001b[A\u001b[A\u001b[A"
          ],
          "name": "stderr"
        },
        {
          "output_type": "stream",
          "text": [
            "Preparing test data for site_id 9\n",
            "Preparing test data for site_id 9\n",
            "Preparing test data for site_id 9\n",
            "Preparing test data for site_id 9\n",
            "Scoring for site_id: 9, meter: 0\n"
          ],
          "name": "stdout"
        },
        {
          "output_type": "execute_result",
          "data": {
            "text/plain": [
              "19"
            ]
          },
          "metadata": {
            "tags": []
          },
          "execution_count": 160
        },
        {
          "output_type": "execute_result",
          "data": {
            "text/plain": [
              "7"
            ]
          },
          "metadata": {
            "tags": []
          },
          "execution_count": 160
        },
        {
          "output_type": "execute_result",
          "data": {
            "text/plain": [
              "7"
            ]
          },
          "metadata": {
            "tags": []
          },
          "execution_count": 160
        },
        {
          "output_type": "stream",
          "text": [
            "Scoring for site_id 9, meter 0 completed \n",
            "\n"
          ],
          "name": "stdout"
        },
        {
          "output_type": "execute_result",
          "data": {
            "text/plain": [
              "0"
            ]
          },
          "metadata": {
            "tags": []
          },
          "execution_count": 160
        },
        {
          "output_type": "stream",
          "text": [
            "\n",
            "\n",
            "\n",
            "\n",
            "\n",
            "\n",
            "\n",
            "\n",
            "\n",
            "\n",
            "meter_id:  25%|██▌       | 1/4 [00:06<00:18,  6.12s/it]\u001b[A\u001b[A\u001b[A\u001b[A\u001b[A\u001b[A\u001b[A\u001b[A\u001b[A\u001b[A"
          ],
          "name": "stderr"
        },
        {
          "output_type": "stream",
          "text": [
            "Preparing test data for site_id 9\n",
            "Scoring for site_id: 9, meter: 1\n"
          ],
          "name": "stdout"
        },
        {
          "output_type": "execute_result",
          "data": {
            "text/plain": [
              "10"
            ]
          },
          "metadata": {
            "tags": []
          },
          "execution_count": 160
        },
        {
          "output_type": "execute_result",
          "data": {
            "text/plain": [
              "7"
            ]
          },
          "metadata": {
            "tags": []
          },
          "execution_count": 160
        },
        {
          "output_type": "execute_result",
          "data": {
            "text/plain": [
              "7"
            ]
          },
          "metadata": {
            "tags": []
          },
          "execution_count": 160
        },
        {
          "output_type": "stream",
          "text": [
            "Scoring for site_id 9, meter 1 completed \n",
            "\n"
          ],
          "name": "stdout"
        },
        {
          "output_type": "execute_result",
          "data": {
            "text/plain": [
              "0"
            ]
          },
          "metadata": {
            "tags": []
          },
          "execution_count": 160
        },
        {
          "output_type": "stream",
          "text": [
            "\n",
            "\n",
            "\n",
            "\n",
            "\n",
            "\n",
            "\n",
            "\n",
            "\n",
            "\n",
            "meter_id:  50%|█████     | 2/4 [00:11<00:11,  5.80s/it]\u001b[A\u001b[A\u001b[A\u001b[A\u001b[A\u001b[A\u001b[A\u001b[A\u001b[A\u001b[A"
          ],
          "name": "stderr"
        },
        {
          "output_type": "stream",
          "text": [
            "Preparing test data for site_id 9\n",
            "Scoring for site_id: 9, meter: 2\n"
          ],
          "name": "stdout"
        },
        {
          "output_type": "execute_result",
          "data": {
            "text/plain": [
              "7"
            ]
          },
          "metadata": {
            "tags": []
          },
          "execution_count": 160
        },
        {
          "output_type": "execute_result",
          "data": {
            "text/plain": [
              "7"
            ]
          },
          "metadata": {
            "tags": []
          },
          "execution_count": 160
        },
        {
          "output_type": "execute_result",
          "data": {
            "text/plain": [
              "7"
            ]
          },
          "metadata": {
            "tags": []
          },
          "execution_count": 160
        },
        {
          "output_type": "stream",
          "text": [
            "Scoring for site_id 9, meter 2 completed \n",
            "\n"
          ],
          "name": "stdout"
        },
        {
          "output_type": "execute_result",
          "data": {
            "text/plain": [
              "0"
            ]
          },
          "metadata": {
            "tags": []
          },
          "execution_count": 160
        },
        {
          "output_type": "stream",
          "text": [
            "\n",
            "\n",
            "\n",
            "\n",
            "\n",
            "\n",
            "\n",
            "\n",
            "\n",
            "\n",
            "meter_id:  75%|███████▌  | 3/4 [00:16<00:05,  5.65s/it]\u001b[A\u001b[A\u001b[A\u001b[A\u001b[A\u001b[A\u001b[A\u001b[A\u001b[A\u001b[A\n",
            "\n",
            "\n",
            "\n",
            "\n",
            "\n",
            "\n",
            "\n",
            "\n",
            "\n",
            "meter_id: 100%|██████████| 4/4 [00:16<00:00,  4.12s/it]\u001b[A\u001b[A\u001b[A\u001b[A\u001b[A\u001b[A\u001b[A\u001b[A\u001b[A\u001b[A\n",
            "\n",
            "\n",
            "\n",
            "\n",
            "\n",
            "\n",
            "\n",
            "\n",
            "site_id:  62%|██████▎   | 10/16 [05:28<02:02, 20.41s/it]\u001b[A\u001b[A\u001b[A\u001b[A\u001b[A\u001b[A\u001b[A\u001b[A\u001b[A\n",
            "\n",
            "\n",
            "\n",
            "\n",
            "\n",
            "\n",
            "\n",
            "\n",
            "\n",
            "meter_id:   0%|          | 0/4 [00:00<?, ?it/s]\u001b[A\u001b[A\u001b[A\u001b[A\u001b[A\u001b[A\u001b[A\u001b[A\u001b[A\u001b[A"
          ],
          "name": "stderr"
        },
        {
          "output_type": "stream",
          "text": [
            "Preparing test data for site_id 9\n",
            "Preparing test data for site_id 9\n",
            "Scoring for site_id: 10, meter: 0\n"
          ],
          "name": "stdout"
        },
        {
          "output_type": "execute_result",
          "data": {
            "text/plain": [
              "13"
            ]
          },
          "metadata": {
            "tags": []
          },
          "execution_count": 160
        },
        {
          "output_type": "execute_result",
          "data": {
            "text/plain": [
              "7"
            ]
          },
          "metadata": {
            "tags": []
          },
          "execution_count": 160
        },
        {
          "output_type": "execute_result",
          "data": {
            "text/plain": [
              "7"
            ]
          },
          "metadata": {
            "tags": []
          },
          "execution_count": 160
        },
        {
          "output_type": "stream",
          "text": [
            "Scoring for site_id 10, meter 0 completed \n",
            "\n"
          ],
          "name": "stdout"
        },
        {
          "output_type": "execute_result",
          "data": {
            "text/plain": [
              "0"
            ]
          },
          "metadata": {
            "tags": []
          },
          "execution_count": 160
        },
        {
          "output_type": "stream",
          "text": [
            "\n",
            "\n",
            "\n",
            "\n",
            "\n",
            "\n",
            "\n",
            "\n",
            "\n",
            "\n",
            "meter_id:  25%|██▌       | 1/4 [00:17<00:53, 17.96s/it]\u001b[A\u001b[A\u001b[A\u001b[A\u001b[A\u001b[A\u001b[A\u001b[A\u001b[A\u001b[A"
          ],
          "name": "stderr"
        },
        {
          "output_type": "stream",
          "text": [
            "Preparing test data for site_id 9\n",
            "Scoring for site_id: 10, meter: 1\n"
          ],
          "name": "stdout"
        },
        {
          "output_type": "execute_result",
          "data": {
            "text/plain": [
              "7"
            ]
          },
          "metadata": {
            "tags": []
          },
          "execution_count": 160
        },
        {
          "output_type": "execute_result",
          "data": {
            "text/plain": [
              "7"
            ]
          },
          "metadata": {
            "tags": []
          },
          "execution_count": 160
        },
        {
          "output_type": "execute_result",
          "data": {
            "text/plain": [
              "7"
            ]
          },
          "metadata": {
            "tags": []
          },
          "execution_count": 160
        },
        {
          "output_type": "stream",
          "text": [
            "Scoring for site_id 10, meter 1 completed \n",
            "\n"
          ],
          "name": "stdout"
        },
        {
          "output_type": "execute_result",
          "data": {
            "text/plain": [
              "0"
            ]
          },
          "metadata": {
            "tags": []
          },
          "execution_count": 160
        },
        {
          "output_type": "stream",
          "text": [
            "\n",
            "\n",
            "\n",
            "\n",
            "\n",
            "\n",
            "\n",
            "\n",
            "\n",
            "\n",
            "meter_id:  50%|█████     | 2/4 [00:24<00:29, 14.58s/it]\u001b[A\u001b[A\u001b[A\u001b[A\u001b[A\u001b[A\u001b[A\u001b[A\u001b[A\u001b[A"
          ],
          "name": "stderr"
        },
        {
          "output_type": "stream",
          "text": [
            "Preparing test data for site_id 9\n",
            "Preparing test data for site_id 9\n",
            "Scoring for site_id: 10, meter: 3\n"
          ],
          "name": "stdout"
        },
        {
          "output_type": "execute_result",
          "data": {
            "text/plain": [
              "13"
            ]
          },
          "metadata": {
            "tags": []
          },
          "execution_count": 160
        },
        {
          "output_type": "execute_result",
          "data": {
            "text/plain": [
              "7"
            ]
          },
          "metadata": {
            "tags": []
          },
          "execution_count": 160
        },
        {
          "output_type": "execute_result",
          "data": {
            "text/plain": [
              "7"
            ]
          },
          "metadata": {
            "tags": []
          },
          "execution_count": 160
        },
        {
          "output_type": "stream",
          "text": [
            "Scoring for site_id 10, meter 3 completed \n",
            "\n"
          ],
          "name": "stdout"
        },
        {
          "output_type": "execute_result",
          "data": {
            "text/plain": [
              "0"
            ]
          },
          "metadata": {
            "tags": []
          },
          "execution_count": 160
        },
        {
          "output_type": "stream",
          "text": [
            "\n",
            "\n",
            "\n",
            "\n",
            "\n",
            "\n",
            "\n",
            "\n",
            "\n",
            "\n",
            "meter_id: 100%|██████████| 4/4 [00:26<00:00, 10.43s/it]\u001b[A\u001b[A\u001b[A\u001b[A\u001b[A\u001b[A\u001b[A\u001b[A\u001b[A\u001b[A\n",
            "\n",
            "\n",
            "\n",
            "\n",
            "\n",
            "\n",
            "\n",
            "\n",
            "\n",
            "\u001b[A\u001b[A\u001b[A\u001b[A\u001b[A\u001b[A\u001b[A\u001b[A\u001b[A\u001b[A\n",
            "\n",
            "\n",
            "\n",
            "\n",
            "\n",
            "\n",
            "\n",
            "\n",
            "site_id:  69%|██████▉   | 11/16 [05:55<01:50, 22.13s/it]\u001b[A\u001b[A\u001b[A\u001b[A\u001b[A\u001b[A\u001b[A\u001b[A\u001b[A\n",
            "\n",
            "\n",
            "\n",
            "\n",
            "\n",
            "\n",
            "\n",
            "\n",
            "\n",
            "meter_id:   0%|          | 0/4 [00:00<?, ?it/s]\u001b[A\u001b[A\u001b[A\u001b[A\u001b[A\u001b[A\u001b[A\u001b[A\u001b[A\u001b[A"
          ],
          "name": "stderr"
        },
        {
          "output_type": "stream",
          "text": [
            "Preparing test data for site_id 9\n",
            "Scoring for site_id: 11, meter: 0\n"
          ],
          "name": "stdout"
        },
        {
          "output_type": "execute_result",
          "data": {
            "text/plain": [
              "13"
            ]
          },
          "metadata": {
            "tags": []
          },
          "execution_count": 160
        },
        {
          "output_type": "execute_result",
          "data": {
            "text/plain": [
              "7"
            ]
          },
          "metadata": {
            "tags": []
          },
          "execution_count": 160
        },
        {
          "output_type": "execute_result",
          "data": {
            "text/plain": [
              "7"
            ]
          },
          "metadata": {
            "tags": []
          },
          "execution_count": 160
        },
        {
          "output_type": "stream",
          "text": [
            "Scoring for site_id 11, meter 0 completed \n",
            "\n"
          ],
          "name": "stdout"
        },
        {
          "output_type": "execute_result",
          "data": {
            "text/plain": [
              "0"
            ]
          },
          "metadata": {
            "tags": []
          },
          "execution_count": 160
        },
        {
          "output_type": "stream",
          "text": [
            "\n",
            "\n",
            "\n",
            "\n",
            "\n",
            "\n",
            "\n",
            "\n",
            "\n",
            "\n",
            "meter_id:  25%|██▌       | 1/4 [00:03<00:09,  3.26s/it]\u001b[A\u001b[A\u001b[A\u001b[A\u001b[A\u001b[A\u001b[A\u001b[A\u001b[A\u001b[A"
          ],
          "name": "stderr"
        },
        {
          "output_type": "stream",
          "text": [
            "Preparing test data for site_id 9\n",
            "Scoring for site_id: 11, meter: 1\n"
          ],
          "name": "stdout"
        },
        {
          "output_type": "execute_result",
          "data": {
            "text/plain": [
              "10"
            ]
          },
          "metadata": {
            "tags": []
          },
          "execution_count": 160
        },
        {
          "output_type": "execute_result",
          "data": {
            "text/plain": [
              "7"
            ]
          },
          "metadata": {
            "tags": []
          },
          "execution_count": 160
        },
        {
          "output_type": "execute_result",
          "data": {
            "text/plain": [
              "7"
            ]
          },
          "metadata": {
            "tags": []
          },
          "execution_count": 160
        },
        {
          "output_type": "stream",
          "text": [
            "Scoring for site_id 11, meter 1 completed \n",
            "\n"
          ],
          "name": "stdout"
        },
        {
          "output_type": "execute_result",
          "data": {
            "text/plain": [
              "0"
            ]
          },
          "metadata": {
            "tags": []
          },
          "execution_count": 160
        },
        {
          "output_type": "stream",
          "text": [
            "\n",
            "\n",
            "\n",
            "\n",
            "\n",
            "\n",
            "\n",
            "\n",
            "\n",
            "\n",
            "meter_id:  50%|█████     | 2/4 [00:03<00:05,  2.50s/it]\u001b[A\u001b[A\u001b[A\u001b[A\u001b[A\u001b[A\u001b[A\u001b[A\u001b[A\u001b[A"
          ],
          "name": "stderr"
        },
        {
          "output_type": "stream",
          "text": [
            "Preparing test data for site_id 9\n",
            "Preparing test data for site_id 9\n",
            "Scoring for site_id: 11, meter: 3\n"
          ],
          "name": "stdout"
        },
        {
          "output_type": "execute_result",
          "data": {
            "text/plain": [
              "10"
            ]
          },
          "metadata": {
            "tags": []
          },
          "execution_count": 160
        },
        {
          "output_type": "execute_result",
          "data": {
            "text/plain": [
              "7"
            ]
          },
          "metadata": {
            "tags": []
          },
          "execution_count": 160
        },
        {
          "output_type": "execute_result",
          "data": {
            "text/plain": [
              "7"
            ]
          },
          "metadata": {
            "tags": []
          },
          "execution_count": 160
        },
        {
          "output_type": "stream",
          "text": [
            "Scoring for site_id 11, meter 3 completed \n",
            "\n"
          ],
          "name": "stdout"
        },
        {
          "output_type": "execute_result",
          "data": {
            "text/plain": [
              "0"
            ]
          },
          "metadata": {
            "tags": []
          },
          "execution_count": 160
        },
        {
          "output_type": "stream",
          "text": [
            "\n",
            "\n",
            "\n",
            "\n",
            "\n",
            "\n",
            "\n",
            "\n",
            "\n",
            "\n",
            "meter_id: 100%|██████████| 4/4 [00:05<00:00,  1.99s/it]\u001b[A\u001b[A\u001b[A\u001b[A\u001b[A\u001b[A\u001b[A\u001b[A\u001b[A\u001b[A\n",
            "\n",
            "\n",
            "\n",
            "\n",
            "\n",
            "\n",
            "\n",
            "\n",
            "\n",
            "\u001b[A\u001b[A\u001b[A\u001b[A\u001b[A\u001b[A\u001b[A\u001b[A\u001b[A\u001b[A\n",
            "\n",
            "\n",
            "\n",
            "\n",
            "\n",
            "\n",
            "\n",
            "\n",
            "site_id:  75%|███████▌  | 12/16 [06:00<01:08, 17.18s/it]\u001b[A\u001b[A\u001b[A\u001b[A\u001b[A\u001b[A\u001b[A\u001b[A\u001b[A\n",
            "\n",
            "\n",
            "\n",
            "\n",
            "\n",
            "\n",
            "\n",
            "\n",
            "\n",
            "meter_id:   0%|          | 0/4 [00:00<?, ?it/s]\u001b[A\u001b[A\u001b[A\u001b[A\u001b[A\u001b[A\u001b[A\u001b[A\u001b[A\u001b[A"
          ],
          "name": "stderr"
        },
        {
          "output_type": "stream",
          "text": [
            "Preparing test data for site_id 9\n",
            "Scoring for site_id: 12, meter: 0\n"
          ],
          "name": "stdout"
        },
        {
          "output_type": "execute_result",
          "data": {
            "text/plain": [
              "13"
            ]
          },
          "metadata": {
            "tags": []
          },
          "execution_count": 160
        },
        {
          "output_type": "execute_result",
          "data": {
            "text/plain": [
              "7"
            ]
          },
          "metadata": {
            "tags": []
          },
          "execution_count": 160
        },
        {
          "output_type": "execute_result",
          "data": {
            "text/plain": [
              "7"
            ]
          },
          "metadata": {
            "tags": []
          },
          "execution_count": 160
        },
        {
          "output_type": "stream",
          "text": [
            "Scoring for site_id 12, meter 0 completed \n",
            "\n"
          ],
          "name": "stdout"
        },
        {
          "output_type": "execute_result",
          "data": {
            "text/plain": [
              "0"
            ]
          },
          "metadata": {
            "tags": []
          },
          "execution_count": 160
        },
        {
          "output_type": "stream",
          "text": [
            "\n",
            "\n",
            "\n",
            "\n",
            "\n",
            "\n",
            "\n",
            "\n",
            "\n",
            "\n",
            "meter_id:  25%|██▌       | 1/4 [00:04<00:12,  4.04s/it]\u001b[A\u001b[A\u001b[A\u001b[A\u001b[A\u001b[A\u001b[A\u001b[A\u001b[A\u001b[A\n",
            "\n",
            "\n",
            "\n",
            "\n",
            "\n",
            "\n",
            "\n",
            "\n",
            "\n",
            "meter_id: 100%|██████████| 4/4 [00:04<00:00,  1.01s/it]\u001b[A\u001b[A\u001b[A\u001b[A\u001b[A\u001b[A\u001b[A\u001b[A\u001b[A\u001b[A\n",
            "\n",
            "\n",
            "\n",
            "\n",
            "\n",
            "\n",
            "\n",
            "\n",
            "site_id:  81%|████████▏ | 13/16 [06:04<00:39, 13.24s/it]\u001b[A\u001b[A\u001b[A\u001b[A\u001b[A\u001b[A\u001b[A\u001b[A\u001b[A\n",
            "\n",
            "\n",
            "\n",
            "\n",
            "\n",
            "\n",
            "\n",
            "\n",
            "\n",
            "meter_id:   0%|          | 0/4 [00:00<?, ?it/s]\u001b[A\u001b[A\u001b[A\u001b[A\u001b[A\u001b[A\u001b[A\u001b[A\u001b[A\u001b[A"
          ],
          "name": "stderr"
        },
        {
          "output_type": "stream",
          "text": [
            "Preparing test data for site_id 9\n",
            "Preparing test data for site_id 9\n",
            "Preparing test data for site_id 9\n",
            "Preparing test data for site_id 9\n",
            "Scoring for site_id: 13, meter: 0\n"
          ],
          "name": "stdout"
        },
        {
          "output_type": "execute_result",
          "data": {
            "text/plain": [
              "16"
            ]
          },
          "metadata": {
            "tags": []
          },
          "execution_count": 160
        },
        {
          "output_type": "execute_result",
          "data": {
            "text/plain": [
              "7"
            ]
          },
          "metadata": {
            "tags": []
          },
          "execution_count": 160
        },
        {
          "output_type": "execute_result",
          "data": {
            "text/plain": [
              "7"
            ]
          },
          "metadata": {
            "tags": []
          },
          "execution_count": 160
        },
        {
          "output_type": "stream",
          "text": [
            "Scoring for site_id 13, meter 0 completed \n",
            "\n"
          ],
          "name": "stdout"
        },
        {
          "output_type": "execute_result",
          "data": {
            "text/plain": [
              "0"
            ]
          },
          "metadata": {
            "tags": []
          },
          "execution_count": 160
        },
        {
          "output_type": "stream",
          "text": [
            "\n",
            "\n",
            "\n",
            "\n",
            "\n",
            "\n",
            "\n",
            "\n",
            "\n",
            "\n",
            "meter_id:  25%|██▌       | 1/4 [00:19<00:58, 19.38s/it]\u001b[A\u001b[A\u001b[A\u001b[A\u001b[A\u001b[A\u001b[A\u001b[A\u001b[A\u001b[A"
          ],
          "name": "stderr"
        },
        {
          "output_type": "stream",
          "text": [
            "Preparing test data for site_id 9\n",
            "Scoring for site_id: 13, meter: 1\n"
          ],
          "name": "stdout"
        },
        {
          "output_type": "execute_result",
          "data": {
            "text/plain": [
              "7"
            ]
          },
          "metadata": {
            "tags": []
          },
          "execution_count": 160
        },
        {
          "output_type": "execute_result",
          "data": {
            "text/plain": [
              "7"
            ]
          },
          "metadata": {
            "tags": []
          },
          "execution_count": 160
        },
        {
          "output_type": "execute_result",
          "data": {
            "text/plain": [
              "7"
            ]
          },
          "metadata": {
            "tags": []
          },
          "execution_count": 160
        },
        {
          "output_type": "stream",
          "text": [
            "Scoring for site_id 13, meter 1 completed \n",
            "\n"
          ],
          "name": "stdout"
        },
        {
          "output_type": "execute_result",
          "data": {
            "text/plain": [
              "0"
            ]
          },
          "metadata": {
            "tags": []
          },
          "execution_count": 160
        },
        {
          "output_type": "stream",
          "text": [
            "\n",
            "\n",
            "\n",
            "\n",
            "\n",
            "\n",
            "\n",
            "\n",
            "\n",
            "\n",
            "meter_id:  50%|█████     | 2/4 [00:34<00:36, 18.06s/it]\u001b[A\u001b[A\u001b[A\u001b[A\u001b[A\u001b[A\u001b[A\u001b[A\u001b[A\u001b[A"
          ],
          "name": "stderr"
        },
        {
          "output_type": "stream",
          "text": [
            "Preparing test data for site_id 9\n",
            "Scoring for site_id: 13, meter: 2\n"
          ],
          "name": "stdout"
        },
        {
          "output_type": "execute_result",
          "data": {
            "text/plain": [
              "7"
            ]
          },
          "metadata": {
            "tags": []
          },
          "execution_count": 160
        },
        {
          "output_type": "execute_result",
          "data": {
            "text/plain": [
              "7"
            ]
          },
          "metadata": {
            "tags": []
          },
          "execution_count": 160
        },
        {
          "output_type": "execute_result",
          "data": {
            "text/plain": [
              "7"
            ]
          },
          "metadata": {
            "tags": []
          },
          "execution_count": 160
        },
        {
          "output_type": "stream",
          "text": [
            "Scoring for site_id 13, meter 2 completed \n",
            "\n"
          ],
          "name": "stdout"
        },
        {
          "output_type": "execute_result",
          "data": {
            "text/plain": [
              "0"
            ]
          },
          "metadata": {
            "tags": []
          },
          "execution_count": 160
        },
        {
          "output_type": "stream",
          "text": [
            "\n",
            "\n",
            "\n",
            "\n",
            "\n",
            "\n",
            "\n",
            "\n",
            "\n",
            "\n",
            "meter_id:  75%|███████▌  | 3/4 [00:48<00:16, 16.74s/it]\u001b[A\u001b[A\u001b[A\u001b[A\u001b[A\u001b[A\u001b[A\u001b[A\u001b[A\u001b[A\n",
            "\n",
            "\n",
            "\n",
            "\n",
            "\n",
            "\n",
            "\n",
            "\n",
            "\n",
            "meter_id: 100%|██████████| 4/4 [00:48<00:00, 12.01s/it]\u001b[A\u001b[A\u001b[A\u001b[A\u001b[A\u001b[A\u001b[A\u001b[A\u001b[A\u001b[A\n",
            "\n",
            "\n",
            "\n",
            "\n",
            "\n",
            "\n",
            "\n",
            "\n",
            "site_id:  88%|████████▊ | 14/16 [06:52<00:47, 23.68s/it]\u001b[A\u001b[A\u001b[A\u001b[A\u001b[A\u001b[A\u001b[A\u001b[A\u001b[A\n",
            "\n",
            "\n",
            "\n",
            "\n",
            "\n",
            "\n",
            "\n",
            "\n",
            "\n",
            "meter_id:   0%|          | 0/4 [00:00<?, ?it/s]\u001b[A\u001b[A\u001b[A\u001b[A\u001b[A\u001b[A\u001b[A\u001b[A\u001b[A\u001b[A"
          ],
          "name": "stderr"
        },
        {
          "output_type": "stream",
          "text": [
            "Preparing test data for site_id 9\n",
            "Preparing test data for site_id 9\n",
            "Scoring for site_id: 14, meter: 0\n"
          ],
          "name": "stdout"
        },
        {
          "output_type": "execute_result",
          "data": {
            "text/plain": [
              "13"
            ]
          },
          "metadata": {
            "tags": []
          },
          "execution_count": 160
        },
        {
          "output_type": "execute_result",
          "data": {
            "text/plain": [
              "7"
            ]
          },
          "metadata": {
            "tags": []
          },
          "execution_count": 160
        },
        {
          "output_type": "execute_result",
          "data": {
            "text/plain": [
              "7"
            ]
          },
          "metadata": {
            "tags": []
          },
          "execution_count": 160
        },
        {
          "output_type": "stream",
          "text": [
            "Scoring for site_id 14, meter 0 completed \n",
            "\n"
          ],
          "name": "stdout"
        },
        {
          "output_type": "execute_result",
          "data": {
            "text/plain": [
              "0"
            ]
          },
          "metadata": {
            "tags": []
          },
          "execution_count": 160
        },
        {
          "output_type": "stream",
          "text": [
            "\n",
            "\n",
            "\n",
            "\n",
            "\n",
            "\n",
            "\n",
            "\n",
            "\n",
            "\n",
            "meter_id:  25%|██▌       | 1/4 [00:08<00:25,  8.44s/it]\u001b[A\u001b[A\u001b[A\u001b[A\u001b[A\u001b[A\u001b[A\u001b[A\u001b[A\u001b[A"
          ],
          "name": "stderr"
        },
        {
          "output_type": "stream",
          "text": [
            "Preparing test data for site_id 9\n",
            "Scoring for site_id: 14, meter: 1\n"
          ],
          "name": "stdout"
        },
        {
          "output_type": "execute_result",
          "data": {
            "text/plain": [
              "7"
            ]
          },
          "metadata": {
            "tags": []
          },
          "execution_count": 160
        },
        {
          "output_type": "execute_result",
          "data": {
            "text/plain": [
              "7"
            ]
          },
          "metadata": {
            "tags": []
          },
          "execution_count": 160
        },
        {
          "output_type": "execute_result",
          "data": {
            "text/plain": [
              "7"
            ]
          },
          "metadata": {
            "tags": []
          },
          "execution_count": 160
        },
        {
          "output_type": "stream",
          "text": [
            "Scoring for site_id 14, meter 1 completed \n",
            "\n"
          ],
          "name": "stdout"
        },
        {
          "output_type": "execute_result",
          "data": {
            "text/plain": [
              "0"
            ]
          },
          "metadata": {
            "tags": []
          },
          "execution_count": 160
        },
        {
          "output_type": "stream",
          "text": [
            "\n",
            "\n",
            "\n",
            "\n",
            "\n",
            "\n",
            "\n",
            "\n",
            "\n",
            "\n",
            "meter_id:  50%|█████     | 2/4 [00:17<00:17,  8.51s/it]\u001b[A\u001b[A\u001b[A\u001b[A\u001b[A\u001b[A\u001b[A\u001b[A\u001b[A\u001b[A"
          ],
          "name": "stderr"
        },
        {
          "output_type": "stream",
          "text": [
            "Preparing test data for site_id 9\n",
            "Scoring for site_id: 14, meter: 2\n"
          ],
          "name": "stdout"
        },
        {
          "output_type": "execute_result",
          "data": {
            "text/plain": [
              "10"
            ]
          },
          "metadata": {
            "tags": []
          },
          "execution_count": 160
        },
        {
          "output_type": "execute_result",
          "data": {
            "text/plain": [
              "7"
            ]
          },
          "metadata": {
            "tags": []
          },
          "execution_count": 160
        },
        {
          "output_type": "execute_result",
          "data": {
            "text/plain": [
              "7"
            ]
          },
          "metadata": {
            "tags": []
          },
          "execution_count": 160
        },
        {
          "output_type": "stream",
          "text": [
            "Scoring for site_id 14, meter 2 completed \n",
            "\n"
          ],
          "name": "stdout"
        },
        {
          "output_type": "execute_result",
          "data": {
            "text/plain": [
              "0"
            ]
          },
          "metadata": {
            "tags": []
          },
          "execution_count": 160
        },
        {
          "output_type": "stream",
          "text": [
            "\n",
            "\n",
            "\n",
            "\n",
            "\n",
            "\n",
            "\n",
            "\n",
            "\n",
            "\n",
            "meter_id:  75%|███████▌  | 3/4 [00:32<00:10, 10.70s/it]\u001b[A\u001b[A\u001b[A\u001b[A\u001b[A\u001b[A\u001b[A\u001b[A\u001b[A\u001b[A"
          ],
          "name": "stderr"
        },
        {
          "output_type": "stream",
          "text": [
            "Preparing test data for site_id 9\n",
            "Scoring for site_id: 14, meter: 3\n"
          ],
          "name": "stdout"
        },
        {
          "output_type": "execute_result",
          "data": {
            "text/plain": [
              "10"
            ]
          },
          "metadata": {
            "tags": []
          },
          "execution_count": 160
        },
        {
          "output_type": "execute_result",
          "data": {
            "text/plain": [
              "7"
            ]
          },
          "metadata": {
            "tags": []
          },
          "execution_count": 160
        },
        {
          "output_type": "execute_result",
          "data": {
            "text/plain": [
              "7"
            ]
          },
          "metadata": {
            "tags": []
          },
          "execution_count": 160
        },
        {
          "output_type": "stream",
          "text": [
            "Scoring for site_id 14, meter 3 completed \n",
            "\n"
          ],
          "name": "stdout"
        },
        {
          "output_type": "execute_result",
          "data": {
            "text/plain": [
              "0"
            ]
          },
          "metadata": {
            "tags": []
          },
          "execution_count": 160
        },
        {
          "output_type": "stream",
          "text": [
            "\n",
            "\n",
            "\n",
            "\n",
            "\n",
            "\n",
            "\n",
            "\n",
            "\n",
            "\n",
            "meter_id: 100%|██████████| 4/4 [00:37<00:00,  8.72s/it]\u001b[A\u001b[A\u001b[A\u001b[A\u001b[A\u001b[A\u001b[A\u001b[A\u001b[A\u001b[A\n",
            "\n",
            "\n",
            "\n",
            "\n",
            "\n",
            "\n",
            "\n",
            "\n",
            "\n",
            "\u001b[A\u001b[A\u001b[A\u001b[A\u001b[A\u001b[A\u001b[A\u001b[A\u001b[A\u001b[A\n",
            "\n",
            "\n",
            "\n",
            "\n",
            "\n",
            "\n",
            "\n",
            "\n",
            "site_id:  94%|█████████▍| 15/16 [07:29<00:27, 27.69s/it]\u001b[A\u001b[A\u001b[A\u001b[A\u001b[A\u001b[A\u001b[A\u001b[A\u001b[A\n",
            "\n",
            "\n",
            "\n",
            "\n",
            "\n",
            "\n",
            "\n",
            "\n",
            "\n",
            "meter_id:   0%|          | 0/4 [00:00<?, ?it/s]\u001b[A\u001b[A\u001b[A\u001b[A\u001b[A\u001b[A\u001b[A\u001b[A\u001b[A\u001b[A"
          ],
          "name": "stderr"
        },
        {
          "output_type": "stream",
          "text": [
            "Preparing test data for site_id 9\n",
            "Scoring for site_id: 15, meter: 0\n"
          ],
          "name": "stdout"
        },
        {
          "output_type": "execute_result",
          "data": {
            "text/plain": [
              "13"
            ]
          },
          "metadata": {
            "tags": []
          },
          "execution_count": 160
        },
        {
          "output_type": "execute_result",
          "data": {
            "text/plain": [
              "7"
            ]
          },
          "metadata": {
            "tags": []
          },
          "execution_count": 160
        },
        {
          "output_type": "execute_result",
          "data": {
            "text/plain": [
              "7"
            ]
          },
          "metadata": {
            "tags": []
          },
          "execution_count": 160
        },
        {
          "output_type": "stream",
          "text": [
            "Scoring for site_id 15, meter 0 completed \n",
            "\n"
          ],
          "name": "stdout"
        },
        {
          "output_type": "execute_result",
          "data": {
            "text/plain": [
              "0"
            ]
          },
          "metadata": {
            "tags": []
          },
          "execution_count": 160
        },
        {
          "output_type": "stream",
          "text": [
            "\n",
            "\n",
            "\n",
            "\n",
            "\n",
            "\n",
            "\n",
            "\n",
            "\n",
            "\n",
            "meter_id:  25%|██▌       | 1/4 [01:09<03:29, 69.99s/it]\u001b[A\u001b[A\u001b[A\u001b[A\u001b[A\u001b[A\u001b[A\u001b[A\u001b[A\u001b[A"
          ],
          "name": "stderr"
        },
        {
          "output_type": "stream",
          "text": [
            "Preparing test data for site_id 9\n",
            "Scoring for site_id: 15, meter: 1\n"
          ],
          "name": "stdout"
        },
        {
          "output_type": "execute_result",
          "data": {
            "text/plain": [
              "10"
            ]
          },
          "metadata": {
            "tags": []
          },
          "execution_count": 160
        },
        {
          "output_type": "execute_result",
          "data": {
            "text/plain": [
              "7"
            ]
          },
          "metadata": {
            "tags": []
          },
          "execution_count": 160
        },
        {
          "output_type": "execute_result",
          "data": {
            "text/plain": [
              "7"
            ]
          },
          "metadata": {
            "tags": []
          },
          "execution_count": 160
        },
        {
          "output_type": "stream",
          "text": [
            "Scoring for site_id 15, meter 1 completed \n",
            "\n"
          ],
          "name": "stdout"
        },
        {
          "output_type": "execute_result",
          "data": {
            "text/plain": [
              "0"
            ]
          },
          "metadata": {
            "tags": []
          },
          "execution_count": 160
        },
        {
          "output_type": "stream",
          "text": [
            "\n",
            "\n",
            "\n",
            "\n",
            "\n",
            "\n",
            "\n",
            "\n",
            "\n",
            "\n",
            "meter_id:  50%|█████     | 2/4 [02:08<02:12, 66.48s/it]\u001b[A\u001b[A\u001b[A\u001b[A\u001b[A\u001b[A\u001b[A\u001b[A\u001b[A\u001b[A"
          ],
          "name": "stderr"
        },
        {
          "output_type": "stream",
          "text": [
            "Preparing test data for site_id 9\n",
            "Scoring for site_id: 15, meter: 2\n"
          ],
          "name": "stdout"
        },
        {
          "output_type": "execute_result",
          "data": {
            "text/plain": [
              "10"
            ]
          },
          "metadata": {
            "tags": []
          },
          "execution_count": 160
        },
        {
          "output_type": "execute_result",
          "data": {
            "text/plain": [
              "7"
            ]
          },
          "metadata": {
            "tags": []
          },
          "execution_count": 160
        },
        {
          "output_type": "execute_result",
          "data": {
            "text/plain": [
              "7"
            ]
          },
          "metadata": {
            "tags": []
          },
          "execution_count": 160
        },
        {
          "output_type": "stream",
          "text": [
            "Scoring for site_id 15, meter 2 completed \n",
            "\n"
          ],
          "name": "stdout"
        },
        {
          "output_type": "execute_result",
          "data": {
            "text/plain": [
              "0"
            ]
          },
          "metadata": {
            "tags": []
          },
          "execution_count": 160
        },
        {
          "output_type": "stream",
          "text": [
            "\n",
            "\n",
            "\n",
            "\n",
            "\n",
            "\n",
            "\n",
            "\n",
            "\n",
            "\n",
            "meter_id:  75%|███████▌  | 3/4 [02:19<00:49, 49.90s/it]\u001b[A\u001b[A\u001b[A\u001b[A\u001b[A\u001b[A\u001b[A\u001b[A\u001b[A\u001b[A"
          ],
          "name": "stderr"
        },
        {
          "output_type": "stream",
          "text": [
            "Preparing test data for site_id 9\n",
            "Scoring for site_id: 15, meter: 3\n"
          ],
          "name": "stdout"
        },
        {
          "output_type": "execute_result",
          "data": {
            "text/plain": [
              "10"
            ]
          },
          "metadata": {
            "tags": []
          },
          "execution_count": 160
        },
        {
          "output_type": "execute_result",
          "data": {
            "text/plain": [
              "7"
            ]
          },
          "metadata": {
            "tags": []
          },
          "execution_count": 160
        },
        {
          "output_type": "execute_result",
          "data": {
            "text/plain": [
              "7"
            ]
          },
          "metadata": {
            "tags": []
          },
          "execution_count": 160
        },
        {
          "output_type": "stream",
          "text": [
            "Scoring for site_id 15, meter 3 completed \n",
            "\n"
          ],
          "name": "stdout"
        },
        {
          "output_type": "execute_result",
          "data": {
            "text/plain": [
              "0"
            ]
          },
          "metadata": {
            "tags": []
          },
          "execution_count": 160
        },
        {
          "output_type": "stream",
          "text": [
            "\n",
            "\n",
            "\n",
            "\n",
            "\n",
            "\n",
            "\n",
            "\n",
            "\n",
            "\n",
            "meter_id: 100%|██████████| 4/4 [02:21<00:00, 35.55s/it]\u001b[A\u001b[A\u001b[A\u001b[A\u001b[A\u001b[A\u001b[A\u001b[A\u001b[A\u001b[A\n",
            "\n",
            "\n",
            "\n",
            "\n",
            "\n",
            "\n",
            "\n",
            "\n",
            "\n",
            "\u001b[A\u001b[A\u001b[A\u001b[A\u001b[A\u001b[A\u001b[A\u001b[A\u001b[A\u001b[A\n",
            "\n",
            "\n",
            "\n",
            "\n",
            "\n",
            "\n",
            "\n",
            "\n",
            "site_id: 100%|██████████| 16/16 [09:51<00:00, 61.85s/it]\u001b[A\u001b[A\u001b[A\u001b[A\u001b[A\u001b[A\u001b[A\u001b[A\u001b[A\n",
            "\n",
            "\n",
            "\n",
            "\n",
            "\n",
            "\n",
            "\n",
            "\n",
            "\u001b[A\u001b[A\u001b[A\u001b[A\u001b[A\u001b[A\u001b[A\u001b[A\u001b[A"
          ],
          "name": "stderr"
        }
      ]
    },
    {
      "cell_type": "code",
      "metadata": {
        "id": "8ohX6YUCukuG",
        "colab_type": "code",
        "colab": {
          "base_uri": "https://localhost:8080/",
          "height": 260
        },
        "outputId": "cff87abc-d5bb-4610-db39-c47f9b209f31"
      },
      "source": [
        "df_test_sites_meters"
      ],
      "execution_count": 138,
      "outputs": [
        {
          "output_type": "execute_result",
          "data": {
            "text/plain": [
              "[          row_id  meter_reading\n",
              " 0              0       3.046064\n",
              " 1            129       3.050258\n",
              " 2            258       3.047829\n",
              " 3            387       3.052265\n",
              " 4            516       3.052265\n",
              " ...          ...            ...\n",
              " 2260075  2259553       3.535546\n",
              " 2260076  2259682       3.531625\n",
              " 2260077  2259811       3.528897\n",
              " 2260078  2259940       3.519317\n",
              " 2260079  2260069       3.484238\n",
              " \n",
              " [1839600 rows x 2 columns]]"
            ]
          },
          "metadata": {
            "tags": []
          },
          "execution_count": 138
        }
      ]
    },
    {
      "cell_type": "code",
      "metadata": {
        "id": "8SPFwFvVBEh2",
        "colab_type": "code",
        "colab": {}
      },
      "source": [
        "submit = pd.concat(df_test_sites_meters)\n",
        "submit.meter_reading = np.clip(np.expm1(submit.meter_reading), 0, a_max=None)\n",
        "submit.to_csv(\"submission.csv\", index=False)"
      ],
      "execution_count": 0,
      "outputs": []
    },
    {
      "cell_type": "code",
      "metadata": {
        "id": "sTGFllYr06dm",
        "colab_type": "code",
        "colab": {
          "base_uri": "https://localhost:8080/",
          "height": 138
        },
        "outputId": "4e414e1f-f1f7-4b2b-e583-6bc88fd26015"
      },
      "source": [
        "submit.info()"
      ],
      "execution_count": 163,
      "outputs": [
        {
          "output_type": "stream",
          "text": [
            "<class 'pandas.core.frame.DataFrame'>\n",
            "Int64Index: 41697600 entries, 0 to 37615439\n",
            "Data columns (total 2 columns):\n",
            "row_id           int32\n",
            "meter_reading    float64\n",
            "dtypes: float64(1), int32(1)\n",
            "memory usage: 795.3 MB\n"
          ],
          "name": "stdout"
        }
      ]
    },
    {
      "cell_type": "code",
      "metadata": {
        "id": "3nS4pCuvUtU9",
        "colab_type": "code",
        "outputId": "f71db0f3-9478-41a5-d4ca-1fbde0d865d1",
        "colab": {
          "base_uri": "https://localhost:8080/",
          "height": 197
        }
      },
      "source": [
        "submit.head()"
      ],
      "execution_count": 164,
      "outputs": [
        {
          "output_type": "execute_result",
          "data": {
            "text/html": [
              "<div>\n",
              "<style scoped>\n",
              "    .dataframe tbody tr th:only-of-type {\n",
              "        vertical-align: middle;\n",
              "    }\n",
              "\n",
              "    .dataframe tbody tr th {\n",
              "        vertical-align: top;\n",
              "    }\n",
              "\n",
              "    .dataframe thead th {\n",
              "        text-align: right;\n",
              "    }\n",
              "</style>\n",
              "<table border=\"1\" class=\"dataframe\">\n",
              "  <thead>\n",
              "    <tr style=\"text-align: right;\">\n",
              "      <th></th>\n",
              "      <th>row_id</th>\n",
              "      <th>meter_reading</th>\n",
              "    </tr>\n",
              "  </thead>\n",
              "  <tbody>\n",
              "    <tr>\n",
              "      <th>0</th>\n",
              "      <td>0</td>\n",
              "      <td>20.032389</td>\n",
              "    </tr>\n",
              "    <tr>\n",
              "      <th>1</th>\n",
              "      <td>129</td>\n",
              "      <td>20.120798</td>\n",
              "    </tr>\n",
              "    <tr>\n",
              "      <th>2</th>\n",
              "      <td>258</td>\n",
              "      <td>20.069562</td>\n",
              "    </tr>\n",
              "    <tr>\n",
              "      <th>3</th>\n",
              "      <td>387</td>\n",
              "      <td>20.163220</td>\n",
              "    </tr>\n",
              "    <tr>\n",
              "      <th>4</th>\n",
              "      <td>516</td>\n",
              "      <td>20.163220</td>\n",
              "    </tr>\n",
              "  </tbody>\n",
              "</table>\n",
              "</div>"
            ],
            "text/plain": [
              "   row_id  meter_reading\n",
              "0       0      20.032389\n",
              "1     129      20.120798\n",
              "2     258      20.069562\n",
              "3     387      20.163220\n",
              "4     516      20.163220"
            ]
          },
          "metadata": {
            "tags": []
          },
          "execution_count": 164
        }
      ]
    },
    {
      "cell_type": "code",
      "metadata": {
        "id": "pcbnL4KF1Bqf",
        "colab_type": "code",
        "colab": {}
      },
      "source": [
        ""
      ],
      "execution_count": 0,
      "outputs": []
    }
  ]
}